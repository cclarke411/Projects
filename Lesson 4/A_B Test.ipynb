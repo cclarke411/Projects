{
 "cells": [
  {
   "cell_type": "markdown",
   "metadata": {},
   "source": [
    "# Does a new supplement help people sleep better?\n",
    "\n",
    "# Will new uniforms help a gym's business?\n",
    "\n",
    "# Will a new homepage improve my online exotic pet rental business?\n",
    "\n",
    "# If I put 'please read' in the email subject will more people read my emails?"
   ]
  },
  {
   "cell_type": "markdown",
   "metadata": {},
   "source": [
    "A sample, divided into two groups. Each sample should be selected so that it is similar to the population you want to \n",
    "understand.The groups should be similar to one another so that any differences between them can be attributed to seeing version \n",
    "A or version B and not something else. You also want the split of between A and B to be as random as possible.\n",
    "\n",
    "A hypothesis. Your hypothesis is what you expect to happen. For example, \n",
    "\"I expect the HTML email will achieve a higher open and conversion rate than the plain text email.\"\n",
    "\n",
    "Outcome(s) of interest. What you expect will change as a result of using version A or version B, and how you will measure \n",
    "that change. This means you have to decide on a _key metric_, which should capture the effect of your change and reflect \n",
    "the motivations for the test in the first place.\n",
    "\n",
    "Other measured variables. This includes information about the two groups that can be used to ensure they are similar, \n",
    "as well as secondary outcomes that are less important than the primary outcomes of interest but which might also \n",
    "change in response to using version A or version B.\n"
   ]
  },
  {
   "cell_type": "markdown",
   "metadata": {},
   "source": [
    "# Does a new supplement help people sleep better?\n"
   ]
  },
  {
   "cell_type": "markdown",
   "metadata": {},
   "source": [
    "1) A sample can be divided into two groups of people. One group with the same characteristics taken from the population is\n",
    "separated into those that take the supplement and those that do not (the control group)\n",
    "\n",
    "2) The hypothesis is that those who take the supplement will sleep for a longer time than those that dont. The experiment would\n",
    "have to be controlled to have the sleep conditions be the same both the control group and the treatment group\n",
    "\n",
    "3) The outcome would be longer sleep time which would be measured in units of time starting with when the onset of sleep occurs\n",
    "in both groups\n",
    "\n",
    "4) Other variables could include time of sleep onset which could be tracked by REM. Also participants would have to be screened\n",
    "for sleep problems. As those with issues falling asleep could affect the control group."
   ]
  },
  {
   "cell_type": "markdown",
   "metadata": {},
   "source": [
    "# Will new uniforms help a gym's business?\n"
   ]
  },
  {
   "cell_type": "markdown",
   "metadata": {},
   "source": [
    "1) A sample - This is a bit more difficult as what helping the business in not quantified. However, if that means members are more more consistent in attendance and renewals thus increasing revenue then it would be possible to separate the groups into weekend attendants at a specific time period during the day vs those who attend during the week. And even this would be tricky as those who attend on the weekend could possibly also attend during the week. So perhaps if the business is a chain then the groups could be seperated into two different locations.\n",
    "\n",
    "2) The hypothesis - The hypothesis could be that the different locations would have different renewal rates and that the location with uniforms would have more consistent member renweal rates\n",
    "\n",
    "3) The outcome the presence of uniforms would affect the business outcome by increasing revenue\n",
    "\n",
    "4) Other variables other variables could be the duration of uniform change to take effect. New member signup etc\n"
   ]
  },
  {
   "cell_type": "markdown",
   "metadata": {},
   "source": [
    "# Will a new homepage improve my online exotic pet rental business?\n"
   ]
  },
  {
   "cell_type": "markdown",
   "metadata": {},
   "source": [
    "1) A sample - Perhaps users could be guided to two seperate websites where one group of users is guided to the old website\n",
    "and the other group is guided to the new website\n",
    "\n",
    "2) The hypothesis is that the new homepage would increase revenue through either purchases or subscriptions\n",
    "\n",
    "3) The outcome is the website increases or does not affect revenue or purchases\n",
    "\n",
    "4) Other variable could include the font, layout etc of the homepage"
   ]
  },
  {
   "cell_type": "markdown",
   "metadata": {},
   "source": [
    "# If I put 'please read' in the email subject will more people read my emails?"
   ]
  },
  {
   "cell_type": "markdown",
   "metadata": {},
   "source": [
    "1) A sample could be the use of randomization to select from a group of subjects who are to recieve the same email. One group would receive please read and the other group would receive the orignially intended email\n",
    "\n",
    "2) The hypothesis is that the please read in the subject will increase people who read the email\n",
    "\n",
    "3) Outcomes are that the presence of please read will increase readership therefore subsequent emails will have the please\n",
    "read in the subject \n",
    "\n",
    "4) Other variables are time of day, subject matter, pass readership etc"
   ]
  },
  {
   "cell_type": "code",
   "execution_count": null,
   "metadata": {},
   "outputs": [],
   "source": []
  }
 ],
 "metadata": {
  "kernelspec": {
   "display_name": "Python 3",
   "language": "python",
   "name": "python3"
  },
  "language_info": {
   "codemirror_mode": {
    "name": "ipython",
    "version": 3
   },
   "file_extension": ".py",
   "mimetype": "text/x-python",
   "name": "python",
   "nbconvert_exporter": "python",
   "pygments_lexer": "ipython3",
   "version": "3.7.1"
  }
 },
 "nbformat": 4,
 "nbformat_minor": 2
}
