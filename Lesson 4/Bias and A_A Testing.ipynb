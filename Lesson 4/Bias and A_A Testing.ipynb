{
 "cells": [
  {
   "cell_type": "markdown",
   "metadata": {},
   "source": [
    "# You're testing advertising emails for a bathing suit company and you test one version of the email in February and the other in May."
   ]
  },
  {
   "cell_type": "markdown",
   "metadata": {},
   "source": [
    "The difference in time of month is significant in determining swim suit advertising responses in users. First those who respond to advertisements in february are probably in locations where the weather permits swim suits as a viable clothing option, or the persons who respond to ads in february could also be enthusiasts who are just \"into\" swim suits,those who do not respond favorably to swim suit advertisements in february could be in a climate that makes swim suits a non viable form of clothing during that month ie cold temperatures. So in short the location and time of year are significant contributing factors to determining the response to swim suit advertisements. The converse is true for the month of may it may be cold in may for some locations and it may also be more interesting for those who did not respond favorably in february."
   ]
  },
  {
   "cell_type": "markdown",
   "metadata": {},
   "source": [
    "# You open a clinic to treat anxiety and find that the people who visit show a higher rate of anxiety than the general population."
   ]
  },
  {
   "cell_type": "markdown",
   "metadata": {},
   "source": [
    "Those who visit for anxiety are more likely in some need of help therefore it is more likely for them to be suffering from anxiety. A similar situation would be those who self report on any survey. The respondents are more likely more invested than the general population."
   ]
  },
  {
   "cell_type": "markdown",
   "metadata": {},
   "source": [
    "# You launch a new ad billboard based campaign and see an increase in website visits in the first week."
   ]
  },
  {
   "cell_type": "markdown",
   "metadata": {},
   "source": [
    "Novelty is always an attractor the billboard is noticable and will result in new people visiting the website but after a while this effect will wear off. Perhaps those who are curious will visit the website but this will not increase conversion or revenue for the company"
   ]
  },
  {
   "cell_type": "markdown",
   "metadata": {},
   "source": [
    "# You launch a loyalty program but see no change in visits in the first week."
   ]
  },
  {
   "cell_type": "code",
   "execution_count": null,
   "metadata": {},
   "outputs": [],
   "source": [
    "This is because you are targeting loyal customers ie those who are already visitors the experiment is unrelated to the\n",
    "outcome that it is seeking to obtain"
   ]
  }
 ],
 "metadata": {
  "kernelspec": {
   "display_name": "Python 3",
   "language": "python",
   "name": "python3"
  },
  "language_info": {
   "codemirror_mode": {
    "name": "ipython",
    "version": 3
   },
   "file_extension": ".py",
   "mimetype": "text/x-python",
   "name": "python",
   "nbconvert_exporter": "python",
   "pygments_lexer": "ipython3",
   "version": "3.7.1"
  }
 },
 "nbformat": 4,
 "nbformat_minor": 2
}
