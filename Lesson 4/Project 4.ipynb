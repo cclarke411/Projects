{
 "cells": [
  {
   "cell_type": "markdown",
   "metadata": {},
   "source": [
    "# 1) The Sith Lords are concerned that their recruiting slogan, \"Give In to Your Anger,\" isn't very effective. Darth Vader develops an alternative slogan, \"Together We Can Rule the Galaxy.\" They compare the slogans on two groups of 50 captured droids each. In one group, Emperor Palpatine delivers the \"Anger\" slogan. In the other, Darth Vader presents the \"Together\" slogan. 20 droids convert to the Dark Side after hearing Palpatine's slogan, while only 5 droids convert after hearing Vader's. The Sith's data scientist concludes that \"Anger\" is a more effective slogan and should continue to be used."
   ]
  },
  {
   "cell_type": "markdown",
   "metadata": {},
   "source": [
    "The flaw in the above is that there is an asymmetry in how the experiment is performed. If there are 50 droids then the group \n",
    "should be segmented into equal groups which is not stated in the experimental design. Secondly it is not noted whether the \n",
    "droids already have \"dark leanings\" it is possible that within Palpetines group there were droids that were already prdisposed \n",
    "to believing in the Empire for whatever reason. This should be ascertained. Thirdly the same person needs to deliver the lines of anger or together due to the nature of the people delivering the message. Perhaps the droids have a fear of Darth Vader and do not believe that anything is going to happen together but to only be used and disposed of.... A better design is to have the \n",
    "droids listen to either darth vader only deliver the two message to the two seperate groups or Senator Palpatine to deliver the\n",
    "message."
   ]
  },
  {
   "cell_type": "markdown",
   "metadata": {},
   "source": [
    "# 2) In the past, the Jedi have had difficulty with public relations. They send two envoys, Jar Jar Binks and Mace Windu, to four friendly and four unfriendly planets respectively, with the goal of promoting favorable feelings toward the Jedi. Upon their return, the envoys learn that Jar Jar was much more effective than Windu: Over 75% of the people surveyed said their attitudes had become more favorable after speaking with Jar Jar, while only 65% said their attitudes had become more favorable after speaking with Windu. This makes Windu angry, because he is sure that he had a better success rate than Jar Jar on every planet. The Jedi choose Jar Jar to be their representative in the future."
   ]
  },
  {
   "cell_type": "markdown",
   "metadata": {},
   "source": [
    "Since the planets with friendly leanings toward the Jedi will more likely view them in a positive light it is clear that Jar Jar had only a nominal conversion rate given that the planet was already friendly. Windu seems to have a greater effect because he was sent to unfriendly planets and managed to obtain a percentage rating that was only 10% less than Jar Jar. A better design would be to send them to two randomly selected friendly and unfriendly planets respectively and determining what their conversion ratio was from that."
   ]
  },
  {
   "cell_type": "markdown",
   "metadata": {},
   "source": [
    " # A company with work sites in five different countries has sent you data on employee satisfaction rates for workers in Human Resources and workers in Information Technology. Most HR workers are concentrated in three of the countries, while IT workers are equally distributed across worksites. The company requests a report on satisfaction for each job type. You calculate average job satisfaction for HR and for IT and present the report."
   ]
  },
  {
   "cell_type": "markdown",
   "metadata": {},
   "source": [
    "Since the groups are not evenly distributed through all the countries there will likely be a greater job satisfaction type for\n",
    "IT workers. This would skew your results. A possible solution to this would be to only count the countries with both IT and HR workers present"
   ]
  },
  {
   "cell_type": "markdown",
   "metadata": {},
   "source": [
    "# When people install the Happy Days Fitness Tracker app, they are asked to \"opt in\" to a data collection scheme where their level of physical activity data is automatically sent to the company for product research purposes. During your interview with the company, they tell you that the app is very effective because after installing the app, the data show that people's activity levels rise steadily."
   ]
  },
  {
   "cell_type": "markdown",
   "metadata": {},
   "source": [
    "People who opt into the data collection scheme are perhaps more serious about their activity level and having a marker to set goals in this regard is incentive to increase fitness activity. A better design is to automatically enroll people in the data collection scheme as soon as they install the app to remove the opt-in function which reduces the number of people who have data in the system to measure the true sample populaton of those who have the app"
   ]
  },
  {
   "cell_type": "markdown",
   "metadata": {},
   "source": [
    "# To prevent cheating, a teacher writes three versions of a test. She stacks the three versions together, first all copies of Version A, then all copies of Version B, then all copies of Version C. As students arrive for the exam, each student takes a test. When grading the test, the teacher finds that students who took Version B scored higher than students who took either Version A or Version C. She concludes from this that Version B is easier, and discards it."
   ]
  },
  {
   "cell_type": "markdown",
   "metadata": {},
   "source": [
    "If she has stacked the exams sequentially it is possible that she has not accounted for the type of students that would arrive\n",
    "at a given time period. This fact could account for a segment of students who feel confident enought to come to class on time to take the test. These students are possibly more prepared to complete thier exam. There is also the possibility that students who get to class late are those who did not study and do not care about the outcome. In addition if she wants to eliminate cheating having a cluster of students with the same test at the same time would not achieve this since it is also possible that the teache did not take not take into account seating order. If the teacher wants to eliminate cheating the test should be randomized in terms of seating position and time of entry into the class. "
   ]
  },
  {
   "cell_type": "code",
   "execution_count": null,
   "metadata": {},
   "outputs": [],
   "source": []
  }
 ],
 "metadata": {
  "kernelspec": {
   "display_name": "Python 3",
   "language": "python",
   "name": "python3"
  },
  "language_info": {
   "codemirror_mode": {
    "name": "ipython",
    "version": 3
   },
   "file_extension": ".py",
   "mimetype": "text/x-python",
   "name": "python",
   "nbconvert_exporter": "python",
   "pygments_lexer": "ipython3",
   "version": "3.7.1"
  }
 },
 "nbformat": 4,
 "nbformat_minor": 2
}
