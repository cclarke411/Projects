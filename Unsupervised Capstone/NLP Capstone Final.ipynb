{
 "cells": [
  {
   "cell_type": "code",
   "execution_count": 1,
   "metadata": {},
   "outputs": [],
   "source": [
    "import lyricsgenius\n",
    "genius = lyricsgenius.Genius(\"Z-REcYFIrml4FqSJbwcnYOsJQUiTqpKmIEAuC-zrLJQ-_fYeY4e3PWSEjf6JOE3j\")"
   ]
  },
  {
   "cell_type": "markdown",
   "metadata": {},
   "source": [
    "# Import Artists"
   ]
  },
  {
   "cell_type": "code",
   "execution_count": 2,
   "metadata": {},
   "outputs": [
    {
     "name": "stdout",
     "output_type": "stream",
     "text": [
      "Searching for songs by MF Doom...\n",
      "\n",
      "Changing artist name to 'MF DOOM'\n",
      "Song 1: \"Doomsday\"\n",
      "Song 2: \"Beef Rap\"\n",
      "Song 3: \"Rapp Snitch Knishes\"\n",
      "Song 4: \"Hoe Cakes\"\n",
      "Song 5: \"Deep Fried Frenz\"\n",
      "Song 6: \"One Beer\"\n",
      "Song 7: \"Rhymes Like Dimes\"\n",
      "Song 8: \"That’s That\"\n",
      "Song 9: \"Books Of War\"\n",
      "Song 10: \"Vomitspit\"\n",
      "\n",
      "Reached user-specified song limit (10).\n",
      "Done. Found 10 songs.\n"
     ]
    }
   ],
   "source": [
    "mfdoom = genius.search_artist(\"MF Doom\", max_songs=10, sort=\"popularity\")\n"
   ]
  },
  {
   "cell_type": "code",
   "execution_count": 3,
   "metadata": {},
   "outputs": [
    {
     "name": "stdout",
     "output_type": "stream",
     "text": [
      "Searching for songs by Kendrick Lamar...\n",
      "\n",
      "Song 1: \"HUMBLE.\"\n",
      "Song 2: \"​m.A.A.d city\"\n",
      "Song 3: \"Swimming Pools (Drank)\"\n",
      "Song 4: \"DNA.\"\n",
      "Song 5: \"XXX.\"\n",
      "Song 6: \"Money Trees\"\n",
      "Song 7: \"Bitch, Don’t Kill My Vibe\"\n",
      "Song 8: \"Poetic Justice\"\n",
      "Song 9: \"King Kunta\"\n",
      "Song 10: \"LOVE.\"\n",
      "\n",
      "Reached user-specified song limit (10).\n",
      "Done. Found 10 songs.\n"
     ]
    }
   ],
   "source": [
    "kendrick = genius.search_artist(\"Kendrick Lamar\",max_songs=10,sort='popularity')"
   ]
  },
  {
   "cell_type": "code",
   "execution_count": 4,
   "metadata": {},
   "outputs": [
    {
     "name": "stdout",
     "output_type": "stream",
     "text": [
      "Searching for songs by GZA...\n",
      "\n",
      "Song 1: \"Liquid Swords\"\n",
      "Song 2: \"4th Chamber\"\n",
      "Song 3: \"Shadowboxin’\"\n",
      "Song 4: \"Duel of the Iron Mic\"\n",
      "Song 5: \"Cold World\"\n",
      "Song 6: \"Living In The World Today\"\n",
      "Song 7: \"Gold\"\n",
      "Song 8: \"Labels\"\n",
      "Song 9: \"Killah Hills 10304\"\n",
      "Song 10: \"Investigative Reports\"\n",
      "\n",
      "Reached user-specified song limit (10).\n",
      "Done. Found 10 songs.\n"
     ]
    }
   ],
   "source": [
    "GZA = genius.search_artist(\"GZA\",max_songs=10,sort='popularity')"
   ]
  },
  {
   "cell_type": "code",
   "execution_count": 5,
   "metadata": {},
   "outputs": [
    {
     "name": "stdout",
     "output_type": "stream",
     "text": [
      "Searching for songs by Eminem...\n",
      "\n",
      "Song 1: \"Rap God\"\n",
      "Song 2: \"Killshot\"\n",
      "Song 3: \"The Monster\"\n",
      "Song 4: \"Lose Yourself\"\n",
      "Song 5: \"Lucky You\"\n",
      "Song 6: \"The Ringer\"\n",
      "Song 7: \"River\"\n",
      "Song 8: \"Berzerk\"\n",
      "Song 9: \"Venom (Music from the Motion Picture)\"\n",
      "Song 10: \"Not Alike\"\n",
      "\n",
      "Reached user-specified song limit (10).\n",
      "Done. Found 10 songs.\n"
     ]
    }
   ],
   "source": [
    "Eminem = genius.search_artist(\"Eminem\",max_songs=10,sort='popularity')"
   ]
  },
  {
   "cell_type": "code",
   "execution_count": 6,
   "metadata": {},
   "outputs": [
    {
     "name": "stdout",
     "output_type": "stream",
     "text": [
      "Searching for songs by Nas...\n",
      "\n",
      "Song 1: \"N.Y. State of Mind\"\n",
      "Song 2: \"Ether\"\n",
      "Song 3: \"Life’s a Bitch\"\n",
      "Song 4: \"The World Is Yours\"\n",
      "Song 5: \"The Message\"\n",
      "Song 6: \"It Ain’t Hard to Tell\"\n",
      "Song 7: \"One Love\"\n",
      "Song 8: \"If I Ruled the World (Imagine That)\"\n",
      "Song 9: \"Represent\"\n",
      "Song 10: \"Nas Is Like\"\n",
      "\n",
      "Reached user-specified song limit (10).\n",
      "Done. Found 10 songs.\n"
     ]
    }
   ],
   "source": [
    "Nas = genius.search_artist(\"Nas\",max_songs=10,sort='popularity')"
   ]
  },
  {
   "cell_type": "code",
   "execution_count": 7,
   "metadata": {},
   "outputs": [
    {
     "name": "stdout",
     "output_type": "stream",
     "text": [
      "Searching for songs by Aesop Rock...\n",
      "\n",
      "Song 1: \"None Shall Pass\"\n",
      "Song 2: \"Daylight\"\n",
      "Song 3: \"Zero Dark Thirty\"\n",
      "Song 4: \"Rings\"\n",
      "Song 5: \"Coffee\"\n",
      "Song 6: \"Gopher Guts\"\n",
      "Song 7: \"Kirby\"\n",
      "Song 8: \"Dorks\"\n",
      "Song 9: \"Mystery Fish\"\n",
      "Song 10: \"Shrunk\"\n",
      "\n",
      "Reached user-specified song limit (10).\n",
      "Done. Found 10 songs.\n"
     ]
    }
   ],
   "source": [
    "Aesop = genius.search_artist('Aesop Rock',max_songs=10,sort='popularity')"
   ]
  },
  {
   "cell_type": "code",
   "execution_count": 8,
   "metadata": {},
   "outputs": [
    {
     "name": "stdout",
     "output_type": "stream",
     "text": [
      "Searching for songs by Pharoah Monch...\n",
      "\n",
      "Changing artist name to 'Pharoahe Monch'\n",
      "Song 1: \"Simon Says\"\n",
      "Song 2: \"Rapid Eye Movement\"\n",
      "Song 3: \"Simon Says (Remix)\"\n",
      "Song 4: \"Assassins\"\n",
      "Song 5: \"Bad MF\"\n",
      "Song 6: \"Broken Again\"\n",
      "Song 7: \"The Truth\"\n",
      "Song 8: \"Damage\"\n",
      "Song 9: \"D.R.E.A.M.\"\n",
      "Song 10: \"Desire\"\n",
      "\n",
      "Reached user-specified song limit (10).\n",
      "Done. Found 10 songs.\n"
     ]
    }
   ],
   "source": [
    "Pharoah = genius.search_artist('Pharoah Monch',max_songs=10,sort='popularity')"
   ]
  },
  {
   "cell_type": "code",
   "execution_count": 9,
   "metadata": {},
   "outputs": [
    {
     "name": "stdout",
     "output_type": "stream",
     "text": [
      "Searching for songs by Andre 3000...\n",
      "\n",
      "Changing artist name to 'André 3000'\n",
      "Song 1: \"Me&My (To Bury Your Parents)\"\n",
      "Song 2: \"Pink & Blue\"\n",
      "Song 3: \"Look Ma No Hands\"\n",
      "Song 4: \"Chronomentrophobia (Movie Version)\"\n",
      "Song 5: \"Outkast Reunion Tour Jumpsuit Slogans\"\n",
      "Song 6: \"Banana Zoo\"\n",
      "Song 7: \"Back to Black\"\n",
      "Song 8: \"Sleazy\"\n",
      "Song 9: \"Crayon Song\"\n",
      "Song 10: \"We Want Your Soul\"\n",
      "\n",
      "Reached user-specified song limit (10).\n",
      "Done. Found 10 songs.\n"
     ]
    }
   ],
   "source": [
    "Andre = genius.search_artist('Andre 3000',max_songs=10,sort='popularity')"
   ]
  },
  {
   "cell_type": "code",
   "execution_count": 10,
   "metadata": {},
   "outputs": [
    {
     "name": "stdout",
     "output_type": "stream",
     "text": [
      "Searching for songs by Mos Def...\n",
      "\n",
      "Changing artist name to 'Yasiin Bey'\n",
      "Song 1: \"Mathematics\"\n",
      "Song 2: \"Ms. Fat Booty\"\n",
      "Song 3: \"Auditorium\"\n",
      "Song 4: \"Hip Hop\"\n",
      "Song 5: \"BET Cypher\"\n",
      "Song 6: \"UMI Says\"\n",
      "Song 7: \"I’m Leaving\"\n",
      "Song 8: \"Fear Not of Man\"\n",
      "Song 9: \"Niggas In Poorest\"\n",
      "Song 10: \"Mr. Nigga\"\n",
      "\n",
      "Reached user-specified song limit (10).\n",
      "Done. Found 10 songs.\n"
     ]
    }
   ],
   "source": [
    "Mos = genius.search_artist('Mos Def',max_songs=10,sort='popularity')"
   ]
  },
  {
   "cell_type": "code",
   "execution_count": 11,
   "metadata": {},
   "outputs": [
    {
     "name": "stdout",
     "output_type": "stream",
     "text": [
      "Searching for songs by Ghostface Killah...\n",
      "\n",
      "Song 1: \"Winter Warz\"\n",
      "Song 2: \"Mighty Healthy\"\n",
      "Song 3: \"Nutmeg\"\n",
      "Song 4: \"All That I Got Is You\"\n",
      "Song 5: \"Iron Maiden\"\n",
      "Song 6: \"One\"\n",
      "\"Killer Tape Skit\" is not valid. Skipping.\n",
      "Song 7: \"Wildflower\"\n",
      "Song 8: \"Daytona 500\"\n",
      "Song 9: \"Apollo Kids\"\n",
      "Song 10: \"Cherchez La Ghost\"\n",
      "\n",
      "Reached user-specified song limit (10).\n",
      "Done. Found 10 songs.\n"
     ]
    }
   ],
   "source": [
    "Ghostface = genius.search_artist('Ghostface Killah',max_songs=10,sort='popularity')"
   ]
  },
  {
   "cell_type": "code",
   "execution_count": 12,
   "metadata": {},
   "outputs": [
    {
     "data": {
      "text/plain": [
       "[('MF DOOM', '10 songs'),\n",
       " ('Kendrick Lamar', '10 songs'),\n",
       " ('GZA', '10 songs'),\n",
       " ('Eminem', '10 songs'),\n",
       " ('Nas', '10 songs'),\n",
       " ('Aesop Rock', '10 songs'),\n",
       " ('Pharoahe Monch', '10 songs'),\n",
       " ('André 3000', '10 songs'),\n",
       " ('Yasiin Bey', '10 songs'),\n",
       " ('Ghostface Killah', '10 songs')]"
      ]
     },
     "execution_count": 12,
     "metadata": {},
     "output_type": "execute_result"
    }
   ],
   "source": [
    "artist = [mfdoom,kendrick,GZA,Eminem,Nas,Aesop,Pharoah,Andre,Mos,Ghostface]\n",
    "artist"
   ]
  },
  {
   "cell_type": "markdown",
   "metadata": {},
   "source": [
    "# Create DataFrame"
   ]
  },
  {
   "cell_type": "code",
   "execution_count": 13,
   "metadata": {},
   "outputs": [],
   "source": [
    "import pandas as pd\n",
    "df = pd.DataFrame(data=[],columns=['lyrics','artist'])"
   ]
  },
  {
   "cell_type": "code",
   "execution_count": 281,
   "metadata": {},
   "outputs": [],
   "source": [
    "index = 0\n",
    "for aindex in range(0,10):\n",
    "    for song_index in range(0,10):\n",
    "        temp = artist[aindex].songs[song_index].lyrics.split('\\n')\n",
    "        song_len = len(temp)\n",
    "        for sindex in range(0,song_len):\n",
    "            df.loc[index,'lyrics']= temp[sindex]\n",
    "            df.loc[index,'artist']= artist[aindex].name\n",
    "            index = index + 1\n"
   ]
  },
  {
   "cell_type": "code",
   "execution_count": 296,
   "metadata": {
    "scrolled": true
   },
   "outputs": [
    {
     "data": {
      "text/html": [
       "<div>\n",
       "<style scoped>\n",
       "    .dataframe tbody tr th:only-of-type {\n",
       "        vertical-align: middle;\n",
       "    }\n",
       "\n",
       "    .dataframe tbody tr th {\n",
       "        vertical-align: top;\n",
       "    }\n",
       "\n",
       "    .dataframe thead th {\n",
       "        text-align: right;\n",
       "    }\n",
       "</style>\n",
       "<table border=\"1\" class=\"dataframe\">\n",
       "  <thead>\n",
       "    <tr style=\"text-align: right;\">\n",
       "      <th></th>\n",
       "      <th>lyrics</th>\n",
       "      <th>artist</th>\n",
       "    </tr>\n",
       "  </thead>\n",
       "  <tbody>\n",
       "    <tr>\n",
       "      <th>0</th>\n",
       "      <td>[Intro: Pebbles the Invisible Girl, MF DOOM]</td>\n",
       "      <td>MF DOOM</td>\n",
       "    </tr>\n",
       "    <tr>\n",
       "      <th>1</th>\n",
       "      <td>Mic Check</td>\n",
       "      <td>MF DOOM</td>\n",
       "    </tr>\n",
       "    <tr>\n",
       "      <th>2</th>\n",
       "      <td>When I was led to you</td>\n",
       "      <td>MF DOOM</td>\n",
       "    </tr>\n",
       "    <tr>\n",
       "      <th>3</th>\n",
       "      <td>I knew you were the one for me</td>\n",
       "      <td>MF DOOM</td>\n",
       "    </tr>\n",
       "    <tr>\n",
       "      <th>4</th>\n",
       "      <td>Come through dig the sound</td>\n",
       "      <td>MF DOOM</td>\n",
       "    </tr>\n",
       "  </tbody>\n",
       "</table>\n",
       "</div>"
      ],
      "text/plain": [
       "                                         lyrics   artist\n",
       "0  [Intro: Pebbles the Invisible Girl, MF DOOM]  MF DOOM\n",
       "1                                     Mic Check  MF DOOM\n",
       "2                         When I was led to you  MF DOOM\n",
       "3                I knew you were the one for me  MF DOOM\n",
       "4                    Come through dig the sound  MF DOOM"
      ]
     },
     "execution_count": 296,
     "metadata": {},
     "output_type": "execute_result"
    }
   ],
   "source": [
    "df.head()"
   ]
  },
  {
   "cell_type": "code",
   "execution_count": 182,
   "metadata": {},
   "outputs": [],
   "source": [
    "import re\n",
    "def text_cleaner(text):\n",
    "    # Visual inspection identifies a form of punctuation spaCy does not\n",
    "    # recognize: the double dash '--'.  Better get rid of it now!\n",
    "    text = re.sub(r'--','',text)\n",
    "    text = re.sub(\"[\\[].*?[\\]]\", \"\", text)\n",
    "    #text = re.sub(')','',text)\n",
    "   # text = re.sub('(','',text)\n",
    "    text = re.sub(',','',text)\n",
    "    text = re.sub(']','',text)\n",
    "    text = re.sub('}','',text)\n",
    "    text = re.sub('{','',text)\n",
    "    #text = re.sub(\"'s\",text)\n",
    "    text = ' '.join(text.split())\n",
    "    return text"
   ]
  },
  {
   "cell_type": "code",
   "execution_count": 183,
   "metadata": {},
   "outputs": [],
   "source": [
    "import nltk"
   ]
  },
  {
   "cell_type": "code",
   "execution_count": 184,
   "metadata": {},
   "outputs": [],
   "source": [
    "from nltk.tokenize import word_tokenize"
   ]
  },
  {
   "cell_type": "code",
   "execution_count": 210,
   "metadata": {
    "collapsed": true
   },
   "outputs": [
    {
     "data": {
      "text/plain": [
       "'Mic Check When I was led to you I knew you were the one for me Come through dig the sound I swear the whole world could feel you MC Crowd around I used to cop a lot but never copped no drop Hold mics like pony tails tied in bobbalobs Stop and stick around come through and dig the sound Of the fly brown 6-0 sicko psycho who throws his dick around Bound to go three-plat came to destroy rap It\\'s a intricate plot of a b-boy strap Femstat cats get kidnapped Then release a statement to the press let the rest know who did that Metal Fist terrorists claim responsibility Broken household name usually said in hostility Um... what is MF? You silly I\\'d like to take \"Means to the End\" for two milli\\' \"Doo-doo-doo-doo-doo!\" That\\'s a audio daily double Rappers need to fall off just to save me the trouble yo Watch your own back came in and go out alone black Stay in the zone—turn H2O to Cognac On Doomsday! ever since the womb ‘til I\\'m back where my brother went that\\'s what my tomb will say Right above my government; Dumile Either unmarked or engraved hey who\\'s to say? I wrote this one in B.C. D.C. O-section If you don\\'t believe me go get bagged and check then Cell number 17 up under the top bunk I say this not to be mean wish bad luck or pop junk Pop the trunk on Cee Cipher Punk leave him left scraped God forbid if there ain\\'t no escape blame MF tape Definition \"super-villain\": a killer who love children One who is well-skilled in destruction as well as building While Sidney Sheldon teaches the trife to be trifer I\\'m trading science fiction with my man the live lifer A pied piper holler a rhyme a dollar and a dime Do his thing ring around the white collar crime Get out my face askin\\' ‘bout my case need toothpaste Fresher mint monkey-style nigga get dentadent And dope fiends still in they teens shook niggas turn witness Real mens mind their own business That\\'s the difference between sissy-pissy rappers that\\'s double-dutch How come I hold the microphone double-clutch C.O.\\'s make rounds never have ‘ox found On shakedown lock-down wet dreams of Fox\\' Brown On Doomsday! Ever since the womb ‘til I\\'m back where my brother went That\\'s what my tomb will say Right above my government; Dumile Either unmarked or engraved hey who\\'s to say? Doomsday Ever since the womb ‘til I\\'m back to the essence Read it off the tomb Either engraved or unmarked grave who\\'s to say? Pass the mic like \"Pass the peas like they used to say\" Some M-er F-ers don\\'t like how Sally walk I\\'ll tell y\\'all fools it\\'s hella cool how ladies from Cali talk Never let her interfere with the Yeti ghetto slang Nicknames of nimble and tip of nipple metal fang Known amongst hoes for the bang-bang Known amongst foes for flow without no talking orangutans Only gin and Tang Guzzled out a rusty tin can me and this mic is like yin and yang Clang! Crime don\\'t pay listen youth It\\'s like me holding up the line at the kissing booth I took her back to the truck she was uncouth Spittin\\' all out the sunroof through her missing tooth But then she has a sexy voice sound like Jazzy Joyce So I turned it up faster than a speeding knife Strong enough to please a wife Able to drop today\\'s math in the 48 keys of life Cut the crap far as rap Touch the mic get the same thing a Arab will do to you for stealing What the Devil? He\\'s on another level It\\'s a word! No a name! MF - the Super-Villain! When I was led to you I knew you were the one for me I swear the whole world could feel you MC'"
      ]
     },
     "execution_count": 210,
     "metadata": {},
     "output_type": "execute_result"
    }
   ],
   "source": [
    "text_cleaner(df_paras.loc[0,'lyrics'])"
   ]
  },
  {
   "cell_type": "markdown",
   "metadata": {},
   "source": [
    "# Vectorize Original Sentences"
   ]
  },
  {
   "cell_type": "code",
   "execution_count": null,
   "metadata": {},
   "outputs": [],
   "source": []
  },
  {
   "cell_type": "code",
   "execution_count": 287,
   "metadata": {},
   "outputs": [
    {
     "name": "stdout",
     "output_type": "stream",
     "text": [
      "Number of features: 3002\n"
     ]
    }
   ],
   "source": [
    "from sklearn.feature_extraction.text import TfidfVectorizer\n",
    "from sklearn.model_selection import train_test_split\n",
    "\n",
    "X_train, X_test = train_test_split(df, test_size=0.25, random_state=0)\n",
    "\n",
    "vectorizer = TfidfVectorizer( max_df=.5,# drop words that occur in more than half the paragraphs\n",
    "                             min_df=2, # only use words that appear at least twice\n",
    "                             stop_words='english', \n",
    "                             lowercase=True, #convert everything to lower case (since Alice in Wonderland has the HABIT of CAPITALIZING WORDS for EMPHASIS)\n",
    "                             use_idf=True,#we definitely want to use inverse document frequencies in our weighting\n",
    "                             norm=u'l2', #Applies a correction factor so that longer paragraphs and shorter paragraphs get treated equally\n",
    "                             smooth_idf=True #Adds 1 to all document frequencies, as if an extra document existed that used every word once.  Prevents divide-by-zero errors\n",
    "                            )\n",
    "\n",
    "\n",
    "#Applying the vectorizer\n",
    "songs_paras_tfidf=vectorizer.fit_transform(X_train.loc[:]['lyrics'])\n",
    "print(\"Number of features: %d\" % songs_paras_tfidf.get_shape()[1])\n",
    "\n",
    "#splitting into training and test sets\n",
    "X_train_tfidf, X_test_tfidf= train_test_split(songs_paras_tfidf, test_size=0.4, random_state=0)\n",
    "\n",
    "\n",
    "#Reshapes the vectorizer output into something people can read\n",
    "X_train_tfidf_csr = X_train_tfidf.tocsr()\n",
    "\n",
    "#number of paragraphs\n",
    "n = X_train_tfidf_csr.shape[0]\n",
    "#A list of dictionaries, one per paragraph\n",
    "tfidf_bypara = [{} for _ in range(0,n)]\n",
    "#List of features\n",
    "terms = vectorizer.get_feature_names()\n",
    "#for each paragraph, lists the feature words and their tf-idf scores\n",
    "for i, j in zip(*X_train_tfidf_csr.nonzero()):\n",
    "    tfidf_bypara[i][terms[j]] = X_train_tfidf_csr[i, j]\n",
    "\n",
    "#Keep in mind that the log base 2 of 1 is 0, so a tf-idf score of 0 indicates that the word was present once in that sentence.\n",
    "#print('Original sentence:', X_train)\n",
    "#print('Tf_idf vector:', tfidf_bypara)"
   ]
  },
  {
   "cell_type": "code",
   "execution_count": 712,
   "metadata": {
    "collapsed": true
   },
   "outputs": [
    {
     "name": "stdout",
     "output_type": "stream",
     "text": [
      "Percent variance captured by all components: 32.885593915913525\n",
      "Component 0:\n",
      "lyrics\n",
      "For the fronters, wannabe ill niggas and spot runners      0.99311\n",
      "Or i'll break it down for the layman                       0.99311\n",
      "Okay... I'm in                                             0.99311\n",
      "Why you resent every making of this?                       0.99311\n",
      "Punk, you don't disrespect OGs, R.I.P. Prodigy             0.99311\n",
      "The game is not only dangerous, but it's most strange      0.99311\n",
      "Life's a bitch and then you die, that's why we puff lye    0.99311\n",
      "Blown out the frame like Pan Am Flight 103                 0.99311\n",
      "I spark the mic and Shaolin spark the methtical            0.99311\n",
      "                                                           0.99311\n",
      "Name: 0, dtype: float64\n",
      "Component 1:\n",
      "lyrics\n",
      "That's all that matters to me                         0.907091\n",
      "I mention you, lose-lose for me, win-win for you      0.907091\n",
      "Would you say my intelligence now is great relief?    0.907091\n",
      "[Outro: Lauryn Hill]                                  0.907091\n",
      "He don't know how to behave now                       0.907091\n",
      "[Verse 2]                                             0.907091\n",
      "(Word up, word up, word up)                           0.907091\n",
      "                                                      0.907091\n",
      "Black Thought, I told you I'ma win eventually         0.907091\n",
      "Of another beat I'ma kill again                       0.907091\n",
      "Name: 1, dtype: float64\n",
      "Component 2:\n",
      "lyrics\n",
      "And I'm hopin' to lead you to victory, Kendrick             0.737376\n",
      "When beef jump niggas come get me cause they know I ride    0.733461\n",
      "Callin' my crib and I ain't even give you my numbers        0.733461\n",
      "Backstabbers, low blowers                                   0.733461\n",
      "                                                            0.731529\n",
      "Straight out the kitchen, I told 'em the oven is mine       0.730119\n",
      "You freak niggas played out, get fucked and ate out         0.728876\n",
      "Say \"Fuck it!\" before we kick the bucket                    0.728655\n",
      "Get on my soapbox and preach, my sermon and speech          0.727936\n",
      "[Hook]                                                      0.727773\n",
      "Name: 2, dtype: float64\n",
      "Component 3:\n",
      "lyrics\n",
      "They ain't gonna know what hit 'em                          0.957815\n",
      "Thugs they be booing and screwing, we canoeing              0.957815\n",
      "After the first night, but tonight I am                     0.957815\n",
      "Imagine if your first blunt had you foamin' at the mouth    0.957815\n",
      "Nigga, that ain't good game, homie, sorry                   0.957815\n",
      "                                                            0.957815\n",
      "                                                            0.957815\n",
      "[Bridge]                                                    0.957815\n",
      "What it is, Ecstatic, there it is                           0.957815\n",
      "So when I rhyme it's sincerely yours                        0.957815\n",
      "Name: 3, dtype: float64\n",
      "Component 4:\n",
      "lyrics\n",
      "Pop the trunk on Cee Cipher Punk, leave him left scraped    0.807881\n",
      "(Smoke somethin', nigga!)                                   0.762638\n",
      "And I was just tryin' to do the right thing, but word       0.762638\n",
      "Come on!                                                    0.762638\n",
      "But how you gonna name yourself after a damn gun            0.762638\n",
      "The saga continues                                          0.762638\n",
      "Punk niggas shatter like a glass jaw, break it              0.762638\n",
      "If your pussy dry, spit on my dick and put it in            0.762638\n",
      "And it's volumes or scriptures when I breathe on a beat     0.759073\n",
      "So much heat you woulda thought it was the Middle East      0.757153\n",
      "Name: 4, dtype: float64\n"
     ]
    }
   ],
   "source": [
    "from sklearn.decomposition import TruncatedSVD\n",
    "from sklearn.pipeline import make_pipeline\n",
    "from sklearn.preprocessing import Normalizer\n",
    "\n",
    "#Our SVD data reducer.  We are going to reduce the feature space from 1379 to 130.\n",
    "svd= TruncatedSVD(130)\n",
    "lsa = make_pipeline(svd, Normalizer(copy=False))\n",
    "# Run SVD on the training data, then project the training data.\n",
    "X_train_lsa = lsa.fit_transform(X_train_tfidf)\n",
    "\n",
    "variance_explained=svd.explained_variance_ratio_\n",
    "total_variance = variance_explained.sum()\n",
    "print(\"Percent variance captured by all components:\",total_variance*100)\n",
    "\n",
    "#Looking at what sorts of paragraphs our solution considers similar, for the first five identified topics\n",
    "paras_by_component=pd.DataFrame(X_train_lsa,index=X_train[0:4108]['lyrics'])\n",
    "\n",
    "for i in range(5):\n",
    "    print('Component {}:'.format(i))\n",
    "    print(paras_by_component.loc[:,i].sort_values(ascending=False)[0:10])\n",
    "\n"
   ]
  },
  {
   "cell_type": "code",
   "execution_count": 85,
   "metadata": {
    "collapsed": true
   },
   "outputs": [
    {
     "data": {
      "image/png": "[encoded data removed]",
      "text/plain": [
       "<Figure size 432x288 with 2 Axes>"
      ]
     },
     "metadata": {
      "needs_background": "light"
     },
     "output_type": "display_data"
    },
    {
     "name": "stdout",
     "output_type": "stream",
     "text": [
      "Key:\n",
      "0 This is straight razor behavior, I never get enough\n",
      "1 [Chorus]\n",
      "2 Ther–Ther–Ther–There ain't an army that could strike back\n",
      "3 To my man [Lake Gucciano?], one love\n",
      "4 Why don't (why don't) you teach me something new\n",
      "5 I ain't no gangster but I got some bangers\n",
      "6 You're never gonna make it where you're goin', aheh\n",
      "7 My Mustang and the Jeep Wrangler grill\n",
      "8 Love one of you bucket-headed hoes? No way!\n",
      "9 Fish out pith like a business card from a jar at the mall\n",
      "10 Then roll the dice, then bet us up\n",
      "11 If all it's gonna cause is pain\n",
      "12 When they tell me to fear they law\n",
      "13 Pass me a honey-dipped spliff\n",
      "14 She smoked cigarettes and gets what she gets by\n",
      "15 Bring a scale, stale ginger lingers\n",
      "16 Ayo, put the Grants over there in the safe\n",
      "17 What it is, you don't know? Here it is\n",
      "18 Whether cruisin' in a Six cab or Montero Jeep\n",
      "19 One problem; even with the Os on his check\n"
     ]
    }
   ],
   "source": [
    "import numpy as np\n",
    "import seaborn as sns\n",
    "import matplotlib.pyplot as plt\n",
    "\n",
    "# Compute document similarity using LSA components\n",
    "similarity = np.asarray(np.asmatrix(X_train_lsa) * np.asmatrix(X_train_lsa).T)\n",
    "#Only taking the first 10 sentences\n",
    "sim_matrix=pd.DataFrame(similarity,index=X_train[0:3286]['lyrics']).iloc[0:20,0:20]\n",
    "#Making a plot\n",
    "ax = sns.heatmap(sim_matrix,yticklabels=range(20))\n",
    "plt.show()\n",
    "\n",
    "#Generating a key for the plot.\n",
    "print('Key:')\n",
    "for i in range(20):\n",
    "    print(i,sim_matrix.index[i])\n"
   ]
  },
  {
   "cell_type": "markdown",
   "metadata": {},
   "source": [
    "# Perform K-Means Clustering"
   ]
  },
  {
   "cell_type": "code",
   "execution_count": 713,
   "metadata": {},
   "outputs": [],
   "source": [
    "from sklearn.cluster import KMeans\n",
    "kmeans = KMeans(n_clusters=10,random_state=0).fit(songs_paras_tfidf)"
   ]
  },
  {
   "cell_type": "markdown",
   "metadata": {},
   "source": [
    "# Raw Results Give Bad Performance"
   ]
  },
  {
   "cell_type": "code",
   "execution_count": 714,
   "metadata": {},
   "outputs": [
    {
     "name": "stdout",
     "output_type": "stream",
     "text": [
      "1\n",
      "1\n",
      "1\n",
      "1\n",
      "1\n",
      "1\n",
      "1\n",
      "1\n",
      "1\n",
      "1\n"
     ]
    }
   ],
   "source": [
    "for i in range(0,10):\n",
    "    lines_for_predicting = list(df_songs['lyrics'][df_songs['artist']== df.artist.unique()[i]])\n",
    "    val = kmeans.predict(vectorizer.transform(lines_for_predicting))\n",
    "    unique_elements, counts_elements = np.unique(val, return_counts=True)\n",
    "    print(np.argmax(counts_elements,axis=0))"
   ]
  },
  {
   "cell_type": "markdown",
   "metadata": {},
   "source": [
    "# Silhouette Metod"
   ]
  },
  {
   "cell_type": "code",
   "execution_count": 291,
   "metadata": {},
   "outputs": [
    {
     "name": "stdout",
     "output_type": "stream",
     "text": [
      "0.09368876339338758\n",
      "0.09741740396840247\n"
     ]
    }
   ],
   "source": [
    "from sklearn import metrics\n",
    "from sklearn.metrics import pairwise_distances\n",
    "\n",
    "for sample in [X_train_tfidf, X_test_tfidf]:\n",
    "    model = KMeans(n_clusters=100, random_state=42).fit(sample)\n",
    "    labels = model.labels_\n",
    "    print(metrics.silhouette_score(sample, labels, metric='euclidean'))"
   ]
  },
  {
   "cell_type": "code",
   "execution_count": 292,
   "metadata": {},
   "outputs": [
    {
     "data": {
      "text/plain": [
       "MeanShift(bandwidth=1.3762069744065468, bin_seeding=True, cluster_all=True,\n",
       "          min_bin_freq=1, n_jobs=None, seeds=None)"
      ]
     },
     "execution_count": 292,
     "metadata": {},
     "output_type": "execute_result"
    }
   ],
   "source": [
    "from sklearn.cluster import MeanShift, estimate_bandwidth\n",
    "bandwidth  = estimate_bandwidth(songs_paras_tfidf.toarray(), quantile=0.2, n_samples=1000)\n",
    "ms = MeanShift(bandwidth=bandwidth, bin_seeding=True)\n",
    "ms.fit(songs_paras_tfidf.toarray())"
   ]
  },
  {
   "cell_type": "code",
   "execution_count": 295,
   "metadata": {},
   "outputs": [
    {
     "name": "stdout",
     "output_type": "stream",
     "text": [
      "0\n",
      "0\n",
      "0\n",
      "0\n",
      "0\n",
      "0\n",
      "0\n",
      "0\n",
      "0\n",
      "0\n"
     ]
    }
   ],
   "source": [
    "for i in range(0,10):\n",
    "    lines_for_predicting = list(df['lyrics'][df['artist']== df.artist.unique()[i]])\n",
    "    val = ms.predict(vectorizer.transform(lines_for_predicting))\n",
    "    unique_elements, counts_elements = np.unique(val, return_counts=True)\n",
    "    print(np.argmax(counts_elements,axis=0))"
   ]
  },
  {
   "cell_type": "markdown",
   "metadata": {},
   "source": [
    "# Change Corpus to entire songs"
   ]
  },
  {
   "cell_type": "code",
   "execution_count": 207,
   "metadata": {
    "scrolled": false
   },
   "outputs": [],
   "source": [
    "index = 0\n",
    "df_paras = pd.DataFrame(columns=['lyrics','artist'])\n",
    "\n",
    "for i in range(0,10):\n",
    "    for j in range(0,10):\n",
    "        df_paras.loc[index,'lyrics']=artist[i].songs[j].lyrics\n",
    "        df_paras.loc[index,'artist']=artist[i].name\n",
    "        index = index +1 \n"
   ]
  },
  {
   "cell_type": "code",
   "execution_count": 208,
   "metadata": {},
   "outputs": [
    {
     "data": {
      "text/html": [
       "<div>\n",
       "<style scoped>\n",
       "    .dataframe tbody tr th:only-of-type {\n",
       "        vertical-align: middle;\n",
       "    }\n",
       "\n",
       "    .dataframe tbody tr th {\n",
       "        vertical-align: top;\n",
       "    }\n",
       "\n",
       "    .dataframe thead th {\n",
       "        text-align: right;\n",
       "    }\n",
       "</style>\n",
       "<table border=\"1\" class=\"dataframe\">\n",
       "  <thead>\n",
       "    <tr style=\"text-align: right;\">\n",
       "      <th></th>\n",
       "      <th>lyrics</th>\n",
       "      <th>artist</th>\n",
       "    </tr>\n",
       "  </thead>\n",
       "  <tbody>\n",
       "    <tr>\n",
       "      <th>0</th>\n",
       "      <td>[Intro: Pebbles the Invisible Girl, MF DOOM]\\n...</td>\n",
       "      <td>MF DOOM</td>\n",
       "    </tr>\n",
       "    <tr>\n",
       "      <th>1</th>\n",
       "      <td>[Produced by Metal Fingers]\\n\\n[Skit 1]\\nNow I...</td>\n",
       "      <td>MF DOOM</td>\n",
       "    </tr>\n",
       "    <tr>\n",
       "      <th>2</th>\n",
       "      <td>[Intro: Mr. Fantastik &amp; (MF DOOM)]\\nYo! (Yo!)\\...</td>\n",
       "      <td>MF DOOM</td>\n",
       "    </tr>\n",
       "    <tr>\n",
       "      <th>3</th>\n",
       "      <td>[Intro]\\nKeep your hoes in check...\\n(Super!)\\...</td>\n",
       "      <td>MF DOOM</td>\n",
       "    </tr>\n",
       "    <tr>\n",
       "      <th>4</th>\n",
       "      <td>[Intro]\\nBefore we go any further\\nFriends\\n\\n...</td>\n",
       "      <td>MF DOOM</td>\n",
       "    </tr>\n",
       "  </tbody>\n",
       "</table>\n",
       "</div>"
      ],
      "text/plain": [
       "                                              lyrics   artist\n",
       "0  [Intro: Pebbles the Invisible Girl, MF DOOM]\\n...  MF DOOM\n",
       "1  [Produced by Metal Fingers]\\n\\n[Skit 1]\\nNow I...  MF DOOM\n",
       "2  [Intro: Mr. Fantastik & (MF DOOM)]\\nYo! (Yo!)\\...  MF DOOM\n",
       "3  [Intro]\\nKeep your hoes in check...\\n(Super!)\\...  MF DOOM\n",
       "4  [Intro]\\nBefore we go any further\\nFriends\\n\\n...  MF DOOM"
      ]
     },
     "execution_count": 208,
     "metadata": {},
     "output_type": "execute_result"
    }
   ],
   "source": [
    "df_paras.head()"
   ]
  },
  {
   "cell_type": "code",
   "execution_count": 307,
   "metadata": {},
   "outputs": [],
   "source": [
    "df_artist = pd.DataFrame(columns=['artist','count'])\n",
    "for i in range(0,10):\n",
    "    df_artist.loc[i,'count']= df[df.artist == df.artist.unique()[i]].index[-1]\n",
    "    df_artist.loc[i,'artist']= df.artist.unique()[i]"
   ]
  },
  {
   "cell_type": "code",
   "execution_count": 308,
   "metadata": {
    "scrolled": true
   },
   "outputs": [
    {
     "data": {
      "text/html": [
       "<div>\n",
       "<style scoped>\n",
       "    .dataframe tbody tr th:only-of-type {\n",
       "        vertical-align: middle;\n",
       "    }\n",
       "\n",
       "    .dataframe tbody tr th {\n",
       "        vertical-align: top;\n",
       "    }\n",
       "\n",
       "    .dataframe thead th {\n",
       "        text-align: right;\n",
       "    }\n",
       "</style>\n",
       "<table border=\"1\" class=\"dataframe\">\n",
       "  <thead>\n",
       "    <tr style=\"text-align: right;\">\n",
       "      <th></th>\n",
       "      <th>artist</th>\n",
       "      <th>count</th>\n",
       "    </tr>\n",
       "  </thead>\n",
       "  <tbody>\n",
       "    <tr>\n",
       "      <th>0</th>\n",
       "      <td>MF DOOM</td>\n",
       "      <td>842</td>\n",
       "    </tr>\n",
       "    <tr>\n",
       "      <th>1</th>\n",
       "      <td>Kendrick Lamar</td>\n",
       "      <td>1962</td>\n",
       "    </tr>\n",
       "    <tr>\n",
       "      <th>2</th>\n",
       "      <td>GZA</td>\n",
       "      <td>2875</td>\n",
       "    </tr>\n",
       "    <tr>\n",
       "      <th>3</th>\n",
       "      <td>Eminem</td>\n",
       "      <td>4176</td>\n",
       "    </tr>\n",
       "    <tr>\n",
       "      <th>4</th>\n",
       "      <td>Nas</td>\n",
       "      <td>5210</td>\n",
       "    </tr>\n",
       "    <tr>\n",
       "      <th>5</th>\n",
       "      <td>Aesop Rock</td>\n",
       "      <td>6016</td>\n",
       "    </tr>\n",
       "    <tr>\n",
       "      <th>6</th>\n",
       "      <td>Pharoahe Monch</td>\n",
       "      <td>6796</td>\n",
       "    </tr>\n",
       "    <tr>\n",
       "      <th>7</th>\n",
       "      <td>André 3000</td>\n",
       "      <td>7211</td>\n",
       "    </tr>\n",
       "    <tr>\n",
       "      <th>8</th>\n",
       "      <td>Yasiin Bey</td>\n",
       "      <td>8216</td>\n",
       "    </tr>\n",
       "    <tr>\n",
       "      <th>9</th>\n",
       "      <td>Ghostface Killah</td>\n",
       "      <td>9130</td>\n",
       "    </tr>\n",
       "  </tbody>\n",
       "</table>\n",
       "</div>"
      ],
      "text/plain": [
       "             artist count\n",
       "0           MF DOOM   842\n",
       "1    Kendrick Lamar  1962\n",
       "2               GZA  2875\n",
       "3            Eminem  4176\n",
       "4               Nas  5210\n",
       "5        Aesop Rock  6016\n",
       "6    Pharoahe Monch  6796\n",
       "7        André 3000  7211\n",
       "8        Yasiin Bey  8216\n",
       "9  Ghostface Killah  9130"
      ]
     },
     "execution_count": 308,
     "metadata": {},
     "output_type": "execute_result"
    }
   ],
   "source": [
    "df_artist"
   ]
  },
  {
   "cell_type": "code",
   "execution_count": 374,
   "metadata": {},
   "outputs": [
    {
     "name": "stdout",
     "output_type": "stream",
     "text": [
      "Number of features: 7403\n",
      "Original sentence:                                                lyrics            artist\n",
      "48  [Produced by DJ Premier]\\n\\n[Chorus]\\nRepresen...               Nas\n",
      "6   [Intro]\\nYo, yo, yo, y'all can't stand right h...           MF DOOM\n",
      "99  [Intro: Madam Majestic]\\nTommy Mottola, lives ...  Ghostface Killah\n",
      "82  [Intro: Mos Def]\\nPeace\\nPeace, peace, peace, ...        Yasiin Bey\n",
      "76  [Verse 1: André 3000]\\nI, I, I left no time to...        André 3000\n",
      "60  [Produced by Pharoahe Monch]\\n\\n[Intro]\\nUh-uh...    Pharoahe Monch\n",
      "80  [Produced by DJ Premier]\\n\\n[Intro]\\nBucka-buc...        Yasiin Bey\n",
      "90  [Intro: Ghostface Killah, Cappadonna, & (Masta...  Ghostface Killah\n",
      "68  [Produced by Lee Stone]\\n\\n[Hook]\\nPull myself...    Pharoahe Monch\n",
      "51  [Intro: Sample]\\nYes, yes, y'all, and you don'...        Aesop Rock\n",
      "27  [Intro: RZA]\\nLot of people, you know what I'm...               GZA\n",
      "18  [Produced by Sounwave; Additional production b...    Kendrick Lamar\n",
      "56  [Hook]\\nHey Kirby\\nWhatcha doing Kirby\\nWhatch...        Aesop Rock\n",
      "63  [Intro: Pharoahe Monch & Jean Grae]\\nIn 2013, ...    Pharoahe Monch\n",
      "74  (Yin-Yang)\\n\\nX\\n\\nF#CK 3000\\n\\nI pray there's...        André 3000\n",
      "1   [Produced by Metal Fingers]\\n\\n[Skit 1]\\nNow I...           MF DOOM\n",
      "61  [Hook]\\nIt's not latin, or white, or black mus...    Pharoahe Monch\n",
      "42  [Produced by L.E.S. & Nas]\\n\\n[Intro: AZ and N...               Nas\n",
      "41  [Produced by Ron Browz]\\n\\n[Intro]\\nFuck Jay Z...               Nas\n",
      "4   [Intro]\\nBefore we go any further\\nFriends\\n\\n...           MF DOOM\n",
      "15  [Produced by DJ Dahi]\\n\\n[Verse 1: Kendrick La...    Kendrick Lamar\n",
      "17  [Produced by Scoop DeVille & Sounwave]\\n\\n[Int...    Kendrick Lamar\n",
      "40  [Produced by DJ Premier]\\n\\n[Intro]\\nYeah, yea...               Nas\n",
      "38  [Intro]\\nI got a song filled with shit for the...            Eminem\n",
      "5   [Intro]\\nI get no kick from champagne\\nMere al...           MF DOOM\n",
      "91  [Intro: Sample]\\n- \"My God, so they are killer...  Ghostface Killah\n",
      "59  [Verse 1]\\nMy first name is a random set of nu...        Aesop Rock\n",
      "0   [Intro: Pebbles the Invisible Girl, MF DOOM]\\n...           MF DOOM\n",
      "34  [Intro: Joyner Lucas]\\nWhoa, Joyner, Joyner, y...            Eminem\n",
      "28  [Drug dealing skit]\\nRZA: Yes the good life, y...               GZA\n",
      "..                                                ...               ...\n",
      "19  [Intro: Kendrick Lamar]\\nDamn, love or lust\\nD...    Kendrick Lamar\n",
      "29  [Intro: GZA]\\nHere we go, come on\\n\\n[Excerpt ...               GZA\n",
      "49  [Produced by DJ Premier]\\n\\n[Intro]\\n(Nas is; ...               Nas\n",
      "97  [Intro: Force MDs]\\nWe are the G-O-Ds\\nAnd we ...  Ghostface Killah\n",
      "98  [Intro: Ghostface Killah]\\nUh-huh, uh-huh, mot...  Ghostface Killah\n",
      "69  [Chorus: Showtyme]\\nOh, oh, oh, oh, oh, oh, oh...    Pharoahe Monch\n",
      "20  [Skit: Gibran Evans]\\nWhen I was little, my fa...               GZA\n",
      "94  [Intro]\\n[Kid #1]: What you doing on our turf ...  Ghostface Killah\n",
      "72                                     [Instrumental]        André 3000\n",
      "77  I dont need you and your brand new Benz\\nOr yo...        André 3000\n",
      "25  [Intro: RZA + (GZA)]\\nYo (yeah), check it out,...               GZA\n",
      "37  [Verse 1]\\nNow this shit's about to kick off, ...            Eminem\n",
      "81  [Hook]\\nI know I can't afford to stop\\nFor one...        Yasiin Bey\n",
      "46  [Produced by Q-Tip]\\n\\n[Verse 1: Nas]\\nWhat up...               Nas\n",
      "39  [Intro: Eminem & Lil Juice]\\nTay Keith, fuck t...            Eminem\n",
      "65  [Hook]\\nGotta move on\\nGotta let go\\nWould've ...    Pharoahe Monch\n",
      "58  [Verse 1]\\nTech support, feral army\\nIn a cave...        Aesop Rock\n",
      "12  [Produced by T-Minus]\\n\\n[Intro]\\nPour up (Dra...    Kendrick Lamar\n",
      "88  [Intro]\\nLive from America\\nYasiin, Yasiin, y'...        Yasiin Bey\n",
      "70  [Verse]\\nMe and my mother drivin' to the groce...        André 3000\n",
      "87  [Produced by Mos Def]\\n\\n[Spoken]\\nBismillah i...        Yasiin Bey\n",
      "36  [Chorus: Ed Sheeran]\\nI've been a liar, been a...            Eminem\n",
      "21  [Intro]\\nChoose the sword, and you will join m...               GZA\n",
      "83  [Intro]\\nYou say \"one for the treble, two for ...        Yasiin Bey\n",
      "9   [Verse]\\nIt's the beat, he hear it in his slee...           MF DOOM\n",
      "96  [Intro from the motion picture \"J.D.'s Revenge...  Ghostface Killah\n",
      "67  [Hook]\\nOoh, listen to the way I slay your cre...    Pharoahe Monch\n",
      "64  [Verse 1]\\nTotally intoxicated when he drove a...    Pharoahe Monch\n",
      "47  [Produced by Rashad Smith & Trackmasters]\\n\\n[...               Nas\n",
      "44  [Produced by Trackmasters]\\n\\n[Verse 1]\\nFake ...               Nas\n",
      "\n",
      "[75 rows x 2 columns]\n"
     ]
    },
    {
     "name": "stdout",
     "output_type": "stream",
     "text": [
      "Tf_idf vector: [{'chew': 0.055861571410149115, 'root': 0.047512337694375434, 'intruder': 0.055861571410149115, 'wingspan': 0.055861571410149115, 'impressive': 0.055861571410149115, 'clusterfuck': 0.055861571410149115, 'fluster': 0.055861571410149115, 'huff': 0.055861571410149115, 'muster': 0.055861571410149115, 'gusto': 0.05097758277666476, 'quite': 0.055861571410149115, 'vibe': 0.05097758277666476, 'backstab': 0.055861571410149115, 'strapped': 0.055861571410149115, 'jetpack': 0.055861571410149115, 'commands': 0.055861571410149115, 'canyon': 0.055861571410149115, 'object': 0.055861571410149115, 'duty': 0.055861571410149115, 'list': 0.047512337694375434, 'grocery': 0.05097758277666476, 'tales': 0.055861571410149115, 'sat': 0.05097758277666476, 'jericho': 0.055861571410149115, 'triumph': 0.055861571410149115, 'violence': 0.055861571410149115, 'vile': 0.055861571410149115, 'avoiding': 0.055861571410149115, 'award': 0.05097758277666476, 'siphon': 0.055861571410149115, 'conform': 0.055861571410149115, 'comply': 0.055861571410149115, 'whore': 0.05097758277666476, 'swarm': 0.055861571410149115, 'swine': 0.055861571410149115, 'glitz': 0.055861571410149115, 'jokers': 0.055861571410149115, 'homeowner': 0.055861571410149115, 'worth': 0.04482448479048708, 'regrets': 0.055861571410149115, 'express': 0.055861571410149115, 'rollover': 0.055861571410149115, 'fritz': 0.055861571410149115, 'motor': 0.055861571410149115, 'nodoz': 0.055861571410149115, 'blitz': 0.055861571410149115, 'vocoder': 0.055861571410149115, 'rogue': 0.055861571410149115, 'relate': 0.047512337694375434, 'cone': 0.055861571410149115, 'cane': 0.16758471423044735, 'grace': 0.16758471423044735, 'rejoice': 0.16758471423044735, 'funhouse': 0.16758471423044735, 'judged': 0.16758471423044735, 'leak': 0.055861571410149115, 'wine': 0.04482448479048708, 'turns': 0.05097758277666476, 'torn': 0.055861571410149115, 'isn': 0.09502467538875087, 'allure': 0.055861571410149115, 'fork': 0.055861571410149115, 'mouths': 0.047512337694375434, 'costs': 0.055861571410149115, 'prize': 0.10195516555332952, 'hog': 0.055861571410149115, 'dogfight': 0.055861571410149115, 'flies': 0.05097758277666476, 'frogs': 0.055861571410149115, 'vines': 0.055861571410149115, 'swamps': 0.055861571410149115, 'bog': 0.055861571410149115, 'attach': 0.055861571410149115, 'primate': 0.055861571410149115, 'elapse': 0.055861571410149115, 'sign': 0.1529327483299943, 'bolt': 0.055861571410149115, 'mulch': 0.055861571410149115, 'poacher': 0.055861571410149115, 'vulgar': 0.055861571410149115, 'colorfully': 0.055861571410149115, 'lung': 0.05097758277666476, 'suddenly': 0.055861571410149115, 'fuckery': 0.055861571410149115, 'huckabee': 0.055861571410149115, 'watering': 0.055861571410149115, 'wither': 0.055861571410149115, 'zeitgeist': 0.055861571410149115, 'jittery': 0.055861571410149115, 'outside': 0.04262834906089108, 'today': 0.04077154275853626, 'tied': 0.04262834906089108, 'beach': 0.04482448479048708, 'snow': 0.05097758277666476, 'score': 0.047512337694375434, 'horse': 0.05097758277666476, 'snake': 0.09502467538875087, 'ready': 0.04482448479048708, 'bizarre': 0.047512337694375434, 'play': 0.02939512671163304, 'patrol': 0.047512337694375434, 'riot': 0.05097758277666476, 'folk': 0.047512337694375434, 'knife': 0.04077154275853626, 'puff': 0.047512337694375434, 'dark': 0.03647525107471341, 'rise': 0.03916310397860177, 'actually': 0.03916310397860177, 'piss': 0.04077154275853626, 'crowd': 0.0342791153451174, 'hole': 0.047512337694375434, 'tried': 0.09994490720409342, 'wait': 0.030813870262828086, 'art': 0.03774436042740672, 'machine': 0.04262834906089108, 'pose': 0.04482448479048708, 'miles': 0.047512337694375434, 'fall': 0.10598160605454829, 'river': 0.04482448479048708, 'shrink': 0.04482448479048708, 'cubicle': 0.05097758277666476, 'lands': 0.047512337694375434, 'woke': 0.04262834906089108, 'fetch': 0.05097758277666476, 'eat': 0.03242230904276258, 'swap': 0.047512337694375434, 'cardboard': 0.05097758277666476, 'eye': 0.09994490720409342, 'shall': 0.3669438848268263, 'belly': 0.04262834906089108, 'wouldn': 0.07548872085481344, 'struck': 0.03916310397860177, 'lure': 0.05097758277666476, 'bit': 0.03532720201818276, 'feast': 0.05097758277666476, 'cast': 0.1425370130831263, 'couldn': 0.0342791153451174, 'chain': 0.03916310397860177, 'okay': 0.0342791153451174, 'centerfold': 0.05097758277666476, 'pulse': 0.047512337694375434, 'wings': 0.05097758277666476, 'beautiful': 0.04482448479048708, 'open': 0.03242230904276258, 'spoke': 0.047512337694375434, 'death': 0.03242230904276258, 'true': 0.0342791153451174, 'blue': 0.03647525107471341, 'weed': 0.03774436042740672, 'sort': 0.03916310397860177, 'help': 0.03774436042740672, 'climb': 0.10195516555332952, 'pull': 0.0685582306902348, 'spine': 0.04482448479048708, 'cut': 0.03008362255978339, 'nerve': 0.09502467538875087, 'ran': 0.03774436042740672, 'war': 0.07548872085481344, 'cow': 0.05097758277666476, 'blood': 0.03008362255978339, 'beef': 0.03774436042740672, 'heads': 0.03774436042740672, 'gold': 0.030813870262828086, 'city': 0.030813870262828086, 'sky': 0.10942575322414021, 'throw': 0.03331496906803114, 'walls': 0.04262834906089108, 'penny': 0.047512337694375434, 'men': 0.03532720201818276, 'fix': 0.05097758277666476, 've': 0.10371952651737489, 'rush': 0.04262834906089108, 'soldier': 0.04482448479048708, 'trying': 0.06662993813606229, 'storm': 0.05097758277666476, 'people': 0.027538320409278224, 'king': 0.057487731017033944, 'fine': 0.13447345437146127, 'interlude': 0.0342791153451174, 'pass': 0.3085120381060566, 'try': 0.05507664081855645, 'buttery': 0.05097758277666476, 'old': 0.024511138078148677, 'heart': 0.03008362255978339, 'thing': 0.02812601735893973, 'water': 0.0685582306902348, 'remember': 0.10942575322414021, 'trick': 0.09502467538875087, 'cash': 0.030813870262828086, 'right': 0.02071586144486291, 'stand': 0.03647525107471341, 'young': 0.02939512671163304, 'bitch': 0.023650386410815908, 'lot': 0.030813870262828086, 'goes': 0.04262834906089108, 'way': 0.022093979668924728, 'ma': 0.02939512671163304, 'flash': 0.04077154275853626, 'police': 0.03774436042740672, 'til': 0.028743865508516972, 'little': 0.026442529127020456, 'come': 0.021045892995859364, 'face': 0.07631449336515413, 'break': 0.026977968302409085, 'day': 0.09629230130795564, 'chorus': 0.06854118677003743}, {'sent': 0.045329588509437385, 'ali': 0.06465733785800441, 'cries': 0.05900433356187969, 'laughs': 0.06465733785800441, 'faces': 0.04934045888759617, 'men': 0.04088969892552332, 'omar': 0.12931467571600883, 'baghdad': 0.06465733785800441, 'elvis': 0.06465733785800441, 'considered': 0.06465733785800441, 'glad': 0.05900433356187969, 'jaw': 0.0549934631837209, 'arab': 0.05900433356187969, 'da': 0.04719128639929027, 'di': 0.11800866712375938, 'la': 0.05900433356187969, 'fabulous': 0.06465733785800441, 'kicked': 0.0549934631837209, 'crap': 0.0549934631837209, 'trapped': 0.0549934631837209, 'realized': 0.0549934631837209, 'instruments': 0.06465733785800441, 'eastern': 0.05900433356187969, 'getting': 0.035665713835153864, 'gentlemen': 0.0549934631837209, 'sentiment': 0.05900433356187969, 'increasing': 0.06465733785800441, 'manage': 0.05900433356187969, 'gonna': 0.03001270953902913, '15': 0.0549934631837209, 'planet': 0.0549934631837209, 'understand': 0.04088969892552332, 'bastard': 0.04934045888759617, 'food': 0.043687454591471435, 'damn': 0.03482048389865383, 'breakin': 0.06465733785800441, 'apples': 0.06465733785800441, 'buying': 0.05900433356187969, 'bye': 0.05900433356187969, 'soon': 0.04088969892552332, 'differences': 0.06465733785800441, 'fix': 0.05900433356187969, 'surely': 0.06465733785800441, 'wound': 0.05900433356187969, 'pissed': 0.06465733785800441, 've': 0.03001270953902913, 'distrust': 0.06465733785800441, 'rush': 0.04934045888759617, 'walk': 0.07935316842662529, 'grab': 0.043687454591471435, 'moms': 0.0549934631837209, 'jihad': 0.06465733785800441, 'stuff': 0.09868091777519233, 'barkin': 0.06465733785800441, 'arabian': 0.06465733785800441, 'country': 0.05900433356187969, 'oil': 0.05900433356187969, 'gimme': 0.05900433356187969, 'hungry': 0.04934045888759617, 'wrong': 0.04934045888759617, 'laundry': 0.06465733785800441, 'carrying': 0.06465733785800441, 'iraqi': 0.06465733785800441, 'curious': 0.06465733785800441, 'lookin': 0.042218515746315056, 'whip': 0.04934045888759617, 'comin': 0.042218515746315056, 'noonish': 0.06465733785800441, 'iraq': 0.06465733785800441, 'middle': 0.11800866712375938, 'soldier': 0.05188239042059858, 'patch': 0.06465733785800441, 'mac': 0.04719128639929027, 'riddle': 0.06465733785800441, 'relax': 0.05188239042059858, 'rick': 0.0549934631837209, 'slick': 0.05900433356187969, 'ruler': 0.06465733785800441, 'rockin': 0.06465733785800441, 'original': 0.04934045888759617, 'fantastic': 0.05900433356187969, 'punto': 0.06465733785800441, 'en': 0.05900433356187969, 'ecstatic': 0.19397201357401325, 'hook': 0.058887136617818435, 'remind': 0.05900433356187969, 'clouds': 0.05188239042059858, 'sun': 0.04719128639929027, 'struggle': 0.05188239042059858, 'hide': 0.05900433356187969, 'trying': 0.0385606268564314, 'suckas': 0.06465733785800441, 'fightin': 0.06465733785800441, 'world': 0.02737429302532395, 'lopsided': 0.06465733785800441, 'giant': 0.0549934631837209, 'act': 0.04719128639929027, 'small': 0.045329588509437385, 'shocked': 0.0549934631837209, 'tyrant': 0.06465733785800441, 'ring': 0.04088969892552332, 'round': 0.045329588509437385, 'swing': 0.0549934631837209, 'siren': 0.06465733785800441, 'voice': 0.045329588509437385, 'roar': 0.06465733785800441, 'lion': 0.06465733785800441, 'level': 0.05188239042059858, 'force': 0.04719128639929027, 'pushed': 0.05900433356187969, 'form': 0.0549934631837209, 'vital': 0.11800866712375938, 'storm': 0.05900433356187969, 'quiet': 0.0549934631837209, 'holla': 0.1099869263674418, 'ghetto': 0.08737490918294287, 'universal': 0.1099869263674418, 'cell': 0.08177939785104664, 'cathedral': 0.12931467571600883, 'tall': 0.11800866712375938, 'grave': 0.09438257279858055, 'cradle': 0.12931467571600883, 'curb': 0.11800866712375938, 'pavement': 0.12931467571600883, 'penthouse': 0.12931467571600883, 'presence': 0.0549934631837209, 'beat': 0.03752741172500675, 'scriptures': 0.05188239042059858, 'volumes': 0.12931467571600883, 'deep': 0.036565511450190324, 'sleep': 0.033269773416928314, 'hardly': 0.05900433356187969, 'awake': 0.0549934631837209, 'wide': 0.0549934631837209, 'bones': 0.06465733785800441, 'gotta': 0.034023579917187914, 'nations': 0.06465733785800441, 'bass': 0.04719128639929027, 'past': 0.045329588509437385, 'push': 0.04719128639929027, 'hear': 0.033269773416928314, 'clearly': 0.11800866712375938, 'speak': 0.08737490918294287, 'weary': 0.06465733785800441, 'grow': 0.04719128639929027, 'teary': 0.06465733785800441, 'eyes': 0.03187440742888202, 'sharp': 0.045329588509437385, 'turn': 0.030606076707596158, 'light': 0.036565511450190324, 'cleared': 0.06465733785800441, 'focus': 0.12931467571600883, 'dimmin': 0.06465733785800441, 'motion': 0.05188239042059858, 'goin': 0.045329588509437385, 'breathe': 0.08177939785104664, 'people': 0.03187440742888202, 'joke': 0.06465733785800441, 'smoke': 0.036565511450190324, 'blowin': 0.0549934631837209, 'mellow': 0.05900433356187969, 'chill': 0.04719128639929027, 'passionate': 0.05900433356187969, 'things': 0.042218515746315056, 'sit': 0.0771212537128628, 'hard': 0.034023579917187914, 'feel': 0.11145414820289297, 'flavor': 0.05900433356187969, 'amazin': 0.06465733785800441, 'data': 0.05900433356187969, 'operator': 0.06465733785800441, 'erator': 0.06465733785800441, 'madlib': 0.05900433356187969, 'def': 0.18131835403774954, 'mos': 0.13598876552831216, 'peace': 0.27856387118923065, 'smile': 0.04934045888759617, 'bust': 0.042218515746315056, 'interlude': 0.039676584213312646, 'try': 0.03187440742888202, 'months': 0.0549934631837209, 'uh': 0.0385606268564314, 'ya': 0.031225824251239803, 'sample': 0.04719128639929027, 'feeling': 0.042218515746315056, 'wish': 0.042218515746315056, 'soul': 0.036565511450190324, 'hope': 0.0750548234500135, 'forever': 0.045329588509437385, 'really': 0.03482048389865383, 'flow': 0.042218515746315056, 'pen': 0.036565511450190324, 'power': 0.08177939785104664, 'high': 0.028896752182147878, 'times': 0.03752741172500675, 'dangerous': 0.04719128639929027, 'right': 0.04795541617065059, 'bring': 0.03187440742888202, 'young': 0.034023579917187914, 'word': 0.032554641072031536, 'kid': 0.06804715983437583, 'mind': 0.09003812861708738, 'way': 0.02557281995511507, 'rock': 0.03187440742888202, 'need': 0.026901636775906807, 'black': 0.10400735664348139, 'rap': 0.030606076707596158, 'drop': 0.03752741172500675, 'raps': 0.043687454591471435, 'street': 0.036565511450190324, 'won': 0.031225824251239803, 'til': 0.033269773416928314, 'come': 0.048719410485808794, 'knock': 0.045329588509437385, 'face': 0.029443568308909217, 'real': 0.030606076707596158}, {'safety': 0.04715330572423591, 'forgiveness': 0.05167090339451619, 'eclipses': 0.05167090339451619, 'solar': 0.05167090339451619, 'lunar': 0.05167090339451619, 'heavens': 0.05167090339451619, 'saved': 0.05167090339451619, 'amen': 0.05167090339451619, 'babylon': 0.05167090339451619, 'towers': 0.05167090339451619, 'kings': 0.05167090339451619, 'whatsoever': 0.05167090339451619, 'guerillas': 0.05167090339451619, 'poorest': 0.05167090339451619, 'insurance': 0.05167090339451619, 'doctors': 0.05167090339451619, 'margiela': 0.05167090339451619, 'williams': 0.05167090339451619, 'france': 0.05167090339451619, 'french': 0.05167090339451619, 'bougie': 0.05167090339451619, 'landlord': 0.05167090339451619, 'spring': 0.05167090339451619, 'diabetics': 0.05167090339451619, 'bey': 0.05167090339451619, 'stall': 0.05167090339451619, 'bathroom': 0.05167090339451619, 'drawers': 0.05167090339451619, 'scary': 0.05167090339451619, 'cray': 0.10334180678903238, 'casket': 0.05167090339451619, 'closed': 0.05167090339451619, 'trey': 0.05167090339451619, 'behave': 0.05167090339451619, 'grade': 0.05167090339451619, 'sixth': 0.05167090339451619, 'maurice': 0.05167090339451619, 'zoo': 0.05167090339451619, 'local': 0.05167090339451619, 'marvin': 0.05167090339451619, 'starving': 0.05167090339451619, 'jumbotrons': 0.05167090339451619, 'stove': 0.05167090339451619, 'holey': 0.05167090339451619, 'myers': 0.15501271018354856, 'liable': 0.05167090339451619, 'tracing': 0.05167090339451619, 'surveillance': 0.05167090339451619, 'thoroughfare': 0.05167090339451619, 'stares': 0.05167090339451619, 'yasiin': 0.10334180678903238, 'role': 0.04715330572423591, 'deuce': 0.09430661144847181, 'father': 0.03943042149710872, 'air': 0.0414618057611143, 'illest': 0.04715330572423591, 'rob': 0.0414618057611143, 'astronauts': 0.04715330572423591, 'grimy': 0.04394801916738901, 'cameras': 0.0414618057611143, 'pants': 0.03943042149710872, 'lying': 0.04715330572423591, 'dying': 0.04715330572423591, 'mall': 0.04715330572423591, 'gucci': 0.04715330572423591, 'ice': 0.03943042149710872, 'believed': 0.04715330572423591, 'chopper': 0.04394801916738901, 'outside': 0.03943042149710872, 'psycho': 0.04715330572423591, 'nervous': 0.0414618057611143, 'written': 0.0414618057611143, 'winter': 0.04715330572423591, 'birds': 0.04394801916738901, 'allah': 0.04715330572423591, 'weird': 0.0414618057611143, 'filet': 0.04394801916738901, 'mama': 0.0414618057611143, 'caught': 0.35065588636448203, 'faded': 0.04394801916738901, 'louis': 0.04715330572423591, 'silver': 0.04715330572423591, 'prey': 0.04715330572423591, 'seeking': 0.04394801916738901, 'standing': 0.0414618057611143, 'signs': 0.037712910574136844, 'scared': 0.0414618057611143, 'acting': 0.04715330572423591, 'annual': 0.04715330572423591, 'salary': 0.04715330572423591, 'clothes': 0.03491282382682844, 'rise': 0.03622513494026183, 'easy': 0.037712910574136844, 'grief': 0.04715330572423591, 'fish': 0.03943042149710872, 'children': 0.03491282382682844, 'wearing': 0.04394801916738901, 'ask': 0.030815720088976588, 'fall': 0.03267699773924434, 'heat': 0.06747784306797423, 'earth': 0.033738921533987117, 'socks': 0.03943042149710872, 'shall': 0.037712910574136844, 'prince': 0.0414618057611143, 'look': 0.024458842340778098, 'pick': 0.033738921533987117, 'open': 0.02999002634700967, 'clean': 0.04394801916738901, 'looking': 0.03491282382682844, 'dealer': 0.04394801916738901, 'escape': 0.0414618057611143, 'sing': 0.04394801916738901, 'place': 0.029221323863706836, 'worry': 0.04394801916738901, 'case': 0.031707537269981545, 'malcolm': 0.04715330572423591, 'devils': 0.0414618057611143, 'family': 0.037712910574136844, 'killa': 0.037712910574136844, 'women': 0.03943042149710872, 'pretty': 0.03622513494026183, 'bloods': 0.04394801916738901, 'michael': 0.03943042149710872, 'home': 0.02718993959970126, 'fear': 0.037712910574136844, '20': 0.03491282382682844, 'dead': 0.02850225071313466, 'poor': 0.3771291057413685, 'prison': 0.0414618057611143, 'orbit': 0.04394801916738901, 'control': 0.03622513494026183, 'gold': 0.02850225071313466, 'took': 0.02718993959970126, 'fuckin': 0.02718993959970126, 'queens': 0.0414618057611143, 'died': 0.03622513494026183, 'getting': 0.02850225071313466, 'planet': 0.04394801916738901, 'food': 0.03491282382682844, 'walk': 0.031707537269981545, 'grab': 0.03491282382682844, 'hook': 0.04705964780117046, 'world': 0.021876162818689048, 'ghetto': 0.03491282382682844, 'turn': 0.024458842340778098, 'people': 0.025472428676729383, 'hard': 0.29908933559671386, 'peace': 0.02782678531598268, 'throne': 0.4975416691333716, 'hate': 0.031707537269981545, 'model': 0.04394801916738901, 'interlude': 0.031707537269981545, 'dope': 0.07542582114827369, 'dance': 0.03622513494026183, 'girl': 0.030815720088976588, 'ago': 0.03943042149710872, 'house': 0.03267699773924434, 'huh': 0.03267699773924434, 'tell': 0.022672341929420973, 'america': 0.03491282382682844, 'want': 0.02352982390058523, 'soul': 0.029221323863706836, 'seen': 0.030815720088976588, 'saying': 0.03491282382682844, 'years': 0.03267699773924434, 'high': 0.02309283586184941, 'hand': 0.029221323863706836, 'right': 0.019161782392272963, 'anybody': 0.04394801916738901, 'young': 0.05437987919940252, 'bitch': 0.021876162818689048, 'crazy': 0.030815720088976588, 'goes': 0.03943042149710872, 'mind': 0.023984653042854367, 'drugs': 0.03622513494026183, 'blow': 0.02850225071313466, 'live': 0.04705964780117046, 'rock': 0.025472428676729383, 'grand': 0.037712910574136844, 'block': 0.02999002634700967, 'black': 0.020779366486007478, 'game': 0.02309283586184941, 'fake': 0.05998005269401934, 'nigga': 0.08750465127475619, 'cold': 0.08997007904102901, 'police': 0.03491282382682844, 'rebel': 0.0414618057611143, 'little': 0.024458842340778098, 'hot': 0.02718993959970126, 'niggas': 0.021876162818689048, 'real': 0.024458842340778098}, {'production': 0.06560440766952816, 'disc': 0.07188974259347279, 'area': 0.06560440766952816, 'chambers': 0.07188974259347279, 'banger': 0.07188974259347279, 'drastic': 0.06560440766952816, 'systems': 0.07188974259347279, 'broadcasting': 0.07188974259347279, 'central': 0.06560440766952816, 'motown': 0.07188974259347279, 'struck': 0.0504000405486548, 'geffen': 0.07188974259347279, 'released': 0.07188974259347279, 'weapons': 0.07188974259347279, 'firing': 0.07188974259347279, 'arista': 0.07188974259347279, 'character': 0.06560440766952816, 'bad': 0.04172513218893721, 'atlantic': 0.06114489157106379, 'boat': 0.07188974259347279, 'panic': 0.07188974259347279, 'slave': 0.054859556647119154, 'rca': 0.07188974259347279, 'interscope': 0.06560440766952816, 'index': 0.06560440766952816, 'colombia': 0.07188974259347279, 'weight': 0.05246998321134621, 'ppendix': 0.07188974259347279, 'numb': 0.06114489157106379, 'pendulum': 0.07188974259347279, 'master': 0.054859556647119154, 'abbot': 0.07188974259347279, 'look': 0.03402959430741215, 'sorority': 0.07188974259347279, 'priority': 0.14377948518694558, 'bombing': 0.06560440766952816, '4th': 0.06560440766952816, 'pitch': 0.07188974259347279, 'batters': 0.07188974259347279, 'hitting': 0.06114489157106379, 'phat': 0.13120881533905632, 'plateau': 0.06114489157106379, 'atco': 0.07188974259347279, 'west': 0.05246998321134621, 'east': 0.05246998321134621, 'associated': 0.07188974259347279, 'epic': 0.07188974259347279, 'cables': 0.06114489157106379, 'row': 0.07188974259347279, 'natural': 0.054859556647119154, 'unpredictable': 0.06560440766952816, 'slang': 0.0504000405486548, 'rugged': 0.06560440766952816, 'capitol': 0.07188974259347279, 'mercury': 0.06560440766952816, 'driving': 0.06560440766952816, 'venus': 0.07188974259347279, 'going': 0.04546351625141281, 'hurt': 0.05246998321134621, 'boned': 0.07188974259347279, 'virgin': 0.07188974259347279, 'microphone': 0.057685822151571135, 'surgeons': 0.07188974259347279, 'lyrical': 0.054859556647119154, 'tough': 0.057685822151571135, 'reel': 0.14377948518694558, 'comedian': 0.07188974259347279, 'soft': 0.054859556647119154, 'profile': 0.07188974259347279, 'jive': 0.06560440766952816, 'wild': 0.10493996642269242, 'clan': 0.13120881533905632, 'ruthless': 0.07188974259347279, 'warn': 0.06114489157106379, 'chillin': 0.06114489157106379, 'smother': 0.07188974259347279, 'rough': 0.12228978314212759, 'jam': 0.05246998321134621, 'emerge': 0.07188974259347279, 'employ': 0.06560440766952816, 'moves': 0.06560440766952816, 'boy': 0.09388194225832427, 'motherfuckin': 0.10493996642269242, 'gza': 0.1008000810973096, 'poisoned': 0.07188974259347279, 'label': 0.20987993284538484, 'web': 0.057685822151571135, 'spiders': 0.07188974259347279, 'lure': 0.06560440766952816, 'labels': 0.13120881533905632, 'misinformed': 0.07188974259347279, 'duck': 0.057685822151571135, 'couldn': 0.044114705624710156, 'sleeping': 0.06560440766952816, 'dirty': 0.05246998321134621, 'thirty': 0.05246998321134621, 'death': 0.08345026437787442, 'bee': 0.06114489157106379, 'read': 0.17645882249884062, 'island': 0.04694097112916214, 'rich': 0.04546351625141281, 'mental': 0.057685822151571135, 'tracks': 0.054859556647119154, 'bone': 0.057685822151571135, 'bomb': 0.05246998321134621, 'rza': 0.2016001621946192, 'mic': 0.07565874140153105, 'tang': 0.10493996642269242, 'wu': 0.1408229133874864, 'killa': 0.10493996642269242, 'masta': 0.10971911329423831, 'secret': 0.05246998321134621, 'large': 0.05246998321134621, 'set': 0.0406556362052175, 'broadway': 0.06560440766952816, 'coming': 0.1008000810973096, 'deal': 0.044114705624710156, 'free': 0.04694097112916214, 'uptown': 0.06114489157106379, 'holding': 0.04857422172317452, 'style': 0.08822941124942031, 'flip': 0.04546351625141281, 'witty': 0.13120881533905632, 'city': 0.0396551895262458, 'throw': 0.04287392012705061, 'getting': 0.0793103790524916, 'gonna': 0.06673970920460232, 'understand': 0.04546351625141281, 'bastard': 0.054859556647119154, 'damn': 0.038715414327014294, 'rush': 0.054859556647119154, 'trying': 0.04287392012705061, 'act': 0.05246998321134621, 'gotta': 0.11348811210229656, 'speak': 0.04857422172317452, 'sharp': 0.0504000405486548, 'people': 0.10631939179497771, 'def': 0.0504000405486548, 'low': 0.0406556362052175, 'saw': 0.04857422172317452, 'tommy': 0.06560440766952816, 'house': 0.04546351625141281, 'ya': 0.03471866522900381, 'bag': 0.054859556647119154, 'old': 0.031544035776820877, 'soul': 0.0406556362052175, 'fiend': 0.054859556647119154, 'thought': 0.04287392012705061, 'saying': 0.14572266516952356, 'talent': 0.06114489157106379, 'loud': 0.04694097112916214, 'bring': 0.03543979726499257, 'motherfuckers': 0.0504000405486548, 'bitch': 0.030436311553541814, 'lot': 0.0396551895262458, 'kid': 0.03782937070076552, 'living': 0.044114705624710156, 'outro': 0.030980281166528217, 'blow': 0.0396551895262458, 'brother': 0.0406556362052175, 'god': 0.0578206770076736, 'breaking': 0.06560440766952816, 'wasn': 0.04694097112916214, 'plan': 0.04694097112916214, 'mc': 0.21436960063525307, 'game': 0.06425813820928322, 'rap': 0.03402959430741215, 'fake': 0.04172513218893721, 'razor': 0.10493996642269242, 'nigga': 0.06087262310708363, 'cold': 0.04172513218893721, 'thinking': 0.10493996642269242, 'little': 0.03402959430741215, 'come': 0.02708451967835652, 'niggas': 0.09130893466062545, 'll': 0.053319586588023146, 'day': 0.030980281166528217}, {'unsensitive': 0.04109094761134293, 'actin': 0.03297222956203312, 'dust': 0.04109094761134293, 'angel': 0.08218189522268586, 'usa': 0.04109094761134293, 'tithes': 0.04109094761134293, 'deposit': 0.04109094761134293, 'concept': 0.04109094761134293, 'coward': 0.037498357642840215, 'arrive': 0.04109094761134293, 'flame': 0.04109094761134293, 'powder': 0.03494937449499155, 'constantly': 0.03494937449499155, 'toxins': 0.04109094761134293, 'drown': 0.037498357642840215, 'option': 0.037498357642840215, 'vandalizin': 0.04109094761134293, 'corn': 0.04109094761134293, 'gossip': 0.04109094761134293, 'lawyer': 0.04109094761134293, 'relief': 0.037498357642840215, 'jump': 0.03297222956203312, 'skeletons': 0.04109094761134293, 'mentioned': 0.04109094761134293, 'laters': 0.04109094761134293, 'basketball': 0.04109094761134293, 'innocent': 0.037498357642840215, 'sixteen': 0.04109094761134293, 'mothafucka': 0.04109094761134293, 'outcome': 0.037498357642840215, 'boulevard': 0.04109094761134293, 'regulators': 0.04109094761134293, 'mount': 0.04109094761134293, 'brave': 0.04109094761134293, 'hearts': 0.03297222956203312, 'crave': 0.037498357642840215, 'slay': 0.03494937449499155, 'finna': 0.04109094761134293, 'iv': 0.04109094761134293, 'lately': 0.037498357642840215, 'colors': 0.03494937449499155, 'rep': 0.04109094761134293, 'bullis': 0.04109094761134293, 'alondra': 0.04109094761134293, 'cluck': 0.04109094761134293, 'dip': 0.037498357642840215, 'nakeds': 0.04109094761134293, 'butt': 0.037498357642840215, 'sticks': 0.04109094761134293, 'sherm': 0.04109094761134293, '80s': 0.04109094761134293, 'mixin': 0.04109094761134293, 'sacrifice': 0.04109094761134293, 'reasons': 0.04109094761134293, 'bleedin': 0.04109094761134293, 'allegiance': 0.04109094761134293, 'weekend': 0.037498357642840215, 'tweakin': 0.04109094761134293, 'foamin': 0.04109094761134293, 'rarely': 0.037498357642840215, 'tore': 0.037498357642840215, 'clocked': 0.037498357642840215, 'saturday': 0.04109094761134293, 'inspired': 0.037498357642840215, 'ended': 0.037498357642840215, 'month': 0.03494937449499155, 'security': 0.04109094761134293, 'believed': 0.037498357642840215, 'pops': 0.037498357642840215, 'dashed': 0.04109094761134293, 'hopped': 0.04109094761134293, 'pad': 0.03494937449499155, 'sleepin': 0.037498357642840215, 'grad': 0.04109094761134293, 'cuz': 0.04109094761134293, 'sup': 0.04109094761134293, 'thang': 0.10484812348497467, 'eiht': 0.12327284283402878, 'ii': 0.04109094761134293, 'speed': 0.03494937449499155, 'chopper': 0.0698987489899831, 'buy': 0.03297222956203312, 'movin': 0.037498357642840215, 'tragic': 0.04109094761134293, 'traffic': 0.04109094761134293, 'taxes': 0.04109094761134293, 'governor': 0.04109094761134293, 'collect': 0.08218189522268586, 'corporate': 0.03494937449499155, 'color': 0.03494937449499155, 'trolley': 0.04109094761134293, 'isleys': 0.04109094761134293, 'sheets': 0.04109094761134293, 'coroner': 0.04109094761134293, 'ivs': 0.08218189522268586, 'approve': 0.04109094761134293, 'bgs': 0.04109094761134293, 'piecin': 0.04109094761134293, 'treaty': 0.04109094761134293, 'news': 0.03297222956203312, 'noose': 0.04109094761134293, 'crawl': 0.037498357642840215, 'truce': 0.04109094761134293, 'ar': 0.037498357642840215, 'ak': 0.037498357642840215, 'punch': 0.037498357642840215, 'sucker': 0.03494937449499155, 'suck': 0.03494937449499155, 'suckers': 0.04109094761134293, 'pump': 0.037498357642840215, 'pickin': 0.08218189522268586, 'sliding': 0.04109094761134293, 'adapt': 0.04109094761134293, 'porch': 0.04109094761134293, 'pakistan': 0.04109094761134293, 'joey': 0.04109094761134293, 'recorder': 0.037498357642840215, 'beep': 0.04109094761134293, 'skinned': 0.04109094761134293, 'driver': 0.03494937449499155, 'society': 0.04109094761134293, 'conans': 0.04109094761134293, 'wavin': 0.04109094761134293, 'rosecrans': 0.08218189522268586, 'ride': 0.03135678452648884, 'yg': 0.04109094761134293, 'yan': 0.08218189522268586, 'boog': 0.04109094761134293, 'weighin': 0.04109094761134293, 'sergeant': 0.04109094761134293, 'drill': 0.04109094761134293, 'major': 0.037498357642840215, 'sac': 0.08218189522268586, 'cul': 0.08218189522268586, 'slingin': 0.04109094761134293, 'memory': 0.03494937449499155, 'yawk': 0.28763663327940053, 'crips': 0.08218189522268586, 'pirus': 0.08218189522268586, 'schoolboy': 0.08218189522268586, 'spray': 0.03297222956203312, 'outta': 0.03494937449499155, 'bein': 0.03297222956203312, 'lie': 0.03297222956203312, 'needed': 0.03494937449499155, 'nothin': 0.05761560275728037, 'job': 0.03135678452648884, 'lucky': 0.03494937449499155, 'cognac': 0.03494937449499155, 'strap': 0.0698987489899831, 'mother': 0.029990945210328617, 'burger': 0.03494937449499155, 'grip': 0.03494937449499155, 'bodies': 0.06271356905297767, 'fired': 0.03494937449499155, 'laced': 0.029990945210328617, 'lay': 0.027764194557986115, 'correct': 0.037498357642840215, 'drinkin': 0.037498357642840215, 'intelligence': 0.03494937449499155, 'slide': 0.03297222956203312, 'price': 0.03297222956203312, 'guard': 0.037498357642840215, 'shootin': 0.03494937449499155, 'holdin': 0.03297222956203312, 'van': 0.037498357642840215, 'fact': 0.027764194557986115, 'grandma': 0.0698987489899831, 'drive': 0.0698987489899831, 'goddamn': 0.03494937449499155, 'eatin': 0.03297222956203312, 'imagine': 0.03297222956203312, 'window': 0.03135678452648884, 'lane': 0.037498357642840215, 'happens': 0.03297222956203312, 'lessons': 0.03494937449499155, 'crime': 0.028807801378640186, 'loc': 0.10484812348497467, 'signs': 0.029990945210328617, 'slow': 0.028807801378640186, 'great': 0.027764194557986115, 'callin': 0.037498357642840215, 'fucked': 0.025986168500815563, 'brace': 0.037498357642840215, 'teach': 0.03494937449499155, 'pack': 0.026830656445681746, 'loose': 0.029990945210328617, 'bottle': 0.029990945210328617, 'instead': 0.03135678452648884, 'plain': 0.037498357642840215, 'fresh': 0.028807801378640186, 'plenty': 0.03494937449499155, 'leavin': 0.03494937449499155, 'somethin': 0.023238066477179024, 'safe': 0.03297222956203312, 'sayin': 0.026830656445681746, 'scratches': 0.037498357642840215, 'human': 0.03135678452648884, 'listen': 0.023849372093977243, 'pistol': 0.03494937449499155, 'doctor': 0.0698987489899831, 'aim': 0.027764194557986115, 'bang': 0.05366131289136349, 'bullets': 0.028807801378640186, 'grew': 0.029990945210328617, 'reality': 0.03297222956203312, 'punk': 0.05552838911597223, 'pre': 0.03297222956203312, 'crowd': 0.025215211410137463, 'ugly': 0.028807801378640186, 'suggest': 0.037498357642840215, 'cool': 0.023849372093977243, 'lunch': 0.03297222956203312, 'obviously': 0.03494937449499155, 'children': 0.027764194557986115, 'shut': 0.027764194557986115, 'foot': 0.03297222956203312, 'bird': 0.027764194557986115, 'brains': 0.03297222956203312, 'packed': 0.029990945210328617, 'seat': 0.06271356905297767, 'eat': 0.023849372093977243, 'warriors': 0.037498357642840215, 'euphoria': 0.037498357642840215, 'eye': 0.024505999636080123, 'hostage': 0.037498357642840215, 'belly': 0.03135678452648884, 'aw': 0.029990945210328617, 'momma': 0.059981890420657234, 'compton': 0.22499014585704127, 'probably': 0.07564563423041239, 'enemy': 0.03135678452648884, 'walkin': 0.029990945210328617, 'ayy': 0.027764194557986115, 'mouth': 0.03135678452648884, 'lamar': 0.20165460965048132, 'kendrick': 0.24147590801113572, 'martin': 0.03297222956203312, 'terrace': 0.037498357642840215, 'sounwave': 0.03494937449499155, 'struck': 0.028807801378640186, 'rough': 0.03494937449499155, 'boy': 0.026830656445681746, 'tape': 0.025986168500815563, 'duck': 0.03297222956203312, 'hang': 0.03135678452648884, 'crash': 0.028807801378640186, 'promise': 0.037498357642840215, 'generation': 0.037498357642840215, 'trip': 0.10484812348497467, 'crooked': 0.03297222956203312, 'cousin': 0.029990945210328617, 'weed': 0.027764194557986115, 'rules': 0.03135678452648884, 'dreams': 0.027764194557986115, 'stay': 0.04228712662183969, 'car': 0.025215211410137463, 'thrown': 0.03494937449499155, 'dial': 0.03494937449499155, 'blunt': 0.03297222956203312, 'stage': 0.03135678452648884, 'threat': 0.03297222956203312, 'kill': 0.020689083329330372, 'wind': 0.028807801378640186, 'blown': 0.037498357642840215, 'ran': 0.027764194557986115, 'pole': 0.037498357642840215, 'did': 0.020256782125474524, 'livin': 0.024505999636080123, 'robbery': 0.037498357642840215, 'white': 0.023849372093977243, 'die': 0.025986168500815563, 'simple': 0.03135678452648884, 'dead': 0.022666228262288816, 'hop': 0.023849372093977243, 'hell': 0.022129068827786022, 'deal': 0.025215211410137463, 'free': 0.026830656445681746, 'heads': 0.027764194557986115, 'wall': 0.027764194557986115, 'shots': 0.04769874418795449, 'flip': 0.025986168500815563, 'room': 0.025215211410137463, 'good': 0.018711938396371936, 'hood': 0.14703599781648072, 'took': 0.02162262144163474, 'pain': 0.023849372093977243, 'fuckin': 0.06486786432490423, 'city': 0.1359973695737329, 'said': 0.03419298672165531, 'left': 0.020689083329330372, 'damn': 0.022129068827786022, 'grab': 0.027764194557986115, 'lookin': 0.026830656445681746, 'whip': 0.03135678452648884, 'comin': 0.026830656445681746, 'sleep': 0.04228712662183969, 'hear': 0.04228712662183969, 'turn': 0.019450734228224725, 'light': 0.04647613295435805, 'smoke': 0.06971419943153707, 'peace': 0.022129068827786022, 'hey': 0.026830656445681746, 'inside': 0.021143563310919846, 'follow': 0.03494937449499155, 'fine': 0.03297222956203312, 'dick': 0.022666228262288816, 'doin': 0.025215211410137463, 'interlude': 0.025215211410137463, 'couple': 0.05366131289136349, 'body': 0.022129068827786022, 'door': 0.026830656445681746, 'dance': 0.028807801378640186, 'pass': 0.05043042282027493, 'wonder': 0.03135678452648884, 'maybe': 0.022666228262288816, 'dot': 0.059981890420657234, 'song': 0.05043042282027493, 'end': 0.04647613295435805, 'uh': 0.024505999636080123, 'huh': 0.051972337001631126, 'sure': 0.04533245652457763, 'check': 0.020689083329330372, 'bridge': 0.02162262144163474, 'broke': 0.05043042282027493, 'told': 0.01907363829378609, 'hope': 0.023849372093977243, 'head': 0.03742387679274387, 'seen': 0.07351799890824036, 'killed': 0.08329258367395835, 'thought': 0.024505999636080123, 'high': 0.01836442651972875, 'hand': 0.04647613295435805, 'stand': 0.05366131289136349, 'bitch': 0.01739687524827292, 'ass': 0.020256782125474524, 'word': 0.020689083329330372, '94': 0.037498357642840215, 'gang': 0.027764194557986115, 'living': 0.025215211410137463, 'everybody': 0.022666228262288816, 'outro': 0.017707798977625876, 'projects': 0.05552838911597223, 'brain': 0.024505999636080123, 'live': 0.018711938396371936, 'hit': 0.05409009441939605, 'gun': 0.04533245652457763, 'grand': 0.029990945210328617, 'cocaine': 0.08642340413592056, 'different': 0.03494937449499155, 'block': 0.04769874418795449, 'wake': 0.027764194557986115, 'mc': 0.07351799890824036, 'rap': 0.019450734228224725, 'crew': 0.024505999636080123, 'stress': 0.03297222956203312, 'school': 0.05366131289136349, 'nigga': 0.2957468792206396, 'crack': 0.023849372093977243, 'friends': 0.022666228262288816, 'guess': 0.021143563310919846, 'marijuana': 0.03494937449499155, 'tec': 0.03135678452648884, 'street': 0.11619033238589511, 'backwards': 0.03494937449499155, 'believe': 0.025215211410137463, 'run': 0.03890146845644945, 'hold': 0.01984459538446419, 'drink': 0.029990945210328617, 'watch': 0.020689083329330372, 'niggas': 0.06958750099309167, 'll': 0.03047656397292274, 'guns': 0.027764194557986115, 'day': 0.017707798977625876, 'real': 0.03890146845644945, 'straight': 0.02162262144163474, 'chorus': 0.03361192370939022, 'produced': 0.041378166658660745}, {'disobedient': 0.066198645862921, 'regency': 0.066198645862921, 'paupers': 0.066198645862921, 'coffee': 0.066198645862921, 'offin': 0.066198645862921, 'weasel': 0.066198645862921, 'divas': 0.066198645862921, 'medium': 0.066198645862921, 'grata': 0.066198645862921, 'non': 0.060410884692138365, 'persona': 0.066198645862921, 'voluntarily': 0.066198645862921, 'comedy': 0.066198645862921, 'melodrama': 0.066198645862921, 'compelling': 0.066198645862921, 'mollies': 0.066198645862921, 'rama': 0.066198645862921, 'whistle': 0.066198645862921, 'disillusionment': 0.066198645862921, 'gazelle': 0.066198645862921, 'infant': 0.066198645862921, 'wobble': 0.066198645862921, 'miniature': 0.060410884692138365, 'hobby': 0.066198645862921, 'notably': 0.066198645862921, 'probity': 0.066198645862921, 'corrode': 0.060410884692138365, 'gross': 0.05630440278982255, 'jokey': 0.066198645862921, 'braggadocio': 0.066198645862921, 'emotional': 0.066198645862921, 'exploding': 0.066198645862921, 'insecurities': 0.066198645862921, 'expose': 0.066198645862921, 'sabers': 0.066198645862921, 'unfair': 0.066198645862921, 'bark': 0.066198645862921, 'sorcery': 0.066198645862921, 'manticore': 0.066198645862921, 'remarks': 0.066198645862921, 'sordid': 0.066198645862921, 'parts': 0.066198645862921, 'cooler': 0.066198645862921, 'source': 0.1126088055796451, 'maggot': 0.066198645862921, 'surfing': 0.066198645862921, 'dirge': 0.066198645862921, 'piano': 0.066198645862921, 'tower': 0.066198645862921, 'ivory': 0.060410884692138365, 'almighty': 0.066198645862921, 'baffling': 0.066198645862921, 'pageantry': 0.066198645862921, 'posturing': 0.066198645862921, 'fantasy': 0.066198645862921, 'obnoxious': 0.05630440278982255, 'mess': 0.060410884692138365, 'cogs': 0.066198645862921, 'patronize': 0.066198645862921, 'pedestal': 0.066198645862921, 'ascend': 0.066198645862921, 'flaws': 0.066198645862921, 'imperfections': 0.066198645862921, 'fog': 0.066198645862921, 'impregnable': 0.066198645862921, 'echolocation': 0.066198645862921, 'quest': 0.066198645862921, 'weirdos': 0.066198645862921, 'naive': 0.066198645862921, 'sentimentalize': 0.066198645862921, 'community': 0.066198645862921, 'fugitive': 0.066198645862921, 'tee': 0.19859593758876298, 'involves': 0.066198645862921, 'spectrum': 0.066198645862921, 'measure': 0.066198645862921, 'haunts': 0.066198645862921, 'identical': 0.060410884692138365, 'defendants': 0.066198645862921, 'ostensibly': 0.066198645862921, 'dorks': 0.19859593758876298, 'delusion': 0.066198645862921, 'vinci': 0.060410884692138365, 'sketching': 0.066198645862921, 'convinced': 0.066198645862921, 'separately': 0.066198645862921, 'pants': 0.05051664161903992, 'skippies': 0.066198645862921, 'flimsy': 0.066198645862921, 'miserable': 0.066198645862921, 'sycophants': 0.066198645862921, 'jealous': 0.066198645862921, 'jellyfish': 0.066198645862921, 'jumping': 0.066198645862921, 'theatre': 0.066198645862921, 'seasoned': 0.066198645862921, 'akin': 0.066198645862921, 'mingling': 0.066198645862921, 'ducks': 0.066198645862921, 'popular': 0.060410884692138365, 'occupation': 0.066198645862921, 'flux': 0.066198645862921, 'lima': 0.066198645862921, 'stockholm': 0.066198645862921, 'imposed': 0.066198645862921, 'steep': 0.066198645862921, 'crutch': 0.066198645862921, 'tedious': 0.066198645862921, 'routine': 0.066198645862921, 'comfortably': 0.066198645862921, 'waste': 0.05630440278982255, 'hazardous': 0.066198645862921, 'ballast': 0.066198645862921, 'jettison': 0.066198645862921, 'albatross': 0.066198645862921, 'corpse': 0.066198645862921, 'neighbors': 0.066198645862921, 'apartment': 0.066198645862921, 'funny': 0.05630440278982255, 'menacing': 0.060410884692138365, 'floss': 0.05630440278982255, 'faced': 0.05630440278982255, 'tea': 0.060410884692138365, 'root': 0.05630440278982255, 'saga': 0.060410884692138365, 'job': 0.05051664161903992, 'pissy': 0.060410884692138365, 'difficult': 0.1126088055796451, 'beach': 0.053119167966947496, 'leaders': 0.060410884692138365, 'bunch': 0.05630440278982255, 'demons': 0.060410884692138365, 'ate': 0.053119167966947496, 'belong': 0.060410884692138365, 'smooth': 0.16891320836946766, 'communication': 0.060410884692138365, 'play': 0.03483463737515884, 'somebody': 0.043224924893849055, 'lesson': 0.05630440278982255, 'kane': 0.060410884692138365, 'rat': 0.053119167966947496, 'daddy': 0.046410159716724124, 'load': 0.053119167966947496, 'piranha': 0.05630440278982255, 'cares': 0.060410884692138365, 'odd': 0.060410884692138365, 'bell': 0.05051664161903992, 'art': 0.044728880448257284, 'pile': 0.05630440278982255, 'poker': 0.060410884692138365, 'think': 0.06666136364150123, 'cage': 0.060410884692138365, 'homie': 0.053119167966947496, 'keys': 0.053119167966947496, 'heroes': 0.060410884692138365, 'queen': 0.060410884692138365, 'momma': 0.048316236944722174, 'wouldn': 0.044728880448257284, 'smell': 0.05051664161903992, 'question': 0.05051664161903992, 'numb': 0.05630440278982255, 'cat': 0.05051664161903992, 'sweet': 0.15154992485711974, 'camp': 0.05630440278982255, 'chain': 0.046410159716724124, 'impressed': 0.060410884692138365, 'rest': 0.053119167966947496, 'hang': 0.05051664161903992, 'breed': 0.053119167966947496, 'tempest': 0.060410884692138365, 'view': 0.053119167966947496, 'scene': 0.046410159716724124, 'pill': 0.048316236944722174, 'means': 0.048316236944722174, 'meant': 0.05051664161903992, 'help': 0.13418664134477187, 'step': 0.05051664161903992, 'wanna': 0.0326342327008411, 'rattling': 0.060410884692138365, 'shop': 0.05630440278982255, 'threat': 0.053119167966947496, 'bear': 0.053119167966947496, 'code': 0.048316236944722174, 'heavy': 0.048316236944722174, 'learn': 0.048316236944722174, 'prison': 0.053119167966947496, 'hell': 0.035650538032431005, 'fuckin': 0.06966927475031769, 'hands': 0.04062239854594148, 'died': 0.046410159716724124, 'da': 0.048316236944722174, 'trying': 0.03947983888738359, 'round': 0.046410159716724124, 'breathe': 0.04186443160645964, 'feel': 0.028527750798525306, 'truly': 0.1126088055796451, 'stuffed': 0.05630440278982255, 'party': 0.12967477468154714, 'couple': 0.043224924893849055, 'maybe': 0.10954774993087706, 'sample': 0.14494871083416652, 'self': 0.048316236944722174, 'lost': 0.03743716372306642, 'takes': 0.048316236944722174, 'songs': 0.053119167966947496, 'rappers': 0.04186443160645964, 'lot': 0.03651591664362568, 'kid': 0.03483463737515884, 'fucking': 0.03947983888738359, 'ghost': 0.043224924893849055, 'way': 0.026182427362578562, 'chop': 0.060410884692138365, 'god': 0.026621673570527245, 'need': 0.11017168259987192, 'black': 0.026621673570527245, 'used': 0.07303183328725137, 'sell': 0.043224924893849055, 'turned': 0.04186443160645964, 'dress': 0.05051664161903992, 'believe': 0.04062239854594148, 'til': 0.03406286156110597, 'little': 0.03133566738657072, 'face': 0.030145446997875556, 'mad': 0.03406286156110597, 'corners': 0.048316236944722174, 'll': 0.07364787317554757}, {'increase': 0.04834551132528394, 'clubs': 0.04834551132528394, 'attract': 0.04834551132528394, 'glocks': 0.04834551132528394, 'unstoppable': 0.04834551132528394, 'punchlines': 0.04834551132528394, 'topic': 0.04834551132528394, 'received': 0.04834551132528394, 'microscopic': 0.04834551132528394, 'beatbox': 0.04411865336493346, 'sheet': 0.04834551132528394, 'materials': 0.04834551132528394, 'basements': 0.04834551132528394, 'replacements': 0.04834551132528394, 'tracements': 0.04834551132528394, 'draftin': 0.04834551132528394, 'renovate': 0.04834551132528394, 'site': 0.04834551132528394, 'construct': 0.04834551132528394, 'narrow': 0.04834551132528394, 'subliminal': 0.04834551132528394, 'knives': 0.04834551132528394, 'vibes': 0.04834551132528394, 'dive': 0.041119649915126, 'getaway': 0.04834551132528394, 'survivor': 0.04834551132528394, 'sole': 0.04834551132528394, 'fleeing': 0.04834551132528394, 'robbers': 0.04834551132528394, 'harbor': 0.04834551132528394, 'pearl': 0.04834551132528394, 'japs': 0.04834551132528394, 'saws': 0.04834551132528394, 'ants': 0.04834551132528394, 'elephants': 0.04834551132528394, 'unbalanced': 0.04834551132528394, 'keyboards': 0.04834551132528394, 'strictly': 0.04411865336493346, 'swingin': 0.04834551132528394, 'singin': 0.04834551132528394, 'stingin': 0.04834551132528394, 'bees': 0.04834551132528394, 'celeb': 0.04834551132528394, 'trucks': 0.04834551132528394, 'cemeteries': 0.04834551132528394, 'preliminary': 0.04834551132528394, 'demonstrate': 0.04834551132528394, 'mcin': 0.04834551132528394, 'inverted': 0.04834551132528394, 'strangle': 0.04834551132528394, 'massive': 0.04834551132528394, 'spikes': 0.04834551132528394, 'flying': 0.04411865336493346, 'flashbacks': 0.04834551132528394, 'strike': 0.041119649915126, 'tampered': 0.04834551132528394, 'harm': 0.04834551132528394, 'ditties': 0.04834551132528394, 'parable': 0.04834551132528394, 'necessary': 0.04834551132528394, 'military': 0.04834551132528394, 'bind': 0.04834551132528394, 'hillsides': 0.04834551132528394, 'unleaded': 0.04834551132528394, 'gassed': 0.04834551132528394, 'beheaded': 0.04834551132528394, 'guillotine': 0.04834551132528394, 'edged': 0.04834551132528394, 'chevy': 0.04834551132528394, 'vehicle': 0.04834551132528394, 'hearin': 0.19338204530113576, 'crop': 0.04834551132528394, 'fathers': 0.04834551132528394, 'sorcerers': 0.04834551132528394, 'ranch': 0.04834551132528394, 'capital': 0.04834551132528394, 'soo': 0.04834551132528394, 'gamble': 0.04411865336493346, 'father': 0.03689279195477551, 'station': 0.041119649915126, 'boxes': 0.04411865336493346, 'shatter': 0.13235596009480038, 'armed': 0.04411865336493346, 'tropical': 0.04411865336493346, 'glass': 0.11067837586432651, 'roll': 0.03528581513952888, 'played': 0.03689279195477551, 'gross': 0.041119649915126, 'obnoxious': 0.041119649915126, 'vocal': 0.04411865336493346, 'scope': 0.041119649915126, 'marks': 0.041119649915126, 'angle': 0.04411865336493346, 'minded': 0.04411865336493346, 'heavily': 0.04411865336493346, 'duel': 0.04411865336493346, 'givin': 0.04411865336493346, 'date': 0.041119649915126, 'gate': 0.03879344211743374, 'dip': 0.04411865336493346, 'driver': 0.041119649915126, 'major': 0.04411865336493346, 'bombs': 0.041119649915126, 'raise': 0.23276065270460244, 'today': 0.1764290756976444, 'statement': 0.04411865336493346, 'religious': 0.04411865336493346, 'tangled': 0.041119649915126, 'ropes': 0.041119649915126, 'shout': 0.03689279195477551, 'double': 0.03689279195477551, 'combination': 0.04411865336493346, 'tapes': 0.041119649915126, 'criminal': 0.03879344211743374, 'thoughts': 0.03156758070727579, 'caught': 0.027340722746925304, 'proof': 0.03689279195477551, 'sounds': 0.03689279195477551, 'powerful': 0.03879344211743374, 'socialize': 0.04411865336493346, 'gunned': 0.04411865336493346, 'stabbed': 0.041119649915126, 'chased': 0.03879344211743374, 'handle': 0.11638032635230122, 'luck': 0.03528581513952888, 'somethin': 0.027340722746925304, 'sayin': 0.03156758070727579, 'optics': 0.04411865336493346, 'iron': 0.032665933994425016, 'punk': 0.09799780198327507, 'commercial': 0.04411865336493346, 'tried': 0.02883250817551043, 'regular': 0.03879344211743374, 'alright': 0.20336273102980834, 'bank': 0.03528581513952888, 'ok': 0.12335894974537799, 'shut': 0.032665933994425016, 'fatal': 0.03689279195477551, 'packed': 0.03528581513952888, 'think': 0.02434171929711785, 'based': 0.04411865336493346, 'bet': 0.032665933994425016, 'talkin': 0.030573999301250404, 'struck': 0.033893788504968055, 'bad': 0.028059953729370934, 'weight': 0.03528581513952888, 'look': 0.022884740960710928, 'slang': 0.13557515401987222, 'microphone': 0.03879344211743374, 'lyrical': 0.03689279195477551, 'motherfuckin': 0.03528581513952888, 'gza': 0.1694689425248403, 'web': 0.03879344211743374, 'labels': 0.04411865336493346, 'okay': 0.08900079163385267, 'spangled': 0.04411865336493346, 'cousin': 0.03528581513952888, 'scene': 0.033893788504968055, 'place': 0.027340722746925304, 'rules': 0.07378558390955102, 'define': 0.04411865336493346, 'method': 0.08823730672986692, 'heard': 0.02666792709481011, 'murderous': 0.041119649915126, 'tracks': 0.03689279195477551, 'holds': 0.04411865336493346, 'swords': 0.041119649915126, 'cords': 0.04411865336493346, 'rza': 0.06778757700993611, 'mic': 0.025440072584267073, 'tang': 0.21171489083717326, 'wu': 0.22097306495093055, 'women': 0.11067837586432651, 'livin': 0.11533003270204172, 'cream': 0.032665933994425016, 'heavy': 0.03528581513952888, 'mcs': 0.11067837586432651, 'set': 0.027340722746925304, 'hop': 0.028059953729370934, 'hip': 0.03156758070727579, 'best': 0.028059953729370934, 'heads': 0.032665933994425016, 'point': 0.033893788504968055, 'style': 0.02966693054461756, 'shots': 0.028059953729370934, 'fuckin': 0.025440072584267073, 'hands': 0.17800158326770535, 'throw': 0.02883250817551043, 'jaw': 0.12335894974537799, 'gonna': 0.022441069134459615, 'hook': 0.06604653449827677, 'world': 0.12280965198881325, 'ring': 0.030573999301250404, 'sleep': 0.02487643724290169, 'sharp': 0.033893788504968055, 'hard': 0.025440072584267073, 'flavor': 0.04411865336493346, 'peace': 0.026035932725396508, 'king': 0.02487643724290169, 'star': 0.033893788504968055, 'attack': 0.06313516141455158, 'try': 0.023833095769020443, 'huh': 0.030573999301250404, 'sure': 0.08000378128443034, 'check': 0.07302515789135354, 'bridge': 0.025440072584267073, 'bout': 0.02883250817551043, 'old': 0.02121321462391658, 'rhyme': 0.02966693054461756, 'pipe': 0.03689279195477551, 'sound': 0.07632021775280122, 'rappers': 0.030573999301250404, 'cash': 0.05333585418962022, 'right': 0.017928584692726235, 'lot': 0.02666792709481011, 'way': 0.0573638397922259, 'live': 0.022015511499425593, 'rock': 0.023833095769020443, 'son': 0.07462931172870507, 'god': 0.038884131369304326, 'cops': 0.030573999301250404, 'mc': 0.02883250817551043, 'stacks': 0.033893788504968055, 'fat': 0.030573999301250404, 'rap': 0.022884740960710928, 'crew': 0.02883250817551043, 'school': 0.03156758070727579, 'razor': 0.03528581513952888, 'raps': 0.032665933994425016, 'nigga': 0.04093655066293774, 'love': 0.0555236535645622, 'police': 0.032665933994425016, 'run': 0.022884740960710928, 'clap': 0.13235596009480038, 'break': 0.07004441367327738, 'mad': 0.07462931172870507, 'spot': 0.06114799860250081, 'niggas': 0.2251510286461576, 'blast': 0.20559824957563, 'dj': 0.033893788504968055}, {'bob': 0.039721134636136246, 'kool': 0.04210297053623648, 'com': 0.04950162861525131, 'hairline': 0.04950162861525131, 'dot': 0.07225925503904522, 'www': 0.04950162861525131, 'tricked': 0.09900325723050261, 'song': 0.030376374925340364, 'dawn': 0.04517369108337002, 'yes': 0.11808799391093681, 'biscuits': 0.04950162861525131, 'sauce': 0.04517369108337002, 'apple': 0.04210297053623648, 'potatoes': 0.04950162861525131, 'mashed': 0.04950162861525131, 'woo': 0.06940862491444333, 'records': 0.04210297053623648, 'end': 0.027994539025240132, 'posed': 0.04950162861525131, '1999': 0.04950162861525131, 'recordings': 0.04950162861525131, 'fondle': 0.04950162861525131, 'status': 0.04517369108337002, 'regulation': 0.04950162861525131, 'wee': 0.04210297053623648, 'hoo': 0.04210297053623648, 'eh': 0.04517369108337002, 'ah': 0.11332509901306556, 'nugget': 0.04950162861525131, 'house': 0.03130513500023596, 'shocking': 0.04517369108337002, 'doom': 0.07225925503904522, 'mf': 0.09034738216674004, 'lakes': 0.04517369108337002, 'land': 0.039721134636136246, 'slickness': 0.04950162861525131, 'buttery': 0.09034738216674004, 'listening': 0.09900325723050261, 'uh': 0.20665398934413945, 'ha': 0.33997529703919666, 'huh': 0.03130513500023596, 'shot': 0.02730565437820684, 'sure': 0.02730565437820684, 'ya': 0.023906476921221137, 'check': 0.0249238184781066, 'slice': 0.04950162861525131, 'cucumber': 0.04950162861525131, 'pay': 0.034704312457221664, 'wants': 0.039721134636136246, 'debts': 0.04517369108337002, 'sweetest': 0.04517369108337002, 'owes': 0.04950162861525131, 'reflect': 0.04950162861525131, 'tonight': 0.04517369108337002, 'arms': 0.03612962751952261, 'sample': 0.03612962751952261, 'bridge': 0.026048437393459068, 'broke': 0.030376374925340364, 'bout': 0.029521998477734204, 'tell': 0.02172049986157777, 'logical': 0.04950162861525131, 'feeling': 0.03232247655712143, 'destruct': 0.04517369108337002, 'self': 0.03612962751952261, 'attitude': 0.04517369108337002, 'buck': 0.039721134636136246, 'healthy': 0.04950162861525131, 'earn': 0.039721134636136246, 'america': 0.033447095472473896, 'gack': 0.04950162861525131, 'want': 0.022541982578006367, 'bag': 0.03777503300435519, 'credit': 0.04950162861525131, 'told': 0.02297771684632554, 'motorola': 0.04517369108337002, 'erase': 0.04950162861525131, 'wish': 0.03232247655712143, 'cola': 0.04950162861525131, 'coca': 0.04950162861525131, 'chase': 0.03612962751952261, 'taste': 0.03232247655712143, 'old': 0.04344099972315554, 'nasty': 0.03777503300435519, 'heaven': 0.04210297053623648, 'soul': 0.027994539025240132, 'hope': 0.02873096944050778, 'rhyme': 0.030376374925340364, 'telling': 0.03612962751952261, 'heart': 0.026658546721176422, 'clementine': 0.04950162861525131, 'darling': 0.04950162861525131, 'forever': 0.034704312457221664, 'lost': 0.055989078050480263, 'gone': 0.03232247655712143, 'thanks': 0.03777503300435519, 'really': 0.026658546721176422, 'kind': 0.04210297053623648, 'oh': 0.09191086738530216, 'blanks': 0.04517369108337002, 'billy': 0.04517369108337002, 'tae': 0.04517369108337002, 'practice': 0.04517369108337002, 'flow': 0.03232247655712143, 'dro': 0.04950162861525131, 'mo': 0.04517369108337002, 'bottles': 0.03777503300435519, 'battle': 0.03612962751952261, 'dough': 0.034704312457221664, 'toe': 0.04517369108337002, 'head': 0.022541982578006367, 'jet': 0.03612962751952261, 'gots': 0.04950162861525131, 'wet': 0.03232247655712143, 'connects': 0.04950162861525131, 'setbacks': 0.04950162861525131, 'suffer': 0.04210297053623648, 'surrender': 0.04950162861525131, 'takes': 0.03612962751952261, 'matters': 0.04210297053623648, 'songs': 0.039721134636136246, 'money': 0.04595543369265108, 'krill': 0.09900325723050261, 'thing': 0.0498476369562132, 'dunny': 0.09900325723050261, 'seen': 0.05904399695546841, 'write': 0.05904399695546841, 'friend': 0.06261027000047192, 'lent': 0.09900325723050261, 'gentleman': 0.09900325723050261, 'pipe': 0.07555006600871038, 'fiend': 0.07555006600871038, 'pen': 0.11197815610096053, 'juice': 0.07555006600871038, 'filtered': 0.09900325723050261, 'water': 0.06075274985068073, 'brita': 0.09900325723050261, 'pure': 0.09034738216674004, 'power': 0.06261027000047192, 'goose': 0.09900325723050261, 'killed': 0.06689419094494779, 'thought': 0.11808799391093681, 'shitter': 0.09900325723050261, 'slit': 0.09034738216674004, 'clock': 0.07225925503904522, 'biological': 0.09900325723050261, 'shocks': 0.09900325723050261, 'spock': 0.09900325723050261, 'logic': 0.04517369108337002, 'blocks': 0.07555006600871038, 'field': 0.04517369108337002, 'electromagnetic': 0.09900325723050261, 'saying': 0.06689419094494779, 'stayed': 0.09034738216674004, 'laying': 0.08420594107247296, 'years': 0.06261027000047192, 'came': 0.052096874786918136, 'spades': 0.08420594107247296, 'joker': 0.09900325723050261, 'high': 0.04424668079743876, 'ho': 0.05904399695546841, 'tally': 0.09900325723050261, 'alamo': 0.09900325723050261, 'remember': 0.06464495311424286, 'talent': 0.08420594107247296, 'sound': 0.052096874786918136, 'chapstick': 0.09900325723050261, 'rappers': 0.06261027000047192, 'slapstick': 0.09900325723050261, 'classical': 0.09900325723050261, 'trick': 0.08420594107247296, 'happy': 0.08420594107247296, 'joking': 0.09900325723050261, 'times': 0.11492387776203113, 'broker': 0.14850488584575391, 'brag': 0.14850488584575391, 'cash': 0.10922261751282736, 'dimes': 0.15888453854454498, 'rhymes': 0.20665398934413945, 'strange': 0.04517369108337002, 'dangerous': 0.03612962751952261, 'range': 0.033447095472473896, 'close': 0.03130513500023596, 'eardrum': 0.04517369108337002, 'burst': 0.04950162861525131, 'loud': 0.03232247655712143, 'nightmare': 0.04517369108337002, 'worst': 0.04517369108337002, 'hand': 0.027994539025240132, 'right': 0.07342928985361816, 'stand': 0.03232247655712143, 'lot': 0.08191696313462052, 'outro': 0.021332311361492964, 'stop': 0.04880606381725298, 'way': 0.019578539389339844, 'bo': 0.039721134636136246, 'rock': 0.02440303190862649, 'hit': 0.04344099972315554, 'need': 0.041191761892450614, 'stacks': 0.034704312457221664, 'fly': 0.03130513500023596, 'black': 0.019906996299192015, 'game': 0.06637002119615813, 'sell': 0.1292899062284857, 'love': 0.018950475461392727, 'hold': 0.023906476921221137, 'come': 0.03729955862888849, 'break': 0.023906476921221137, 'better': 0.04266462272298593, 'll': 0.01835732246340454, 'chorus': 0.08098352854958739}, {'cleaners': 0.045616780205680475, 'ironin': 0.045616780205680475, 'ringer': 0.045616780205680475, 'puttin': 0.04162849576618796, 'sesh': 0.045616780205680475, 'counseling': 0.045616780205680475, 'givin': 0.04162849576618796, 'pannin': 0.045616780205680475, 'penis': 0.04162849576618796, 'mouthful': 0.045616780205680475, 'journalist': 0.045616780205680475, 'meaty': 0.045616780205680475, 'journalists': 0.045616780205680475, 'media': 0.09123356041136095, 'lyricists': 0.045616780205680475, 'linked': 0.045616780205680475, 'hurtin': 0.04162849576618796, 'agent': 0.045616780205680475, 'lyrically': 0.04162849576618796, 'knows': 0.04162849576618796, 'scurred': 0.045616780205680475, 'verses': 0.045616780205680475, 'deserted': 0.04162849576618796, 'serpent': 0.045616780205680475, 'empathize': 0.045616780205680475, 'reword': 0.045616780205680475, 'worshipped': 0.04162849576618796, 'critiqued': 0.045616780205680475, 'determined': 0.09123356041136095, 'verdict': 0.045616780205680475, 'reached': 0.045616780205680475, 'public': 0.03879876292324671, 'thirds': 0.045616780205680475, 'startin': 0.045616780205680475, 'worthless': 0.045616780205680475, 'turning': 0.04162849576618796, 'sand': 0.04162849576618796, 'burden': 0.045616780205680475, 'preach': 0.04162849576618796, 'invite': 0.045616780205680475, 'slaughterhouse': 0.045616780205680475, 'underway': 0.045616780205680475, '2018': 0.045616780205680475, 'donkey': 0.045616780205680475, 'charlamagne': 0.045616780205680475, 'dang': 0.04162849576618796, 'dookie': 0.045616780205680475, 'gucci': 0.04162849576618796, 'pootie': 0.045616780205680475, 'peach': 0.045616780205680475, 'olive': 0.04162849576618796, 'date': 0.03879876292324671, 'dawg': 0.045616780205680475, 'pink': 0.045616780205680475, 'aquamarine': 0.045616780205680475, 'engine': 0.045616780205680475, 'colorblind': 0.045616780205680475, 'reach': 0.045616780205680475, 'orange': 0.08325699153237592, 'sneeze': 0.045616780205680475, 'nod': 0.045616780205680475, 'doze': 0.045616780205680475, 'blink': 0.04162849576618796, 'wink': 0.045616780205680475, 'slippin': 0.04162849576618796, 'deceased': 0.045616780205680475, 'cease': 0.04162849576618796, 'enemies': 0.045616780205680475, 'beefs': 0.045616780205680475, 'malt': 0.045616780205680475, 'alcoholic': 0.045616780205680475, 'forties': 0.045616780205680475, 'flawless': 0.045616780205680475, 'regardless': 0.03879876292324671, 'harder': 0.03879876292324671, 'expertise': 0.045616780205680475, 'smartest': 0.045616780205680475, 'woulda': 0.04162849576618796, 'tuned': 0.045616780205680475, 'vocals': 0.04162849576618796, 'slider': 0.045616780205680475, 'serve': 0.045616780205680475, 'revival': 0.045616780205680475, 'porterhouse': 0.045616780205680475, 'mcdonald': 0.045616780205680475, 'pounder': 0.045616780205680475, 'whopper': 0.045616780205680475, 'expect': 0.045616780205680475, 'bk': 0.045616780205680475, 'goner': 0.045616780205680475, 'sean': 0.04162849576618796, 'cole': 0.045616780205680475, 'dump': 0.045616780205680475, 'crumble': 0.045616780205680475, 'pummel': 0.045616780205680475, 'jumbo': 0.045616780205680475, 'mumbo': 0.045616780205680475, 'jumbled': 0.045616780205680475, 'mumblin': 0.045616780205680475, 'rumble': 0.045616780205680475, 'rumblings': 0.045616780205680475, 'wayne': 0.045616780205680475, 'imitate': 0.045616780205680475, 'xan': 0.045616780205680475, 'azae': 0.045616780205680475, 'igg': 0.045616780205680475, 'mgk': 0.045616780205680475, 'wang': 0.045616780205680475, 'nfing': 0.045616780205680475, 'clone': 0.045616780205680475, 'recovery': 0.04162849576618796, 'effing': 0.045616780205680475, 'especially': 0.036603851608603695, 'oooouuu': 0.045616780205680475, 'mathers': 0.03879876292324671, 'mailed': 0.09123356041136095, 'ooouuu': 0.045616780205680475, 'sucks': 0.045616780205680475, 'sourpuss': 0.045616780205680475, 'caliber': 0.04162849576618796, 'valium': 0.045616780205680475, 'nightstick': 0.045616780205680475, 'club': 0.03879876292324671, 'upside': 0.045616780205680475, 'bashed': 0.045616780205680475, 'thames': 0.045616780205680475, 'polarize': 0.045616780205680475, 'icy': 0.045616780205680475, 'christ': 0.03879876292324671, 'tenths': 0.045616780205680475, 'strip': 0.045616780205680475, 'sidekick': 0.045616780205680475, 'pence': 0.045616780205680475, 'president': 0.04162849576618796, 'vice': 0.045616780205680475, 'sack': 0.04162849576618796, 'wrench': 0.045616780205680475, 'fence': 0.04162849576618796, 'spike': 0.09123356041136095, 'vise': 0.045616780205680475, 'ice': 0.06962095696750839, 'whitestrip': 0.045616780205680475, 'crest': 0.045616780205680475, 'spelled': 0.045616780205680475, 'possessed': 0.045616780205680475, 'possibly': 0.045616780205680475, 'preferably': 0.045616780205680475, 'stir': 0.045616780205680475, 'syrup': 0.03879876292324671, 'tea': 0.04162849576618796, 'cup': 0.07759752584649342, 'emcee': 0.045616780205680475, 'simply': 0.04162849576618796, 'yachty': 0.045616780205680475, 'adiós': 0.045616780205680475, 'audi': 0.045616780205680475, 'copies': 0.045616780205680475, 'choppy': 0.045616780205680475, 'idea': 0.04162849576618796, 'listenin': 0.045616780205680475, 'renewed': 0.045616780205680475, 'misconstrued': 0.045616780205680475, 'fuse': 0.045616780205680475, 'lit': 0.04162849576618796, 'clicks': 0.045616780205680475, 'reviews': 0.045616780205680475, 'skim': 0.045616780205680475, 'cents': 0.045616780205680475, 'billions': 0.045616780205680475, 'views': 0.09123356041136095, 'millions': 0.045616780205680475, 'mention': 0.09123356041136095, 'opinion': 0.09123356041136095, 'par': 0.045616780205680475, 'sub': 0.03879876292324671, 'critiquin': 0.045616780205680475, 'kala': 0.045616780205680475, 'account': 0.045616780205680475, 'savage': 0.04162849576618796, 'staples': 0.045616780205680475, 'magazine': 0.03879876292324671, 'brrr': 0.045616780205680475, 'anger': 0.045616780205680475, 'issue': 0.045616780205680475, 'brows': 0.045616780205680475, 'alphabet': 0.045616780205680475, 'rape': 0.03879876292324671, 'mistake': 0.045616780205680475, 'allowed': 0.045616780205680475, 'mistakes': 0.03879876292324671, 'gate': 0.036603851608603695, 'greatness': 0.045616780205680475, 'explain': 0.04162849576618796, 'illa': 0.04162849576618796, 'actin': 0.036603851608603695, 'news': 0.036603851608603695, 'punch': 0.04162849576618796, 'pump': 0.04162849576618796, 'list': 0.03879876292324671, 'worth': 0.036603851608603695, 'isn': 0.03879876292324671, 'mouths': 0.03879876292324671, 'raise': 0.036603851608603695, 'missed': 0.04162849576618796, 'workin': 0.04162849576618796, 'bein': 0.036603851608603695, 'evil': 0.1248854872985639, 'lil': 0.15990372820406473, 'lean': 0.03879876292324671, 'joyner': 0.04162849576618796, 'line': 0.05957166865233985, 'audio': 0.04162849576618796, 'terrorists': 0.03879876292324671, 'press': 0.06962095696750839, 'burger': 0.03879876292324671, 'service': 0.03879876292324671, 'nervous': 0.036603851608603695, 'smash': 0.03879876292324671, 'shout': 0.034810478483754195, 'rumor': 0.04162849576618796, 'chicken': 0.03879876292324671, 'grip': 0.03879876292324671, 'study': 0.04162849576618796, 'doesn': 0.08325699153237592, 'retarded': 0.04162849576618796, 'shoulda': 0.034810478483754195, 'lay': 0.030822194044261675, 'finger': 0.07320770321720739, 'breath': 0.03198074564081294, 'ly': 0.03879876292324671, 'prob': 0.03879876292324671, 'thoughts': 0.029785834326169925, 'base': 0.03879876292324671, 'defeat': 0.08325699153237592, 'fact': 0.030822194044261675, 'caught': 0.05159509977335482, 'mirror': 0.034810478483754195, 'makin': 0.06962095696750839, 'plane': 0.036603851608603695, 'mean': 0.027992461201320425, 'eatin': 0.036603851608603695, 'thinkin': 0.030822194044261675, 'freeze': 0.04162849576618796, 'pretend': 0.03879876292324671, 'bucks': 0.03879876292324671, 'chick': 0.034810478483754195, 'number': 0.030822194044261675, 'attention': 0.034810478483754195, 'looks': 0.036603851608603695, 'nah': 0.036603851608603695, 'knowledge': 0.029785834326169925, 'stan': 0.03879876292324671, 'fan': 0.08325699153237592, 'dissin': 0.04162849576618796, 'album': 0.07759752584649342, 'garbage': 0.03879876292324671, 'lose': 0.06658840622319999, 'bottle': 0.06658840622319999, 'bought': 0.034810478483754195, 'skull': 0.03879876292324671, 'sayin': 0.029785834326169925, 'cypher': 0.04162849576618796, 'rise': 0.03198074564081294, 'jesus': 0.034810478483754195, 'answer': 0.03879876292324671, 'watchin': 0.034810478483754195, 'aim': 0.030822194044261675, 'bang': 0.08935750297850976, 'copy': 0.036603851608603695, 'ex': 0.033294203111599995, 'auto': 0.03879876292324671, 'flesh': 0.03879876292324671, 'week': 0.03879876292324671, 'tried': 0.027205135537223937, 'bank': 0.033294203111599995, 'wait': 0.025162728358379176, 'fingers': 0.036603851608603695, 'sorry': 0.029785834326169925, 'shut': 0.06164438808852335, 'paul': 0.036603851608603695, 'matter': 0.06164438808852335, 'person': 0.03198074564081294, 'artist': 0.034810478483754195, 'comes': 0.036603851608603695, 'flick': 0.04162849576618796, 'tip': 0.033294203111599995, 'spit': 0.028848332924847328, 'ask': 0.027205135537223937, 'bar': 0.033294203111599995, 'jaws': 0.04162849576618796, 'ball': 0.03879876292324671, 'liquor': 0.034810478483754195, 'order': 0.034810478483754195, 'shrink': 0.036603851608603695, 'think': 0.06890345113120847, 'feet': 0.036603851608603695, 'eat': 0.026476185829166228, 'purpose': 0.036603851608603695, 'bet': 0.06164438808852335, 'era': 0.04162849576618796, 'beast': 0.03879876292324671, 'aw': 0.033294203111599995, 'court': 0.030822194044261675, 'honest': 0.034810478483754195, 'probably': 0.027992461201320425, 'brown': 0.034810478483754195, 'talkin': 0.028848332924847328, 'kendrick': 0.029785834326169925, 'look': 0.02159307389355763, 'east': 0.033294203111599995, 'jam': 0.033294203111599995, 'bit': 0.028848332924847328, 'stomach': 0.03879876292324671, 'couldn': 0.027992461201320425, 'chain': 0.03198074564081294, 'pick': 0.05957166865233985, 'hang': 0.034810478483754195, 'crash': 0.03198074564081294, 'stick': 0.029785834326169925, 'death': 0.052952371658332456, 'meet': 0.03198074564081294, 'bleed': 0.036603851608603695, 'started': 0.030822194044261675, 'view': 0.036603851608603695, 'win': 0.07759752584649342, 'welcome': 0.03879876292324671, 'pill': 0.033294203111599995, 'mentally': 0.036603851608603695, 'help': 0.030822194044261675, 'pull': 0.027992461201320425, 'weak': 0.03198074564081294, 'lp': 0.03879876292324671, 'wanna': 0.08995160555869484, 'switch': 0.033294203111599995, 'stupid': 0.033294203111599995, 'music': 0.028848332924847328, 'heard': 0.1006509134335167, 'brought': 0.036603851608603695, 'thousand': 0.03198074564081294, 'split': 0.034810478483754195, 'mic': 0.02400417676182791, 'tang': 0.033294203111599995, 'secret': 0.033294203111599995, 'did': 0.02248790138967371, 'business': 0.034810478483754195, 'die': 0.028848332924847328, 'spell': 0.034810478483754195, 'longer': 0.08325699153237592, 'quarter': 0.034810478483754195, 'half': 0.027992461201320425, 'dead': 0.025162728358379176, 'dream': 0.028848332924847328, 'industry': 0.03879876292324671, 'ink': 0.03198074564081294, 'beats': 0.030822194044261675, 'beef': 0.06164438808852335, 'sold': 0.033294203111599995, 'took': 0.02400417676182791, 'fuckin': 0.12002088380913954, 'words': 0.028848332924847328, 'said': 0.05693859781273093, 'went': 0.0245664051951636, 'sent': 0.03198074564081294, 'gonna': 0.1905699952699799, 'walk': 0.027992461201320425, 'hungry': 0.034810478483754195, 'lookin': 0.029785834326169925, 'comin': 0.029785834326169925, 'world': 0.03862599821119933, 'beat': 0.026476185829166228, 'sleep': 0.02347235428692998, 'hear': 0.02347235428692998, 'eyes': 0.02248790138967371, 'turn': 0.08637229557423053, 'light': 0.02579754988667741, 'breathe': 0.028848332924847328, 'people': 0.08995160555869484, 'chill': 0.033294203111599995, 'things': 0.029785834326169925, 'feel': 0.03931633709346493, 'king': 0.02347235428692998, 'hate': 0.05598492240264085, 'dick': 0.025162728358379176, 'fed': 0.034810478483754195, 'shake': 0.03879876292324671, 'maybe': 0.1006509134335167, 'yes': 0.027205135537223937, 'apple': 0.03879876292324671, 'wee': 0.03879876292324671, 'sure': 0.025162728358379176, 'wants': 0.07320770321720739, 'bout': 0.10882054214889575, 'tell': 0.020015892322335388, 'want': 0.04154581145818629, 'old': 0.020015892322335388, 'rhyme': 0.027992461201320425, 'gone': 0.029785834326169925, 'really': 0.0245664051951636, 'oh': 0.06352333175665996, 'flow': 0.029785834326169925, 'head': 0.020772905729093145, 'takes': 0.033294203111599995, 'thing': 0.04593563408747232, 'write': 0.027205135537223937, 'pipe': 0.034810478483754195, 'water': 0.027992461201320425, 'killed': 0.030822194044261675, 'talent': 0.07759752584649342, 'times': 0.026476185829166228, 'close': 0.028848332924847328, 'loud': 0.029785834326169925, 'right': 0.03383330881844662, 'bring': 0.02248790138967371, 'motherfucker': 0.028848332924847328, 'bitch': 0.173816991950397, 'word': 0.02296781704373616, 'gang': 0.030822194044261675, 'everybody': 0.025162728358379176, 'way': 0.03608406240584209, 'mike': 0.03879876292324671, 'ma': 0.02400417676182791, 'hit': 0.040031784644670776, 'god': 0.018344711075945406, 'green': 0.034810478483754195, 'need': 0.01897953260424364, 'dissed': 0.036603851608603695, 'new': 0.02038711825479017, 'game': 0.02038711825479017, 'love': 0.017463257232089448, 'cold': 0.026476185829166228, 'guess': 0.02347235428692998, 'run': 0.02159307389355763, 'won': 0.02203031564241356, 'til': 0.02347235428692998, 'ill': 0.026476185829166228, 'hold': 0.06609094692724068, 'watch': 0.02296781704373616, 'tryin': 0.028848332924847328, 'face': 0.020772905729093145, 'break': 0.02203031564241356, 'better': 0.019658168546732465, 'mad': 0.02347235428692998, 'll': 0.1353332352737865, 'humble': 0.036603851608603695, 'murdered': 0.033294203111599995, 'day': 0.03931633709346493, 'straight': 0.02400417676182791}, {'rook': 0.10245411212998407, 'hooks': 0.10245411212998407, 'hinge': 0.10245411212998407, 'independent': 0.10245411212998407, 'mock': 0.10245411212998407, 'contin': 0.10245411212998407, 'oxy': 0.10245411212998407, 'moxie': 0.10245411212998407, 'defeated': 0.10245411212998407, 'deception': 0.10245411212998407, 'retired': 0.10245411212998407, 'admired': 0.10245411212998407, 'exciting': 0.10245411212998407, 'virtue': 0.10245411212998407, 'renegade': 0.10245411212998407, 'x2': 0.10245411212998407, 'games': 0.10245411212998407, 'pussies': 0.10245411212998407, 'dicks': 0.10245411212998407, 'favorite': 0.10245411212998407, 'apparel': 0.10245411212998407, 'latest': 0.10245411212998407, 'narrows': 0.10245411212998407, 'verrazano': 0.10245411212998407, 'aston': 0.10245411212998407, 'mashing': 0.10245411212998407, 'wits': 0.10245411212998407, 'dateline': 0.10245411212998407, 'drove': 0.10245411212998407, 'intoxicated': 0.10245411212998407, 'reign': 0.09349652811533779, 'deceit': 0.09349652811533779, 'liar': 0.18699305623067558, 'murk': 0.09349652811533779, 'circle': 0.08714102111371692, 'walked': 0.08714102111371692, 'liars': 0.18699305623067558, 'ecstasy': 0.09349652811533779, 'books': 0.08714102111371692, 'deleted': 0.09349652811533779, 'putting': 0.17428204222743385, '80': 0.08714102111371692, 'meds': 0.08221130689601326, 'mercedes': 0.08714102111371692, 'carbon': 0.09349652811533779, 'lyrically': 0.09349652811533779, 'crave': 0.09349652811533779, 'sucker': 0.08714102111371692, 'singing': 0.08714102111371692, 'lie': 0.16442261379202652, 'line': 0.06689821587974612, 'pulled': 0.08714102111371692, 'insane': 0.15636687419814127, 'ol': 0.07818343709907064, 'poppin': 0.07818343709907064, 'wit': 0.09349652811533779, 'building': 0.0718279300974498, 'totally': 0.09349652811533779, 'listen': 0.05946483069355043, 'copy': 0.08221130689601326, 'work': 0.1384517061688487, 'shut': 0.06922585308442435, 'swag': 0.09349652811533779, 'ask': 0.06110203294214674, 'ladies': 0.0718279300974498, 'eat': 0.05946483069355043, 'greatest': 0.07477792170981758, 'playing': 0.07818343709907064, 'pop': 0.0628703460828035, 'rapper': 0.1436558601948996, 'mouth': 0.07818343709907064, 'martin': 0.08221130689601326, 'bad': 0.11892966138710086, 'look': 0.04849748719542675, 'going': 0.06479261190550592, 'didn': 0.06479261190550592, 'chain': 0.0718279300974498, 'truth': 0.06922585308442435, 'pussy': 0.20069464763923833, 'music': 0.06479261190550592, 'mic': 0.0539127620681572, 'state': 0.0628703460828035, 'story': 0.06922585308442435, 'talking': 0.0718279300974498, 'worldwide': 0.08714102111371692, 'best': 0.05946483069355043, 'room': 0.0628703460828035, 'pain': 0.05946483069355043, 'pharoahe': 0.07477792170981758, 'said': 0.08525508169766537, 'wrong': 0.07818343709907064, 'hook': 0.09331082129155062, 'universal': 0.08714102111371692, 'baby': 0.10317024972695796, 'inside': 0.05271830250238423, 'song': 0.0628703460828035, 'uh': 0.06110203294214674, 'bridge': 0.1078255241363144, 'tell': 0.044955178053510896, 'bag': 0.07818343709907064, 'told': 0.047557255066536346, 'lost': 0.057940631865099824, 'gone': 0.06689821587974612, 'saying': 0.06922585308442435, 'bring': 0.05050724667890413, 'motherfucker': 0.12958522381101184, 'fucking': 0.12220406588429349, 'stop': 0.05050724667890413, 'ma': 0.0539127620681572, 'game': 0.045788941925879595, 'love': 0.039222025459579625, 'mad': 0.05271830250238423}, {'andre': 0.1354163907553968, 'compassion': 0.1483901740776531, 'shallow': 0.1483901740776531, 'deeply': 0.1483901740776531, 'narcissistic': 0.1483901740776531, 'lonely': 0.1483901740776531, 'loners': 0.1483901740776531, 'poseidon': 0.1483901740776531, 'sloppy': 0.1483901740776531, 'ninjas': 0.1354163907553968, 'temporary': 0.1483901740776531, 'gram': 0.1483901740776531, 'inst': 0.1483901740776531, 'twitt': 0.1483901740776531, 'ckbook': 0.1483901740776531, 'fart': 0.1354163907553968, 'art': 0.10026377835219608, 'cure': 0.12621134499670872, 'ok': 0.12621134499670872, 'darker': 0.1483901740776531, 'cultures': 0.1483901740776531, 'pyramid': 0.1354163907553968, 'umm': 0.1354163907553968, 'addict': 0.11907135680384787, 'snack': 0.12621134499670872, 'fruit': 0.12621134499670872, 'oblivious': 0.1483901740776531, 'obviously': 0.12621134499670872, 'sorry': 0.09689252772290348, 'afrika': 0.1483901740776531, 'cornbread': 0.1483901740776531, 'children': 0.10026377835219608, 'baths': 0.1354163907553968, 'short': 0.12621134499670872, 'ck': 0.1354163907553968, 'yang': 0.1354163907553968, 'yin': 0.1354163907553968, 'pray': 0.10830515817273394, 'playing': 0.1132375616744524, 'beautiful': 0.11907135680384787, 'forgot': 0.1132375616744524, 'kill': 0.07471369864195909, 'thousand': 0.10403251591576435, 'americans': 0.1354163907553968, 'good': 0.06757371044909824, 'girls': 0.10830515817273394, '3000': 0.1354163907553968, 've': 0.13775980702512727, 'breathe': 0.0938428605716261, 'people': 0.14630509153906648, 'passionate': 0.1354163907553968, 'end': 0.08391874440064716, 'old': 0.06511116594899535, 'wet': 0.09689252772290348, 'suffer': 0.12621134499670872, 'friend': 0.0938428605716261, 'hand': 0.08391874440064716, 'stop': 0.07315254576953324, 'big': 0.07808494927125169, 'god': 0.17902457326162677, 'love': 0.05680751181798433, 'thinking': 0.10830515817273394}, {'cecilia': 0.06710800121255817, 'shaved': 0.06124073491724517, 'werewolf': 0.06710800121255817, 'paraphernalia': 0.06710800121255817, 'nail': 0.06710800121255817, 'genitalia': 0.06710800121255817, 'trailer': 0.06710800121255817, 'gift': 0.06124073491724517, 'mail': 0.06710800121255817, 'armor': 0.06124073491724517, 'knight': 0.06710800121255817, 'miley': 0.06710800121255817, 'lama': 0.06124073491724517, 'dalai': 0.06710800121255817, 'dahmer': 0.06710800121255817, 'osama': 0.06710800121255817, 'calmer': 0.06710800121255817, 'saddam': 0.06710800121255817, 'drama': 0.05707784323135476, 'bombom': 0.06710800121255817, 'paula': 0.06710800121255817, 'chihuahua': 0.06710800121255817, 'maul': 0.06710800121255817, 'koala': 0.06710800121255817, 'wallet': 0.06710800121255817, 'raped': 0.06124073491724517, 'inch': 0.06124073491724517, 'flinch': 0.06710800121255817, 'ribs': 0.06124073491724517, 'barbiturates': 0.06710800121255817, 'ding': 0.06710800121255817, 'rope': 0.06710800121255817, 'hoping': 0.06124073491724517, 'dopamine': 0.06710800121255817, 'opening': 0.13421600242511633, 'hyman': 0.06710800121255817, 'phyllis': 0.06710800121255817, 'bi': 0.06710800121255817, 'rolla': 0.06710800121255817, 'shining': 0.13421600242511633, 'philly': 0.06710800121255817, 'grimy': 0.05707784323135476, 'whites': 0.06710800121255817, 'swimming': 0.06124073491724517, 'johnny': 0.06124073491724517, 'diary': 0.06124073491724517, 'dear': 0.06124073491724517, 'rodney': 0.06710800121255817, 'luther': 0.06710800121255817, 'focused': 0.06710800121255817, 'illadelph': 0.06710800121255817, 'radar': 0.06710800121255817, 'assistance': 0.06710800121255817, 'sans': 0.06710800121255817, 'sacred': 0.06710800121255817, 'hated': 0.06124073491724517, 'graduated': 0.06710800121255817, 'underestimated': 0.06710800121255817, 'underachievers': 0.06710800121255817, 'appreciated': 0.06710800121255817, 'underrated': 0.06124073491724517, 'unsung': 0.06710800121255817, 'eventually': 0.05707784323135476, 'tempurpedic': 0.06710800121255817, 'blastoff': 0.06710800121255817, 'deleted': 0.06124073491724517, 'trash': 0.06710800121255817, 'cement': 0.06710800121255817, 'asphalt': 0.06710800121255817, 'greenest': 0.06124073491724517, 'thumb': 0.06710800121255817, 'sowing': 0.06710800121255817, 'knowing': 0.05707784323135476, 'genius': 0.06710800121255817, 'straining': 0.06710800121255817, 'phoenix': 0.06710800121255817, 'flames': 0.06710800121255817, 'rising': 0.06710800121255817, 'remix': 0.06710800121255817, 'furthermore': 0.06710800121255817, 'moon': 0.05384885358104667, 'mastermind': 0.06710800121255817, 'medina': 0.06124073491724517, 'direct': 0.06710800121255817, 'stationed': 0.06710800121255817, 'pyrrhus': 0.06710800121255817, 'bombardier': 0.06710800121255817, 'pilot': 0.06710800121255817, 'flyingest': 0.06710800121255817, 'livest': 0.06710800121255817, 'stuyvesant': 0.06710800121255817, 'cypress': 0.06710800121255817, 'cooper': 0.06710800121255817, 'avenue': 0.06124073491724517, 'clarendon': 0.06710800121255817, 'cadman': 0.06710800121255817, 'bergen': 0.06710800121255817, 'ave': 0.11415568646270952, 'bedford': 0.13421600242511633, 'baltic': 0.06710800121255817, 'albany': 0.06710800121255817, 'alblemarle': 0.06710800121255817, 'ashland': 0.06710800121255817, 'asia': 0.06710800121255817, 'europe': 0.06124073491724517, 'miracles': 0.06710800121255817, 'automatics': 0.06710800121255817, 'derringers': 0.06710800121255817, 'swaggerers': 0.06710800121255817, 'swingers': 0.06710800121255817, 'cameras': 0.05384885358104667, 'racketeers': 0.06710800121255817, 'talented': 0.06710800121255817, 'traffickers': 0.06710800121255817, 'narcotic': 0.06710800121255817, 'champions': 0.06710800121255817, 'dignitaries': 0.06710800121255817, 'gamblers': 0.06710800121255817, 'scramblers': 0.06710800121255817, 'saints': 0.06710800121255817, 'sheep': 0.06124073491724517, 'swift': 0.051210576936041745, 'taylor': 0.06124073491724517, 'page': 0.05707784323135476, 'funny': 0.05707784323135476, 'obama': 0.06124073491724517, 'choke': 0.05707784323135476, 'prize': 0.06124073491724517, 'barrels': 0.05707784323135476, 'job': 0.051210576936041745, 'lock': 0.11415568646270952, 'difference': 0.05707784323135476, 'holler': 0.06124073491724517, 'fans': 0.05707784323135476, 'earths': 0.06124073491724517, 'africa': 0.05707784323135476, 'double': 0.051210576936041745, 'lay': 0.04534331064072874, 'finally': 0.05384885358104667, 'mama': 0.05384885358104667, 'hair': 0.04534331064072874, 'nation': 0.06124073491724517, 'mean': 0.04118041895483834, 'swear': 0.11415568646270952, 'number': 0.04534331064072874, 'eminem': 0.04897994581621482, 'knowledge': 0.043818695599843256, 'great': 0.04534331064072874, 'late': 0.04897994581621482, 'bottle': 0.04897994581621482, 'carry': 0.04897994581621482, 'sinners': 0.05707784323135476, 'clothes': 0.04534331064072874, 'picture': 0.04704768525015135, 'actually': 0.04704768525015135, 'note': 0.051210576936041745, 'bell': 0.051210576936041745, 'cool': 0.03894978783501141, 'wait': 0.037017527268947935, 'stitch': 0.06124073491724517, 'drug': 0.04897994581621482, 'stealth': 0.06124073491724517, 'think': 0.03378853761863984, 'eat': 0.03894978783501141, 'bet': 0.04534331064072874, 'handlers': 0.06124073491724517, 'church': 0.05384885358104667, 'doing': 0.22671655320364367, 'clinton': 0.06124073491724517, 'baller': 0.06124073491724517, 'bum': 0.05707784323135476, 'martin': 0.05384885358104667, 'central': 0.06124073491724517, 'atlantic': 0.05707784323135476, 'weight': 0.04897994581621482, 'slang': 0.04704768525015135, 'stars': 0.11415568646270952, 'polar': 0.05707784323135476, 'talk': 0.037017527268947935, 'cross': 0.05707784323135476, 'dirty': 0.04897994581621482, 'bleed': 0.05384885358104667, 'night': 0.03453077514122184, 'win': 0.05707784323135476, 'pill': 0.04897994581621482, 'born': 0.042439513533659254, 'read': 0.04118041895483834, 'dollar': 0.08763739119968651, 'smoked': 0.051210576936041745, 'switch': 0.04897994581621482, 'stage': 0.051210576936041745, 'beware': 0.05707784323135476, 'kill': 0.06757707523727968, 'throat': 0.051210576936041745, 'bomb': 0.04897994581621482, 'did': 0.0330825215396984, 'seeds': 0.04897994581621482, 'add': 0.05707784323135476, 'set': 0.0759028586090605, 'said': 0.027921271323326835, 'gonna': 0.031150260973634922, 'sun': 0.04897994581621482, 'sleep': 0.03453077514122184, 'eyes': 0.0330825215396984, 'hard': 0.07062630531905065, 'def': 0.04704768525015135, 'mos': 0.04704768525015135, 'peace': 0.03614026115372212, 'king': 0.03453077514122184, 'inside': 0.03453077514122184, 'dick': 0.037017527268947935, 'dope': 0.09795989163242964, 'road': 0.04704768525015135, 'house': 0.042439513533659254, 'ya': 0.12963742220982338, 'check': 0.03378853761863984, 'bridge': 0.035313152659525324, 'tell': 0.029445886364212314, 'america': 0.04534331064072874, 'told': 0.031150260973634922, 'forever': 0.04704768525015135, 'oh': 0.062300521947269843, 'money': 0.031150260973634922, 'write': 0.0400221642208866, 'fiend': 0.051210576936041745, 'thought': 0.0800443284417732, 'saying': 0.04534331064072874, 'high': 0.02999200623968319, 'remember': 0.043818695599843256, 'sound': 0.035313152659525324, 'right': 0.0248865189407914, 'bring': 0.0330825215396984, 'bitch': 0.02841184234294827, 'fucking': 0.1200664926626598, 'goes': 0.051210576936041745, 'mind': 0.031150260973634922, 'brain': 0.0400221642208866, 'big': 0.035313152659525324, 'live': 0.061119095936663516, 'ma': 0.035313152659525324, 'rock': 0.0330825215396984, 'hit': 0.029445886364212314, 'need': 0.027921271323326835, 'black': 0.05397473857548905, 'used': 0.037017527268947935, 'guess': 0.03453077514122184, 'street': 0.03795142930453025, 'gods': 0.04897994581621482, 'runners': 0.06124073491724517, 'little': 0.03176611813674822, 'watch': 0.03378853761863984, 'face': 0.030559547968331758, 'break': 0.032409355552455846}, {'domain': 0.058771511236028376, 'wander': 0.058771511236028376, 'foolishly': 0.058771511236028376, 'travelers': 0.058771511236028376, 'prey': 0.05363310596736974, 'bandits': 0.058771511236028376, 'threatened': 0.058771511236028376, 'unless': 0.04715948092778979, 'showing': 0.04998734940971662, 'search': 0.058771511236028376, 'continued': 0.05363310596736974, 'seldom': 0.058771511236028376, 'strangers': 0.05363310596736974, 'villages': 0.058771511236028376, 'remote': 0.05363310596736974, 'sir': 0.05363310596736974, 'disfigured': 0.058771511236028376, 'seeking': 0.04998734940971662, 'traveled': 0.11754302247205675, 'hideous': 0.058771511236028376, 'screams': 0.058771511236028376, 'vengeful': 0.058771511236028376, 'angry': 0.058771511236028376, 'bitter': 0.05363310596736974, 'lesson': 0.04998734940971662, 'learned': 0.04715948092778979, 'injuries': 0.058771511236028376, 'recovered': 0.058771511236028376, 'later': 0.04289541312309332, 'sounds': 0.044848944141057986, 'explosion': 0.058771511236028376, 'experiment': 0.05363310596736974, 'conducting': 0.058771511236028376, 'experiments': 0.058771511236028376, 'forbidden': 0.04998734940971662, 'pursue': 0.05363310596736974, 'happens': 0.04715948092778979, 'lord': 0.04715948092778979, 'ironclad': 0.058771511236028376, 'feared': 0.058771511236028376, 'vigilance': 0.058771511236028376, 'relaxes': 0.058771511236028376, 'sleeps': 0.05363310596736974, 'fighting': 0.04998734940971662, 'guided': 0.05363310596736974, 'monarch': 0.05363310596736974, 'mysterious': 0.058771511236028376, 'powerful': 0.04715948092778979, 'invisible': 0.044848944141057986, 'escaped': 0.058771511236028376, 'humor': 0.05363310596736974, 'neighborhood': 0.05363310596736974, 'silly': 0.05363310596736974, 'ones': 0.05363310596736974, 'pretend': 0.04998734940971662, 'lessons': 0.04998734940971662, 'memorize': 0.058771511236028376, 'skins': 0.058771511236028376, 'swings': 0.058771511236028376, 'tramp': 0.058771511236028376, 'rings': 0.05363310596736974, 'standing': 0.04715948092778979, 'lovers': 0.05363310596736974, 'glory': 0.04998734940971662, 'blaze': 0.058771511236028376, 'royalty': 0.058771511236028376, 'crooks': 0.058771511236028376, 'loyalty': 0.05363310596736974, 'penance': 0.058771511236028376, 'begging': 0.05363310596736974, 'lower': 0.058771511236028376, 'bucks': 0.04998734940971662, 'codefendants': 0.058771511236028376, 'codependence': 0.058771511236028376, 'depend': 0.11754302247205675, 'plot': 0.05363310596736974, 'focusing': 0.058771511236028376, 'trouble': 0.04998734940971662, 'buys': 0.058771511236028376, 'darken': 0.058771511236028376, 'sparkin': 0.058771511236028376, 'fantastik': 0.058771511236028376, 'riot': 0.05363310596736974, 'thief': 0.05363310596736974, 'click': 0.04998734940971662, 'eyelid': 0.058771511236028376, 'apt': 0.058771511236028376, 'crime': 0.04120318758340488, 'bolster': 0.058771511236028376, 'sided': 0.058771511236028376, 'attributes': 0.058771511236028376, 'helper': 0.058771511236028376, 'sympathiser': 0.058771511236028376, 'socialize': 0.05363310596736974, 'likes': 0.058771511236028376, 'dictionary': 0.05363310596736974, 'chick': 0.044848944141057986, 'loc': 0.04998734940971662, 'stack': 0.04998734940971662, 'cinderellas': 0.058771511236028376, 'folk': 0.04998734940971662, 'number': 0.03971053887239935, 'jealousy': 0.058771511236028376, 'crews': 0.04998734940971662, 'choosy': 0.058771511236028376, 'loosely': 0.058771511236028376, 'mans': 0.05363310596736974, 'chance': 0.04998734940971662, 'glance': 0.05363310596736974, 'wounds': 0.05363310596736974, 'stab': 0.10726621193473948, 'seein': 0.058771511236028376, 'baboon': 0.058771511236028376, 'signs': 0.04289541312309332, 'advice': 0.05363310596736974, 'ignore': 0.058771511236028376, 'bummy': 0.058771511236028376, 'fam': 0.04998734940971662, 'funnies': 0.058771511236028376, 'sunday': 0.058771511236028376, 'dunnies': 0.058771511236028376, 'duns': 0.058771511236028376, 'sisters': 0.058771511236028376, 'comrade': 0.058771511236028376, 'homies': 0.05363310596736974, 'boys': 0.04289541312309332, 'asssociates': 0.058771511236028376, 'lies': 0.04289541312309332, 'finish': 0.05363310596736974, 'surprise': 0.05363310596736974, 'bright': 0.05363310596736974, 'knife': 0.04289541312309332, 'letter': 0.04998734940971662, 'send': 0.04998734940971662, 'cellular': 0.058771511236028376, 'deaf': 0.05363310596736974, 'trees': 0.04289541312309332, 'fellas': 0.10726621193473948, 'dad': 0.044848944141057986, 'sad': 0.05363310596736974, 'friendly': 0.05363310596736974, 'instead': 0.044848944141057986, 'somethin': 0.033236913832819404, 'peeps': 0.04998734940971662, 'depends': 0.04715948092778979, 'mr': 0.09431896185557959, 'size': 0.04998734940971662, 'actually': 0.04120318758340488, 'negro': 0.04998734940971662, 'note': 0.044848944141057986, 'feeding': 0.05363310596736974, 'cheap': 0.04715948092778979, 'mom': 0.04289541312309332, 'lead': 0.08240637516680976, 'plans': 0.04715948092778979, 'choose': 0.04998734940971662, 'guys': 0.044848944141057986, 'cure': 0.04998734940971662, 'sorry': 0.03837531910147804, 'person': 0.04120318758340488, 'having': 0.04998734940971662, 'trust': 0.04289541312309332, 'skit': 0.08240637516680976, 'foes': 0.044848944141057986, 'called': 0.03606478231474624, 'think': 0.029591157275166292, 'strings': 0.04715948092778979, 'bubble': 0.04998734940971662, 'sense': 0.04998734940971662, 'met': 0.09431896185557959, 'awesome': 0.05363310596736974, 'shoot': 0.03837531910147804, 'enemy': 0.044848944141057986, 'wouldn': 0.03971053887239935, 'happened': 0.08969788828211597, 'talkin': 0.037167465897170515, 'drastic': 0.05363310596736974, 'character': 0.10726621193473948, 'going': 0.037167465897170515, 'wild': 0.04289541312309332, 'woman': 0.09997469881943324, 'similar': 0.04715948092778979, 'laugh': 0.03606478231474624, 'bleeding': 0.04715948092778979, 'honor': 0.04998734940971662, 'catch': 0.03241902575709313, 'meaning': 0.05363310596736974, 'night': 0.030241190357809596, 'dummy': 0.04998734940971662, 'paid': 0.04715948092778979, 'read': 0.03606478231474624, 'cut': 0.03165073800576113, 'blunt': 0.04715948092778979, 'switch': 0.04289541312309332, 'worthy': 0.04998734940971662, 'nice': 0.07675063820295608, 'ear': 0.04715948092778979, 'spitting': 0.04715948092778979, 'secret': 0.04289541312309332, 'jail': 0.04120318758340488, 'white': 0.06822250259356315, 'steel': 0.08240637516680976, 'story': 0.03971053887239935, 'spell': 0.044848944141057986, 'phone': 0.03837531910147804, 'sentence': 0.04998734940971662, 'hell': 0.03165073800576113, 'deal': 0.03606478231474624, 'good': 0.026763288793239456, 'term': 0.04998734940971662, 'girls': 0.04289541312309332, 'hands': 0.03606478231474624, 'said': 0.024452752006507657, 'left': 0.029591157275166292, 'damn': 0.03165073800576113, 'moms': 0.04998734940971662, 'fantastic': 0.05363310596736974, 'hide': 0.05363310596736974, 'world': 0.07464714555597764, 'act': 0.04289541312309332, 'force': 0.04289541312309332, 'form': 0.04998734940971662, 'quiet': 0.04998734940971662, 'ghetto': 0.03971053887239935, 'hear': 0.030241190357809596, 'eyes': 0.028972846028122938, 'turn': 0.02781997280898801, 'light': 0.033236913832819404, 'people': 0.057945692056245876, 'smoke': 0.033236913832819404, 'things': 0.03837531910147804, 'feel': 0.05065417894093966, 'peace': 0.03165073800576113, 'smile': 0.044848944141057986, 'dr': 0.044848944141057986, 'dance': 0.04120318758340488, 'try': 0.057945692056245876, 'ago': 0.044848944141057986, 'end': 0.09971074149845822, 'doom': 0.21447706561546662, 'sure': 0.03241902575709313, 'ya': 0.11353321628343506, 'check': 0.029591157275166292, 'arms': 0.04289541312309332, 'broke': 0.03606478231474624, 'tell': 0.07736391533228688, 'hope': 0.06822250259356315, 'telling': 0.04289541312309332, 'really': 0.03165073800576113, 'battle': 0.04289541312309332, 'money': 0.02728062048843449, 'thing': 0.059182314550332585, 'seen': 0.03505041174967734, 'friend': 0.037167465897170515, 'years': 0.07433493179434103, 'ho': 0.03505041174967734, 'times': 0.034111251296781574, 'dangerous': 0.04289541312309332, 'close': 0.037167465897170515, 'worst': 0.05363310596736974, 'right': 0.021794991672031045, 'bitch': 0.024882381851992545, 'lot': 0.06483805151418626, 'mind': 0.02728062048843449, 'outro': 0.05065417894093966, 'bitches': 0.03606478231474624, 'way': 0.04648979760440026, 'blow': 0.03241902575709313, 'wanted': 0.04120318758340488, 'use': 0.03837531910147804, 'need': 0.09781100802603063, 'nowadays': 0.05363310596736974, 'black': 0.02363486393078138, 'used': 0.03241902575709313, 'crack': 0.06822250259356315, 'friends': 0.3241902575709313, 'type': 0.07675063820295608, 'leave': 0.03505041174967734, 'come': 0.04428443043955171, 'killer': 0.04120318758340488, 'tryin': 0.037167465897170515, 'brothers': 0.04120318758340488, 'face': 0.10705315517295783, 'better': 0.05065417894093966, 'niggas': 0.04976476370398509, 'll': 0.06538497501609314, 'guns': 0.03971053887239935, 'day': 0.02532708947046983, 'real': 0.08345991842696403}, {'continues': 0.046228727674644775, 'saga': 0.04218694054256299, 'visas': 0.046228727674644775, 'immigrants': 0.046228727674644775, 'reefer': 0.046228727674644775, 'pounds': 0.04218694054256299, 'barrels': 0.03931924693511193, 'rica': 0.046228727674644775, 'costa': 0.046228727674644775, 'plants': 0.046228727674644775, 'processing': 0.046228727674644775, 'fargo': 0.046228727674644775, 'wells': 0.046228727674644775, 'launder': 0.046228727674644775, 'cargo': 0.046228727674644775, 'freight': 0.046228727674644775, 'ship': 0.046228727674644775, 'interior': 0.046228727674644775, 'ripped': 0.046228727674644775, 'intestines': 0.04218694054256299, 'syria': 0.046228727674644775, 'commit': 0.046228727674644775, 'bribe': 0.046228727674644775, 'judges': 0.04218694054256299, 'prosecutor': 0.04218694054256299, 'shooters': 0.046228727674644775, 'stands': 0.046228727674644775, 'blasting': 0.04218694054256299, 'gravano': 0.046228727674644775, 'sammy': 0.046228727674644775, 'soprano': 0.04218694054256299, 'customs': 0.04218694054256299, 'rushed': 0.046228727674644775, 'feds': 0.046228727674644775, 'limp': 0.046228727674644775, 'pirate': 0.046228727674644775, 'surgery': 0.046228727674644775, 'underwent': 0.046228727674644775, 'leg': 0.03931924693511193, 'key': 0.03931924693511193, 'smuggle': 0.03931924693511193, 'worker': 0.046228727674644775, 'cork': 0.046228727674644775, 'popped': 0.046228727674644775, 'bombs': 0.03931924693511193, 'terrorist': 0.046228727674644775, 'initiated': 0.046228727674644775, 'specialist': 0.046228727674644775, 'newsstand': 0.046228727674644775, 'iran': 0.046228727674644775, 'afghanistan': 0.046228727674644775, 'muhammad': 0.046228727674644775, 'spray': 0.0370948909639732, 'burial': 0.046228727674644775, 'yachts': 0.046228727674644775, 'custom': 0.046228727674644775, 'luxurious': 0.046228727674644775, 'docks': 0.046228727674644775, 'thailand': 0.046228727674644775, 'sacks': 0.046228727674644775, 'rice': 0.046228727674644775, 'copilot': 0.046228727674644775, 'castro': 0.046228727674644775, 'burlington': 0.046228727674644775, 'heist': 0.046228727674644775, 'blasphemy': 0.046228727674644775, 'singers': 0.046228727674644775, 'district': 0.046228727674644775, 'garment': 0.046228727674644775, 'raise': 0.0370948909639732, 'shark': 0.04218694054256299, 'loan': 0.046228727674644775, 'parks': 0.046228727674644775, 'bricklaying': 0.046228727674644775, 'contracting': 0.046228727674644775, 'wedding': 0.046228727674644775, 'missed': 0.04218694054256299, 'sour': 0.046228727674644775, 'steak': 0.03931924693511193, 'sparks': 0.046228727674644775, 'outside': 0.03527745980303014, 'chaos': 0.046228727674644775, 'stakeout': 0.046228727674644775, 'restaurant': 0.046228727674644775, '10304': 0.09245745534928955, 'hills': 0.09245745534928955, 'singing': 0.07863849387022386, 'precinct': 0.046228727674644775, 'rodriguez': 0.13868618302393432, 'bastards': 0.046228727674644775, 'agreed': 0.046228727674644775, 'uhm': 0.046228727674644775, 'outta': 0.07863849387022386, 'nicely': 0.046228727674644775, 'planned': 0.046228727674644775, 'pleasure': 0.046228727674644775, 'dk': 0.32360109372251344, 'briefcase': 0.08437388108512597, 'greco': 0.1849149106985791, 'noodles': 0.046228727674644775, 'maximillion': 0.046228727674644775, 'lovely': 0.03931924693511193, 'starks': 0.11795774080533579, 'steels': 0.23114363837322385, 'bobby': 0.13868618302393432, 'ahh': 0.04218694054256299, 'mk': 0.046228727674644775, 'hells': 0.13868618302393432, 'dealing': 0.04218694054256299, 'bullshit': 0.04218694054256299, 'lucky': 0.03931924693511193, 'line': 0.030185410224440355, 'known': 0.03931924693511193, 'witness': 0.04218694054256299, 'smash': 0.03931924693511193, 'jobs': 0.04218694054256299, 'plots': 0.03931924693511193, 'sewn': 0.04218694054256299, 'finger': 0.0370948909639732, 'wives': 0.04218694054256299, 'price': 0.0370948909639732, 'aight': 0.03931924693511193, 'photographs': 0.04218694054256299, 'rule': 0.04218694054256299, 'champagne': 0.0370948909639732, 'remote': 0.04218694054256299, 'powerful': 0.0370948909639732, 'neighborhood': 0.04218694054256299, 'standing': 0.0370948909639732, 'classics': 0.04218694054256299, 'late': 0.033740843651187874, 'south': 0.0370948909639732, 'ether': 0.04218694054256299, 'bought': 0.03527745980303014, 'jewels': 0.03527745980303014, 'maintain': 0.03527745980303014, 'suicide': 0.03931924693511193, 'mr': 0.1483795638558928, 'coat': 0.0370948909639732, 'ex': 0.033740843651187874, 'grew': 0.033740843651187874, 'tried': 0.0275700914538794, 'guys': 0.03527745980303014, 'ok': 0.11795774080533579, 'baths': 0.04218694054256299, 'person': 0.032409766195579094, 'skit': 0.032409766195579094, 'fatal': 0.03527745980303014, 'bird': 0.031235672670948345, 'miles': 0.03931924693511193, 'ask': 0.0551401829077588, 'brains': 0.0370948909639732, 'drug': 0.10122253095356362, 'order': 0.03527745980303014, 'think': 0.02327592948490751, 'taking': 0.033740843651187874, 'question': 0.03527745980303014, 'area': 0.04218694054256299, 'look': 0.021882744204718176, 'going': 0.029235332275472283, 'wild': 0.033740843651187874, 'gza': 0.2916878957602118, 'label': 0.033740843651187874, 'talk': 0.051000570912092494, 'didn': 0.029235332275472283, 'angels': 0.07863849387022386, 'dealer': 0.07863849387022386, 'scene': 0.032409766195579094, 'schemes': 0.03931924693511193, 'runs': 0.04218694054256299, 'rules': 0.03527745980303014, 'reconstruct': 0.04218694054256299, 'island': 0.030185410224440355, 'away': 0.028367979063497292, 'thousand': 0.06481953239115819, 'team': 0.03527745980303014, 'bomb': 0.033740843651187874, 'rza': 0.3240976619557909, 'hour': 0.031235672670948345, 'state': 0.028367979063497292, 'cream': 0.031235672670948345, 'minimum': 0.0370948909639732, 'talking': 0.032409766195579094, 'gave': 0.029235332275472283, 'half': 0.11347191625398917, 'dead': 0.025500285456046247, 'set': 0.026143623092358563, 'working': 0.07863849387022386, 'coming': 0.06481953239115819, 'deal': 0.028367979063497292, 'bronx': 0.04218694054256299, 'point': 0.032409766195579094, 'shots': 0.026831362911655034, 'dollars': 0.032409766195579094, 'good': 0.08420629405507513, 'gold': 0.025500285456046247, 'city': 0.025500285456046247, 'hands': 0.028367979063497292, 'left': 0.02327592948490751, 'sent': 0.032409766195579094, 'men': 0.029235332275472283, 'eastern': 0.04218694054256299, 'food': 0.031235672670948345, 'middle': 0.04218694054256299, 'hook': 0.04210314702753756, 'small': 0.032409766195579094, 'sharp': 0.032409766195579094, 'feel': 0.019921882172122193, 'peace': 0.024895962639002206, 'tony': 0.07863849387022386, 'baby': 0.02327592948490751, 'hey': 0.06037082044888071, 'killah': 0.06037082044888071, 'yes': 0.0275700914538794, 'house': 0.029235332275472283, 'land': 0.0370948909639732, 'want': 0.02105157351376878, 'soul': 0.026143623092358563, 'lost': 0.026143623092358563, 'gone': 0.030185410224440355, 'thanks': 0.03527745980303014, 'oh': 0.021458498323964452, 'bottles': 0.03527745980303014, 'friend': 0.029235332275472283, 'power': 0.029235332275472283, 'cash': 0.10200114182418499, 'right': 0.10286154432521907, 'stand': 0.030185410224440355, 'motherfucker': 0.029235332275472283, 'ass': 0.02278957577957324, 'forget': 0.033740843651187874, 'kid': 0.0243261919314155, 'fucking': 0.16542054872327638, 'outro': 0.019921882172122193, 'blow': 0.025500285456046247, 'hit': 0.08113761919733481, 'use': 0.030185410224440355, 'grand': 0.06748168730237575, 'need': 0.01923414235282572, 'factory': 0.04218694054256299, 'plan': 0.030185410224440355, 'used': 0.025500285456046247, 'game': 0.020660610714346557, 'fake': 0.026831362911655034, 'drop': 0.026831362911655034, 'nigga': 0.0587162468859812, 'turned': 0.029235332275472283, 'believe': 0.028367979063497292, 'filled': 0.03527745980303014, 'niggas': 0.07828832918130826}, {'ships': 0.06858312680765201, 'apathy': 0.06858312680765201, 'profound': 0.06858312680765201, 'ghosts': 0.06858312680765201, 'corrosive': 0.06858312680765201, 'throes': 0.06858312680765201, 'occultism': 0.06858312680765201, 'swim': 0.06858312680765201, 'tzu': 0.06858312680765201, 'chug': 0.06858312680765201, 'amore': 0.06858312680765201, 'yelled': 0.06858312680765201, 'morn': 0.06858312680765201, 'fiscal': 0.06858312680765201, 'crucifix': 0.06858312680765201, 'soups': 0.06858312680765201, 'disrepair': 0.06858312680765201, 'blisters': 0.06858312680765201, 'assisted': 0.06858312680765201, 'fisher': 0.06858312680765201, 'unloved': 0.06858312680765201, 'wholly': 0.06858312680765201, 'buzzed': 0.06858312680765201, 'asteroid': 0.06858312680765201, 'contain': 0.06858312680765201, 'oooh': 0.06258688997933157, 'wolf': 0.13716625361530402, 'xerxes': 0.06858312680765201, 'adopt': 0.06858312680765201, 'slurpee': 0.06858312680765201, 'surly': 0.06858312680765201, 'detox': 0.06858312680765201, 'robes': 0.06858312680765201, 'cloth': 0.06858312680765201, 'terry': 0.06858312680765201, 'claw': 0.06858312680765201, 'dragon': 0.06258688997933157, 'orb': 0.06858312680765201, 'kools': 0.06858312680765201, 'seraphim': 0.06858312680765201, 'chimera': 0.06858312680765201, 'sourdough': 0.06858312680765201, 'vivarium': 0.06858312680765201, 'survive': 0.06858312680765201, 'id': 0.06858312680765201, 'bacteria': 0.06858312680765201, 'norcal': 0.06858312680765201, 'fray': 0.06858312680765201, 'kites': 0.13716625361530402, 'grid': 0.06858312680765201, 'sumner': 0.06858312680765201, 'pigs': 0.06258688997933157, 'rex': 0.06858312680765201, 'sara': 0.06858312680765201, 'ordering': 0.06858312680765201, 'cafe': 0.06858312680765201, 'grits': 0.06858312680765201, 'pillow': 0.06258688997933157, 'shrimp': 0.06858312680765201, 'crypt': 0.06858312680765201, 'sandwich': 0.06258688997933157, 'camry': 0.06858312680765201, 'aesop': 0.06858312680765201, 'backseat': 0.06858312680765201, 'shaped': 0.06858312680765201, 'fancy': 0.06858312680765201, 'cellophane': 0.06858312680765201, 'medellin': 0.06858312680765201, 'smells': 0.06858312680765201, 'peg': 0.06858312680765201, 'lice': 0.06858312680765201, 'grin': 0.06858312680765201, 'income': 0.06858312680765201, 'drencrom': 0.06858312680765201, 'breadcrumbs': 0.06858312680765201, 'h1n1': 0.06858312680765201, 'bile': 0.06858312680765201, 'hack': 0.06858312680765201, 'schmoozing': 0.06858312680765201, 'chewin': 0.06858312680765201, 'sale': 0.06858312680765201, 'howard': 0.06858312680765201, 'foresight': 0.06858312680765201, 'vincent': 0.06858312680765201, 'st': 0.06858312680765201, 'curdles': 0.06858312680765201, 'dairy': 0.06858312680765201, 'warehouse': 0.06858312680765201, 'thermals': 0.06858312680765201, 'thermos': 0.06858312680765201, 'shorn': 0.06858312680765201, 'paranormal': 0.06858312680765201, 'terraforming': 0.06858312680765201, 'cave': 0.06858312680765201, 'feral': 0.06858312680765201, 'support': 0.06858312680765201, 'heroin': 0.06258688997933157, 'tech': 0.06258688997933157, 'army': 0.05833249224402077, 'tone': 0.06258688997933157, 'dive': 0.05833249224402077, 'circle': 0.11666498448804154, 'ton': 0.06258688997933157, 'air': 0.05503252498756441, 'chips': 0.05833249224402077, 'bug': 0.11006504997512882, 'diary': 0.06258688997933157, 'moon': 0.05503252498756441, 'losing': 0.05833249224402077, 'gross': 0.05833249224402077, 'source': 0.05833249224402077, 'pants': 0.05233625541570032, 'yelling': 0.06258688997933157, 'meds': 0.05503252498756441, 'failed': 0.05503252498756441, 'hello': 0.06258688997933157, 'cherry': 0.06258688997933157, 'fortune': 0.06258688997933157, 'shoes': 0.050056591974859274, 'worms': 0.06258688997933157, 'darts': 0.06258688997933157, 'cup': 0.05833249224402077, 'gate': 0.05503252498756441, 'leg': 0.05833249224402077, 'outside': 0.10467251083140064, 'wheels': 0.06258688997933157, 'asleep': 0.05503252498756441, 'tooth': 0.05503252498756441, 'address': 0.06258688997933157, 'host': 0.06258688997933157, 'fried': 0.05503252498756441, 'fools': 0.05833249224402077, 'mud': 0.06258688997933157, 'pale': 0.05833249224402077, 'stepped': 0.06258688997933157, 'hair': 0.046340018587379864, 'curse': 0.05503252498756441, 'pretend': 0.05833249224402077, 'loc': 0.05833249224402077, 'knife': 0.050056591974859274, 'lips': 0.050056591974859274, 'fresh': 0.04808185768038952, 'picture': 0.04808185768038952, 'coat': 0.05503252498756441, 'doctor': 0.05833249224402077, 'ex': 0.050056591974859274, 'piss': 0.050056591974859274, 'dude': 0.05833249224402077, 'tail': 0.06258688997933157, 'meal': 0.06258688997933157, 'meat': 0.05833249224402077, 'mystery': 0.06258688997933157, 'fish': 0.05233625541570032, 'marshall': 0.05233625541570032, 'paul': 0.05503252498756441, 'wearing': 0.05833249224402077, 'river': 0.05503252498756441, 'seat': 0.05233625541570032, 'dogs': 0.05503252498756441, 'pair': 0.050056591974859274, 'eat': 0.03980595741122803, 'eye': 0.12270571828761692, 'court': 0.046340018587379864, 'shoot': 0.04478189042393316, 'probably': 0.042085620852069065, 'bum': 0.05833249224402077, 'nose': 0.05833249224402077, 'question': 0.05233625541570032, 'look': 0.03246438083379787, 'soft': 0.05233625541570032, 'employ': 0.06258688997933157, 'bit': 0.04337239205076099, 'kiss': 0.046340018587379864, 'box': 0.046340018587379864, 'pick': 0.04478189042393316, 'open': 0.03980595741122803, 'true': 0.042085620852069065, 'blue': 0.08956378084786631, 'night': 0.07057961755635661, 'help': 0.046340018587379864, 'born': 0.04337239205076099, 'stay': 0.035289808778178305, 'cut': 0.036934673493204145, 'map': 0.05833249224402077, 'cassette': 0.06258688997933157, 'bear': 0.05503252498756441, 'lick': 0.04808185768038952, 'square': 0.05233625541570032, 'avoid': 0.06258688997933157, 'wind': 0.04808185768038952, 'belt': 0.05233625541570032, 'year': 0.046340018587379864, 'ways': 0.04808185768038952, 'dice': 0.05503252498756441, 'home': 0.036089384023748616, 'gave': 0.08674478410152198, 'fear': 0.050056591974859274, 'cats': 0.050056591974859274, 'deal': 0.042085620852069065, 'good': 0.031231288603845553, 'took': 0.036089384023748616, 'long': 0.036934673493204145, 'said': 0.05707003806396292, 'understand': 0.04337239205076099, 'damn': 0.036934673493204145, 'rush': 0.05233625541570032, 'sun': 0.050056591974859274, 'trying': 0.04090190609587231, 'ring': 0.08674478410152198, 'beat': 0.03980595741122803, 'hear': 0.035289808778178305, 'eyes': 0.03380972058290758, 'turn': 0.06492876166759574, 'king': 0.035289808778178305, 'shirt': 0.05833249224402077, 'cop': 0.04808185768038952, 'body': 0.036934673493204145, 'plus': 0.03878565359561271, 'door': 0.04478189042393316, 'try': 0.03380972058290758, 'end': 0.03878565359561271, 'heart': 0.036934673493204145, 'head': 0.062462577207691106, 'pipe': 0.05233625541570032, 'juice': 0.05233625541570032, 'power': 0.04337239205076099, 'high': 0.03065127153224106, 'close': 0.04337239205076099, 'bitch': 0.029036373473164845, 'word': 0.24171879102211338, 'god': 0.027580588553127023, 'wake': 0.046340018587379864, 'new': 0.06130254306448212, 'fly': 0.13011717615228297, 'black': 0.027580588553127023, 'crack': 0.07961191482245605, 'friends': 0.037831223116758274, 'cold': 0.03980595741122803, 'corner': 0.042085620852069065, 'hold': 0.06624351497425948, 'care': 0.04478189042393316, 'corners': 0.050056591974859274, 'day': 0.029555322847596783, 'chorus': 0.028050105437017157}, {'realest': 0.015085257837911774, 'meds': 0.013264436516703206, 'poupon': 0.016530525027929805, 'grey': 0.016530525027929805, 'elaborate': 0.016530525027929805, 'modest': 0.016530525027929805, 'fakin': 0.016530525027929805, 'fabricate': 0.016530525027929805, 'paged': 0.016530525027929805, 'obama': 0.015085257837911774, 'ac': 0.015085257837911774, 'amaze': 0.015085257837911774, 'polo': 0.016530525027929805, 'couch': 0.016530525027929805, 'marks': 0.014059824447574188, 'afro': 0.016530525027929805, 'photoshop': 0.016530525027929805, 'sandman': 0.03306105005585961, 'frontin': 0.014059824447574188, 'spiral': 0.016530525027929805, 'viral': 0.016530525027929805, 'season': 0.016530525027929805, 'mercedes': 0.014059824447574188, 'bm': 0.015085257837911774, 'diem': 0.016530525027929805, 'tetris': 0.016530525027929805, 'extras': 0.016530525027929805, 'petty': 0.015085257837911774, 'paystub': 0.016530525027929805, 'analysts': 0.016530525027929805, 'aid': 0.016530525027929805, 'tastes': 0.016530525027929805, 'bae': 0.016530525027929805, 'ussé': 0.016530525027929805, 'downin': 0.016530525027929805, 'accountant': 0.016530525027929805, 'parmesan': 0.016530525027929805, 'counterfeits': 0.016530525027929805, 'finesse': 0.016530525027929805, 'allowances': 0.016530525027929805, 'sandwiches': 0.016530525027929805, 'waaaaay': 0.016530525027929805, 'syrup': 0.014059824447574188, 'buy': 0.013264436516703206, 'ride': 0.012614557257556155, 'soprano': 0.015085257837911774, 'levels': 0.015085257837911774, 'lil': 0.28972809668046434, 'ted': 0.015085257837911774, 'alcohol': 0.015085257837911774, 'blew': 0.010793735936347588, 'fact': 0.011169290067538123, 'mama': 0.013264436516703206, 'hol': 0.8435894668544512, 'play': 0.008698589487182508, 'thinkin': 0.011169290067538123, 'crime': 0.011589123867218573, 'somethin': 0.01869693749265911, 'quit': 0.03017051567582355, 'playin': 0.013264436516703206, 'piss': 0.012065092173093503, 'note': 0.012614557257556155, 'cool': 0.009594391592737886, 'evian': 0.015085257837911774, 'stroke': 0.02652887303340641, 'pray': 0.012065092173093503, 'stretch': 0.014059824447574188, 'greatest': 0.012065092173093503, 'socks': 0.012614557257556155, 'funk': 0.05305774606681282, 'pryor': 0.013264436516703206, 'richard': 0.014059824447574188, 'ayy': 0.1452007708779956, 'natural': 0.02522911451511231, 'talk': 0.01823684657372591, 'countin': 0.015085257837911774, 'ooh': 0.010793735936347588, 'pull': 0.01014385667720054, 'stay': 0.008505868635511766, 'pussy': 0.010793735936347588, 'stage': 0.012614557257556155, 'dat': 0.015085257837911774, 'kill': 0.008323035355991971, 'bloods': 0.014059824447574188, 'good': 0.007527647425120987, 'fuckin': 0.008698589487182508, 'went': 0.008902328794226191, 'left': 0.008323035355991971, 'world': 0.006998609144267174, 'gotta': 0.008698589487182508, 'speak': 0.011169290067538123, 'sit': 0.2464636762275813, 'boo': 0.014059824447574188, 'hate': 0.01014385667720054, 'baby': 0.008323035355991971, 'dick': 0.009118423286862956, 'tired': 0.013264436516703206, 'sick': 0.010454005900417682, 'girl': 0.009858547049103251, 'lives': 0.011589123867218573, 'kool': 0.014059824447574188, 'bout': 0.009858547049103251, 'taste': 0.010793735936347588, 'soul': 0.009348468746329556, 'high': 0.007387846468747635, 'remember': 0.010793735936347588, 'right': 0.01839067846347137, 'bitch': 0.22395549261654957, 'ass': 0.016298248805439706, 'crazy': 0.009858547049103251, 'fucking': 0.009858547049103251, 'way': 0.013076076260088065, 'block': 0.009594391592737886, 'nigga': 0.027994436577068696, 'won': 0.01596661064012413, 'watch': 0.008323035355991971, 'break': 0.007983305320062065, 'humble': 0.2122309842672513, 'day': 0.007123691012382271, 'chorus': 0.013521779818033831}, {'apologize': 0.042405869003141826, 'classics': 0.042405869003141826, 'carter': 0.046468630925607414, 'record': 0.031397769700148556, 'evans': 0.042405869003141826, 'clapped': 0.1696234760125673, 'gunned': 0.1696234760125673, 'simmons': 0.046468630925607414, 'russell': 0.042405869003141826, 'attention': 0.035460531622614144, 'faggot': 0.042405869003141826, 'ridin': 0.042405869003141826, 'eminem': 0.033915941225560055, 'irv': 0.046468630925607414, 'kane': 0.042405869003141826, 'stabbed': 0.03952329354507974, 'whack': 0.046468630925607414, 'beans': 0.042405869003141826, 'compared': 0.046468630925607414, 'rat': 0.03728739431381648, 'whiskers': 0.046468630925607414, 'havin': 0.042405869003141826, 'mustache': 0.046468630925607414, 'gro': 0.046468630925607414, 'ne': 0.046468630925607414, 'looks': 0.03728739431381648, 'puss': 0.042405869003141826, 'foxy': 0.046468630925607414, 'pine': 0.046468630925607414, 'fellas': 0.21202934501570914, 'chose': 0.03952329354507974, 'chapter': 0.046468630925607414, 'rocafella': 0.046468630925607414, 'puffy': 0.046468630925607414, 'daddy': 0.032577956164552065, 'diddy': 0.03952329354507974, 'slow': 0.032577956164552065, 'nah': 0.03728739431381648, 'knowledge': 0.030342056933288803, 'brolic': 0.046468630925607414, 'karate': 0.046468630925607414, '36': 0.046468630925607414, 'stan': 0.03952329354507974, 'fan': 0.042405869003141826, 'hangin': 0.07904658709015948, 'shirts': 0.046468630925607414, 'pies': 0.046468630925607414, 'jigga': 0.046468630925607414, 'jaz': 0.13940589277682225, 'wearin': 0.046468630925607414, 'smilin': 0.046468630925607414, 'crib': 0.035460531622614144, 'building': 0.032577956164552065, 'chased': 0.03728739431381648, '88': 0.046468630925607414, 'indirectly': 0.046468630925607414, 'blatant': 0.046468630925607414, 'disrespect': 0.042405869003141826, 'reject': 0.046468630925607414, 'hug': 0.03952329354507974, 'harsh': 0.042405869003141826, 'scared': 0.03728739431381648, 'abused': 0.042405869003141826, 'dissin': 0.042405869003141826, 'concerned': 0.042405869003141826, 'dad': 0.035460531622614144, 'proud': 0.046468630925607414, 'famous': 0.03952329354507974, 'watched': 0.046468630925607414, 'riches': 0.046468630925607414, 'traded': 0.046468630925607414, 'sad': 0.042405869003141826, 'emotions': 0.046468630925607414, 'crown': 0.046468630925607414, 'veteran': 0.042405869003141826, 'great': 0.031397769700148556, 'late': 0.033915941225560055, 'lips': 0.06783188245112011, 'suckin': 0.042405869003141826, 'biggie': 0.1272176070094255, 'blueprint': 0.046468630925607414, 'album': 0.03952329354507974, 'krs': 0.046468630925607414, 'manuscript': 0.046468630925607414, 'dolo': 0.046468630925607414, 'handle': 0.03728739431381648, 'explode': 0.042405869003141826, 'ammo': 0.042405869003141826, 'loadin': 0.046468630925607414, 'slowly': 0.046468630925607414, 'weapon': 0.046468630925607414, 'cockin': 0.046468630925607414, 'gay': 0.046468630925607414, 'callin': 0.08481173800628365, 'hiding': 0.042405869003141826, 'envy': 0.046468630925607414, 'acting': 0.042405869003141826, 'friendly': 0.042405869003141826, 'wishers': 0.046468630925607414, 'stiff': 0.046468630925607414, 'hoped': 0.046468630925607414, 'luck': 0.033915941225560055, 'forgotten': 0.03952329354507974, 'fucked': 0.029387048569834106, 'kneel': 0.046468630925607414, 'faggots': 0.046468630925607414, 'ashes': 0.042405869003141826, 'fame': 0.031397769700148556, 'sophie': 0.046468630925607414, 'hawaiian': 0.09293726185121483, 'judas': 0.042405869003141826, 'chapters': 0.046468630925607414, 'influenced': 0.042405869003141826, 'truest': 0.046468630925607414, 'locked': 0.033915941225560055, 'burner': 0.042405869003141826, 'cartilage': 0.046468630925607414, 'autos': 0.046468630925607414, 'semi': 0.035460531622614144, 'garbage': 0.03952329354507974, 'chest': 0.03952329354507974, 'guts': 0.046468630925607414, 'napalm': 0.042405869003141826, 'embrace': 0.042405869003141826, 'greedy': 0.046468630925607414, 'flossed': 0.046468630925607414, 'south': 0.03728739431381648, 'pac': 0.042405869003141826, 'positive': 0.042405869003141826, 'results': 0.046468630925607414, 'test': 0.042405869003141826, 'waitin': 0.03952329354507974, 'impatiently': 0.046468630925607414, 'event': 0.046468630925607414, 'main': 0.03728739431381648, 'brace': 0.042405869003141826, 'lose': 0.16957970612780027, 'teach': 0.15809317418031896, 'ether': 0.21202934501570914, 'dog': 0.03728739431381648, 'browz': 0.046468630925607414, 'ron': 0.046468630925607414, 'quick': 0.13031182465820826, 'ayo': 0.11186218294144945, 'hoes': 0.035460531622614144, 'prove': 0.1976164677253987, 'watchin': 0.035460531622614144, 'piss': 0.033915941225560055, 'rotten': 0.03952329354507974, 'ugly': 0.032577956164552065, 'phony': 0.03952329354507974, 'work': 0.031397769700148556, 'bread': 0.03728739431381648, 'cock': 0.032577956164552065, 'spit': 0.029387048569834106, 'ask': 0.08313949802202139, 'rocks': 0.035460531622614144, 'kick': 0.06515591232910413, 'called': 0.05703038848417294, 'think': 0.023396719552761125, 'company': 0.03952329354507974, 'pop': 0.02851519424208647, 'belly': 0.17730265811307075, 'gettin': 0.08554558272625941, 'rapper': 0.032577956164552065, 'talkin': 0.029387048569834106, 'west': 0.033915941225560055, 'east': 0.033915941225560055, 'motherfuckin': 0.033915941225560055, 'label': 0.033915941225560055, 'kiss': 0.06279553940029711, 'talk': 0.02563261878402439, 'box': 0.031397769700148556, 'blame': 0.03952329354507974, 'rest': 0.03728739431381648, 'laugh': 0.02851519424208647, 'cars': 0.03728739431381648, 'started': 0.031397769700148556, 'weed': 0.031397769700148556, 'dummy': 0.03952329354507974, 'pussy': 0.030342056933288803, 'case': 0.02851519424208647, 'snakes': 0.035460531622614144, 'stupid': 0.033915941225560055, 'tryna': 0.13031182465820826, 'music': 0.029387048569834106, 'heard': 0.02563261878402439, 'nerve': 0.03952329354507974, 'dome': 0.033915941225560055, 'blows': 0.03952329354507974, 'ran': 0.031397769700148556, 'dame': 0.1272176070094255, 'camel': 0.042405869003141826, 'did': 0.02290784192256678, 'women': 0.035460531622614144, 'child': 0.07092106324522829, 'jail': 0.032577956164552065, 'soldiers': 0.03952329354507974, 'learn': 0.033915941225560055, 'aids': 0.07904658709015948, 'gave': 0.029387048569834106, 'bars': 0.035460531622614144, 'numbers': 0.035460531622614144, 'dead': 0.02563261878402439, 'class': 0.03728739431381648, 'burn': 0.02851519424208647, 'deal': 0.02851519424208647, 'best': 0.05394120769006475, 'beef': 0.031397769700148556, 'style': 0.05703038848417294, 'shots': 0.026970603845032377, 'girls': 0.033915941225560055, 'queens': 0.03728739431381648, 'hands': 0.02851519424208647, 'died': 0.032577956164552065, 'went': 0.025025159843281245, 'guy': 0.035460531622614144, 'dry': 0.035460531622614144, 'kept': 0.06515591232910413, 'left': 0.04679343910552225, 'glad': 0.042405869003141826, 'gonna': 0.02156985686155879, 'damn': 0.05005031968656249, 've': 0.04313971372311758, 'whip': 0.035460531622614144, 'ring': 0.029387048569834106, 'grave': 0.033915941225560055, 'sleep': 0.023910678557243378, 'grow': 0.033915941225560055, 'eyes': 0.02290784192256678, 'feel': 0.020025266464504702, 'peace': 0.025025159843281245, 'throne': 0.03728739431381648, 'king': 0.11955339278621689, 'smile': 0.07092106324522829, 'dick': 0.12816309392012193, 'interlude': 0.05703038848417294, 'pass': 0.02851519424208647, 'try': 0.02290784192256678, 'records': 0.07904658709015948, 'end': 0.02627929501082321, 'ha': 0.035460531622614144, 'chase': 0.033915941225560055, 'soul': 0.15767577006493927, 'lost': 0.13139647505411606, 'gone': 0.060684113866577606, 'oh': 0.02156985686155879, 'tae': 0.042405869003141826, 'money': 0.02156985686155879, 'ho': 0.027713166007340466, 'sound': 0.024452432319620878, 'cash': 0.02563261878402439, 'rhymes': 0.027713166007340466, 'ass': 0.04581568384513356, 'jay': 0.14914957725526592, 'shorty': 0.033915941225560055, 'shawn': 0.042405869003141826, 'bitches': 0.02851519424208647, 'bo': 0.03728739431381648, 'brother': 0.02627929501082321, 'live': 0.021160820321497867, 'rock': 0.04581568384513356, 'wanted': 0.06515591232910413, 'son': 0.14346407134346026, 'god': 0.11212368842098028, 'need': 0.019333957630295533, 'dissed': 0.03728739431381648, 'chains': 0.03728739431381648, 'fat': 0.029387048569834106, 'fake': 0.026970603845032377, 'nigga': 0.05902095392034758, 'love': 0.05336810169972433, 'fella': 0.03952329354507974, 'tec': 0.035460531622614144, 'nas': 0.06279553940029711, 'run': 0.043992608719198856, 'ill': 0.026970603845032377, 'glock': 0.033915941225560055, 'little': 0.043992608719198856, 'come': 0.0350141898781864, 'streets': 0.02851519424208647, 'face': 0.08464328128599147, 'north': 0.03728739431381648, 'break': 0.022441711189306428, 'better': 0.020025266464504702, 'spot': 0.05877409713966821, 'hot': 0.048904864639241756, 'niggas': 0.11804190784069515, 'murdered': 0.033915941225560055, 'chorus': 0.07602161392453133, 'produced': 0.023396719552761125}, {'anybody': 0.06194198158622914, 'warm': 0.036413451700934726, 'bring': 0.017950896740544106, 'motherfucker': 0.023028091261044388, 'queensbridge': 0.03097099079311457, 'motherfuckers': 0.02552852988529442, 'young': 0.019161258799863197, 'bitch': 0.04624962285551945, 'ass': 0.07180358696217642, 'harry': 0.036413451700934726, 'word': 0.018333987905920772, '94': 0.03322981615821912, 'starr': 0.036413451700934726, 'gang': 0.024603719707683352, 'premo': 0.03322981615821912, 'phd': 0.036413451700934726, 'lot': 0.020086068977474263, 'dove': 0.03322981615821912, 'barrio': 0.036413451700934726, 'crazy': 0.021716414101026957, 'oogie': 0.03322981615821912, 'jay': 0.029218909721561086, 'wallethead': 0.036413451700934726, 'slate': 0.036413451700934726, 'hillbillies': 0.036413451700934726, 'draws': 0.03322981615821912, 'forget': 0.026576993191079874, 'kid': 0.019161258799863197, 'lakey': 0.036413451700934726, 'cormega': 0.03322981615821912, 'goodfellas': 0.036413451700934726, 'posse': 0.07282690340186945, '41st': 0.036413451700934726, 'shorty': 0.026576993191079874, 'busters': 0.07282690340186945, 'penn': 0.036413451700934726, 'shawn': 0.03322981615821912, 'lo': 0.03322981615821912, 'cee': 0.03097099079311457, 'vernon': 0.07282690340186945, '40': 0.05557471050079792, 'fucking': 0.021716414101026957, 'living': 0.022344894342578806, 'york': 0.024603719707683352, 'everybody': 0.020086068977474263, 'goes': 0.02778735525039896, 'mind': 0.01690243343475865, 'mothafuckin': 0.03322981615821912, 'outro': 0.015692071375439567, 'ghost': 0.02377644881374093, 'projects': 0.049207439415366705, 'respect': 0.02778735525039896, 'nuff': 0.03322981615821912, 'thugs': 0.026576993191079874, 'bitches': 0.022344894342578806, 'drugs': 0.02552852988529442, 'brain': 0.021716414101026957, 'stop': 0.017950896740544106, 'jakes': 0.036413451700934726, 'way': 0.014401994810508623, 'profit': 0.03322981615821912, 'count': 0.02778735525039896, 'mayo': 0.03322981615821912, 'chop': 0.03322981615821912, 'mike': 0.03097099079311457, 'blow': 0.020086068977474263, 'cooks': 0.036413451700934726, 'bo': 0.029218909721561086, 'big': 0.11496755279917918, 'brother': 0.020592813271025318, 'bokeem': 0.036413451700934726, 'swoop': 0.036413451700934726, 'live': 0.016581906834367287, 'sam': 0.036413451700934726, 'ma': 0.019161258799863197, 'rock': 0.03590179348108821, 'hit': 0.01597762325714758, 'wanted': 0.02552852988529442, 'son': 0.03747346635516899, 'gun': 0.020086068977474263, 'use': 0.02377644881374093, 'grand': 0.026576993191079874, 'god': 0.014643608069654108, 'yard': 0.029218909721561086, 'flash': 0.026576993191079874, 'green': 0.02778735525039896, 'need': 0.015150352363205164, 'nowadays': 0.03322981615821912, 'locks': 0.03322981615821912, 'breaking': 0.03322981615821912, 'factory': 0.03322981615821912, 'candy': 0.03322981615821912, 'spots': 0.036413451700934726, 'cocaine': 0.02552852988529442, 'hanging': 0.029218909721561086, 'wasn': 0.02377644881374093, 'cops': 0.023028091261044388, 'running': 0.02778735525039896, 'plan': 0.02377644881374093, 'different': 0.03097099079311457, 'block': 0.02113453228325972, 'morning': 0.029218909721561086, 'wake': 0.024603719707683352, 'roxanne': 0.036413451700934726, 'dissed': 0.029218909721561086, 'shante': 0.036413451700934726, 'shan': 0.036413451700934726, 'mc': 0.021716414101026957, 'conflict': 0.03322981615821912, 'bdp': 0.036413451700934726, 'stacks': 0.02552852988529442, 'doubt': 0.029218909721561086, 'beck': 0.036413451700934726, 'heines': 0.036413451700934726, 'kicks': 0.02778735525039896, 'chicks': 0.03097099079311457, 'new': 0.048821859579620396, 'fly': 0.046056182522088776, 'tecs': 0.03322981615821912, 'sex': 0.02778735525039896, 'chains': 0.029218909721561086, 'fat': 0.046056182522088776, 'frames': 0.036413451700934726, 'black': 0.029287216139308216, 'cazals': 0.036413451700934726, 'bally': 0.03322981615821912, 'sport': 0.036413451700934726, 'used': 0.04017213795494853, 'reminds': 0.036413451700934726, 'game': 0.032547906386413604, 'rap': 0.017236603498812116, 'elevator': 0.02778735525039896, 'pissing': 0.03322981615821912, 'accelerator': 0.036413451700934726, 'sizer': 0.036413451700934726, 'crew': 0.08686565640410783, 'brutalizer': 0.036413451700934726, 'blunts': 0.029218909721561086, 'hennessy': 0.036413451700934726, 'guzzle': 0.03097099079311457, 'stunts': 0.036413451700934726, 'crab': 0.05843781944312217, 'fake': 0.02113453228325972, 'stress': 0.029218909721561086, 'liked': 0.03322981615821912, 'drop': 0.02113453228325972, 'school': 0.02377644881374093, 'tongue': 0.029218909721561086, 'razor': 0.026576993191079874, 'raps': 0.024603719707683352, 'nigga': 0.030833081903679633, 'crack': 0.04226906456651944, 'sell': 0.02377644881374093, 'friends': 0.020086068977474263, 'sins': 0.03322981615821912, 'committing': 0.036413451700934726, 'love': 0.027879980607772154, 'turned': 0.023028091261044388, 'hat': 0.03322981615821912, 'bop': 0.036413451700934726, 'walking': 0.03322981615821912, 'cold': 0.02113453228325972, 'guess': 0.018736733177584494, 'dress': 0.02778735525039896, 'blessed': 0.03322981615821912, 'rolling': 0.026576993191079874, 'dweller': 0.036413451700934726, 'smoking': 0.029218909721561086, 'marijuana': 0.03097099079311457, 'drinking': 0.03322981615821912, 'moët': 0.036413451700934726, 'fella': 0.03097099079311457, 'type': 0.04755289762748186, 'legal': 0.03322981615821912, 'pressure': 0.02778735525039896, 'police': 0.024603719707683352, 'dresser': 0.036413451700934726, 'tec': 0.02778735525039896, 'pulling': 0.07282690340186945, 'corner': 0.04468978868515761, 'street': 0.041185626542050637, 'rebel': 0.029218909721561086, 'nas': 0.07381115912305006, 'backwards': 0.03097099079311457, 'facts': 0.029218909721561086, 'believe': 0.022344894342578806, 'gods': 0.026576993191079874, 'run': 0.017236603498812116, 'won': 0.017585630353224233, 'leave': 0.021716414101026957, 'clap': 0.03322981615821912, 'trap': 0.03097099079311457, 'til': 0.018736733177584494, 'happen': 0.03097099079311457, 'thinking': 0.026576993191079874, 'runners': 0.03322981615821912, 'ill': 0.02113453228325972, 'wannabe': 0.03322981615821912, 'fronters': 0.036413451700934726, 'glock': 0.026576993191079874, 'hold': 0.017585630353224233, 'spark': 0.02778735525039896, 'vodka': 0.03322981615821912, 'little': 0.017236603498812116, 'drink': 0.026576993191079874, 'helicopters': 0.03322981615821912, 'come': 0.02743759578408608, 'coppers': 0.036413451700934726, 'killer': 0.02552852988529442, 'knock': 0.02552852988529442, 'watch': 0.018333987905920772, 'tryin': 0.023028091261044388, 'roof': 0.03322981615821912, 'brothers': 0.02552852988529442, 'chasing': 0.03322981615821912, 'homicide': 0.036413451700934726, 'undercovers': 0.03322981615821912, 'filled': 0.02778735525039896, 'streets': 0.04468978868515761, 'face': 0.016581906834367287, 'pounders': 0.036413451700934726, 'north': 0.029218909721561086, 'break': 0.017585630353224233, 'better': 0.015692071375439567, 'ay': 0.03097099079311457, 'towners': 0.036413451700934726, 'stare': 0.03097099079311457, 'beers': 0.029218909721561086, 'guzzling': 0.036413451700934726, 'care': 0.02377644881374093, 'criminals': 0.036413451700934726, 'mad': 0.03747346635516899, 'spot': 0.06908427378313317, 'hot': 0.019161258799863197, 'corners': 0.026576993191079874, 'tumble': 0.036413451700934726, 'niggas': 0.0924992457110389, 'blast': 0.03097099079311457, 'll': 0.04051099894562156, 'guns': 0.024603719707683352, 'humble': 0.029218909721561086, 'murdered': 0.026576993191079874, 'jungle': 0.05843781944312217, 'day': 0.0470762141263187, 'real': 0.06894641399524847, 'straight': 0.019161258799863197, 'represent': 0.8336206575119689, 'chorus': 0.05957157143922987, 'premier': 0.029218909721561086, 'dj': 0.02552852988529442, 'produced': 0.018333987905920772}, {'longevity': 0.03347076341181, 'felonies': 0.03347076341181, 'jealousies': 0.03347076341181, 'infinit': 0.03347076341181, 'scrambler': 0.03347076341181, 'atlanta': 0.03347076341181, 'gat': 0.03054440770911983, 'marinate': 0.03347076341181, 'papes': 0.03347076341181, 'seats': 0.03347076341181, 'attica': 0.03347076341181, 'willies': 0.03347076341181, 'scott': 0.03347076341181, 'coretta': 0.03347076341181, 'indies': 0.03347076341181, 'breeze': 0.03347076341181, 'skis': 0.03347076341181, 'm3': 0.03347076341181, 'prisoners': 0.03347076341181, 'political': 0.03347076341181, 'lavish': 0.03347076341181, 'paris': 0.03347076341181, 'trips': 0.03347076341181, 'tricking': 0.03347076341181, 'controllin': 0.03347076341181, 'owl': 0.03347076341181, 'depression': 0.03347076341181, 'stretches': 0.03347076341181, 'sexes': 0.03347076341181, 'breakfast': 0.03347076341181, 'villa': 0.03347076341181, 'iller': 0.03347076341181, 'shabazz': 0.03347076341181, 'tribe': 0.03347076341181, 'deranged': 0.03347076341181, 'saxon': 0.03347076341181, 'anglo': 0.03347076341181, 'latino': 0.03347076341181, 'relaxin': 0.03347076341181, 'pearls': 0.16735381705905, 'ruled': 0.63594450482439, 'lauryn': 0.16735381705905, 'blimp': 0.03347076341181, 'rubbers': 0.03347076341181, 'parole': 0.03347076341181, 'roles': 0.03347076341181, 'diamond': 0.03347076341181, 'clique': 0.03054440770911983, 'lacing': 0.03347076341181, 'fashion': 0.03347076341181, 'evidently': 0.03347076341181, 'cobra': 0.03347076341181, 'colder': 0.03347076341181, 'shorter': 0.03347076341181, 'supporters': 0.03347076341181, 'welfare': 0.03347076341181, 'waters': 0.03347076341181, 'bahama': 0.03347076341181, 'cruising': 0.03347076341181, 'trial': 0.03347076341181, 'harassin': 0.03347076341181, 'trackmasters': 0.03054440770911983, 'rashad': 0.03347076341181, 'glimpse': 0.03054440770911983, 'hammer': 0.028468125295550428, 'hunger': 0.03054440770911983, 'limit': 0.03054440770911983, 'seeing': 0.028468125295550428, 'foul': 0.06108881541823966, 'rollin': 0.028468125295550428, 'civilized': 0.03054440770911983, 'exchange': 0.03054440770911983, 'strictly': 0.03054440770911983, 'strike': 0.028468125295550428, 'diamonds': 0.22774500236440343, 'benz': 0.028468125295550428, 'brand': 0.03054440770911983, 'millionaire': 0.03054440770911983, 'making': 0.028468125295550428, 'chips': 0.028468125295550428, 'paradise': 0.03054440770911983, 'armani': 0.03054440770911983, 'jake': 0.028468125295550428, 'designer': 0.028468125295550428, 'daughters': 0.028468125295550428, 'sons': 0.14234062647775214, 'eventually': 0.028468125295550428, 'shine': 0.09771688315646113, 'conscious': 0.03054440770911983, 'town': 0.02685763553737208, 'savage': 0.03054440770911983, 'mistakes': 0.028468125295550428, 'raise': 0.05371527107474416, 'path': 0.028468125295550428, 'plate': 0.025541769592860256, 'today': 0.09771688315646113, 'trife': 0.02685763553737208, 'history': 0.02685763553737208, 'purple': 0.028468125295550428, 'africa': 0.028468125295550428, 'trooping': 0.03054440770911983, 'reverse': 0.028468125295550428, 'cocked': 0.02685763553737208, 'laced': 0.02442922078911528, 'breaks': 0.03054440770911983, 'smith': 0.03054440770911983, 'knocked': 0.03054440770911983, '45': 0.028468125295550428, 'kids': 0.021167117052081078, 'thoughts': 0.021854997421112507, 'holdin': 0.02685763553737208, 'nights': 0.028468125295550428, 'imagine': 0.21486108429897663, 'wise': 0.03054440770911983, 'lifestyle': 0.028468125295550428, 'sounds': 0.025541769592860256, 'click': 0.028468125295550428, 'stack': 0.028468125295550428, 'lies': 0.02442922078911528, 'send': 0.028468125295550428, 'trees': 0.02442922078911528, 'knowledge': 0.021854997421112507, 'chased': 0.02685763553737208, 'garbage': 0.028468125295550428, 'flashin': 0.03054440770911983, 'carry': 0.02442922078911528, 'clothes': 0.02261541389017008, 'safe': 0.02685763553737208, 'release': 0.025541769592860256, 'reality': 0.02685763553737208, 'coke': 0.028468125295550428, 'cooked': 0.028468125295550428, 'whips': 0.028468125295550428, 'work': 0.02261541389017008, 'wait': 0.01846284906303128, 'having': 0.028468125295550428, 'ace': 0.02685763553737208, 'heat': 0.021854997421112507, 'court': 0.02261541389017008, 'mayor': 0.03054440770911983, 'elementary': 0.03054440770911983, 'days': 0.10927498710556253, 'wouldn': 0.02261541389017008, 'struck': 0.023465487179290857, 'weight': 0.02442922078911528, 'west': 0.02442922078911528, 'going': 0.021167117052081078, 'moves': 0.03054440770911983, 'vision': 0.028468125295550428, 'duck': 0.02685763553737208, 'crash': 0.023465487179290857, 'laugh': 0.02053913147660068, 'open': 0.03885316534571141, 'meet': 0.023465487179290857, 'blue': 0.021854997421112507, 'weed': 0.02261541389017008, 'fiends': 0.02442922078911528, 'place': 0.01892864171842233, 'destiny': 0.03054440770911983, 'read': 0.02053913147660068, 'car': 0.02053913147660068, 'dime': 0.025541769592860256, 'worry': 0.028468125295550428, 'rich': 0.021167117052081078, 'snakes': 0.025541769592860256, 'wind': 0.023465487179290857, 'raw': 0.02442922078911528, 'child': 0.025541769592860256, 'digits': 0.03054440770911983, 'state': 0.04107826295320136, 'livin': 0.019961440747176113, 'hill': 0.12770884796430126, 'mandatory': 0.03054440770911983, 'story': 0.02261541389017008, 'law': 0.02442922078911528, 'cities': 0.03054440770911983, 'set': 0.01892864171842233, 'poor': 0.02442922078911528, 'forth': 0.028468125295550428, 'free': 0.17483997936890006, 'holding': 0.02261541389017008, 'flip': 0.021167117052081078, 'dollars': 0.023465487179290857, 'gold': 0.01846284906303128, 'sky': 0.021854997421112507, 'getting': 0.01846284906303128, 'walk': 0.08215652590640272, 'sun': 0.09771688315646113, 'trying': 0.019961440747176113, 'world': 0.19838952887291675, 'cell': 0.021167117052081078, 'push': 0.02442922078911528, 'hear': 0.017222557434208943, 'eyes': 0.01650022697016553, 'turn': 0.015843658065437048, 'people': 0.01650022697016553, 'things': 0.021854997421112507, 'feel': 0.014423944556596133, 'king': 0.017222557434208943, 'baby': 0.10111415582911758, 'plus': 0.01892864171842233, 'girl': 0.019961440747176113, 'wonder': 0.025541769592860256, 'house': 0.021167117052081078, 'land': 0.05371527107474416, 'shot': 0.01846284906303128, 'bridge': 0.017612775773910506, 'feeling': 0.021854997421112507, 'want': 0.030483739093349164, 'told': 0.015536493360341104, 'old': 0.01468642007122033, 'lost': 0.01892864171842233, 'gone': 0.021854997421112507, 'dough': 0.023465487179290857, 'jet': 0.02442922078911528, 'thing': 0.016852359304852932, 'thought': 0.019961440747176113, 'years': 0.021167117052081078, 'times': 0.07770633069142283, 'cash': 0.01846284906303128, 'hand': 0.07571456687368933, 'right': 0.04964956622518988, 'living': 0.1026956573830034, 'everybody': 0.01846284906303128, 'mind': 0.015536493360341104, 'outro': 0.014423944556596133, 'thugs': 0.02442922078911528, 'way': 0.02647624646626266, 'live': 0.015241869546674582, 'son': 0.017222557434208943, 'cops': 0.021167117052081078, 'running': 0.025541769592860256, 'plan': 0.021854997421112507, 'kicks': 0.025541769592860256, 'new': 0.01495880263091654, 'black': 0.12114189852094535, 'crew': 0.019961440747176113, 'stress': 0.02685763553737208, 'nigga': 0.014170680633779768, 'love': 0.1665749123794312, 'smoking': 0.02685763553737208, 'type': 0.021854997421112507, 'nas': 0.15830789723119057, 'won': 0.032328957871643006, 'watch': 0.016852359304852932, 'undercovers': 0.03054440770911983, 'streets': 0.02053913147660068, 'better': 0.028847889113192266, 'hot': 0.017612775773910506, 'll': 0.04964956622518988, 'chorus': 0.04106805069088694, 'produced': 0.016852359304852932}, {'nude': 0.05621131861006183, 'dude': 0.04780981065566947, 'screwed': 0.05621131861006183, 'sweater': 0.0512967515072318, 'cosby': 0.05621131861006183, 'iron': 0.037980676450009396, 'punk': 0.037980676450009396, 'thunk': 0.05621131861006183, 'overproof': 0.05621131861006183, 'monk': 0.05621131861006183, 'lab': 0.042895243552839434, 'scooby': 0.05621131861006183, 'villain': 0.03940830270127712, 'ruby': 0.05621131861006183, 'glow': 0.05621131861006183, 'doobie': 0.05621131861006183, 'ale': 0.05621131861006183, 'sippin': 0.04510512920573092, 'tail': 0.0512967515072318, 'whippin': 0.0512967515072318, 'dippin': 0.05621131861006183, 'bail': 0.0512967515072318, 'skippin': 0.05621131861006183, 'peoples': 0.04780981065566947, 'sales': 0.05621131861006183, 'shippin': 0.05621131861006183, 'counted': 0.05621131861006183, 'orders': 0.05621131861006183, 'pre': 0.04510512920573092, 'scales': 0.05621131861006183, 'tippin': 0.05621131861006183, 'nails': 0.04780981065566947, 'chippin': 0.05621131861006183, 'chippendales': 0.05621131861006183, 'jerks': 0.05621131861006183, 'males': 0.05621131861006183, 'strippin': 0.05621131861006183, 'rhymers': 0.05621131861006183, 'yuck': 0.05621131861006183, 'button': 0.04510512920573092, 'shutting': 0.05621131861006183, 'meal': 0.0512967515072318, 'twirl': 0.05621131861006183, 'ballers': 0.05621131861006183, 'appeal': 0.05621131861006183, 'veal': 0.05621131861006183, 'halal': 0.05621131861006183, 'squeal': 0.0512967515072318, 'bills': 0.0512967515072318, 'collar': 0.04780981065566947, 'flea': 0.05621131861006183, 'pills': 0.042895243552839434, 'jello': 0.05621131861006183, 'devil': 0.042895243552839434, 'yello': 0.05621131861006183, 'mello': 0.05621131861006183, 'commercial': 0.0512967515072318, 'mil': 0.0512967515072318, 'spiritual': 0.0512967515072318, 'negro': 0.04780981065566947, 'crowd': 0.034493735598447074, 'proceed': 0.05621131861006183, 'miracle': 0.05621131861006183, 'mineral': 0.05621131861006183, 'vegetable': 0.05621131861006183, 'animal': 0.04780981065566947, 'cynical': 0.05621131861006183, 'dressed': 0.0512967515072318, 'cannibal': 0.05621131861006183, 'rhyming': 0.0512967515072318, 'cares': 0.0512967515072318, 'note': 0.042895243552839434, 'wrote': 0.042895243552839434, 'gotten': 0.0512967515072318, 'rotten': 0.04780981065566947, 'fears': 0.05621131861006183, 'swears': 0.05621131861006183, 'odd': 0.0512967515072318, 'squares': 0.05621131861006183, 'lard': 0.0512967515072318, 'sugar': 0.04102681185598469, 'colored': 0.0512967515072318, 'feeding': 0.0512967515072318, 'gears': 0.05621131861006183, 'rod': 0.05621131861006183, 'loaded': 0.04780981065566947, 'bell': 0.042895243552839434, 'cheap': 0.04510512920573092, 'fell': 0.04102681185598469, 'jar': 0.0512967515072318, 'cooker': 0.05621131861006183, 'carvel': 0.05621131861006183, 'barred': 0.05621131861006183, 'card': 0.04780981065566947, 'tit': 0.05621131861006183, 'hole': 0.04780981065566947, 'whips': 0.04780981065566947, 'joints': 0.04780981065566947, 'gorgeous': 0.05621131861006183, 'flows': 0.0512967515072318, 'ugly': 0.03940830270127712, 'flesh': 0.04780981065566947, 'cover': 0.0512967515072318, 'mask': 0.09021025841146184, 'wears': 0.04780981065566947, 'stewed': 0.05621131861006183, 'seaweed': 0.05621131861006183, 'meat': 0.04780981065566947, 'mystery': 0.0512967515072318, 'week': 0.04780981065566947, 'mood': 0.04780981065566947, 'tv': 0.042895243552839434, 'feud': 0.05621131861006183, 'glued': 0.05621131861006183, 'pc': 0.05621131861006183, 'boil': 0.05621131861006183, 'foil': 0.05621131861006183, 'brillo': 0.05621131861006183, 'batteries': 0.05621131861006183, 'toilet': 0.05621131861006183, 'milk': 0.04780981065566947, 'justice': 0.04780981065566947, 'wealth': 0.05621131861006183, 'discuss': 0.05621131861006183, 'pardon': 0.05621131861006183, 'disgusting': 0.05621131861006183, 'bullpen': 0.05621131861006183, 'bologna': 0.05621131861006183, 'phony': 0.04780981065566947, 'easy': 0.04102681185598469, 'squeeze': 0.04102681185598469, 'arteries': 0.0512967515072318, 'starting': 0.0512967515072318, 'disease': 0.05621131861006183, 'fry': 0.05621131861006183, 'diet': 0.05621131861006183, 'suggest': 0.0512967515072318, 'grief': 0.0512967515072318, 'dukes': 0.04780981065566947, 'mom': 0.04102681185598469, 'wreath': 0.05621131861006183, 'capped': 0.05621131861006183, 'teeth': 0.04780981065566947, 'lead': 0.07881660540255424, 'plans': 0.04510512920573092, 'special': 0.0512967515072318, 'tried': 0.03352355283774239, 'traitor': 0.05621131861006183, 'prisoner': 0.05621131861006183, 'work': 0.07596135290001879, 'dissappoint': 0.05621131861006183, 'choose': 0.04780981065566947, 'rights': 0.11242263722012366, 'testing': 0.0512967515072318, 'casualty': 0.0512967515072318, 'intercoms': 0.05621131861006183, 'complete': 0.0512967515072318, 'doomsday': 0.0512967515072318, 'operation': 0.05621131861006183, 'thank': 0.04780981065566947, 'save': 0.037980676450009396, 'arrested': 0.0512967515072318, 'store': 0.04780981065566947, 'fast': 0.04510512920573092, 'protein': 0.05621131861006183, 'fish': 0.042895243552839434, 'procedure': 0.05621131861006183, 'storage': 0.05621131861006183, 'regular': 0.04510512920573092, 'butter': 0.1025935030144636, 'bread': 0.09021025841146184, 'soup': 0.05621131861006183, 'comfort': 0.05621131861006183, 'munch': 0.05621131861006183, 'guys': 0.042895243552839434, 'alright': 0.03940830270127712, 'cool': 0.06525060780318466, 'bank': 0.04102681185598469, 'lunch': 0.04510512920573092, 'wait': 0.09302038424065427, 'eaten': 0.05621131861006183, 'haven': 0.0512967515072318, 'fingers': 0.04510512920573092, 'snack': 0.04780981065566947, 'shut': 0.07596135290001879, 'hooker': 0.0512967515072318, 'stroke': 0.04510512920573092, 'skit': 0.2364498162076627, 'hollow': 0.04780981065566947, 'bird': 0.037980676450009396, 'ask': 0.03352355283774239, 'faster': 0.04510512920573092, 'drunk': 0.04510512920573092, 'heat': 0.03670362125133856, 'pair': 0.04102681185598469, 'eat': 0.03262530390159233, 'aw': 0.04102681185598469, 'wouldn': 0.037980676450009396, 'happened': 0.08579048710567887, 'dig': 0.04510512920573092, 'smell': 0.042895243552839434, 'lyrical': 0.042895243552839434, 'bit': 0.035548384302796505, 'metal': 0.04510512920573092, 'talk': 0.06201358949376951, 'couldn': 0.034493735598447074, 'bleeding': 0.04510512920573092, 'bra': 0.0512967515072318, 'coated': 0.0512967515072318, 'problem': 0.03940830270127712, 'change': 0.04102681185598469, 'damage': 0.042895243552839434, 'dollar': 0.03670362125133856, 'course': 0.042895243552839434, 'cd': 0.04780981065566947, 'kill': 0.028302113296946197, 'buddha': 0.04510512920573092, 'hour': 0.037980676450009396, 'start': 0.03178905414850852, 'raw': 0.04102681185598469, 'did': 0.02771073679876229, 'jail': 0.03940830270127712, 'pretty': 0.03940830270127712, 'krills': 0.04780981065566947, 'year': 0.037980676450009396, 'talking': 0.03940830270127712, 'babies': 0.04780981065566947, 'half': 0.034493735598447074, 'bars': 0.042895243552839434, 'blood': 0.03027197499040627, 'dead': 0.031006794746884756, 'hell': 0.06054394998081254, 'beats': 0.037980676450009396, 'deal': 0.034493735598447074, 'beef': 0.037980676450009396, 'shots': 0.03262530390159233, 'good': 0.025597431847007645, 'took': 0.029579168495617036, 'troubled': 0.0512967515072318, 'went': 0.03027197499040627, 'kicked': 0.04780981065566947, 'crap': 0.04780981065566947, 'getting': 0.031006794746884756, 'gonna': 0.05218445528810943, 'food': 0.4177874409501034, 've': 0.026092227644054715, 'hungry': 0.042895243552839434, 'hook': 0.05119486369401529, 'hear': 0.028923829770575754, 'turn': 0.02660808480845454, 'light': 0.03178905414850852, 'people': 0.08313221039628686, 'hard': 0.029579168495617036, 'swallow': 0.042895243552839434, 'follow': 0.04780981065566947, 'shirt': 0.04780981065566947, 'bust': 0.03670362125133856, 'couple': 0.03670362125133856, 'cop': 0.03940830270127712, 'body': 0.03027197499040627, 'attack': 0.03670362125133856, 'try': 0.02771073679876229, 'maybe': 0.031006794746884756, 'yes': 0.06704710567548477, 'ah': 0.042895243552839434, 'doom': 0.08205362371196938, 'ya': 0.027146876348404143, 'bout': 0.03352355283774239, 'tell': 0.04932920278557399, 'self': 0.04102681185598469, 'old': 0.04932920278557399, 'heart': 0.06054394998081254, 'thanks': 0.042895243552839434, 'really': 0.03027197499040627, 'oh': 0.026092227644054715, 'head': 0.025597431847007645, 'seen': 0.03352355283774239, 'friend': 0.035548384302796505, 'years': 0.035548384302796505, 'high': 0.025122044883350025, 'rappers': 0.035548384302796505, 'hand': 0.03178905414850852, 'young': 0.029579168495617036, 'goes': 0.042895243552839434, 'mind': 0.026092227644054715, 'stop': 0.02771073679876229, 'way': 0.022232309245574105, 'big': 0.029579168495617036, 'brother': 0.03178905414850852, 'ma': 0.029579168495617036, 'hit': 0.024664601392786995, 'god': 0.022605286792492397, 'need': 0.07016263858234849, 'morning': 0.04510512920573092, 'new': 0.025122044883350025, 'rap': 0.02660808480845454, 'drop': 0.03262530390159233, 'sell': 0.03670362125133856, 'cold': 0.03262530390159233, 'fella': 0.04780981065566947, 'pressure': 0.042895243552839434, 'believe': 0.034493735598447074, 'til': 0.028923829770575754, 'little': 0.05321616961690908, 'drink': 0.04102681185598469, 'come': 0.042355321082449354, 'watch': 0.028302113296946197, 'streets': 0.034493735598447074, 'better': 0.04844759189439995, 'beers': 0.04510512920573092, 'll': 0.12507337605051913, 'day': 0.024223795947199974, 'real': 0.02660808480845454, 'produced': 0.028302113296946197}, {'worldwide': 0.032679231127628036, 'isle': 0.03506264458302227, 'shaolin': 0.02931999853408554, 'jeruz': 0.03842187717656476, 'bronx': 0.03506264458302227, 'missing': 0.032679231127628036, 'joint': 0.03506264458302227, 'exorcist': 0.03842187717656476, 'wicked': 0.030830512025481396, 'timex': 0.03842187717656476, 'rollies': 0.03842187717656476, 'lexus': 0.03842187717656476, 'train': 0.030830512025481396, 'riding': 0.032679231127628036, 'eses': 0.07684375435312953, 'breast': 0.03842187717656476, 'asked': 0.030830512025481396, 'es': 0.07684375435312953, 'sexist': 0.03842187717656476, 'confess': 0.03842187717656476, 'best': 0.02230023152544759, 'slated': 0.03842187717656476, 'rated': 0.032679231127628036, 'obligated': 0.03842187717656476, 'agree': 0.032679231127628036, 'everyday': 0.032679231127628036, 'free': 0.02508786597654467, 'minds': 0.030830512025481396, 'ignorant': 0.03506264458302227, '12pm': 0.03842187717656476, 'pumping': 0.03506264458302227, 'mausoleum': 0.03842187717656476, 'beef': 0.02596076594054305, 'heads': 0.02596076594054305, 'bms': 0.03842187717656476, 'fives': 0.03842187717656476, 'notorious': 0.03842187717656476, 'uptown': 0.032679231127628036, 'girlies': 0.03842187717656476, 'craps': 0.07012528916604455, 'shooting': 0.07684375435312953, 'brooklyn': 0.030830512025481396, 'point': 0.05387317015738262, 'missin': 0.03842187717656476, 'wall': 0.0519215318810861, 'holding': 0.0519215318810861, 'anoint': 0.03842187717656476, 'lyrics': 0.032679231127628036, 'greater': 0.03842187717656476, 'style': 0.023577352485148813, 'shots': 0.02230023152544759, 'waiter': 0.03842187717656476, 'tips': 0.03842187717656476, 'flip': 0.024298231909167228, 'dollars': 0.02693658507869131, 'raider': 0.03842187717656476, 'tomb': 0.032679231127628036, 'control': 0.02693658507869131, 'room': 0.023577352485148813, 'motivate': 0.03506264458302227, 'good': 0.0174965008254613, 'hood': 0.02291420769879001, 'wood': 0.03506264458302227, 'platinum': 0.03506264458302227, 'sold': 0.05608575514876863, 'gold': 0.021193939029754583, 'loot': 0.030830512025481396, 'underground': 0.03506264458302227, 'took': 0.02021811989160632, 'goals': 0.03842187717656476, 'term': 0.032679231127628036, 'long': 0.04138334178003908, 'pain': 0.02230023152544759, 'alleviated': 0.03842187717656476, 'deviated': 0.03842187717656476, 'strayed': 0.03842187717656476, 'inebriated': 0.03842187717656476, 'changed': 0.02931999853408554, 'fuckin': 0.02021811989160632, 'witty': 0.10518793374906682, 'calm': 0.09803769338288411, 'midst': 0.11526563152969428, 'shitty': 0.10518793374906682, 'fool': 0.09803769338288411, 'pity': 0.11526563152969428, 'committee': 0.11526563152969428, 'gritty': 0.11526563152969428, 'city': 0.06358181708926375, 'titties': 0.23053126305938856, 'rub': 0.2454385120811559, 'girls': 0.08412863272315295, 'gnac': 0.03842187717656476, 'sipping': 0.028042877574384315, 'queens': 0.030830512025481396, 'buh': 0.5763281576484715, 'sky': 0.075263597929634, 'hands': 0.07073205745544643, 'throw': 0.04582841539758002, 'says': 0.09803769338288411, 'simon': 0.11526563152969428, 'ahhh': 0.03842187717656476, 'monch': 0.05608575514876863, 'pharoahe': 0.05608575514876863, 'said': 0.04795796200219635, 'damn': 0.02069167089001954, 'soon': 0.024298231909167228, 'original': 0.02931999853408554, 'hook': 0.052489502476383905, 'world': 0.016266857858022427, 'act': 0.08412863272315295, 'round': 0.02693658507869131, 'hard': 0.02021811989160632, 'tired': 0.030830512025481396, 'star': 0.02693658507869131, 'song': 0.023577352485148813, 'uh': 0.5041125693733802, 'ya': 0.0185555858602305, 'old': 0.016858887298063823, 'thing': 0.01934521992760794, 'clock': 0.028042877574384315, 'range': 0.02596076594054305, 'york': 0.07788229782162916, 'outro': 0.016557585476510865, 'stop': 0.018940998931905095, 'rock': 0.018940998931905095, 'plan': 0.02508786597654467, 'block': 0.02230023152544759, 'new': 0.06868624659941314, 'game': 0.017171561649853284, 'street': 0.021728633383002176, 'til': 0.01977017907425507, 'produced': 0.01934521992760794}, {'instrumental': 1.0}, {'outlandish': 0.04684396108539354, 'cypher': 0.042748383970159023, 'optics': 0.042748383970159023, 'fiber': 0.04684396108539354, 'suicide': 0.039842525762299505, 'yea': 0.04684396108539354, 'revolution': 0.03758856702725876, 'scratches': 0.042748383970159023, 'militia': 0.042748383970159023, 'picture': 0.032841090439205474, 'behavior': 0.04684396108539354, 'syndicatin': 0.04684396108539354, 'spillin': 0.042748383970159023, 'willin': 0.04684396108539354, 'dylan': 0.04684396108539354, 'godzilla': 0.042748383970159023, 'dark': 0.030587131704164723, 'killin': 0.039842525762299505, 'parkside': 0.04684396108539354, 'cheeba': 0.08549676794031805, 'hollerin': 0.04684396108539354, 'seater': 0.04684396108539354, 'european': 0.04684396108539354, 'exotic': 0.04684396108539354, 'hoppin': 0.04684396108539354, 'cheetah': 0.042748383970159023, 'adidas': 0.042748383970159023, 'trotter': 0.04684396108539354, 'mr': 0.03758856702725876, 'hoes': 0.035746948647064986, 'coat': 0.03758856702725876, 'rhode': 0.04684396108539354, 'lazarus': 0.04684396108539354, 'rise': 0.032841090439205474, 'vocalize': 0.04684396108539354, 'nazareth': 0.04684396108539354, 'jesus': 0.035746948647064986, 'miraculous': 0.04684396108539354, 'dyin': 0.04684396108539354, 'massa': 0.04684396108539354, 'sadomasochist': 0.04684396108539354, 'lobster': 0.042748383970159023, 'barrel': 0.039842525762299505, 'monster': 0.042748383970159023, 'alien': 0.039842525762299505, 'extraterrestrial': 0.04684396108539354, 'human': 0.035746948647064986, 'higher': 0.04684396108539354, 'species': 0.04684396108539354, 'attire': 0.04684396108539354, 'prove': 0.039842525762299505, 'answer': 0.039842525762299505, 'actual': 0.042748383970159023, 'whats': 0.04684396108539354, 'anthems': 0.04684396108539354, 'stood': 0.042748383970159023, 'cam': 0.04684396108539354, 'tactical': 0.04684396108539354, 'ransom': 0.042748383970159023, 'handsome': 0.04684396108539354, 'totally': 0.042748383970159023, 'cancer': 0.04684396108539354, 'ovary': 0.039842525762299505, 'womb': 0.039842525762299505, 'seed': 0.039842525762299505, 'chances': 0.04684396108539354, 'enhancement': 0.04684396108539354, 'advancement': 0.04684396108539354, 'association': 0.04684396108539354, 'watchin': 0.035746948647064986, 'quit': 0.08549676794031805, 'listen': 0.02718844716963753, 'pistol': 0.039842525762299505, 'wave': 0.039842525762299505, 'fees': 0.04684396108539354, 'doctor': 0.039842525762299505, 'waive': 0.04684396108539354, 'psychiatrist': 0.04684396108539354, 'apostrophes': 0.04684396108539354, 'possessive': 0.04684396108539354, 'depressive': 0.04684396108539354, 'manic': 0.04684396108539354, 'sleeves': 0.042748383970159023, 'downs': 0.042748383970159023, 'socrates': 0.04684396108539354, 'greece': 0.042748383970159023, 'ancient': 0.042748383970159023, 'sending': 0.042748383970159023, 'triggers': 0.042748383970159023, 'follicle': 0.04684396108539354, 'diabolical': 0.04684396108539354, 'awkwardly': 0.04684396108539354, 'clip': 0.039842525762299505, 'extended': 0.04684396108539354, 'properly': 0.09368792217078709, 'stock': 0.07149389729412997, 'aim': 0.031651371531830466, 'monopolies': 0.04684396108539354, 'globe': 0.08549676794031805, 'bang': 0.030587131704164723, 'properties': 0.04684396108539354, 'copper': 0.04684396108539354, 'mockery': 0.04684396108539354, 'philosophical': 0.04684396108539354, 'possible': 0.042748383970159023, 'copy': 0.03758856702725876, 'atrocities': 0.04684396108539354, 'environmental': 0.04684396108539354, 'isosceles': 0.04684396108539354, 'mephistopheles': 0.04684396108539354, 'prophecy': 0.04684396108539354, 'philosophy': 0.04684396108539354, 'teams': 0.04684396108539354, 'soccer': 0.04684396108539354, 'uk': 0.04684396108539354, 'referencing': 0.04684396108539354, 'united': 0.04684396108539354, 'philanthropic': 0.04684396108539354, 'significance': 0.04684396108539354, 'megaphone': 0.04684396108539354, 'chewbacca': 0.04684396108539354, 'magnifying': 0.04684396108539354, 'twice': 0.039842525762299505, 'vocally': 0.04684396108539354, 'capillaries': 0.04684396108539354, 'cap': 0.08549676794031805, 'snap': 0.035746948647064986, 'adversaries': 0.04684396108539354, 'calibers': 0.04684396108539354, 'ex': 0.06837976498546314, 'release': 0.035746948647064986, 'divorce': 0.04684396108539354, 'file': 0.04684396108539354, 'silencer': 0.039842525762299505, 'married': 0.039842525762299505, 'monogamous': 0.04684396108539354, 'relationship': 0.042748383970159023, 'ammunition': 0.042748383970159023, 'anonymous': 0.04684396108539354, 'names': 0.042748383970159023, 'individual': 0.042748383970159023, 'specific': 0.04684396108539354, 'arranged': 0.04684396108539354, 'bullets': 0.032841090439205474, 'arrangement': 0.04684396108539354, 'watt': 0.042748383970159023, 'playin': 0.03758856702725876, 'conner': 0.04684396108539354, 'sarah': 0.04684396108539354, 'searchin': 0.04684396108539354, 'rifle': 0.042748383970159023, 'plasma': 0.04684396108539354, 'phase': 0.042748383970159023, 'medical': 0.042748383970159023, 'medicinal': 0.04684396108539354, 'collapse': 0.04684396108539354, 'actors': 0.04684396108539354, 'capitalism': 0.04684396108539354, 'pragmatic': 0.04684396108539354, 'wisdom': 0.042748383970159023, 'practical': 0.04684396108539354, 'sacrilegious': 0.04684396108539354, 'practicing': 0.04684396108539354, 'thigh': 0.042748383970159023, 'grabbed': 0.042748383970159023, 'size': 0.039842525762299505, 'grew': 0.03418988249273157, 'actually': 0.06568218087841095, 'rinsed': 0.04684396108539354, 'acid': 0.04684396108539354, 'mace': 0.04684396108539354, 'slapped': 0.07968505152459901, 'desensitized': 0.04684396108539354, 'emotionally': 0.04684396108539354, 'intensifies': 0.04684396108539354, 'banksy': 0.04684396108539354, 'statues': 0.04684396108539354, 'picasso': 0.04684396108539354, 'piss': 0.06837976498546314, 'gallery': 0.04684396108539354, 'mallory': 0.04684396108539354, 'mickey': 0.04684396108539354, 'modern': 0.04684396108539354, 'auto': 0.039842525762299505, 'giga': 0.04684396108539354, 'tera': 0.04684396108539354, 'reality': 0.03758856702725876, 'mega': 0.039842525762299505, 'figure': 0.03758856702725876, 'bites': 0.04684396108539354, 'multiple': 0.04684396108539354, 'piranha': 0.039842525762299505, 'tank': 0.09368792217078709, 'movement': 0.23421980542696771, 'rapid': 0.23421980542696771, 'duet': 0.14053188325618063, 'coke': 0.11952757728689851, 'cooked': 0.11952757728689851, 'latin': 0.14053188325618063, 'villain': 0.032841090439205474, 'button': 0.03758856702725876, 'collar': 0.039842525762299505, 'crowd': 0.02874551332397095, 'ugly': 0.032841090439205474, 'squeeze': 0.03418988249273157, 'arteries': 0.042748383970159023, 'complete': 0.042748383970159023, 'wait': 0.02583965511611144, 'art': 0.06330274306366093, 'balls': 0.03758856702725876, 'peta': 0.042748383970159023, 'opposite': 0.035746948647064986, 'cock': 0.032841090439205474, 'encrypted': 0.042748383970159023, 'spit': 0.0888732290277961, 'brains': 0.03758856702725876, 'earth': 0.030587131704164723, 'think': 0.04717139276214138, 'eye': 0.13968503527457202, 'shall': 0.03418988249273157, 'pop': 0.02874551332397095, 'gettin': 0.02874551332397095, 'rapper': 0.06568218087841095, 'taking': 0.03418988249273157, 'bad': 0.02718844716963753, 'slave': 0.035746948647064986, 'tough': 0.03758856702725876, 'warn': 0.039842525762299505, 'chillin': 0.039842525762299505, 'kiss': 0.031651371531830466, 'activism': 0.042748383970159023, 'conscience': 0.039842525762299505, 'breed': 0.03758856702725876, 'meet': 0.032841090439205474, 'remain': 0.03758856702725876, 'performance': 0.042748383970159023, 'lucid': 0.12824515191047708, 'scholar': 0.042748383970159023, 'benefit': 0.042748383970159023, 'place': 0.026491554588930204, 'change': 0.03418988249273157, 'stay': 0.02410380666592065, 'switch': 0.03418988249273157, 'murder': 0.032841090439205474, 'music': 0.1777464580555922, 'sits': 0.042748383970159023, 'bear': 0.03758856702725876, 'tracks': 0.035746948647064986, 'scream': 0.03418988249273157, 'killa': 0.03418988249273157, 'did': 0.02309287005440301, 'theft': 0.042748383970159023, 'white': 0.08156534150891259, 'hearing': 0.042748383970159023, 'gave': 0.029624409675932033, 'national': 0.08549676794031805, 'bars': 0.035746948647064986, 'blood': 0.025227289689923146, 'hip': 0.030587131704164723, 'probable': 0.042748383970159023, 'ignorant': 0.042748383970159023, 'shots': 0.02718844716963753, 'flip': 0.029624409675932033, 'hood': 0.027937007054914403, 'gold': 0.02583965511611144, 'underground': 0.042748383970159023, 'rub': 0.042748383970159023, 'throw': 0.027937007054914403, 'monch': 0.13675952997092627, 'pharoahe': 0.23932917744912097, 'sent': 0.032841090439205474, 've': 0.04348815600175383, 'walk': 0.02874551332397095, 'hook': 0.06399521293808982, 'trying': 0.027937007054914403, 'small': 0.032841090439205474, 'holla': 0.039842525762299505, 'beat': 0.02718844716963753, 'scriptures': 0.03758856702725876, 'push': 0.03418988249273157, 'eyes': 0.02309287005440301, 'breathe': 0.029624409675932033, 'feel': 0.0201870118465435, 'king': 0.02410380666592065, 'inside': 0.02410380666592065, 'dr': 0.035746948647064986, 'sick': 0.029624409675932033, 'attack': 0.030587131704164723, 'bob': 0.03758856702725876, 'arms': 0.03418988249273157, 'soul': 0.05298310917786041, 'heart': 0.025227289689923146, 'battle': 0.03418988249273157, 'pure': 0.042748383970159023, 'thought': 0.13968503527457202, 'blocks': 0.035746948647064986, 'times': 0.02718844716963753, 'strange': 0.042748383970159023, 'range': 0.031651371531830466, 'ass': 0.02309287005440301, 'shorty': 0.06837976498546314, '40': 0.07149389729412997, 'drugs': 0.032841090439205474, 'stop': 0.02309287005440301, 'ma': 0.02464993620873643, 'grand': 0.03418988249273157, 'god': 0.03767643958603481, 'black': 0.18838219793017405, 'rap': 0.08869587977258266, 'razor': 0.03418988249273157, 'crack': 0.13594223584818765, 'love': 0.017933053111502752, 'marijuana': 0.039842525762299505, 'pressure': 0.035746948647064986, 'hold': 0.022622974352837995, 'killer': 0.032841090439205474, 'face': 0.021331737646029945, 'll': 0.0347434912007239, 'day': 0.0201870118465435, 'real': 0.022173969943145664, 'straight': 0.04929987241747286, 'dj': 0.032841090439205474}, {'branded': 0.056953681688456145, 'logo': 0.056953681688456145, 'vaccinated': 0.056953681688456145, 'fascinated': 0.056953681688456145, 'tunnels': 0.056953681688456145, 'radios': 0.056953681688456145, 'funnel': 0.056953681688456145, 'entrance': 0.056953681688456145, 'bells': 0.051974209629584406, 'seashells': 0.056953681688456145, 'dl': 0.056953681688456145, 'sticking': 0.056953681688456145, 'pens': 0.056953681688456145, 'amtrak': 0.056953681688456145, 'derailed': 0.056953681688456145, 'mark': 0.056953681688456145, 'amputator': 0.056953681688456145, 'educator': 0.056953681688456145, 'stopper': 0.056953681688456145, 'dropper': 0.056953681688456145, 'choppable': 0.056953681688456145, 'blunted': 0.056953681688456145, 'circumstance': 0.056953681688456145, 'blends': 0.056953681688456145, 'tremendous': 0.056953681688456145, 'megaton': 0.056953681688456145, 'noon': 0.056953681688456145, 'typhoon': 0.056953681688456145, 'cyclones': 0.056953681688456145, 'fones': 0.056953681688456145, 'roundhouse': 0.056953681688456145, 'impact': 0.056953681688456145, 'dealt': 0.056953681688456145, 'energy': 0.056953681688456145, 'gamble': 0.051974209629584406, 'feminine': 0.056953681688456145, 'sweatshirts': 0.056953681688456145, 'zodiac': 0.056953681688456145, 'smart': 0.051974209629584406, 'swollen': 0.056953681688456145, 'stolen': 0.056953681688456145, 'op': 0.056953681688456145, 'syringe': 0.051974209629584406, 'bite': 0.04844121797884582, 'rocked': 0.14532365393653746, 'pete': 0.17086104506536842, 'snort': 0.17086104506536842, 'supposed': 0.051974209629584406, 'spies': 0.056953681688456145, 'ninja': 0.056953681688456145, 'killings': 0.056953681688456145, 'castle': 0.056953681688456145, 'lords': 0.04844121797884582, 'decapitator': 0.056953681688456145, 'shogun': 0.28476840844228074, 'empire': 0.11390736337691229, 'samurai': 0.056953681688456145, 'father': 0.13038523775992222, 'gibran': 0.056953681688456145, 'station': 0.04844121797884582, 'slid': 0.04570081675401316, 'radio': 0.04844121797884582, 'aboard': 0.051974209629584406, 'exit': 0.04844121797884582, 'travel': 0.051974209629584406, 'speakers': 0.051974209629584406, 'medina': 0.051974209629584406, 'played': 0.04346174591997408, 'source': 0.04844121797884582, 'waste': 0.04844121797884582, 'sandals': 0.051974209629584406, 'swift': 0.04346174591997408, 'wack': 0.04570081675401316, 'failed': 0.04570081675401316, 'perform': 0.15592262888875322, 'blink': 0.051974209629584406, 'speed': 0.04844121797884582, 'key': 0.04844121797884582, 'bombs': 0.04844121797884582, 'clowns': 0.051974209629584406, 'table': 0.051974209629584406, 'impossible': 0.04844121797884582, 'felt': 0.04570081675401316, 'sneakers': 0.051974209629584406, 'picked': 0.04346174591997408, 'thoughts': 0.037188353044402836, 'flipped': 0.04844121797884582, 'begin': 0.051974209629584406, 'heartbeat': 0.051974209629584406, 'insane': 0.13038523775992222, 'skin': 0.04156863850405519, 'plane': 0.1371024502620395, 'crime': 0.0399287542692355, 'signs': 0.04156863850405519, 'record': 0.03848227386110234, 'evans': 0.051974209629584406, 'knowledge': 0.037188353044402836, 'building': 0.11978626280770652, 'scared': 0.09140163350802633, 'famous': 0.04844121797884582, 'cards': 0.04570081675401316, 'justice': 0.04844121797884582, 'phony': 0.04844121797884582, 'art': 0.03848227386110234, 'mission': 0.04844121797884582, 'skit': 0.0399287542692355, 'faster': 0.04570081675401316, 'belts': 0.051974209629584406, 'think': 0.028675889334792513, 'greatest': 0.04156863850405519, 'bad': 0.03305617479444487, 'natural': 0.04346174591997408, 'hurt': 0.04156863850405519, 'wild': 0.04156863850405519, 'clan': 0.051974209629584406, 'gza': 0.11978626280770652, 'didn': 0.03601785928853798, 'bound': 0.04346174591997408, 'thirty': 0.04156863850405519, 'catch': 0.03141629055962518, 'started': 0.03848227386110234, 'weed': 0.03848227386110234, 'night': 0.058611633197645466, 'scene': 0.0399287542692355, 'problem': 0.0399287542692355, 'born': 0.10805357786561393, 'weak': 0.0399287542692355, 'cut': 0.15335883148771126, 'enter': 0.04570081675401316, 'chamber': 0.04844121797884582, 'shop': 0.04844121797884582, 'murder': 0.0399287542692355, 'devils': 0.04570081675401316, 'mental': 0.1371024502620395, 'kill': 0.028675889334792513, 'infected': 0.04844121797884582, 'styles': 0.04844121797884582, 'swords': 0.09688243595769164, 'rza': 0.19964377134617753, 'fights': 0.051974209629584406, 'mic': 0.059939620302984026, 'wu': 0.037188353044402836, 'child': 0.04346174591997408, 'state': 0.0698985644207275, 'minimum': 0.09140163350802633, 'mcs': 0.13038523775992222, 'law': 0.08313727700811038, 'home': 0.029969810151492013, 'sentence': 0.04844121797884582, 'blood': 0.03067176629754225, 'midnight': 0.04844121797884582, 'ink': 0.0399287542692355, 'heads': 0.03848227386110234, 'lyrics': 0.04844121797884582, 'flip': 0.10805357786561393, 'changed': 0.04346174591997408, 'said': 0.02369641727592077, 'track': 0.11544682158330702, 'sent': 0.0399287542692355, 'gonna': 0.02643681850075343, 'clouds': 0.04570081675401316, 'act': 0.12470591551216559, 'small': 0.0399287542692355, 'round': 0.0399287542692355, 'swing': 0.09688243595769164, 'deep': 0.032208880985531096, 'wide': 0.04844121797884582, 'gotta': 0.029969810151492013, 'turn': 0.02695948840895726, 'people': 0.02807670273557313, 'smoke': 0.032208880985531096, 'inside': 0.029305816598822733, 'insert': 0.051974209629584406, 'body': 0.03067176629754225, 'plus': 0.032208880985531096, 'low': 0.032208880985531096, 'attack': 0.07437670608880567, 'maybe': 0.03141629055962518, 'house': 0.03601785928853798, 'check': 0.028675889334792513, 'want': 0.025935488109959853, 'old': 0.024990338092620266, 'rhyme': 0.03494928221036375, 'heart': 0.03067176629754225, 'flow': 0.037188353044402836, 'head': 0.025935488109959853, 'write': 0.03396628658778977, 'fiend': 0.04346174591997408, 'pen': 0.032208880985531096, 'clock': 0.08313727700811038, 'saying': 0.03848227386110234, 'stayed': 0.051974209629584406, 'came': 0.17981886090895208, 'high': 0.025453822878179443, 'sound': 0.029969810151492013, 'rhymes': 0.03396628658778977, 'ass': 0.02807670273557313, 'forget': 0.04156863850405519, 'brain': 0.13586514635115907, 'stop': 0.02807670273557313, 'live': 0.07780646432987956, 'rock': 0.02807670273557313, 'flash': 0.04156863850405519, 'cocaine': 0.11978626280770652, 'wasn': 0.037188353044402836, 'plan': 0.037188353044402836, 'different': 0.04844121797884582, 'stacks': 0.0399287542692355, 'kicks': 0.04346174591997408, 'black': 0.022903826850014852, 'fake': 0.03305617479444487, 'drop': 0.03305617479444487, 'nigga': 0.024112758475066366, 'rolling': 0.04156863850405519, 'pressure': 0.04346174591997408, 'spark': 0.13038523775992222, 'little': 0.02695948840895726, 'come': 0.04291469288376338, 'mad': 0.029305816598822733, 'niggas': 0.12056379237533182, 'represent': 0.04346174591997408, 'chorus': 0.0698811872868385}, {'somebody': 0.01757633937787101, 'anymore': 0.026918030948568917, 'dominoes': 0.053836061897137834, 'trippin': 0.02456458198768442, 'ol': 0.041082668830866025, 'faded': 0.022894783376317514, 'feelin': 0.041082668830866025, 'anyways': 0.026918030948568917, 'weren': 0.026918030948568917, 'figured': 0.026918030948568917, 'appointment': 0.02456458198768442, 'tree': 0.021599586950122412, 'shaded': 0.026918030948568917, 'dungarees': 0.026918030948568917, 'heater': 0.026918030948568917, 'footlocker': 0.026918030948568917, 'steal': 0.022894783376317514, 'promises': 0.026918030948568917, 'sellin': 0.043199173900244824, 'lurkin': 0.026918030948568917, 'serpents': 0.026918030948568917, 'gardens': 0.026918030948568917, 'stash': 0.021599586950122412, 'bushes': 0.026918030948568917, 'parade': 0.026918030948568917, 'bands': 0.026918030948568917, 'drum': 0.021599586950122412, 'daughter': 0.021599586950122412, 'provide': 0.02456458198768442, 'cheese': 0.026918030948568917, 'eatin': 0.021599586950122412, 'thug': 0.021599586950122412, 'residue': 0.026918030948568917, 'forgive': 0.02456458198768442, 'homeboy': 0.026918030948568917, 'thanksgivin': 0.026918030948568917, 'turkey': 0.026918030948568917, 'yola': 0.026918030948568917, 'soda': 0.026918030948568917, 'bakin': 0.026918030948568917, 'poppin': 0.020541334415433012, 'pistols': 0.026918030948568917, 'liquors': 0.026918030948568917, 'stockings': 0.026918030948568917, 'miss': 0.026918030948568917, 'claus': 0.026918030948568917, 'santa': 0.026918030948568917, 'imagine': 0.021599586950122412, 'patrol': 0.04578956675263503, 'brakes': 0.053836061897137834, 'bucket': 0.043199173900244824, 'wise': 0.02456458198768442, 'anna': 0.026918030948568917, 'pot': 0.04578956675263503, 'offend': 0.026918030948568917, 'hopin': 0.022894783376317514, 'window': 0.020541334415433012, 'skirtin': 0.053836061897137834, 'pirellis': 0.053836061897137834, 'jerkin': 0.053836061897137834, 'purchase': 0.026918030948568917, 'ease': 0.04912916397536884, 'burgers': 0.026918030948568917, 'louis': 0.04912916397536884, 'tour': 0.021599586950122412, 'uncle': 0.026918030948568917, 'rational': 0.053836061897137834, 'thinkin': 0.03637577090909702, 'stevens': 0.026918030948568917, 'earl': 0.026918030948568917, 'ballin': 0.026918030948568917, 'bump': 0.02456458198768442, 'lane': 0.04912916397536884, 'shade': 0.08075409284570675, 'perfect': 0.06868435012895253, 'alleyways': 0.08075409284570675, 'canals': 0.08075409284570675, 'hustlin': 0.09157913350527006, 'shooter': 0.08075409284570675, 'poison': 0.06868435012895253, 'hallelujah': 0.08075409284570675, 'berry': 0.08075409284570675, 'halle': 0.08075409284570675, 'revenue': 0.026918030948568917, 'reverend': 0.026918030948568917, 'knew': 0.043199173900244824, 'lifestyle': 0.022894783376317514, 'spoon': 0.026918030948568917, 'silver': 0.02456458198768442, 'freeze': 0.02456458198768442, 'rhymin': 0.02456458198768442, 'ramen': 0.026918030948568917, 'raymond': 0.026918030948568917, 'usher': 0.026918030948568917, 'bros': 0.053836061897137834, 'sherane': 0.022894783376317514, 'wrappers': 0.026918030948568917, 'vacant': 0.026918030948568917, 'persuasive': 0.053836061897137834, 'invasion': 0.02456458198768442, 'wit': 0.02456458198768442, 'bish': 0.638679131679795, 'dahi': 0.026918030948568917, 'lord': 0.021599586950122412, 'signs': 0.05893978393861211, 'homies': 0.04912916397536884, 'boys': 0.019646594646204035, 'trees': 0.05893978393861211, 'nah': 0.259195043401469, 'dad': 0.041082668830866025, 'fucked': 0.01702312865976807, 'main': 0.043199173900244824, 'spillin': 0.02456458198768442, 'hoes': 0.041082668830866025, 'listen': 0.01562334707395263, 'bullets': 0.01887153580406611, 'reality': 0.021599586950122412, 'whippin': 0.02456458198768442, 'easy': 0.019646594646204035, 'mom': 0.03929318929240807, 'work': 0.01818788545454851, 'casualty': 0.02456458198768442, 'cool': 0.03124669414790526, 'grass': 0.019646594646204035, 'condom': 0.02456458198768442, 'kick': 0.01887153580406611, 'pots': 0.022894783376317514, 'called': 0.016518086843181606, 'government': 0.022894783376317514, 'broken': 0.01818788545454851, 'church': 0.021599586950122412, 'gon': 0.064213973634186, 'headed': 0.04578956675263503, 'gettin': 0.016518086843181606, 'lamar': 0.09435767902033056, 'kendrick': 0.10545803626722604, 'look': 0.025483737726370262, 'pick': 0.07030535751148403, 'crash': 0.01887153580406611, 'place': 0.045668671250959525, 'dreams': 0.05456365636364554, 'pull': 0.016518086843181606, 'truth': 0.01818788545454851, 'cut': 0.014496403568092066, 'pussy': 0.01757633937787101, 'car': 0.06607234737272642, 'dollar': 0.1757633937787101, 'park': 0.020541334415433012, 'wanna': 0.01326989811306813, 'switch': 0.03929318929240807, 'rich': 0.03404625731953614, 'tryna': 0.03774307160813222, 'lick': 0.01887153580406611, 'belt': 0.020541334415433012, 'dome': 0.019646594646204035, 'war': 0.01818788545454851, 'start': 0.015222890416986507, 'did': 0.01326989811306813, 'code': 0.03929318929240807, 'livin': 0.032106986817093, 'home': 0.028329275764594212, 'pockets': 0.019646594646204035, 'blood': 0.014496403568092066, 'poor': 0.019646594646204035, 'burn': 0.03303617368636321, 'million': 0.03929318929240807, 'hell': 0.014496403568092066, 'free': 0.03515267875574202, 'good': 0.03677368613827351, 'hood': 0.0160534934085465, 'gold': 0.02969657646362941, 'pain': 0.03124669414790526, 'said': 0.011199642844735102, 'went': 0.014496403568092066, 'gonna': 0.012494839270930203, 'damn': 0.014496403568092066, 'lookin': 0.01757633937787101, 'hook': 0.03677368613827351, 'gotta': 0.014164637882297106, 'turn': 0.025483737726370262, 'goin': 0.01887153580406611, 'feel': 0.1276010945187135, 'tony': 0.04578956675263503, 'doin': 0.04955426052954482, 'body': 0.057985614272368265, 'girl': 0.064213973634186, 'lives': 0.056614607412198335, 'sauce': 0.02456458198768442, 'house': 0.03404625731953614, 'uh': 0.0160534934085465, 'ya': 0.31199714610039997, 'bridge': 0.014164637882297106, 'tell': 0.10630070029271342, 'want': 0.04903158151769801, 'hope': 0.03124669414790526, 'forever': 0.11322921482439667, 'dough': 0.03774307160813222, 'head': 0.024515790758849004, 'money': 0.04997935708372081, 'thing': 0.027106183611239204, 'came': 0.056658551529188424, 'high': 0.012030245836295098, 'rappers': 0.06809251463907227, 'bring': 0.039809694339204386, 'motherfucker': 0.01702312865976807, 'bitch': 0.02279283655225971, 'ass': 0.039809694339204386, 'gang': 0.01818788545454851, 'jay': 0.021599586950122412, '40': 0.020541334415433012, 'everybody': 0.044544864695444115, 'mind': 0.024989678541860405, 'outro': 0.011600099501701228, 'projects': 0.01818788545454851, 'respect': 0.06162400324629903, 'bitches': 0.016518086843181606, 'drugs': 0.01887153580406611, 'way': 0.17034291402611462, 'big': 0.04249391364689132, 'ma': 0.014164637882297106, 'rock': 0.02653979622613626, 'hit': 0.05905594460706302, 'gun': 0.08908972939088823, 'cocaine': 0.01887153580406611, 'wasn': 0.03515267875574202, 'new': 0.012030245836295098, 'fat': 0.03404625731953614, 'drop': 0.01562334707395263, 'school': 0.03515267875574202, 'nigga': 0.011396418276129855, 'love': 0.020609806151012253, 'won': 0.025999762175033327, 'come': 0.020282780620091402, 'watch': 0.013553091805619602, 'streets': 0.04955426052954482, 'break': 0.025999762175033327, 'hot': 0.014164637882297106, 'niggas': 0.056982091380649275, 'll': 0.009982357914796743, 'day': 0.0812006965119086, 'dj': 0.01887153580406611, 'produced': 0.013553091805619602}, {'vomitspit': 0.09149777789703577, 'kegs': 0.09149777789703577, 'begged': 0.09149777789703577, 'booger': 0.09149777789703577, 'medicated': 0.09149777789703577, 'skata': 0.09149777789703577, 'creep': 0.09149777789703577, 'theta': 0.09149777789703577, 'meditated': 0.09149777789703577, 'edumacated': 0.09149777789703577, 'shifty': 0.09149777789703577, 'jiffy': 0.09149777789703577, 'spiffy': 0.09149777789703577, 'patiently': 0.09149777789703577, 'stiffly': 0.09149777789703577, 'fifth': 0.09149777789703577, 'plead': 0.09149777789703577, 'scooped': 0.09149777789703577, 'gear': 0.09149777789703577, 'tier': 0.09149777789703577, 'stogs': 0.09149777789703577, 'peel': 0.09149777789703577, 'popo': 0.09149777789703577, 'snitchin': 0.09149777789703577, 'bridges': 0.09149777789703577, 'board': 0.09149777789703577, 'pipes': 0.09149777789703577, 'wacko': 0.09149777789703577, 'basket': 0.09149777789703577, 'jason': 0.09149777789703577, 'horror': 0.09149777789703577, 'glorious': 0.09149777789703577, 'oratory': 0.09149777789703577, 'sheetrock': 0.09149777789703577, 'pox': 0.09149777789703577, 'skips': 0.09149777789703577, 'anywho': 0.09149777789703577, 'juggy': 0.09149777789703577, 'fatty': 0.09149777789703577, 'flossy': 0.09149777789703577, 'softly': 0.09149777789703577, 'buggy': 0.09149777789703577, 'caddy': 0.09149777789703577, 'ballad': 0.09149777789703577, 'bland': 0.09149777789703577, 'salt': 0.09149777789703577, 'touchin': 0.09149777789703577, 'hologram': 0.09149777789703577, 'blare': 0.09149777789703577, 'blues': 0.08349810842914449, 'sandwich': 0.08349810842914449, 'rollin': 0.0778222526145961, 'ham': 0.0778222526145961, 'beatbox': 0.08349810842914449, 'laboratory': 0.08349810842914449, 'busted': 0.08349810842914449, 'message': 0.08349810842914449, 'exit': 0.0778222526145961, 'gift': 0.08349810842914449, 'ribs': 0.08349810842914449, 'mess': 0.08349810842914449, 'leather': 0.0778222526145961, 'swift': 0.06982258314670482, 'shoes': 0.06678124996609525, 'rake': 0.08349810842914449, 'sand': 0.08349810842914449, 'orange': 0.08349810842914449, 'news': 0.07341971681383636, 'wine': 0.07341971681383636, 'threw': 0.07341971681383636, 'salad': 0.08349810842914449, 'criminal': 0.07341971681383636, 'keeps': 0.0778222526145961, 'funky': 0.08349810842914449, 'curse': 0.07341971681383636, 'later': 0.1335624999321905, 'happens': 0.07341971681383636, 'lord': 0.07341971681383636, 'chance': 0.0778222526145961, 'daddy': 0.06414672733215646, 'waitin': 0.0778222526145961, 'loose': 0.06678124996609525, 'instead': 0.06982258314670482, 'peoples': 0.0778222526145961, 'pills': 0.06982258314670482, 'sugar': 0.06678124996609525, 'cheap': 0.07341971681383636, 'ugly': 0.06414672733215646, 'mask': 0.07341971681383636, 'regular': 0.07341971681383636, 'butter': 0.08349810842914449, 'sip': 0.07341971681383636, 'heat': 0.05974419153139669, 'eat': 0.05310572468365559, 'socks': 0.06982258314670482, 'funk': 0.07341971681383636, 'walkin': 0.06678124996609525, 'monkey': 0.07341971681383636, 'bad': 0.05310572468365559, 'similar': 0.07341971681383636, 'catch': 0.0504712020497168, 'snooze': 0.08349810842914449, 'pill': 0.06678124996609525, 'swallowed': 0.08349810842914449, 'sing': 0.0778222526145961, 'place': 0.0517445220635054, 'read': 0.05614705786426516, 'stay': 0.04708066307140665, 'jeep': 0.07341971681383636, 'wanna': 0.045106055215764294, 'case': 0.05614705786426516, 'stupid': 0.06678124996609525, 'dedicated': 0.0778222526145961, 'heard': 0.0504712020497168, 'effects': 0.08349810842914449, 'mic': 0.048147388396373864, 'grind': 0.08349810842914449, 'krills': 0.0778222526145961, 'seeds': 0.06678124996609525, 'year': 0.061822913678813526, 'story': 0.061822913678813526, 'home': 0.048147388396373864, 'hell': 0.049275101752923774, 'everyday': 0.0778222526145961, 'good': 0.04166613044819728, 'hood': 0.05456784625789304, 'calm': 0.0778222526145961, 'dry': 0.06982258314670482, 've': 0.0424715325818255, 'stuff': 0.06982258314670482, 'beat': 0.05310572468365559, 'deep': 0.0517445220635054, 'sleep': 0.0941613261428133, 'hear': 0.0941613261428133, 'sit': 0.05456784625789304, 'feel': 0.039430199401215935, 'data': 0.08349810842914449, 'hate': 0.05614705786426516, 'low': 0.1034890441270108, 'doom': 0.06678124996609525, 'ya': 0.044188233333490264, 'tell': 0.04014771892848256, 'self': 0.06678124996609525, 'told': 0.084943065163651, 'old': 0.04014771892848256, 'gone': 0.05974419153139669, 'kind': 0.0778222526145961, 'juice': 0.06982258314670482, 'came': 0.048147388396373864, 'ho': 0.05456784625789304, 'rhymes': 0.10913569251578609, 'bring': 0.045106055215764294, 'bitch': 0.03873786125899695, 'lot': 0.0504712020497168, 'york': 0.061822913678813526, 'mind': 0.0424715325818255, 'need': 0.07613799356213148, 'new': 0.04089232097545339, 'fake': 0.05310572468365559, 'crack': 0.05310572468365559, 'guess': 0.04708066307140665, 'blessed': 0.08349810842914449, 'type': 0.05974419153139669, 'street': 0.0517445220635054, 'believe': 0.05614705786426516, 'won': 0.044188233333490264, 'ill': 0.05310572468365559, 'come': 0.03447186311393421, 'break': 0.044188233333490264, 'better': 0.039430199401215935, 'stare': 0.0778222526145961, 'real': 0.043311217282735556}, {'visited': 0.05915763989820872, 'death': 0.03433536212108261, 'cousin': 0.08635447173137334, 'meet': 0.0414738924090006, 'snooze': 0.053985475321504404, 'ridiculous': 0.053985475321504404, 'unicorns': 0.05915763989820872, 'looking': 0.039971437000196015, 'korea': 0.05915763989820872, 'rodman': 0.05915763989820872, 'dennis': 0.05915763989820872, 'uniform': 0.05915763989820872, 'true': 0.03630172783229627, 'staying': 0.05915763989820872, 'blue': 0.03862744483916562, 'bleed': 0.04746931858376969, 'ark': 0.053985475321504404, 'noah': 0.05915763989820872, 'floating': 0.05915763989820872, 'sandy': 0.05915763989820872, 'named': 0.053985475321504404, 'hurricanes': 0.05915763989820872, 'bra': 0.053985475321504404, 'panties': 0.05915763989820872, 'cars': 0.04746931858376969, 'coated': 0.053985475321504404, 'dreamed': 0.05915763989820872, 'dreaming': 0.04746931858376969, 'started': 0.039971437000196015, 'lungs': 0.053985475321504404, 'meaning': 0.053985475321504404, 'clouded': 0.05915763989820872, 'weed': 0.039971437000196015, 'remain': 0.04746931858376969, 'sunlight': 0.053985475321504404, 'dormant': 0.05915763989820872, 'required': 0.05915763989820872, 'vampire': 0.05915763989820872, 'coffin': 0.053985475321504404, 'touring': 0.05915763989820872, 'performance': 0.053985475321504404, 'night': 0.030439874892714734, 'keeping': 0.053985475321504404, 'sunny': 0.05915763989820872, 'philadelphia': 0.05915763989820872, 'cali': 0.053985475321504404, 'southern': 0.05915763989820872, 'rains': 0.05915763989820872, 'junkie': 0.05915763989820872, 'dealer': 0.05031576615360466, 'sort': 0.0414738924090006, 'strung': 0.05915763989820872, 'scrilla': 0.05915763989820872, 'excellent': 0.05915763989820872, 'kweli': 0.10797095064300881, 'talib': 0.10797095064300881, 'recruits': 0.05915763989820872, 'boost': 0.05915763989820872, 'lucid': 0.053985475321504404, 'claim': 0.04746931858376969, 'elusive': 0.053985475321504404, 'daydream': 0.05915763989820872, 'futures': 0.05915763989820872, 'shape': 0.04746931858376969, 'view': 0.04746931858376969, 'fiends': 0.04317723586568667, 'strategy': 0.05915763989820872, 'screen': 0.04746931858376969, 'win': 0.05031576615360466, 'scene': 0.0414738924090006, 'escape': 0.04746931858376969, 'precariously': 0.05915763989820872, 'schemes': 0.05031576615360466, 'various': 0.053985475321504404, 'stages': 0.05915763989820872, 'aquarius': 0.05915763989820872, 'age': 0.04746931858376969, 'welcome': 0.05031576615360466, 'pill': 0.08635447173137334, 'red': 0.03862744483916562, 'swallowed': 0.053985475321504404, 'wool': 0.053985475321504404, 'visualise': 0.05915763989820872, 'scholar': 0.053985475321504404, 'dummy': 0.05031576615360466, 'mentally': 0.04746931858376969, 'aspect': 0.05915763989820872, 'runs': 0.053985475321504404, 'determination': 0.05915763989820872, 'means': 0.08635447173137334, 'genesis': 0.05915763989820872, 'intrinsic': 0.05915763989820872, 'kindred': 0.05915763989820872, 'infamous': 0.05915763989820872, 'heartstrings': 0.05915763989820872, 'pulls': 0.05915763989820872, 'spirit': 0.053985475321504404, 'hits': 0.053985475321504404, 'mimic': 0.05915763989820872, 'meant': 0.04514360157690034, 'memorex': 0.053985475321504404, 'sing': 0.10063153230720932, 'internet': 0.053985475321504404, 'benefit': 0.053985475321504404, 'scenes': 0.05915763989820872, 'potental': 0.05915763989820872, 'infinite': 0.05915763989820872, 'increments': 0.05915763989820872, 'limited': 0.053985475321504404, 'limitless': 0.05915763989820872, 'limericks': 0.05915763989820872, 'place': 0.0669105605249226, 'pmc': 0.05915763989820872, 'lend': 0.11831527979641744, 'problem': 0.0829477848180012, 'palms': 0.11831527979641744, 'rules': 0.04514360157690034, 'destiny': 0.053985475321504404, 'help': 0.11991431100058805, 'dreams': 0.4396858070021562, 'race': 0.053985475321504404, 'ooh': 0.03862744483916562, 'hilltop': 0.05915763989820872, 'climb': 0.053985475321504404, 'pull': 0.07260345566459254, 'stone': 0.053985475321504404, 'lee': 0.053985475321504404, 'truth': 0.039971437000196015, 'stay': 0.06087974978542947, 'dollar': 0.1545097793566625, 'stupid': 0.04317723586568667, 'music': 0.07482331208546107, 'skill': 0.053985475321504404, 'academy': 0.053985475321504404, 'spitting': 0.04746931858376969, 'theme': 0.053985475321504404, 'ways': 0.0414738924090006, 'simple': 0.04514360157690034, 'teens': 0.05031576615360466, 'home': 0.031129563255591953, 'minute': 0.04317723586568667, 'dead': 0.032632018664396543, 'dream': 0.2244699362563832, 'deal': 0.03630172783229627, 'best': 0.03433536212108261, 'took': 0.031129563255591953, 'queens': 0.04746931858376969, 'sky': 0.07725488967833125, 'hands': 0.03630172783229627, 'monch': 0.08635447173137334, 'pharoahe': 0.12953170759706, 'getting': 0.06526403732879309, 'sentiment': 0.053985475321504404, 've': 0.1922189786138455, 'hook': 0.10775649409890635, 'clouds': 0.09493863716753938, 'world': 0.025045859030208794, 'holla': 0.10063153230720932, 'deep': 0.0334552802624613, 'sleep': 0.030439874892714734, 'awake': 0.05031576615360466, 'eyes': 0.029163197544378287, 'smoke': 0.0669105605249226, 'feel': 0.05098697675295711, 'king': 0.030439874892714734, 'baby': 0.02978557109456156, 'swallow': 0.04514360157690034, 'tired': 0.04746931858376969, 'song': 0.03630172783229627, 'broke': 0.07260345566459254, 'oh': 0.027459854087692213, 'money': 0.05491970817538443, 'clock': 0.04317723586568667, 'remember': 0.27039211387415935, 'range': 0.039971437000196015, 'right': 0.021938184705518914, 'everybody': 0.06526403732879309, 'brain': 0.03528069285549101, 'hit': 0.025957398678887626, 'use': 0.03862744483916562, 'candy': 0.053985475321504404, 'morning': 0.04746931858376969, 'doubt': 0.04746931858376969, 'new': 0.052877638221773895, 'used': 0.032632018664396543, 'police': 0.039971437000196015, 'believe': 0.03630172783229627, 'come': 0.02228768951098789, 'face': 0.026939123524726587, 'north': 0.04746931858376969, 'break': 0.028569782298126473, 'better': 0.025493488376478555, 'll': 0.021938184705518914, 'real': 0.056005499902924985, 'produced': 0.02978557109456156}, {'twin': 0.048844748722722556, 'ends': 0.04457424233442868, 'amish': 0.048844748722722556, 'cleaner': 0.048844748722722556, 'crotch': 0.048844748722722556, 'jackpot': 0.048844748722722556, 'marshall': 0.03727376344385176, 'evian': 0.04457424233442868, 'claiming': 0.048844748722722556, 'deadliest': 0.048844748722722556, 'stalls': 0.048844748722722556, 'shut': 0.033003257055557886, 'dawes': 0.048844748722722556, 'dominique': 0.048844748722722556, 'balls': 0.03919404057113682, 'licks': 0.048844748722722556, 'hooker': 0.04457424233442868, 'paul': 0.03919404057113682, 'chris': 0.048844748722722556, 'coconuts': 0.048844748722722556, 'sniff': 0.04457424233442868, 'wearing': 0.041544269832145646, 'matter': 0.033003257055557886, 'paint': 0.041544269832145646, 'peta': 0.04457424233442868, 'furs': 0.048844748722722556, 'flailing': 0.048844748722722556, 'accidentally': 0.048844748722722556, 'script': 0.04457424233442868, 'person': 0.034243790941568736, 'familiar': 0.04457424233442868, 'bloody': 0.04457424233442868, 'stroke': 0.03919404057113682, 'thangs': 0.048844748722722556, 'australian': 0.048844748722722556, 'machine': 0.03727376344385176, 'having': 0.041544269832145646, 'backyard': 0.048844748722722556, 'automatic': 0.048844748722722556, 'garden': 0.04457424233442868, 'rocking': 0.03565019226646074, 'grass': 0.03565019226646074, 'irony': 0.09768949744544511, 'artist': 0.03727376344385176, 'opposite': 0.03727376344385176, 'condom': 0.04457424233442868, 'durex': 0.048844748722722556, 'cock': 0.034243790941568736, 'burlesque': 0.048844748722722556, 'slash': 0.048844748722722556, 'stripper': 0.04457424233442868, 'royce': 0.04457424233442868, 'comes': 0.03919404057113682, 'mission': 0.041544269832145646, 'ruin': 0.048844748722722556, 'does': 0.03919404057113682, 'jg': 0.09768949744544511, 'trust': 0.07130038453292148, 'skit': 0.034243790941568736, 'renegades': 0.048844748722722556, 'screaming': 0.041544269832145646, 'detainees': 0.048844748722722556, 'pile': 0.041544269832145646, 'foot': 0.03919404057113682, 'pose': 0.03919404057113682, 'morgan': 0.048844748722722556, 'pics': 0.048844748722722556, 'bay': 0.04457424233442868, 'guantanamo': 0.048844748722722556, 'geronimo': 0.048844748722722556, 'grainy': 0.048844748722722556, 'flick': 0.04457424233442868, 'depicted': 0.04457424233442868, 'film': 0.04457424233442868, 'documentary': 0.048844748722722556, 'cheney': 0.048844748722722556, 'mainly': 0.04457424233442868, 'clips': 0.041544269832145646, 'tip': 0.03565019226646074, 'hollow': 0.041544269832145646, 'shift': 0.048844748722722556, 'professional': 0.048844748722722556, 'swag': 0.04457424233442868, 'uses': 0.048844748722722556, 'smacking': 0.048844748722722556, 'capita': 0.048844748722722556, 'attraction': 0.04457424233442868, 'fatal': 0.03727376344385176, 'glenn': 0.048844748722722556, 'sicker': 0.048844748722722556, 'encrypted': 0.04457424233442868, 'cryptic': 0.048844748722722556, 'crip': 0.04457424233442868, 'blacula': 0.048844748722722556, 'bird': 0.033003257055557886, 'bloomberg': 0.048844748722722556, 'acura': 0.048844748722722556, 'legend': 0.04457424233442868, 'accurate': 0.048844748722722556, 'spectacular': 0.048844748722722556, 'spit': 0.06177944021608712, 'fit': 0.03919404057113682, 'specifically': 0.048844748722722556, 'vernacular': 0.09768949744544511, 'particularly': 0.04457424233442868, 'vehicular': 0.04457424233442868, 'archery': 0.048844748722722556, 'ace': 0.03919404057113682, 'gambit': 0.048844748722722556, 'marksman': 0.048844748722722556, 'spar': 0.048844748722722556, 'prepared': 0.04457424233442868, 'barkley': 0.048844748722722556, 'charles': 0.048844748722722556, 'gnarly': 0.048844748722722556, 'skateboard': 0.048844748722722556, 'radical': 0.048844748722722556, 'marley': 0.048844748722722556, 'davis': 0.048844748722722556, 'miles': 0.041544269832145646, 'garvey': 0.048844748722722556, 'marcus': 0.048844748722722556, 'mixture': 0.048844748722722556, 'regarded': 0.048844748722722556, 'highly': 0.048844748722722556, 'ask': 0.029130245565158048, 'bar': 0.03565019226646074, 'cackling': 0.048844748722722556, 'backing': 0.048844748722722556, 'blacking': 0.048844748722722556, 'jaws': 0.04457424233442868, 'racking': 0.048844748722722556, 'corridor': 0.048844748722722556, 'pour': 0.03919404057113682, 'gas': 0.041544269832145646, 'gasping': 0.048844748722722556, 'kardashian': 0.04457424233442868, 'slack': 0.048844748722722556, 'asses': 0.048844748722722556, 'faster': 0.03919404057113682, 'fall': 0.03088972010804356, 'warning': 0.048844748722722556, 'brashest': 0.048844748722722556, 'broad': 0.041544269832145646, 'brawl': 0.048844748722722556, 'gall': 0.048844748722722556, 'fakers': 0.048844748722722556, 'breaker': 0.04457424233442868, 'ball': 0.08308853966429129, 'equivalent': 0.04457424233442868, 'clever': 0.048844748722722556, 'ignint': 0.048844748722722556, 'capri': 0.04457424233442868, 'sieve': 0.048844748722722556, 'liver': 0.041544269832145646, 'riddled': 0.048844748722722556, 'liquor': 0.03727376344385176, 'rocks': 0.03727376344385176, 'kick': 0.06848758188313747, 'brains': 0.03919404057113682, 'sip': 0.03919404057113682, 'james': 0.04457424233442868, 'stitch': 0.04457424233442868, 'veins': 0.048844748722722556, 'itching': 0.048844748722722556, 'dickbrain': 0.048844748722722556, 'kidney': 0.048844748722722556, 'drunk': 0.03919404057113682, 'drinks': 0.041544269832145646, 'strychnine': 0.048844748722722556, 'drug': 0.03565019226646074, 'frame': 0.041544269832145646, 'wracked': 0.048844748722722556, 'packed': 0.03565019226646074, 'blistering': 0.048844748722722556, 'whittling': 0.048844748722722556, 'villains': 0.041544269832145646, 'toes': 0.048844748722722556, 'whispering': 0.04457424233442868, 'praise': 0.041544269832145646, 'pray': 0.03565019226646074, 'foes': 0.03727376344385176, 'ladies': 0.034243790941568736, 'deliberate': 0.048844748722722556, 'hades': 0.048844748722722556, 'styx': 0.048844748722722556, 'river': 0.03919404057113682, 'deliver': 0.048844748722722556, 'passing': 0.041544269832145646, 'troy': 0.04457424233442868, 'decoy': 0.048844748722722556, 'attractive': 0.048844748722722556, 'actions': 0.041544269832145646, 'destructive': 0.048844748722722556, 'audible': 0.048844748722722556, 'deplorable': 0.048844748722722556, 'deploy': 0.048844748722722556, 'employed': 0.04457424233442868, 'mccoy': 0.048844748722722556, 'stealth': 0.04457424233442868, 'heat': 0.0318935616805599, 'purse': 0.048844748722722556, 'flashing': 0.048844748722722556, 'earth': 0.0318935616805599, 'belts': 0.04457424233442868, 'seat': 0.03727376344385176, 'fasten': 0.048844748722722556, 'space': 0.03919404057113682, 'able': 0.041544269832145646, 'rumored': 0.048844748722722556, 'entire': 0.048844748722722556, 'rival': 0.048844748722722556, 'arsenal': 0.04457424233442868, 'remained': 0.048844748722722556, 'executed': 0.048844748722722556, 'tortured': 0.048844748722722556, 'captured': 0.048844748722722556, 'ninety': 0.04457424233442868, 'files': 0.048844748722722556, 'headquarters': 0.048844748722722556, 'infiltrate': 0.048844748722722556, 'assassins': 0.14653424616816768, 'hired': 0.048844748722722556, 'pots': 0.041544269832145646, 'gnikcuf': 0.048844748722722556, 'gnidaolnwod': 0.048844748722722556, 'cisum': 0.048844748722722556, 'rof': 0.048844748722722556, 'eerf': 0.048844748722722556, 'dna': 0.041544269832145646, 'ew': 0.048844748722722556, 'nac': 0.048844748722722556, 'evas': 0.048844748722722556, 'pih': 0.048844748722722556, 'poh': 0.048844748722722556, 'called': 0.02997328455327485, 'organization': 0.048844748722722556, 'funded': 0.048844748722722556, 'independently': 0.048844748722722556, 'order': 0.03727376344385176, 'individuals': 0.04457424233442868, 'freethinking': 0.048844748722722556, 'sanctions': 0.048844748722722556, 'placed': 0.048844748722722556, 'government': 0.041544269832145646, '2013': 0.048844748722722556, 'grae': 0.29306849233633536, 'jean': 0.2442237436136128, 'purpose': 0.03919404057113682, 'pop': 0.02997328455327485, 'beast': 0.041544269832145646, 'court': 0.033003257055557886, 'honest': 0.03727376344385176, 'shoot': 0.0318935616805599, 'probably': 0.02997328455327485, 'rapper': 0.06848758188313747, 'taking': 0.03565019226646074, 'bad': 0.028349713375883823, 'atlantic': 0.041544269832145646, 'master': 0.03727376344385176, 'look': 0.02312105904288844, 'slang': 0.034243790941568736, 'going': 0.06177944021608712, 'passion': 0.03565019226646074, 'captain': 0.04457424233442868, 'okay': 0.02997328455327485, 'adhere': 0.04457424233442868, 'seven': 0.03727376344385176, 'crash': 0.06848758188313747, 'open': 0.028349713375883823, 'splash': 0.03727376344385176, 'catch': 0.026943312050991822, 'stick': 0.0318935616805599, 'weed': 0.033003257055557886, 'shape': 0.03919404057113682, 'age': 0.03919404057113682, 'limited': 0.04457424233442868, 'stone': 0.04457424233442868, 'spine': 0.03919404057113682, 'stay': 0.025133322472703702, 'car': 0.0599465691065497, 'kill': 0.024593082789982987, 'fully': 0.041544269832145646, 'prepare': 0.041544269832145646, 'lines': 0.07130038453292148, 'white': 0.028349713375883823, 'pm': 0.08914848466885736, 'deadly': 0.03919404057113682, 'whipping': 0.04457424233442868, 'gave': 0.06177944021608712, 'blood': 0.026304791424733836, 'riding': 0.041544269832145646, 'best': 0.028349713375883823, 'point': 0.06848758188313747, 'holding': 0.033003257055557886, 'flip': 0.09266916032413068, 'control': 0.034243790941568736, 'term': 0.041544269832145646, 'pain': 0.028349713375883823, 'city': 0.053886624101983645, 'sipping': 0.03565019226646074, 'monch': 0.2139011535987644, 'pharoahe': 0.1782509613323037, 'walls': 0.03727376344385176, 'said': 0.020322576401689104, 'kept': 0.034243790941568736, 'left': 0.024593082789982987, 'men': 0.03088972010804356, 'da': 0.03565019226646074, 'trapped': 0.041544269832145646, 'gonna': 0.09069122265079174, 'bastard': 0.03727376344385176, 'whip': 0.07454752688770352, 'rick': 0.041544269832145646, 'sun': 0.03565019226646074, 'world': 0.020679639907546805, 'round': 0.034243790941568736, 'force': 0.07130038453292148, 'scriptures': 0.03919404057113682, 'hardly': 0.04457424233442868, 'people': 0.024079206987589943, 'feel': 0.021049234485306913, 'second': 0.03727376344385176, 'model': 0.041544269832145646, 'floor': 0.03565019226646074, 'dick': 0.053886624101983645, 'sick': 0.06177944021608712, 'body': 0.026304791424733836, 'plus': 0.02762305529226602, 'door': 0.0318935616805599, 'attack': 0.0318935616805599, 'pass': 0.0599465691065497, 'try': 0.024079206987589943, 'lives': 0.034243790941568736, 'bob': 0.03919404057113682, 'pay': 0.034243790941568736, 'really': 0.026304791424733836, 'flow': 0.0637871233611198, 'friend': 0.03088972010804356, 'water': 0.02997328455327485, 'slit': 0.04457424233442868, 'spades': 0.041544269832145646, 'dimes': 0.03919404057113682, 'rhymes': 0.029130245565158048, 'close': 0.03088972010804356, 'bitch': 0.08271855963018722, 'ass': 0.048158413975179885, 'word': 0.024593082789982987, 'mind': 0.04534561132539587, 'bitches': 0.0599465691065497, 'brain': 0.029130245565158048, 'stop': 0.024079206987589943, 'way': 0.03863746965834553, 'blow': 0.026943312050991822, 'hit': 0.021432271776687082, 'god': 0.019642833160414905, 'black': 0.019642833160414905, 'nigga': 0.020679639907546805, 'cold': 0.028349713375883823, 'guess': 0.025133322472703702, 'police': 0.033003257055557886, 'backwards': 0.08308853966429129, 'spark': 0.03727376344385176, 'face': 0.022242853528974156, 'hot': 0.02570277816498097, 'niggas': 0.04135927981509361, 'll': 0.05434116985824141, 'day': 0.021049234485306913, 'real': 0.02312105904288844}, {'fortunately': 0.068740361053862, 'rye': 0.068740361053862, 'sess': 0.068740361053862, 'canada': 0.068740361053862, 'fore': 0.058466225800282524, 'fronting': 0.06273037720318077, 'nuts': 0.06273037720318077, 'wrinkled': 0.068740361053862, 'chamberlain': 0.068740361053862, 'wilt': 0.068740361053862, 'mandolin': 0.068740361053862, 'scrambling': 0.068740361053862, 'genetics': 0.068740361053862, 'scroll': 0.068740361053862, 'velvet': 0.068740361053862, 'silhouette': 0.06273037720318077, 'schedules': 0.068740361053862, 'overnight': 0.058466225800282524, 'selena': 0.068740361053862, 'binos': 0.068740361053862, 'zima': 0.068740361053862, 'beach': 0.055158693011482594, 'beaming': 0.068740361053862, 'fairfax': 0.068740361053862, 'wilshire': 0.068740361053862, 'totalled': 0.068740361053862, 'smash': 0.058466225800282524, 'miramax': 0.068740361053862, 'staff': 0.068740361053862, 'brass': 0.068740361053862, 'fiery': 0.068740361053862, 'woolly': 0.068740361053862, 'tangled': 0.058466225800282524, 'ropes': 0.058466225800282524, 'priceless': 0.068740361053862, 'bangles': 0.068740361053862, 'glitter': 0.068740361053862, 'culprit': 0.06273037720318077, 'jeter': 0.068740361053862, 'derek': 0.068740361053862, 'ringleader': 0.068740361053862, 'spiteful': 0.068740361053862, 'eiffel': 0.068740361053862, 'expert': 0.068740361053862, 'koppel': 0.068740361053862, 'ted': 0.06273037720318077, 'giggle': 0.068740361053862, 'shout': 0.05245624194960129, 'wiggle': 0.068740361053862, 'gates': 0.068740361053862, 'neck': 0.0963841810934061, 'founder': 0.068740361053862, 'chip': 0.058466225800282524, 'micro': 0.068740361053862, 'props': 0.06273037720318077, 'checkmate': 0.068740361053862, 'fans': 0.058466225800282524, 'winter': 0.06273037720318077, 'vanished': 0.06273037720318077, 'scissor': 0.068740361053862, 'pulsar': 0.068740361053862, 'urge': 0.068740361053862, 'marrying': 0.068740361053862, 'herbs': 0.068740361053862, 'pharmacy': 0.068740361053862, 'birds': 0.058466225800282524, 'immune': 0.068740361053862, 'blacks': 0.06273037720318077, 'rumor': 0.06273037720318077, 'candyland': 0.068740361053862, 'burnt': 0.06273037720318077, 'duracell': 0.068740361053862, 'propel': 0.068740361053862, 'alikes': 0.068740361053862, 'allah': 0.12546075440636154, 'whoopi': 0.068740361053862, 'earths': 0.06273037720318077, 'nuns': 0.068740361053862, 'duels': 0.068740361053862, 'pool': 0.058466225800282524, 'brighton': 0.068740361053862, 'broom': 0.068740361053862, 'cycle': 0.068740361053862, 'wildflower': 0.068740361053862, 'trifling': 0.068740361053862, 'intellect': 0.068740361053862, 'expo': 0.068740361053862, 'hall': 0.068740361053862, 'monty': 0.068740361053862, 'host': 0.06273037720318077, 'rae': 0.068740361053862, 'purple': 0.058466225800282524, 'touch': 0.058466225800282524, 'dusty': 0.068740361053862, 'kinda': 0.058466225800282524, 'rusty': 0.06273037720318077, 'chilling': 0.068740361053862, 'clusty': 0.068740361053862, 'develop': 0.12546075440636154, 'lots': 0.068740361053862, 'killers': 0.137480722107724, 'herb': 0.055158693011482594, 'eating': 0.05245624194960129, 'blew': 0.044884557757903114, 'lay': 0.0928925161978401, 'inhale': 0.06273037720318077, 'parallel': 0.06273037720318077, 'breath': 0.04819209054670305, 'kids': 0.04347182795705251, 'picked': 0.05245624194960129, 'hair': 0.04644625809892005, 'busy': 0.058466225800282524, 'hug': 0.058466225800282524, 'handle': 0.055158693011482594, 'burner': 0.06273037720318077, 'depends': 0.055158693011482594, 'wifey': 0.06273037720318077, 'stock': 0.05245624194960129, 'snap': 0.10491248389920257, 'ex': 0.05017135213341958, 'rifle': 0.06273037720318077, 'iron': 0.04644625809892005, 'easy': 0.05017135213341958, 'fingers': 0.055158693011482594, 'sorry': 0.044884557757903114, 'script': 0.06273037720318077, 'grass': 0.05017135213341958, 'trust': 0.05017135213341958, 'dna': 0.058466225800282524, 'feet': 0.055158693011482594, 'prince': 0.055158693011482594, 'flag': 0.055158693011482594, 'bad': 0.0398972168798401, 'west': 0.05017135213341958, 'boy': 0.044884557757903114, 'tape': 0.04347182795705251, 'ground': 0.058466225800282524, 'knot': 0.06273037720318077, 'hang': 0.05245624194960129, 'laugh': 0.04218210669602181, 'following': 0.06273037720318077, 'smack': 0.058466225800282524, 'sort': 0.0963841810934061, 'red': 0.044884557757903114, 'pro': 0.05245624194960129, 'read': 0.04218210669602181, 'wax': 0.06273037720318077, 'heard': 0.03791795529312358, 'kill': 0.06922084500864728, 'nice': 0.044884557757903114, 'mics': 0.11031738602296519, 'touched': 0.055158693011482594, 'wig': 0.06273037720318077, 'wu': 0.044884557757903114, 'scream': 0.05017135213341958, 'did': 0.033887233029158866, 'pretty': 0.04819209054670305, 'learn': 0.10034270426683917, 'michael': 0.05245624194960129, 'blood': 0.07403870046491047, 'killing': 0.2338649032011301, 'dead': 0.03791795529312358, 'set': 0.038874573907221883, 'burn': 0.04218210669602181, 'hell': 0.037019350232455235, 'latinos': 0.06273037720318077, 'beats': 0.04644625809892005, 'control': 0.04819209054670305, 'good': 0.03130288971552371, 'sipping': 0.05017135213341958, 'hands': 0.08436421339204361, 'dry': 0.05245624194960129, 'men': 0.13041548387115753, 'understand': 0.04347182795705251, 'damn': 0.037019350232455235, 'soon': 0.04347182795705251, 've': 0.03190797144244233, 'world': 0.029102942504182182, 'cell': 0.04347182795705251, 'eyes': 0.033887233029158866, 'turn': 0.03253880894296519, 'people': 0.033887233029158866, 'feel': 0.029623081626260636, 'king': 0.035370714486920536, 'party': 0.044884557757903114, 'fed': 0.05245624194960129, 'body': 0.07403870046491047, 'shake': 0.058466225800282524, 'low': 0.07774914781444377, 'killah': 0.13465367327370933, 'ghostface': 0.13465367327370933, 'yes': 0.040995678145542384, 'land': 0.055158693011482594, 'check': 0.03461042250432364, 'sample': 0.05017135213341958, 'bridge': 0.03617212284534057, 'want': 0.06260577943104742, 'wish': 0.044884557757903114, 'taste': 0.08976911551580623, 'old': 0.03016213899465933, 'thing': 0.03461042250432364, 'thought': 0.08199135629108477, 'saying': 0.13933877429676014, 'hand': 0.038874573907221883, 'right': 0.050983735663509666, 'word': 0.03461042250432364, 'kid': 0.03617212284534057, 'living': 0.04218210669602181, 'outro': 0.029623081626260636, 'ghost': 0.08976911551580623, 'stop': 0.033887233029158866, 'blow': 0.03791795529312358, 'big': 0.03617212284534057, 'hit': 0.03016213899465933, 'son': 0.1061121434607616, 'god': 0.1658629202372646, 'flash': 0.05017135213341958, 'game': 0.06144308578392581, 'rap': 0.03253880894296519, 'school': 0.044884557757903114, 'love': 0.026315548837460703, 'rolling': 0.05017135213341958, 'ill': 0.0398972168798401, 'come': 0.025897987591761096, 'killer': 0.04819209054670305, 'face': 0.03130288971552371, 'break': 0.03319769270347303, 'hot': 0.03617212284534057, 'll': 0.050983735663509666}, {'violin': 0.03985927959326719, 'lush': 0.04367806145519384, 'lying': 0.03985927959326719, 'crushed': 0.03985927959326719, 'dying': 0.03985927959326719, 'sail': 0.04367806145519384, 'sea': 0.04367806145519384, 'prevail': 0.04367806145519384, 'foundation': 0.04367806145519384, 'marching': 0.04367806145519384, 'planted': 0.04367806145519384, 'pamphlet': 0.04367806145519384, 'lighter': 0.04367806145519384, 'heavenly': 0.03985927959326719, 'acoustics': 0.04367806145519384, 'organic': 0.04367806145519384, 'roots': 0.04367806145519384, 'juices': 0.04367806145519384, 'saliva': 0.04367806145519384, 'spitters': 0.04367806145519384, 'smoothest': 0.04367806145519384, 'lewis': 0.04367806145519384, 'carl': 0.04367806145519384, 'produces': 0.04367806145519384, 'nooses': 0.04367806145519384, 'searching': 0.03985927959326719, 'religion': 0.04367806145519384, 'given': 0.04367806145519384, 'negative': 0.04367806145519384, 'intelligent': 0.04367806145519384, 'recognized': 0.03985927959326719, 'wondering': 0.03714981074302209, 'differ': 0.04367806145519384, 'thighs': 0.04367806145519384, 'venders': 0.04367806145519384, 'prophets': 0.04367806145519384, 'naturally': 0.04367806145519384, 'rewind': 0.04367806145519384, 'vocal': 0.11957783877980156, 'female': 0.1310341843655815, 'denial': 0.04367806145519384, 'hidden': 0.07971855918653438, 'discovery': 0.04367806145519384, 'clearer': 0.04367806145519384, 'error': 0.04367806145519384, 'visions': 0.03714981074302209, 'refracts': 0.04367806145519384, 'brings': 0.04367806145519384, 'sting': 0.04367806145519384, 'electricity': 0.04367806145519384, 'cling': 0.04367806145519384, 'stable': 0.04367806145519384, 'paves': 0.04367806145519384, 'jamerson': 0.04367806145519384, 'donald': 0.03985927959326719, 'false': 0.08735612291038768, 'deliverance': 0.04367806145519384, 'stray': 0.03985927959326719, 'stated': 0.04367806145519384, 'conceived': 0.04367806145519384, 'angles': 0.04367806145519384, 'balance': 0.04367806145519384, 'existence': 0.04367806145519384, 'creator': 0.04367806145519384, 'healing': 0.04367806145519384, 'revealed': 0.03985927959326719, 'nypd': 0.04367806145519384, 'notch': 0.03714981074302209, 'amateur': 0.04367806145519384, 'observing': 0.04367806145519384, 'parallels': 0.04367806145519384, 'watching': 0.03504818342830557, 'minoxodil': 0.04367806145519384, 'makes': 0.03504818342830557, 'boxing': 0.04367806145519384, 'conscious': 0.03985927959326719, 'skills': 0.03714981074302209, 'video': 0.03985927959326719, 'marks': 0.03714981074302209, 'enabling': 0.03985927959326719, 'faced': 0.03714981074302209, 'constantly': 0.03714981074302209, 'outside': 0.06666205776219086, 'lovely': 0.03714981074302209, 'path': 0.03714981074302209, 'fronting': 0.03985927959326719, 'ropes': 0.03714981074302209, 'neck': 0.061243120061700684, 'develop': 0.03985927959326719, 'lay': 0.02951224701916878, 'tapes': 0.03714981074302209, 'breath': 0.030621560030850342, 'kids': 0.027622275239287182, 'blind': 0.03985927959326719, 'common': 0.03714981074302209, 'mirror': 0.03333102888109543, 'proof': 0.03333102888109543, 'hair': 0.02951224701916878, 'unless': 0.07009636685661114, 'forbidden': 0.03714981074302209, 'great': 0.02951224701916878, 'lips': 0.031879195398124165, 'semi': 0.03333102888109543, 'chest': 0.03714981074302209, 'positive': 0.03985927959326719, 'pack': 0.02851993271613382, 'static': 0.03985927959326719, 'created': 0.03714981074302209, 'sinners': 0.03714981074302209, 'picture': 0.030621560030850342, 'dark': 0.02851993271613382, 'rise': 0.030621560030850342, 'sending': 0.03985927959326719, 'names': 0.03985927959326719, 'ugly': 0.030621560030850342, 'tried': 0.026048913942062372, 'art': 0.02951224701916878, 'rocking': 0.031879195398124165, 'opposite': 0.03333102888109543, 'stripper': 0.03985927959326719, 'troy': 0.03985927959326719, 'earth': 0.05703986543226764, 'met': 0.03504818342830557, 'shall': 0.031879195398124165, 'days': 0.02851993271613382, 'slave': 0.03333102888109543, 'weight': 0.031879195398124165, 'seek': 0.03985927959326719, 'similar': 0.03504818342830557, 'souls': 0.03714981074302209, 'open': 0.025350944685952413, 'death': 0.025350944685952413, 'true': 0.10721111267569473, 'sort': 0.030621560030850342, 'kweli': 0.03985927959326719, 'talib': 0.03985927959326719, 'truth': 0.7968306695175571, 'speaking': 0.07009636685661114, 'born': 0.027622275239287182, 'stay': 0.02247477635247353, 'divine': 0.03714981074302209, 'battling': 0.03985927959326719, 'course': 0.03333102888109543, 'away': 0.026802778168923683, 'heard': 0.02409330931867859, 'kill': 0.04398336400792414, 'wind': 0.030621560030850342, 'ran': 0.02951224701916878, 'did': 0.02153216282402576, 'feelings': 0.03985927959326719, 'state': 0.026802778168923683, 'rate': 0.03714981074302209, 'fear': 0.06375839079624833, 'spent': 0.03333102888109543, 'set': 0.024701150854207165, 'free': 0.02851993271613382, 'minds': 0.03504818342830557, 'took': 0.045967992613994056, 'monch': 0.031879195398124165, 'pharoahe': 0.031879195398124165, 'words': 0.055244550478574364, 'said': 0.018172900142035413, 'men': 0.055244550478574364, 'planet': 0.03714981074302209, 'understand': 0.027622275239287182, 'damn': 0.023522329962997496, 'wrong': 0.03333102888109543, 'world': 0.018492194276207186, 'gotta': 0.06895198892099108, 'speak': 0.05902449403833756, 'grow': 0.031879195398124165, 'eyes': 0.02153216282402576, 'light': 0.07410345256262149, 'breathe': 0.027622275239287182, 'things': 0.02851993271613382, 'hate': 0.026802778168923683, 'inside': 0.04494955270494706, 'lives': 0.030621560030850342, 'end': 0.024701150854207165, 'sure': 0.02409330931867859, 'check': 0.02199168200396207, 'self': 0.031879195398124165, 'told': 0.040549054913503864, 'old': 0.01916521444507037, 'rhyme': 0.026802778168923683, 'telling': 0.031879195398124165, 'heart': 0.04704465992599499, 'clock': 0.031879195398124165, 'sound': 0.045967992613994056, 'right': 0.04859308356951863, 'bring': 0.02153216282402576, 'young': 0.022983996306997028, 'word': 0.02199168200396207, 'everybody': 0.02409330931867859, 'mind': 0.020274527456751932, 'way': 0.03455048533037755, 'live': 0.01989005468924555, 'god': 0.03513011721301367, 'cops': 0.027622275239287182, 'crew': 0.026048913942062372, 'nigga': 0.018492194276207186, 'run': 0.020675365606183358, 'ill': 0.050701889371904826, 'drink': 0.031879195398124165, 'niggas': 0.03698438855241437, 'll': 0.016197694523172875, 'jungle': 0.03504818342830557, 'real': 0.020675365606183358, 'chorus': 0.053592229727531436}, {'dara': 0.06251259952160187, 'olu': 0.06251259952160187, 'trumpet': 0.06251259952160187, 'cabbage': 0.06251259952160187, 'matic': 0.06251259952160187, 'pack': 0.040818092032211796, 'fabric': 0.057047110137649584, 'static': 0.057047110137649584, 'illmatic': 0.057047110137649584, 'produce': 0.06251259952160187, 'cracks': 0.05316928370697391, 'loose': 0.04562591169569537, 'lotto': 0.06251259952160187, 'bottle': 0.04562591169569537, 'bought': 0.04770379432302161, 'instead': 0.04770379432302161, 'motto': 0.057047110137649584, 'switched': 0.06251259952160187, 'hundreds': 0.057047110137649584, 'abundance': 0.06251259952160187, 'hash': 0.06251259952160187, 'smokin': 0.06251259952160187, 'piece': 0.05316928370697391, 'quick': 0.04382596789234595, 'flashin': 0.057047110137649584, 'cards': 0.05016140784683976, 'rip': 0.06251259952160187, 'jewels': 0.04770379432302161, 'wallets': 0.06251259952160187, 'foreigners': 0.057047110137649584, 'robbin': 0.06251259952160187, 'plain': 0.057047110137649584, 'grain': 0.06251259952160187, 'maintain': 0.04770379432302161, 'vein': 0.057047110137649584, 'skull': 0.05316928370697391, 'pus': 0.06251259952160187, 'cuss': 0.06251259952160187, 'load': 0.05016140784683976, 'annual': 0.057047110137649584, 'created': 0.05316928370697391, 'godly': 0.06251259952160187, 'celebrated': 0.06251259952160187, 'physical': 0.06251259952160187, 'fresh': 0.04382596789234595, 'leaves': 0.057047110137649584, 'adolescence': 0.06251259952160187, 'blessin': 0.06251259952160187, 'lye': 0.2500503980864075, 'puff': 0.21267713482789563, 'packin': 0.06251259952160187, 'papers': 0.057047110137649584, 'plenty': 0.05316928370697391, 'stackin': 0.06251259952160187, 'capers': 0.06251259952160187, 'vapors': 0.057047110137649584, 'expire': 0.06251259952160187, 'thievin': 0.06251259952160187, 'leavin': 0.10633856741394782, 'guide': 0.06251259952160187, 'insight': 0.06251259952160187, 'proper': 0.06251259952160187, 'provides': 0.06251259952160187, 'essence': 0.11409422027529917, 'schweppervescent': 0.06251259952160187, 'tradition': 0.06251259952160187, 'carry': 0.04562591169569537, 'quentin': 0.06251259952160187, 'san': 0.06251259952160187, 'restin': 0.06251259952160187, 'sinners': 0.05316928370697391, 'somethin': 0.03535260264825949, 'percenters': 0.06251259952160187, 'beginners': 0.06251259952160187, 'peeps': 0.05316928370697391, 'destined': 0.06251259952160187, 'orientated': 0.057047110137649584, 'mentality': 0.06251259952160187, 'salary': 0.057047110137649584, 'depends': 0.05016140784683976, 'baddest': 0.06251259952160187, 'actuality': 0.06251259952160187, 'realism': 0.06251259952160187, 'visualizin': 0.06251259952160187, 'bankrolls': 0.06251259952160187, 'clothes': 0.04223830493906931, 'wifey': 0.057047110137649584, 'washingtons': 0.06251259952160187, 'jacksons': 0.06251259952160187, 'spendin': 0.06251259952160187, 'safe': 0.05016140784683976, 'grants': 0.057047110137649584, 'sayin': 0.204090460161059, 'ayo': 0.10032281569367953, 'az': 0.22818844055059834, 'hoes': 0.04770379432302161, 'stood': 0.057047110137649584, 'cooked': 0.05316928370697391, 'person': 0.04382596789234595, 'frame': 0.05316928370697391, 'woke': 0.04770379432302161, 'tomorrow': 0.04382596789234595, 'gettin': 0.03836047850839364, 'days': 0.040818092032211796, '365': 0.057047110137649584, 'sittin': 0.05316928370697391, 'struck': 0.04382596789234595, 'pieces': 0.057047110137649584, 'early': 0.057047110137649584, 'wool': 0.057047110137649584, 'born': 0.039533353184191954, 'cut': 0.03366545912987138, 'rich': 0.039533353184191954, 'dipped': 0.05316928370697391, 'mic': 0.03289498912444134, 'steel': 0.04382596789234595, 'die': 0.39533353184191955, 'simple': 0.04770379432302161, 'quarter': 0.04770379432302161, '20': 0.04223830493906931, 'dream': 0.039533353184191954, 'keepin': 0.11409422027529917, 'hood': 0.03728153839664472, 'loot': 0.05016140784683976, 'long': 0.03366545912987138, 'pain': 0.0362825958810674, 'gonna': 0.20312013885635968, 've': 0.05803432538753134, 'small': 0.04382596789234595, 'ghetto': 0.04223830493906931, 'gotta': 0.03289498912444134, 'turn': 0.02959084737375293, 'hard': 0.03289498912444134, 'peace': 0.03366545912987138, 'inside': 0.03216618702047914, 'bust': 0.040818092032211796, 'doin': 0.03836047850839364, 'body': 0.03366545912987138, 'plus': 0.03535260264825949, 'status': 0.057047110137649584, 'buck': 0.05016140784683976, 'kind': 0.05316928370697391, 'dough': 0.04382596789234595, 'money': 0.08705148808129701, 'thing': 0.06294955243516764, 'years': 0.039533353184191954, 'high': 0.13969111291008376, 'cash': 0.06896530415543595, 'rhymes': 0.03728153839664472, 'right': 0.023182347319581985, 'young': 0.03289498912444134, 'bitch': 0.26466264677292284, 'ass': 0.030817106497115096, 'outro': 0.026939280066439433, 'projects': 0.04223830493906931, 'brain': 0.03728153839664472, 'count': 0.04770379432302161, 'live': 0.02846690035744968, 'son': 0.03216618702047914, 'green': 0.04770379432302161, 'block': 0.0362825958810674, 'stacks': 0.04382596789234595, 'used': 0.06896530415543595, 'blunts': 0.05016140784683976, 'crack': 0.0362825958810674, 'turned': 0.039533353184191954, 'street': 0.03535260264825949, 'nas': 0.12671491481720795, 'run': 0.02959084737375293, 'tryin': 0.039533353184191954, 'niggas': 0.026466264677292288, 'll': 0.023182347319581985, 'day': 0.05387856013287887, 'real': 0.05918169474750586, 'chorus': 0.051134589201241254, 'produced': 0.03147477621758382}, {'granite': 0.06960895768210508, 'overgrown': 0.06960895768210508, 'chicken': 0.05920499943803564, 'ben': 0.13921791536421016, 'meter': 0.06960895768210508, 'bend': 0.05920499943803564, 'grip': 0.05920499943803564, 'masseur': 0.06960895768210508, 'staring': 0.06960895768210508, 'weird': 0.0558556729812347, 'bore': 0.06960895768210508, 'attempts': 0.06960895768210508, 'book': 0.06352303225025574, 'gosh': 0.06960895768210508, 'concern': 0.06960895768210508, 'risking': 0.06960895768210508, 'snappin': 0.13921791536421016, 'snow': 0.06352303225025574, 'foolproof': 0.06960895768210508, 'voted': 0.06960895768210508, 'session': 0.06960895768210508, 'leaders': 0.06352303225025574, 'programmed': 0.06960895768210508, 'africa': 0.05920499943803564, 'representative': 0.06960895768210508, 'score': 0.05920499943803564, 'jobs': 0.06352303225025574, 'string': 0.06960895768210508, 'shotty': 0.06352303225025574, 'sweatshirt': 0.06960895768210508, 'bodies': 0.05311907400618629, 'robberies': 0.06960895768210508, 'shows': 0.06960895768210508, 'plots': 0.05920499943803564, 'helmet': 0.06960895768210508, 'tarded': 0.06960895768210508, 'fewer': 0.06960895768210508, 'tubbies': 0.06960895768210508, 'tellie': 0.06960895768210508, 'hubbies': 0.06960895768210508, 'smelly': 0.06960895768210508, 'blingin': 0.06960895768210508, 'kingpin': 0.06960895768210508, 'dancing': 0.06960895768210508, 'rapping': 0.06352303225025574, 'cheerleaders': 0.06960895768210508, 'tweeters': 0.06352303225025574, 'spare': 0.06960895768210508, 'looser': 0.06960895768210508, 'truancy': 0.06960895768210508, 'cutting': 0.06960895768210508, 'herb': 0.0558556729812347, 'fixed': 0.06960895768210508, 'plumbing': 0.06960895768210508, 'uhh': 0.06960895768210508, 'nerves': 0.06960895768210508, 'curves': 0.06352303225025574, 'skeezer': 0.06960895768210508, 'skeet': 0.06960895768210508, 'pizza': 0.06960895768210508, 'study': 0.06352303225025574, 'geek': 0.06960895768210508, 'nerd': 0.06960895768210508, 'mold': 0.06352303225025574, 'pride': 0.06960895768210508, 'turd': 0.06960895768210508, 'toad': 0.06960895768210508, 'fried': 0.0558556729812347, 'derriere': 0.06960895768210508, 'autograph': 0.11840999887607127, 'trooping': 0.06352303225025574, 'group': 0.06960895768210508, 'cough': 0.06352303225025574, 'whooping': 0.06960895768210508, 'choking': 0.06352303225025574, 'drooping': 0.06960895768210508, 'watermelon': 0.06960895768210508, 'eating': 0.05311907400618629, 'leads': 0.06960895768210508, 'dt': 0.06960895768210508, 'bunch': 0.05920499943803564, 'toss': 0.06960895768210508, 'crush': 0.06352303225025574, 'forfeit': 0.06960895768210508, 'leaving': 0.05920499943803564, 'horse': 0.06352303225025574, 'cab': 0.06352303225025574, 'tab': 0.06960895768210508, 'table': 0.06352303225025574, 'emcees': 0.06352303225025574, 'tempt': 0.06960895768210508, 'beer': 0.06352303225025574, 'brew': 0.06960895768210508, 'shouldn': 0.06960895768210508, 'thrill': 0.06960895768210508, 'doesn': 0.06352303225025574, 'alcohol': 0.06352303225025574, 'mere': 0.06960895768210508, 'super': 0.05920499943803564, 'taken': 0.05920499943803564, 'slide': 0.0558556729812347, 'fact': 0.04703314857433694, 'caught': 0.0393657893053159, 'champagne': 0.0558556729812347, 'tour': 0.0558556729812347, 'humor': 0.06352303225025574, 'number': 0.04703314857433694, 'deaf': 0.06352303225025574, 'great': 0.04703314857433694, 'south': 0.0558556729812347, 'pack': 0.04545171473716525, 'load': 0.0558556729812347, 'adidas': 0.06352303225025574, 'listen': 0.04040135429673494, 'thigh': 0.06352303225025574, 'dude': 0.05920499943803564, 'iron': 0.04703314857433694, 'villain': 0.0488010411939662, 'mask': 0.0558556729812347, 'wears': 0.05920499943803564, 'squeeze': 0.050805312540804386, 'lead': 0.0488010411939662, 'special': 0.06352303225025574, 'tried': 0.04151369561393851, 'store': 0.05920499943803564, 'fart': 0.06352303225025574, 'matter': 0.14109944572301084, 'comes': 0.0558556729812347, 'skit': 0.0976020823879324, 'screaming': 0.05920499943803564, 'foot': 0.0558556729812347, 'bird': 0.04703314857433694, 'bar': 0.050805312540804386, 'kick': 0.0976020823879324, 'ladies': 0.0488010411939662, 'heat': 0.0909034294743305, 'earth': 0.04545171473716525, 'pair': 0.050805312540804386, 'ears': 0.06352303225025574, 'eat': 0.08080270859346989, 'tomorrow': 0.0488010411939662, 'eye': 0.08302739122787701, 'doing': 0.04703314857433694, 'shall': 0.050805312540804386, 'aw': 0.050805312540804386, 'probably': 0.04271511576211685, 'happened': 0.05311907400618629, 'master': 0.05311907400618629, 'look': 0.03294996622089627, 'hurt': 0.050805312540804386, 'soft': 0.05311907400618629, 'warn': 0.05920499943803564, 'boy': 0.04545171473716525, 'label': 0.050805312540804386, 'freaks': 0.05920499943803564, 'laugh': 0.04271511576211685, 'stole': 0.0558556729812347, 'open': 0.08080270859346989, 'crooked': 0.0558556729812347, 'meet': 0.0488010411939662, 'true': 0.04271511576211685, 'weed': 0.04703314857433694, 'night': 0.03581765545247373, 'red': 0.04545171473716525, 'speaking': 0.0558556729812347, 'read': 0.0854302315242337, 'stay': 0.03581765545247373, 'case': 0.04271511576211685, 'brought': 0.1117113459624694, 'spitting': 0.0558556729812347, 'war': 0.04703314857433694, 'mic': 0.073258380660535, 'hour': 0.04703314857433694, 'start': 0.0787315786106318, 'code': 0.050805312540804386, 'steel': 0.0488010411939662, 'seeds': 0.10161062508160877, 'die': 0.04402113381765852, 'story': 0.04703314857433694, 'coming': 0.0488010411939662, 'asked': 0.0558556729812347, 'minds': 0.0558556729812347, 'control': 0.0488010411939662, 'good': 0.03169843003629486, 'words': 0.04402113381765852, 'went': 0.037487123201620544, 'guy': 0.05311907400618629, 'left': 0.07009551298619161, 'realized': 0.05920499943803564, 'getting': 0.07679416589979352, 'gentlemen': 0.05920499943803564, 'soon': 0.04402113381765852, 'relax': 0.0558556729812347, 'world': 0.058941369004768686, 'wide': 0.05920499943803564, 'eyes': 0.034315428864885596, 'feel': 0.059994792105331, 'madlib': 0.06352303225025574, 'floor': 0.050805312540804386, 'door': 0.04545171473716525, 'maybe': 0.03839708294989676, 'road': 0.0488010411939662, 'doom': 0.15241593762241315, 'uh': 0.04151369561393851, 'sure': 0.03839708294989676, 'ya': 0.06723435114717814, 'tell': 0.12217305959367257, 'told': 0.0969334725541422, 'wish': 0.04545171473716525, 'taste': 0.04545171473716525, 'old': 0.030543264898418142, 'hope': 0.04040135429673494, 'heart': 0.037487123201620544, 'lost': 0.0393657893053159, 'gone': 0.04545171473716525, 'oh': 0.06462231503609481, 'flow': 0.04545171473716525, 'head': 0.1584921501814743, 'wet': 0.04545171473716525, 'money': 0.032311157518047404, 'thing': 0.07009551298619161, 'came': 0.073258380660535, 'sound': 0.0366291903302675, 'rappers': 0.04402113381765852, 'cash': 0.03839708294989676, 'rhymes': 0.04151369561393851, 'right': 0.05162796127148781, 'bring': 0.034315428864885596, 'kid': 0.0366291903302675, 'everybody': 0.03839708294989676, 'mind': 0.032311157518047404, 'way': 0.027531250141739724, 'yard': 0.0558556729812347, 'need': 0.028961831061246456, 'plan': 0.04545171473716525, 'wake': 0.04703314857433694, 'mc': 0.04151369561393851, 'new': 0.062219474739738115, 'fly': 0.04402113381765852, 'sell': 0.04545171473716525, 'love': 0.026648069595864556, 'cold': 0.04040135429673494, 'corner': 0.04271511576211685, 'run': 0.03294996622089627, 'won': 0.03361717557358907, 'hold': 0.06723435114717814, 'little': 0.03294996622089627, 'drink': 0.050805312540804386, 'knock': 0.0488010411939662, 'face': 0.03169843003629486, 'll': 0.025813980635743906, 'produced': 0.03504775649309581}, {'lawyers': 0.04688343247966514, 'sparrow': 0.04688343247966514, 'arrows': 0.04688343247966514, 'angrily': 0.04688343247966514, 'vendettas': 0.04688343247966514, 'personal': 0.04278440437234243, 'crushing': 0.04688343247966514, 'armarettas': 0.04688343247966514, 'headers': 0.04688343247966514, 'bald': 0.04688343247966514, 'moet': 0.04688343247966514, 'spirals': 0.04688343247966514, 'mirrors': 0.04688343247966514, 'shatter': 0.04278440437234243, 'vine': 0.04688343247966514, 'swinging': 0.04688343247966514, 'tarzan': 0.04688343247966514, 'memphis': 0.04688343247966514, 'rednecks': 0.04688343247966514, 'benches': 0.04278440437234243, 'thieves': 0.04688343247966514, 'emperor': 0.04688343247966514, 'labelled': 0.04688343247966514, 'rocky': 0.04688343247966514, 'bing': 0.04688343247966514, 'springs': 0.04688343247966514, 'jeans': 0.04688343247966514, 'baggy': 0.04688343247966514, 'hats': 0.04688343247966514, 'noodle': 0.04688343247966514, 'expensive': 0.04688343247966514, 'jack': 0.03987609764662998, 'elegant': 0.04688343247966514, 'risen': 0.04688343247966514, 'pigeons': 0.04688343247966514, 'throwing': 0.04278440437234243, 'copywritten': 0.04688343247966514, 'velours': 0.04688343247966514, 'reeboks': 0.04688343247966514, 'wars': 0.04688343247966514, 'kufi': 0.04688343247966514, 'muslims': 0.04688343247966514, 'revenge': 0.03987609764662998, 'operations': 0.09376686495933027, 'laundering': 0.09376686495933027, 'smuggling': 0.09376686495933027, 'insure': 0.09376686495933027, 'positions': 0.09376686495933027, 'integrated': 0.09376686495933027, 'gallons': 0.04688343247966514, 'shorties': 0.04688343247966514, 'endangered': 0.04688343247966514, 'premeditate': 0.04688343247966514, 'chk': 0.09376686495933027, 'complaints': 0.04688343247966514, 'stuttering': 0.04688343247966514, 'carpet': 0.04688343247966514, 'laid': 0.04278440437234243, 'kaufman': 0.04688343247966514, 'spofford': 0.04688343247966514, 'sniper': 0.04688343247966514, 'jfk': 0.04688343247966514, 'hyper': 0.04278440437234243, 'franklin': 0.04688343247966514, 'putnam': 0.04688343247966514, 'chemical': 0.04688343247966514, 'dug': 0.04278440437234243, 'contestant': 0.04688343247966514, 'astronauts': 0.04278440437234243, 'victims': 0.04688343247966514, 'gagged': 0.04688343247966514, 'scars': 0.04278440437234243, 'armed': 0.04278440437234243, 'psychos': 0.04688343247966514, 'calling': 0.09376686495933027, 'reports': 0.09376686495933027, 'investigative': 0.09376686495933027, 'buildings': 0.09376686495933027, 'tokers': 0.09376686495933027, 'mocha': 0.09376686495933027, 'carriers': 0.09376686495933027, 'vial': 0.08556880874468487, 'smokers': 0.09376686495933027, 'clash': 0.04278440437234243, 'bloodiest': 0.04688343247966514, 'paradise': 0.04278440437234243, 'jacked': 0.04278440437234243, 'gats': 0.04278440437234243, 'tackable': 0.04688343247966514, 'sparkable': 0.04688343247966514, 'remarkable': 0.04688343247966514, 'chef': 0.04278440437234243, 'breathing': 0.04688343247966514, 'feed': 0.04278440437234243, 'vendetta': 0.04688343247966514, 'route': 0.04688343247966514, 'morgue': 0.04688343247966514, 'guyanese': 0.04688343247966514, 'faculties': 0.04688343247966514, 'leathers': 0.04278440437234243, 'tropical': 0.04278440437234243, 'brutes': 0.04688343247966514, 'felony': 0.04278440437234243, 'roofs': 0.04688343247966514, 'youths': 0.04688343247966514, 'analyzing': 0.04688343247966514, 'collaboration': 0.04688343247966514, 'ringers': 0.09376686495933027, 'slingers': 0.09376686495933027, 'anxiety': 0.09376686495933027, 'profanity': 0.09376686495933027, 'starvation': 0.09376686495933027, 'growers': 0.09376686495933027, 'blowers': 0.09376686495933027, 'backstabbers': 0.09376686495933027, 'lifers': 0.09376686495933027, 'droppers': 0.09376686495933027, 'crimesters': 0.09376686495933027, 'rhymsters': 0.09376686495933027, 'neighborhoods': 0.04688343247966514, 'gowanus': 0.04688343247966514, 'slope': 0.04688343247966514, 'cemetery': 0.04688343247966514, 'prospect': 0.04688343247966514, '000': 0.08556880874468487, 'hessian': 0.04688343247966514, 'fought': 0.04688343247966514, 'report': 0.18753372991866055, 'excerpt': 0.18753372991866055, 'success': 0.07975219529325996, 'illegal': 0.08556880874468487, 'seas': 0.03987609764662998, 'roll': 0.034218691378673345, 'avenue': 0.04278440437234243, 'visions': 0.03987609764662998, 'shadows': 0.04278440437234243, 'corrupt': 0.08556880874468487, 'timers': 0.04278440437234243, 'plush': 0.04278440437234243, 'christ': 0.03987609764662998, 'ice': 0.03577706953930727, 'barrels': 0.03987609764662998, 'judges': 0.08556880874468487, 'bull': 0.04278440437234243, 'nines': 0.04278440437234243, 'ers': 0.04278440437234243, 'trife': 0.03762023969359311, 'cipher': 0.03987609764662998, 'press': 0.03577706953930727, 'burnt': 0.08556880874468487, 'leaving': 0.03987609764662998, 'kids': 0.029649371628919962, 'caught': 0.026513876753235247, 'play': 0.024670706598949398, 'continued': 0.08556880874468487, 'fighting': 0.07975219529325996, 'standing': 0.03762023969359311, 'number': 0.06335608286396911, 'trees': 0.034218691378673345, 'building': 0.06573752562718964, 'locked': 0.06843738275734669, 'lose': 0.034218691378673345, 'loose': 0.034218691378673345, 'puff': 0.03987609764662998, 'revolution': 0.03762023969359311, 'seed': 0.03987609764662998, 'aim': 0.031678041431984556, 'release': 0.03577706953930727, 'lab': 0.03577706953930727, 'villain': 0.03286876281359482, 'devil': 0.03577706953930727, 'loaded': 0.03987609764662998, 'tv': 0.14310827815722907, 'milk': 0.03987609764662998, 'starting': 0.04278440437234243, 'save': 0.09503412429595369, 'bread': 0.03762023969359311, 'bank': 0.034218691378673345, 'children': 0.06335608286396911, 'ends': 0.04278440437234243, 'rocking': 0.06843738275734669, 'depicted': 0.04278440437234243, 'fall': 0.029649371628919962, 'kick': 0.03286876281359482, 'drug': 0.10265607413602003, 'packed': 0.034218691378673345, 'praise': 0.03987609764662998, 'heat': 0.030612904860557958, 'mix': 0.03762023969359311, 'strings': 0.03762023969359311, 'bubble': 0.03987609764662998, 'keys': 0.03762023969359311, 'eye': 0.055921094356446835, 'master': 0.03577706953930727, 'slang': 0.06573752562718964, 'rugged': 0.08556880874468487, 'boy': 0.030612904860557958, 'gza': 0.06573752562718964, 'seven': 0.03577706953930727, 'bound': 0.03577706953930727, 'american': 0.03762023969359311, 'crooked': 0.07524047938718623, 'blue': 0.030612904860557958, 'cars': 0.07524047938718623, 'remain': 0.03762023969359311, 'red': 0.030612904860557958, 'place': 0.053027753506470494, 'dreams': 0.031678041431984556, 'pull': 0.02876973470627211, 'change': 0.034218691378673345, 'island': 0.030612904860557958, 'dollar': 0.030612904860557958, 'park': 0.07155413907861453, 'dime': 0.14310827815722907, 'nice': 0.030612904860557958, 'palm': 0.03987609764662998, 'golden': 0.03762023969359311, 'raekwon': 0.03577706953930727, 'white': 0.027211356545638183, 'cream': 0.031678041431984556, 'average': 0.04278440437234243, 'soldiers': 0.07975219529325996, 'patients': 0.08556880874468487, 'home': 0.024670706598949398, 'fear': 0.034218691378673345, 'pockets': 0.034218691378673345, 'blood': 0.025248546566469934, 'dead': 0.05172285596111933, 'pow': 0.03577706953930727, 'shaolin': 0.03577706953930727, 'best': 0.027211356545638183, 'craps': 0.04278440437234243, 'brooklyn': 0.07524047938718623, 'shots': 0.027211356545638183, 'wood': 0.04278440437234243, 'took': 0.0740121197968482, 'men': 0.059298743257839924, 'getting': 0.025861427980559664, 'grab': 0.06335608286396911, 'hook': 0.04269942414897187, 'trying': 0.055921094356446835, 'world': 0.019849267867320056, 'ring': 0.029649371628919962, 'level': 0.07524047938718623, 'ghetto': 0.031678041431984556, 'sleep': 0.024124116879538634, 'light': 0.026513876753235247, 'king': 0.04824823375907727, 'interlude': 0.05753946941254422, 'plus': 0.026513876753235247, 'low': 0.053027753506470494, 'girl': 0.027960547178223417, 'killah': 0.030612904860557958, 'ghostface': 0.030612904860557958, 'shot': 0.10344571192223866, 'ya': 0.022642036795884803, 'america': 0.031678041431984556, 'want': 0.021349712074485935, 'old': 0.020571678491626683, 'oh': 0.02176239987323695, 'flow': 0.030612904860557958, 'battle': 0.13687476551469338, 'head': 0.021349712074485935, 'jet': 0.034218691378673345, 'money': 0.0435247997464739, 'pen': 0.026513876753235247, 'killed': 0.06335608286396911, 'laying': 0.03987609764662998, 'came': 0.024670706598949398, 'high': 0.04190642469037652, 'dangerous': 0.034218691378673345, 'right': 0.034772766565312634, 'young': 0.024670706598949398, 'ass': 0.023112328438315472, 'word': 0.04721114005504559, 'kid': 0.024670706598949398, 'living': 0.02876973470627211, 'stop': 0.023112328438315472, 'way': 0.037086017377124185, 'big': 0.049341413197898795, 'hit': 0.04114335698325337, 'gun': 0.07758428394167899, 'use': 0.030612904860557958, 'god': 0.09427046573762252, 'green': 0.03577706953930727, 'need': 0.01950654192020009, 'cocaine': 0.06573752562718964, 'hanging': 0.03762023969359311, 'cops': 0.059298743257839924, 'block': 0.027211356545638183, 'chicks': 0.03987609764662998, 'black': 0.037708186295049004, 'used': 0.025861427980559664, 'rap': 0.022192654048629332, 'raps': 0.031678041431984556, 'crack': 0.054422713091276366, 'guess': 0.024124116879538634, 'rolling': 0.034218691378673345, 'corner': 0.02876973470627211, 'run': 0.022192654048629332, 'thinking': 0.034218691378673345, 'hold': 0.022642036795884803, 'little': 0.022192654048629332, 'come': 0.03532674353182848, 'brothers': 0.16434381406797413, 'better': 0.040408043425206056, 'mad': 0.024124116879538634, 'spot': 0.029649371628919962, 'niggas': 0.03969853573464011, 'blast': 0.03987609764662998, 'guns': 0.031678041431984556, 'jungle': 0.03762023969359311}, {'suit': 0.0389691260414563, 'brock': 0.04270262532244641, 'eddie': 0.04270262532244641, 'marvel': 0.04270262532244641, 'marbles': 0.04270262532244641, 'losin': 0.036320166145341275, 'super': 0.036320166145341275, 'fools': 0.036320166145341275, 'retarded': 0.0389691260414563, 'responsible': 0.04270262532244641, 'childhood': 0.04270262532244641, 'parents': 0.04270262532244641, 'ruined': 0.04270262532244641, 'parasite': 0.04270262532244641, 'latch': 0.04270262532244641, 'impossible': 0.036320166145341275, 'escapin': 0.04270262532244641, 'chasin': 0.04270262532244641, 'bonded': 0.04270262532244641, 'demons': 0.0389691260414563, 'rectangular': 0.04270262532244641, 'headache': 0.04270262532244641, 'faint': 0.0389691260414563, 'drank': 0.0389691260414563, 'thinner': 0.04270262532244641, 'ate': 0.03426547322175945, 'sunblock': 0.04270262532244641, 'doc': 0.0389691260414563, 'joc': 0.04270262532244641, 'yung': 0.04270262532244641, 'juggernaut': 0.04270262532244641, 'fired': 0.036320166145341275, 'knots': 0.04270262532244641, 'tie': 0.0389691260414563, 'garrote': 0.04270262532244641, 'thumper': 0.04270262532244641, 'tire': 0.04270262532244641, 'buckshot': 0.04270262532244641, 'aught': 0.04270262532244641, 'double': 0.03258666686435116, 'ballpoint': 0.04270262532244641, 'bitten': 0.04270262532244641, 'snake': 0.036320166145341275, 'fangs': 0.04270262532244641, 'symbiote': 0.04270262532244641, 'loco': 0.04270262532244641, 'chokehold': 0.04270262532244641, 'elliott': 0.04270262532244641, 'backin': 0.04270262532244641, 'translation': 0.04270262532244641, 'gandhi': 0.08540525064489282, 'kamikaze': 0.04270262532244641, 'combination': 0.0389691260414563, 'fender': 0.04270262532244641, 'rear': 0.04270262532244641, 'smashed': 0.036320166145341275, 'grill': 0.0389691260414563, 'wrangler': 0.04270262532244641, 'mustang': 0.04270262532244641, 'mangled': 0.04270262532244641, 'crashin': 0.04270262532244641, 'nut': 0.0389691260414563, 'indy': 0.04270262532244641, 'reverse': 0.036320166145341275, 'threw': 0.03426547322175945, 'patrick': 0.04270262532244641, 'danica': 0.04270262532244641, 'painkiller': 0.04270262532244641, 'tap': 0.0389691260414563, 'strangler': 0.04270262532244641, 'flap': 0.04270262532244641, 'mud': 0.0389691260414563, 'hubcap': 0.04270262532244641, 'venomous': 0.04270262532244641, 'evident': 0.04270262532244641, 'cocked': 0.0685309464435189, 'felt': 0.03426547322175945, 'pellets': 0.04270262532244641, 'shotgun': 0.0389691260414563, 'ready': 0.20559283933055672, 'knowin': 0.2562157519346785, 'momentum': 0.2562157519346785, 'adrenaline': 0.23381475624873782, 'venom': 0.29891837725712495, 'laced': 0.03116725631387371, 'snare': 0.04270262532244641, 'barely': 0.04270262532244641, 'mel': 0.04270262532244641, 'postcard': 0.04270262532244641, 'stamp': 0.04270262532244641, 'dre': 0.036320166145341275, 'motel': 0.04270262532244641, 'slept': 0.0389691260414563, 'florida': 0.04270262532244641, 'bizarre': 0.036320166145341275, 'freaknik': 0.04270262532244641, '97': 0.04270262532244641, 'olympics': 0.04270262532244641, 'scribble': 0.04270262532244641, 'filet': 0.036320166145341275, 'rail': 0.04270262532244641, 'hellmann': 0.04270262532244641, 'pale': 0.036320166145341275, 'matches': 0.04270262532244641, 'tailspin': 0.04270262532244641, 'volkswagen': 0.04270262532244641, 'blew': 0.02788301404465431, 'accelerants': 0.04270262532244641, 'kahlúa': 0.04270262532244641, 'manure': 0.04270262532244641, 'elephant': 0.04270262532244641, 'scent': 0.04270262532244641, 'smelled': 0.04270262532244641, 'meltin': 0.04270262532244641, 'skeleton': 0.04270262532244641, 'gelatins': 0.04270262532244641, 'tylenol': 0.04270262532244641, 'liquid': 0.0389691260414563, 'shoulda': 0.03258666686435116, 'bedridden': 0.04270262532244641, 'poe': 0.04270262532244641, 'allan': 0.04270262532244641, 'edgar': 0.04270262532244641, 'bowl': 0.0389691260414563, 'salad': 0.0389691260414563, 'medicine': 0.0389691260414563, 'spinnin': 0.0389691260414563, 'manevolent': 0.04270262532244641, 'latched': 0.04270262532244641, 'mitochondrial': 0.04270262532244641, 'tells': 0.0389691260414563, 'belong': 0.0389691260414563, 'talks': 0.04270262532244641, 'screw': 0.0779382520829126, 'sets': 0.0389691260414563, 'gives': 0.0389691260414563, 'willed': 0.04270262532244641, 'assassin': 0.0389691260414563, 'thoughts': 0.02788301404465431, 'caught': 0.04829902952732839, 'proof': 0.03258666686435116, 'skin': 0.03116725631387371, 'bucket': 0.03426547322175945, 'thinkin': 0.1731190055001663, 'bump': 0.0389691260414563, 'slow': 0.1796262418094168, 'chased': 0.03426547322175945, 'dad': 0.03258666686435116, 'alien': 0.036320166145341275, 'actual': 0.0389691260414563, 'stock': 0.03258666686435116, 'snap': 0.19552000118610693, 'grew': 0.03116725631387371, 'piss': 0.03116725631387371, 'punk': 0.028853167583361043, 'villain': 0.029937706968236135, 'pills': 0.03258666686435116, 'devil': 0.09776000059305347, 'mom': 0.03116725631387371, 'fish': 0.03258666686435116, 'wait': 0.047110495582261984, 'paint': 0.036320166145341275, 'liquor': 0.03258666686435116, 'able': 0.036320166145341275, 'think': 0.04300110973509834, 'moment': 0.16729808426792583, 'spun': 0.036320166145341275, 'eat': 0.02478479713676857, 'screamin': 0.0389691260414563, 'probably': 0.052408415374492034, 'happenin': 0.0389691260414563, 'jam': 0.03116725631387371, 'web': 0.03426547322175945, 'bit': 0.18903782392328572, 'catch': 0.023555247791130992, 'wheel': 0.03258666686435116, 'shape': 0.03426547322175945, 'meant': 0.03258666686435116, 'jeep': 0.03426547322175945, 'car': 0.026204207687246017, 'music': 0.027005403417612244, 'strong': 0.03426547322175945, 'kill': 0.02150055486754917, 'square': 0.03258666686435116, 'held': 0.03426547322175945, 'throat': 0.03258666686435116, 'prepare': 0.036320166145341275, 'scream': 0.03116725631387371, 'raw': 0.03116725631387371, 'steel': 0.029937706968236135, 'home': 0.022470708406255903, 'phone': 0.02788301404465431, 'dead': 0.023555247791130992, 'hell': 0.0919880791093483, 'deal': 0.026204207687246017, 'wicked': 0.03426547322175945, 'room': 0.026204207687246017, 'long': 0.022997019777337074, 'fuckin': 0.022470708406255903, 'said': 0.05330116675967717, 'track': 0.028853167583361043, 'went': 0.04599403955467415, 'da': 0.03116725631387371, 'gonna': 0.317147976162254, 've': 0.03964349702028175, 'wrong': 0.03258666686435116, 'world': 0.036158438229994434, 'beat': 0.02478479713676857, 'awake': 0.036320166145341275, 'bass': 0.03116725631387371, 'goin': 0.029937706968236135, 'feel': 0.018402337959663433, 'hate': 0.026204207687246017, 'slim': 0.03258666686435116, 'floor': 0.03116725631387371, 'dr': 0.03258666686435116, 'couple': 0.02788301404465431, 'attack': 0.02788301404465431, 'ago': 0.03258666686435116, 'song': 0.026204207687246017, 'end': 0.04829902952732839, 'shot': 0.023555247791130992, 'ya': 0.06186883272152131, 'tell': 0.018737209125265785, 'taste': 0.05576602808930862, 'telling': 0.03116725631387371, 'head': 0.01944586194396735, 'pen': 0.04829902952732839, 'field': 0.0389691260414563, 'high': 0.01908471988407244, 'ho': 0.02546717906117758, 'bitch': 0.018079219114997217, 'word': 0.02150055486754917, 'mayo': 0.0389691260414563, 'rock': 0.021051297855778455, 'hit': 0.1311604638768605, 'gun': 0.023555247791130992, 'game': 0.01908471988407244, 'rap': 0.020213634979911792, 'love': 0.01634764503608161, 'til': 0.06591858167308837, 'knock': 0.1796262418094168, 'filled': 0.03258666686435116, 'face': 0.0388917238879347, 'better': 0.018402337959663433, 'care': 0.02788301404465431, 'hot': 0.022470708406255903, 'straight': 0.022470708406255903, 'chorus': 0.05239538637942724}, {'sli': 0.044882252717233354, 'champ': 0.16383275266619235, 'incomprehensible': 0.35905802173786683, 'wham': 0.13464675815170007, 'till': 0.04095818816654809, 'fashioned': 0.044882252717233354, 'contract': 0.044882252717233354, 'cadillac': 0.044882252717233354, 'volkswag': 0.044882252717233354, 'rabbit': 0.044882252717233354, 'shawty': 0.7181160434757337, 'li': 0.17952901086893341, 'lil': 0.03146578740245645, 'plate': 0.03424995550915963, 'price': 0.03601445150039065, 'sellin': 0.03601445150039065, 'sir': 0.20479094083274044, 'stack': 0.0381740200598449, 'record': 0.030325890958474353, 'fame': 0.030325890958474353, 'cheap': 0.03601445150039065, 'wait': 0.024757554745067998, 'welcome': 0.0381740200598449, 'hop': 0.02604986274820632, 'million': 0.032758095405594774, 'hood': 0.026767074810690412, 'gold': 0.024757554745067998, 'guy': 0.13699982203663852, 'gonna': 0.020833490194382718, 'world': 0.07600807445653829, 'beat': 0.02604986274820632, 'past': 0.03146578740245645, 'hear': 0.023094399302720624, 'star': 0.03146578740245645, 'yes': 0.2676707481069041, 'records': 0.0763480401196898, 'ah': 0.03424995550915963, 'earn': 0.03601445150039065, 'want': 0.08175367050463796, 'old': 0.01969359375040062, 'soul': 0.2284393886308523, 'hope': 0.02604986274820632, 'oh': 0.020833490194382718, 'takes': 0.06551619081118955, 'way': 0.017751516006403165, 'ma': 0.14170594980651538, 'sell': 0.029306218843002194, 'straight': 0.1180882915054295}, {'gucciano': 0.03636972963892019, 'lake': 0.03636972963892019, 'broze': 0.03636972963892019, 'ash': 0.03636972963892019, 'wipin': 0.03636972963892019, 'foul': 0.033189916725044434, 'blooded': 0.033189916725044434, 'solo': 0.03636972963892019, 'heed': 0.03636972963892019, 'bucked': 0.03636972963892019, 'coulda': 0.03636972963892019, 'families': 0.03636972963892019, 'starts': 0.03636972963892019, 'blasted': 0.03636972963892019, 'army': 0.0309338035582644, 'peeked': 0.03636972963892019, 'coughin': 0.03636972963892019, 'inhaled': 0.03636972963892019, 'deuce': 0.033189916725044434, 'tre': 0.03636972963892019, 'wear': 0.03636972963892019, 'bustin': 0.03636972963892019, 'wops': 0.03636972963892019, 'oo': 0.03636972963892019, 'phillies': 0.03636972963892019, 'rollin': 0.0309338035582644, 'wop': 0.07273945927784038, 'grim': 0.03636972963892019, 'maximum': 0.03636972963892019, 'hdm': 0.03636972963892019, 'bellevue': 0.03636972963892019, 'terrible': 0.03636972963892019, 'stressed': 0.03636972963892019, 'vexed': 0.03636972963892019, 'lecture': 0.03636972963892019, 'bibles': 0.033189916725044434, 'exist': 0.03636972963892019, 'slugs': 0.033189916725044434, 'gloves': 0.03636972963892019, 'reala': 0.03636972963892019, 'dies': 0.033189916725044434, 'incarcerated': 0.03636972963892019, 'civilized': 0.033189916725044434, 'lowkey': 0.03636972963892019, 'buckwildin': 0.03636972963892019, 'flicks': 0.033189916725044434, 'reals': 0.03636972963892019, 'showers': 0.03636972963892019, 'elmira': 0.03636972963892019, 'wildin': 0.033189916725044434, 'loudmouths': 0.03636972963892019, 'stalkin': 0.03636972963892019, 'crackheads': 0.03636972963892019, 'shove': 0.03636972963892019, 'commissary': 0.03636972963892019, 'fullest': 0.03636972963892019, 'bugged': 0.03636972963892019, 'jones': 0.033189916725044434, 'jerome': 0.03636972963892019, 'tellin': 0.03636972963892019, 'riffin': 0.03636972963892019, 'acts': 0.03636972963892019, 'flippin': 0.03636972963892019, 'visit': 0.033189916725044434, 'congratulations': 0.03636972963892019, 'bid': 0.03636972963892019, 'mack': 0.033189916725044434, 'slid': 0.029183826231170353, 'rob': 0.029183826231170353, 'bulletproof': 0.033189916725044434, 'benches': 0.033189916725044434, 'hyper': 0.033189916725044434, 'jake': 0.0309338035582644, 'froze': 0.033189916725044434, 'cetera': 0.033189916725044434, 'et': 0.033189916725044434, 'niece': 0.033189916725044434, 'yesterday': 0.033189916725044434, 'books': 0.0309338035582644, 'dear': 0.033189916725044434, 'pumped': 0.033189916725044434, 'makes': 0.029183826231170353, 'frontin': 0.0309338035582644, 'goon': 0.033189916725044434, 'hurtin': 0.033189916725044434, 'cease': 0.033189916725044434, 'sack': 0.033189916725044434, 'ice': 0.027753990644388632, 'mistakes': 0.0309338035582644, 'weekend': 0.033189916725044434, 'pad': 0.0309338035582644, 'sleepin': 0.033189916725044434, 'sat': 0.033189916725044434, 'flies': 0.033189916725044434, '12': 0.033189916725044434, 'pumpin': 0.033189916725044434, 'er': 0.033189916725044434, 'ox': 0.033189916725044434, 'trife': 0.029183826231170353, 'mother': 0.02654508188110564, 'written': 0.029183826231170353, 'beach': 0.029183826231170353, 'kinda': 0.0309338035582644, 'herb': 0.08755147869351107, 'suit': 0.033189916725044434, 'snake': 0.0309338035582644, 'blew': 0.023747900150514558, 'shoulda': 0.027753990644388632, 'keeps': 0.0309338035582644, 'hittin': 0.033189916725044434, 'bullet': 0.029183826231170353, 'caught': 0.04113617447327758, 'play': 0.019138251649857073, 'sellin': 0.029183826231170353, 'thinkin': 0.024574177730512868, 'lies': 0.02654508188110564, 'looks': 0.029183826231170353, 'chose': 0.0309338035582644, 'hangin': 0.0309338035582644, 'crib': 0.027753990644388632, 'luck': 0.02654508188110564, 'fucked': 0.023000441159580214, 'locked': 0.02654508188110564, 'main': 0.029183826231170353, 'pack': 0.023747900150514558, 'cracks': 0.0309338035582644, 'loose': 0.02654508188110564, 'piece': 0.0618676071165288, 'jewels': 0.027753990644388632, 'maintain': 0.027753990644388632, 'skull': 0.0309338035582644, 'carry': 0.02654508188110564, 'somethin': 0.04113617447327758, 'clothes': 0.024574177730512868, 'revolution': 0.029183826231170353, 'rise': 0.025497877477608608, 'listen': 0.021109155800449846, 'pistol': 0.0309338035582644, 'wisdom': 0.033189916725044434, 'squeal': 0.033189916725044434, 'crowd': 0.022318064563732837, 'wrote': 0.055507981288777264, 'mask': 0.029183826231170353, 'dukes': 0.0309338035582644, 'mom': 0.02654508188110564, 'tried': 0.043380677891676496, 'cool': 0.021109155800449846, 'shut': 0.024574177730512868, 'comes': 0.029183826231170353, 'tip': 0.10618032752442257, 'fort': 0.033189916725044434, 'eye': 0.043380677891676496, 'probably': 0.022318064563732837, 'nose': 0.0309338035582644, 'talkin': 0.06900132347874063, 'walkin': 0.02654508188110564, 'struck': 0.025497877477608608, 'look': 0.017215907305183333, 'tough': 0.029183826231170353, 'chillin': 0.0309338035582644, 'rough': 0.0618676071165288, 'motherfuckin': 0.02654508188110564, 'didn': 0.04600088231916043, 'laugh': 0.022318064563732837, 'catch': 0.020061951396952812, 'spoke': 0.0309338035582644, 'bleed': 0.029183826231170353, 'started': 0.024574177730512868, 'night': 0.018714235760512687, 'born': 0.023000441159580214, 'stay': 0.05614270728153806, 'island': 0.023747900150514558, 'blunt': 0.029183826231170353, 'dime': 0.027753990644388632, 'case': 0.022318064563732837, 'murder': 0.025497877477608608, 'strong': 0.029183826231170353, 'heard': 0.06018585419085844, 'appear': 0.0309338035582644, 'dome': 0.05309016376221128, 'blows': 0.0309338035582644, 'buddha': 0.029183826231170353, 'start': 0.02056808723663879, 'did': 0.017929342886574082, 'state': 0.022318064563732837, '10': 0.02654508188110564, 'year': 0.024574177730512868, 'story': 0.024574177730512868, 'home': 0.09569125824928537, 'phone': 0.047495800301029116, 'gave': 0.04600088231916043, 'half': 0.022318064563732837, 'numbers': 0.027753990644388632, 'passed': 0.033189916725044434, 'text': 0.029183826231170353, 'future': 0.02654508188110564, 'deal': 0.022318064563732837, 'style': 0.022318064563732837, 'loot': 0.029183826231170353, 'took': 0.019138251649857073, 'fuckin': 0.038276503299714146, 'fool': 0.0309338035582644, 'words': 0.023000441159580214, 'said': 0.03026432231196599, 'left': 0.054935922209576285, 'sent': 0.025497877477608608, 'cries': 0.033189916725044434, 'bastard': 0.027753990644388632, 'soon': 0.023000441159580214, 'moms': 0.0309338035582644, 'stuff': 0.027753990644388632, 'lookin': 0.023747900150514558, 'relax': 0.029183826231170353, 'hook': 0.04968599022829415, 'world': 0.015398030128831827, 'beat': 0.021109155800449846, 'deep': 0.02056808723663879, 'sleep': 0.018714235760512687, 'push': 0.02654508188110564, 'speak': 0.024574177730512868, 'eyes': 0.017929342886574082, 'goin': 0.025497877477608608, 'smoke': 0.02056808723663879, 'chill': 0.05309016376221128, 'sit': 0.021690338945838248, 'hate': 0.044636129127465674, 'doo': 0.0309338035582644, 'bust': 0.047495800301029116, 'doin': 0.022318064563732837, 'plus': 0.06170426170991638, 'rose': 0.033189916725044434, 'try': 0.017929342886574082, 'lady': 0.02654508188110564, 'shot': 0.040123902793905625, 'ya': 0.03512903015784884, 'check': 0.018311974069858763, 'bridge': 0.019138251649857073, 'tell': 0.015958438735981302, 'want': 0.016561996742764717, 'told': 0.050646415449231125, 'heart': 0.01958650985711183, 'write': 0.021690338945838248, 'pen': 0.04113617447327758, 'came': 0.038276503299714146, 'right': 0.013487452303393474, 'queensbridge': 0.0309338035582644, 'young': 0.019138251649857073, 'ass': 0.017929342886574082, 'word': 0.018311974069858763, 'oogie': 0.033189916725044434, 'forget': 0.02654508188110564, 'kid': 0.019138251649857073, 'cormega': 0.033189916725044434, 'shorty': 0.10618032752442257, 'york': 0.024574177730512868, 'mind': 0.03376427696615408, 'outro': 0.015673229719794055, 'ghost': 0.047495800301029116, 'projects': 0.024574177730512868, 'thugs': 0.02654508188110564, 'drugs': 0.025497877477608608, 'way': 0.014384702165048653, 'blow': 0.020061951396952812, 'bo': 0.029183826231170353, 'big': 0.019138251649857073, 'brother': 0.02056808723663879, 'ma': 0.038276503299714146, 'hit': 0.015958438735981302, 'son': 0.037428471521025374, 'need': 0.015132161155982995, 'cops': 0.023000441159580214, 'block': 0.021109155800449846, 'kicks': 0.027753990644388632, 'new': 0.016254412865182453, 'black': 0.04387807594889105, 'crew': 0.021690338945838248, 'crab': 0.029183826231170353, 'fake': 0.021109155800449846, 'liked': 0.033189916725044434, 'school': 0.07124370045154366, 'nigga': 0.06159212051532731, 'sell': 0.023747900150514558, 'love': 0.7797021339912004, 'cold': 0.021109155800449846, 'guess': 0.018714235760512687, 'corner': 0.022318064563732837, 'nas': 0.14744506638307722, 'facts': 0.029183826231170353, 'run': 0.017215907305183333, 'til': 0.018714235760512687, 'happen': 0.0309338035582644, 'glock': 0.02654508188110564, 'hold': 0.03512903015784884, 'little': 0.05164772191554999, 'come': 0.027404651138402552, 'watch': 0.018311974069858763, 'tryin': 0.023000441159580214, 'roof': 0.033189916725044434, 'streets': 0.044636129127465674, 'better': 0.015673229719794055, 'care': 0.023747900150514558, 'mad': 0.018714235760512687, 'corners': 0.02654508188110564, 'niggas': 0.10778621090182279, 'll': 0.026974904606786948, 'murdered': 0.02654508188110564, 'day': 0.015673229719794055, 'represent': 0.027753990644388632, 'produced': 0.018311974069858763}, {'kitten': 0.04734859115248134, 'ionno': 0.04734859115248134, 'shrink': 0.03799349267105993, 'prescriptions': 0.04734859115248134, 'poker': 0.04320889412709114, 'dogs': 0.03799349267105993, 'cubicle': 0.04320889412709114, 'decorate': 0.04734859115248134, 'toaster': 0.04320889412709114, 'nap': 0.04734859115248134, 'training': 0.04320889412709114, 'mouser': 0.04734859115248134, 'broken': 0.031992338294022336, 'think': 0.02383977505570274, 'feet': 0.03799349267105993, 'lands': 0.040271732344802746, 'moment': 0.030916633863381334, 'frisky': 0.04734859115248134, 'dizzy': 0.04320889412709114, 'plum': 0.04734859115248134, 'spun': 0.040271732344802746, 'chantilly': 0.04734859115248134, 'milli': 0.04320889412709114, 'kirbs': 0.04734859115248134, 'slurp': 0.04734859115248134, 'cowlick': 0.04734859115248134, 'remedy': 0.04320889412709114, 'earbuds': 0.04734859115248134, 'pair': 0.034558195553716725, 'shred': 0.04734859115248134, 'mix': 0.03799349267105993, 'meow': 0.04734859115248134, 'puke': 0.04734859115248134, 'ears': 0.04320889412709114, 'oversized': 0.04734859115248134, 'azazel': 0.04734859115248134, 'based': 0.04320889412709114, 'brazen': 0.04734859115248134, 'maze': 0.04320889412709114, 'cage': 0.04320889412709114, 'lasers': 0.04734859115248134, 'tails': 0.04320889412709114, 'strings': 0.03799349267105993, 'draw': 0.04320889412709114, 'danger': 0.040271732344802746, 'stranger': 0.04734859115248134, 'company': 0.040271732344802746, 'skittish': 0.04734859115248134, 'goldfish': 0.04734859115248134, 'bowls': 0.04320889412709114, 'bubble': 0.040271732344802746, 'stretch': 0.040271732344802746, 'woke': 0.03613203531941254, 'fetch': 0.04320889412709114, 'homie': 0.03799349267105993, 'leaf': 0.03799349267105993, 'eat': 0.027481336746038136, 'shorts': 0.04734859115248134, 'takin': 0.034558195553716725, 'warriors': 0.04320889412709114, 'greatest': 0.034558195553716725, 'hailed': 0.04734859115248134, 'euphoria': 0.04320889412709114, 'keys': 0.03799349267105993, 'bat': 0.04320889412709114, 'purpose': 0.03799349267105993, 'sense': 0.040271732344802746, 'recommended': 0.04734859115248134, 'md': 0.04734859115248134, 'pet': 0.04734859115248134, 'bet': 0.031992338294022336, 'handlers': 0.04320889412709114, 'heels': 0.04734859115248134, 'jeopardy': 0.04734859115248134, 'samplers': 0.04734859115248134, 'era': 0.04320889412709114, 'misery': 0.04734859115248134, 'panther': 0.04734859115248134, 'playing': 0.07226407063882508, 'briefs': 0.04734859115248134, 'hamper': 0.04734859115248134, 'haunt': 0.04734859115248134, 'warlock': 0.04734859115248134, 'swap': 0.040271732344802746, 'knox': 0.04734859115248134, 'fort': 0.04320889412709114, 'hoarding': 0.04734859115248134, 'cardboard': 0.04320889412709114, 'tomorrow': 0.03319487353712416, 'heroes': 0.04320889412709114, 'parking': 0.04734859115248134, 'met': 0.03799349267105993, 'wizard': 0.04320889412709114, 'eye': 0.02823796054854946, 'slipper': 0.04734859115248134, 'hides': 0.04734859115248134, 'awesome': 0.04320889412709114, 'weeks': 0.04320889412709114, 'hostage': 0.04320889412709114, 'socks': 0.03613203531941254, 'church': 0.03799349267105993, 'deem': 0.04734859115248134, 'queen': 0.04320889412709114, 'vaccine': 0.04734859115248134, 'strongid': 0.04734859115248134, 'hobgoblin': 0.04734859115248134, 'doing': 0.3519157212342457, 'whatcha': 0.5208345026772948, 'kirby': 0.568183093829776, 'probably': 0.029055176511733945, 'taking': 0.034558195553716725, 'look': 0.02241284068935806, 'cables': 0.040271732344802746, 'cat': 0.03613203531941254, 'box': 0.031992338294022336, 'wheel': 0.03613203531941254, 'looking': 0.031992338294022336, 'means': 0.034558195553716725, 'rich': 0.029943540840244767, 'worship': 0.04320889412709114, 'golden': 0.03799349267105993, 'steel': 0.03319487353712416, '20': 0.031992338294022336, 'shots': 0.027481336746038136, 'good': 0.021561535381959922, '15': 0.040271732344802746, 'soon': 0.029943540840244767, 'hook': 0.06468460614587976, 'sharp': 0.03319487353712416, 'hey': 0.185499803180288, 'cop': 0.03319487353712416, 'match': 0.03799349267105993, 'maybe': 0.026118014729445565, 'lady': 0.034558195553716725, 'chase': 0.034558195553716725, 'old': 0.02077578246095353, 'thanks': 0.03613203531941254, 'head': 0.021561535381959922, 'thought': 0.02823796054854946, 'years': 0.029943540840244767, 'lot': 0.026118014729445565, '40': 0.03613203531941254, 'god': 0.019041155921766972, 'game': 0.021161101740870863, 'walking': 0.04320889412709114, 'cold': 0.05496267349207627, 'face': 0.021561535381959922, 'spot': 0.029943540840244767, 'hot': 0.02491547948634374, 'corners': 0.034558195553716725}, {'earrings': 0.05108004631455376, 'blonde': 0.05108004631455376, 'tune': 0.05108004631455376, 'admits': 0.05108004631455376, 'skills': 0.043445473313349775, 'boss': 0.05108004631455376, 'idiot': 0.05108004631455376, 'fail': 0.05108004631455376, 'killshot': 0.05108004631455376, 'cottonelle': 0.05108004631455376, 'coffins': 0.04661410739983126, 'budden': 0.05108004631455376, 'fails': 0.05108004631455376, 'attempt': 0.05108004631455376, 'kells': 0.10216009262910752, 'excuse': 0.04098768977179368, 'dissing': 0.05108004631455376, 'pic': 0.05108004631455376, 'thinks': 0.05108004631455376, 'toothpick': 0.05108004631455376, 'leather': 0.043445473313349775, 'halsey': 0.05108004631455376, 'gerald': 0.05108004631455376, 'salty': 0.05108004631455376, 'sombrero': 0.05108004631455376, 'offspring': 0.05108004631455376, 'letting': 0.05108004631455376, 'exhausting': 0.05108004631455376, 'shadow': 0.05108004631455376, 'shady': 0.04661410739983126, 'sandals': 0.04661410739983126, 'flannel': 0.05108004631455376, 'kim': 0.05108004631455376, 'tatted': 0.05108004631455376, 'rambo': 0.05108004631455376, 'solidified': 0.05108004631455376, 'channel': 0.05108004631455376, 'ballsack': 0.05108004631455376, 'injection': 0.05108004631455376, 'lethal': 0.05108004631455376, 'career': 0.04661410739983126, 'enjoy': 0.05108004631455376, 'bliss': 0.05108004631455376, 'clickbait': 0.05108004631455376, 'usin': 0.10216009262910752, 'prick': 0.09322821479966252, 'shamed': 0.05108004631455376, 'labor': 0.05108004631455376, 'jade': 0.05108004631455376, 'mwah': 0.05108004631455376, 'flops': 0.05108004631455376, 'biggest': 0.04661410739983126, 'satanist': 0.05108004631455376, 'hailie': 0.04661410739983126, 'benzino': 0.05108004631455376, 'ja': 0.04661410739983126, 'putting': 0.043445473313349775, 'iggy': 0.05108004631455376, 'swift': 0.038979534398627266, 'taylor': 0.04661410739983126, 'video': 0.04661410739983126, 'tay': 0.04661410739983126, 'babysitting': 0.05108004631455376, 'kiddy': 0.05108004631455376, 'rage': 0.05108004631455376, 'page': 0.043445473313349775, '80': 0.043445473313349775, 'funny': 0.043445473313349775, 'wack': 0.08197537954358736, '02': 0.05108004631455376, 'goof': 0.05108004631455376, 'oops': 0.04661410739983126, 'sucked': 0.05108004631455376, 'material': 0.05108004631455376, 'reading': 0.05108004631455376, 'cheerios': 0.05108004631455376, 'wheaties': 0.05108004631455376, 'oatmeal': 0.05108004631455376, 'cereal': 0.05108004631455376, 'brrt': 0.05108004631455376, 'sprayin': 0.05108004631455376, 'arrow': 0.05108004631455376, 'bow': 0.043445473313349775, 'gunner': 0.05108004631455376, 'marrow': 0.05108004631455376, 'mountain': 0.05108004631455376, 'mole': 0.05108004631455376, 'stealin': 0.04661410739983126, 'albums': 0.1398423221994938, '29': 0.05108004631455376, 'outselling': 0.05108004631455376, 'kelly': 0.1398423221994938, 'ow': 0.05108004631455376, 'corny': 0.05108004631455376, 'yelling': 0.04661410739983126, 'reply': 0.05108004631455376, 'swayze': 0.05108004631455376, 'scope': 0.043445473313349775, 'stoked': 0.05108004631455376, 'supplyin': 0.05108004631455376, 'undeniable': 0.05108004631455376, 'bun': 0.05108004631455376, 'starter': 0.04661410739983126, 'nordictrack': 0.05108004631455376, 'compliment': 0.05108004631455376, 'insult': 0.04661410739983126, 'perplexed': 0.05108004631455376, 'hickeys': 0.05108004631455376, 'rihanna': 0.04661410739983126, 'yell': 0.05108004631455376, 'yellin': 0.10216009262910752, 'beard': 0.1398423221994938, 'haters': 0.05108004631455376, 'petty': 0.04661410739983126, 'alike': 0.043445473313349775, 'vain': 0.04661410739983126, 'knows': 0.04661410739983126, 'recovery': 0.04661410739983126, 'mathers': 0.08689094662669955, 'illa': 0.04661410739983126, 'actin': 0.04098768977179368, 'slay': 0.043445473313349775, 'pops': 0.04661410739983126, 'suck': 0.043445473313349775, 'list': 0.043445473313349775, 'isn': 0.043445473313349775, 'outta': 0.043445473313349775, 'mile': 0.04661410739983126, 'bein': 0.08197537954358736, 'lil': 0.10743270093643736, 'mumble': 0.08689094662669955, 'nothin': 0.03581090031214578, 'line': 0.033353116770589684, 'neck': 0.03581090031214578, 'fans': 0.08689094662669955, 'weird': 0.12296306931538105, 'autograph': 0.043445473313349775, 'eating': 0.038979534398627266, 'losin': 0.043445473313349775, 'doc': 0.04661410739983126, 'blew': 0.033353116770589684, 'bowl': 0.04661410739983126, 'tells': 0.04661410739983126, 'luxury': 0.043445473313349775, 'grazed': 0.04661410739983126, '45': 0.043445473313349775, 'younger': 0.04661410739983126, 'picked': 0.038979534398627266, 'shootin': 0.043445473313349775, 'mirror': 0.038979534398627266, 'fight': 0.04098768977179368, 'hair': 0.03451359548390476, 'goddamn': 0.043445473313349775, 'play': 0.026879022482700764, 'champagne': 0.04098768977179368, 'mean': 0.03134496139742327, 'daughter': 0.12296306931538105, 'dictionary': 0.04661410739983126, 'letter': 0.043445473313349775, 'record': 0.03451359548390476, 'diddy': 0.13033641994004933, 'stan': 0.08689094662669955, 'dad': 0.038979534398627266, 'biggie': 0.04661410739983126, 'ammo': 0.04661410739983126, 'pac': 0.04661410739983126, 'somethin': 0.02888717785586718, 'sayin': 0.033353116770589684, 'barrel': 0.08689094662669955, 'alien': 0.043445473313349775, 'watchin': 0.038979534398627266, 'listen': 0.029647090221815643, 'aim': 0.03451359548390476, 'cap': 0.04661410739983126, 'bullets': 0.03581090031214578, 'playin': 0.08197537954358736, 'auto': 0.043445473313349775, 'sweater': 0.04661410739983126, 'nails': 0.043445473313349775, 'pills': 0.038979534398627266, 'crowd': 0.03134496139742327, 'wrote': 0.038979534398627266, 'milk': 0.043445473313349775, 'lead': 0.03581090031214578, 'alright': 0.03581090031214578, 'wait': 0.02817632731094179, 'sorry': 0.033353116770589684, 'marshall': 0.07795906879725453, 'shut': 0.03451359548390476, 'balls': 0.04098768977179368, 'machine': 0.038979534398627266, 'cock': 0.07162180062429156, 'foot': 0.04098768977179368, 'think': 0.025718543769385694, 'feet': 0.04098768977179368, 'moment': 0.033353116770589684, 'woke': 0.038979534398627266, 'takin': 0.03728166322301964, 'greatest': 0.03728166322301964, 'gon': 0.030463342151054867, 'pop': 0.06268992279484654, 'shoot': 0.033353116770589684, 'goat': 0.04661410739983126, 'rapper': 0.03581090031214578, 'dig': 0.04098768977179368, 'mouth': 0.11693860319588179, 'interscope': 0.04661410739983126, 'look': 0.04835831067354274, 'hitting': 0.043445473313349775, 'soft': 0.038979534398627266, 'kiss': 0.03451359548390476, 'talk': 0.14088163655470895, 'okay': 0.03134496139742327, 'forgot': 0.038979534398627266, 'open': 0.029647090221815643, 'death': 0.029647090221815643, 'true': 0.03134496139742327, 'night': 0.026283506610549755, 'age': 0.04098768977179368, 'red': 0.033353116770589684, 'hits': 0.04661410739983126, 'ooh': 0.033353116770589684, 'rich': 0.03230333608059802, 'threat': 0.04098768977179368, 'lick': 0.07162180062429156, 'destroy': 0.043445473313349775, 'effort': 0.04661410739983126, 'bone': 0.04098768977179368, 'chrome': 0.043445473313349775, 'mic': 0.10751608993080305, 'lines': 0.03728166322301964, 'state': 0.03134496139742327, 'white': 0.029647090221815643, 'hill': 0.038979534398627266, '10': 0.03728166322301964, 'year': 0.10354078645171429, 'die': 0.06460667216119605, 'phone': 0.033353116770589684, 'spent': 0.038979534398627266, '20': 0.03451359548390476, 'dead': 0.02817632731094179, 'burn': 0.03134496139742327, 'text': 0.04098768977179368, 'good': 0.0232607602278296, 'long': 0.027508585864523358, 'changed': 0.038979534398627266, 'fuckin': 0.24191120234430688, 'city': 0.02817632731094179, 'said': 0.021252604854663185, 'left': 0.025718543769385694, 'realized': 0.043445473313349775, 'gonna': 0.04742077679243856, 'food': 0.03451359548390476, 'damn': 0.055017171729046715, 'giant': 0.043445473313349775, 'grave': 0.03728166322301964, 'deep': 0.05777435571173436, 'sleep': 0.026283506610549755, 'gotta': 0.05375804496540153, 'eyes': 0.025181151307093134, 'smoke': 0.05777435571173436, 'chill': 0.03728166322301964, 'feel': 0.022012517220611653, 'second': 0.038979534398627266, 'inside': 0.026283506610549755, 'slim': 0.07795906879725453, 'dick': 0.05635265462188358, 'doin': 0.03134496139742327, 'sick': 0.09691000824179406, 'attack': 0.033353116770589684, 'dance': 0.03581090031214578, 'ago': 0.038979534398627266, 'woo': 0.07162180062429156, 'ah': 0.038979534398627266, 'broke': 0.03134496139742327, 'want': 0.0697822806834888, 'old': 0.11206541783989127, 'heart': 0.027508585864523358, 'thanks': 0.038979534398627266, 'really': 0.11003434345809343, 'oh': 0.07113116518865784, 'billy': 0.04661410739983126, 'battle': 0.03728166322301964, 'money': 0.02371038839621928, 'write': 0.030463342151054867, 'killed': 0.03451359548390476, 'ho': 0.09139002645316459, 'sound': 0.026879022482700764, 'right': 0.018942667299495713, 'motherfucker': 0.06460667216119605, 'young': 0.026879022482700764, 'bitch': 0.15138206138996285, 'jay': 0.04098768977179368, 'mothafuckin': 0.09322821479966252, 'outro': 0.022012517220611653, 'brain': 0.030463342151054867, 'blow': 0.02817632731094179, 'big': 0.026879022482700764, 'live': 0.0232607602278296, 'ma': 0.026879022482700764, 'hit': 0.06723925070393476, 'son': 0.026283506610549755, 'gun': 0.08452898193282538, 'need': 0.04250520970932637, 'locks': 0.04661410739983126, 'wake': 0.06902719096780952, 'dissed': 0.04098768977179368, 'black': 0.020541754309737797, 'game': 0.022828769149850874, 'rap': 0.04835831067354274, 'love': 0.03910946735811112, 'dress': 0.038979534398627266, 'facts': 0.04098768977179368, 'run': 0.02417915533677137, 'leave': 0.030463342151054867, 'til': 0.026283506610549755, 'hold': 0.04933752615878806, 'little': 0.02417915533677137, 'come': 0.019244449481496773, 'better': 0.044025034441223306, 'care': 0.033353116770589684, 'mad': 0.026283506610549755, 'll': 0.09471333649747857, 'day': 0.08805006888244661}, {'van': 0.04025174231391767, 'fact': 0.029802830714505023, 'mama': 0.03539327509986838, 'grandma': 0.03751559547231558, 'hol': 0.11254678641694675, 'wrap': 0.04025174231391767, 'blind': 0.04025174231391767, 'sincerely': 0.03751559547231558, 'mines': 0.04025174231391767, 'caught': 0.024944363500455733, 'heartbeat': 0.04025174231391767, 'coherent': 0.04410812469282295, 'interference': 0.04410812469282295, 'swerve': 0.04410812469282295, 'drive': 0.03751559547231558, 'steerin': 0.04410812469282295, 'common': 0.07503119094463116, 'insane': 0.0336592130934103, 'mirror': 0.0336592130934103, 'verb': 0.13232437407846884, 'proof': 0.0336592130934103, 'metaphor': 0.04410812469282295, 'margin': 0.04410812469282295, 'curve': 0.04410812469282295, 'punctuation': 0.04410812469282295, 'makin': 0.0336592130934103, 'taboo': 0.04025174231391767, 'relations': 0.04410812469282295, 'communication': 0.04025174231391767, 'fight': 0.03539327509986838, 'sundress': 0.04410812469282295, 'skin': 0.03219308455733038, 'hair': 0.029802830714505023, 'fun': 0.04025174231391767, 'adjusted': 0.04410812469282295, 'goddamn': 0.03751559547231558, 'motherland': 0.04410812469282295, 'plane': 0.03539327509986838, 'busy': 0.03751559547231558, 'vacations': 0.04410812469282295, 'photographs': 0.04025174231391767, 'seductive': 0.04410812469282295, 'play': 0.023210301493997658, 'drake': 0.04025174231391767, 'wrongs': 0.0882162493856459, 'nation': 0.04025174231391767, 'rule': 0.04025174231391767, 'conversation': 0.03751559547231558, 'atari': 0.04410812469282295, 'approach': 0.03751559547231558, 'bitty': 0.04025174231391767, 'curled': 0.04410812469282295, 'girlfriends': 0.04410812469282295, 'curse': 0.03539327509986838, 'nights': 0.03751559547231558, 'champagne': 0.03539327509986838, 'empathy': 0.04410812469282295, 'poems': 0.08050348462783534, 'mean': 0.10826673549161175, 'bloomed': 0.0882162493856459, 'flower': 0.08050348462783534, 'poetic': 0.48518937162105247, 'basis': 0.04410812469282295, 'basic': 0.04025174231391767, 'maintenance': 0.04410812469282295, 'hmm': 0.04025174231391767, 'fragrance': 0.04410812469282295, 'recognize': 0.04025174231391767, 'perfume': 0.04410812469282295, 'lights': 0.04410812469282295, 'dim': 0.04410812469282295, 'swear': 0.03751559547231558, 'deville': 0.04410812469282295, 'scoop': 0.04410812469282295, 'ol': 0.0336592130934103, 'sherane': 0.03751559547231558, 'unless': 0.03539327509986838, 'letter': 0.03751559547231558, 'daddy': 0.030923066251808223, 'slow': 0.030923066251808223, 'test': 0.04025174231391767, 'plenty': 0.03751559547231558, 'dark': 0.08640223763808304, 'figure': 0.07078655019973676, 'mood': 0.07503119094463116, 'justice': 0.4126715501954714, 'save': 0.029802830714505023, 'alright': 0.15461533125904112, 'sorry': 0.05760149175872203, 'matter': 0.029802830714505023, 'trust': 0.06438616911466076, 'skit': 0.030923066251808223, 'attraction': 0.04025174231391767, 'fatal': 0.0336592130934103, 'ask': 0.02630539694275913, 'pour': 0.03539327509986838, 'called': 0.05413336774580588, 'homie': 0.17696637549934188, 'takin': 0.03219308455733038, 'sense': 0.03751559547231558, 'gon': 0.07891619082827737, 'momma': 0.03219308455733038, 'talkin': 0.08368274964335053, 'ayy': 0.029802830714505023, 'lamar': 0.18553839751084933, 'kendrick': 0.17280447527616608, 'sounwave': 0.03751559547231558, 'bad': 0.025600555336823018, 'east': 0.03219308455733038, 'natural': 0.0336592130934103, 'soft': 0.0336592130934103, 'bit': 0.027894249881116842, 'talk': 0.024330537031300857, 'okay': 0.10826673549161175, 'patience': 0.04025174231391767, 'true': 0.02706668387290294, 'problem': 0.030923066251808223, 'ooh': 0.028800745879361014, 'read': 0.02706668387290294, 'stay': 0.06808820296306886, 'car': 0.02706668387290294, 'wanna': 0.08697669183167095, 'tryna': 0.030923066251808223, 'dedicated': 0.07503119094463116, 'heard': 0.024330537031300857, 'snatch': 0.0336592130934103, 'lines': 0.03219308455733038, 'livin': 0.02630539694275913, 'minute': 0.03219308455733038, 'blood': 0.023753935694649394, 'everyday': 0.03751559547231558, 'room': 0.0812000516187088, 'good': 0.04017179257281289, 'gold': 0.024330537031300857, 'pain': 0.025600555336823018, 'fuckin': 0.023210301493997658, 'city': 0.024330537031300857, 'hands': 0.0812000516187088, 'words': 0.027894249881116842, 'gonna': 0.020474154652395573, 've': 0.020474154652395573, 'walk': 0.02706668387290294, 'lookin': 0.05760149175872203, 'gotta': 0.023210301493997658, 'hear': 0.06808820296306886, 'clearly': 0.04025174231391767, 'truly': 0.03751559547231558, 'second': 0.0336592130934103, 'party': 0.05760149175872203, 'doin': 0.02706668387290294, 'african': 0.04025174231391767, 'girl': 0.05261079388551826, 'maybe': 0.048661074062601714, 'song': 0.13533341936451468, 'uh': 0.10522158777103652, 'huh': 0.055788499762233684, 'sure': 0.024330537031300857, 'tell': 0.11612351469055424, 'want': 0.12051537771843868, 'told': 0.040948309304791146, 'wish': 0.028800745879361014, 'taste': 0.028800745879361014, 'hope': 0.025600555336823018, 'really': 0.07126180708394819, 'songs': 0.07078655019973676, 'thing': 0.022208216658853648, 'write': 0.13152698471379565, 'pen': 0.024944363500455733, 'power': 0.027894249881116842, 'high': 0.07885147088900706, 'sound': 0.023210301493997658, 'range': 0.029802830714505023, 'right': 0.06542872151020411, 'motherfucker': 0.027894249881116842, 'young': 0.023210301493997658, 'bitch': 0.01867427225028235, 'ass': 0.021744172957917737, 'lot': 0.024330537031300857, 'crazy': 0.02630539694275913, 'everybody': 0.024330537031300857, 'outro': 0.019008026116315656, 'big': 0.023210301493997658, 'live': 0.020085896286406446, 'ma': 0.023210301493997658, 'god': 0.01773800781079349, 'need': 0.05505550283984511, 'new': 0.019712867722251764, 'sex': 0.0673184261868206, 'game': 0.03942573544450353, 'nigga': 0.056022816750847054, 'friends': 0.024330537031300857, 'love': 0.050657117231605354, 'cold': 0.025600555336823018, 'run': 0.020878939537249005, 'hold': 0.021301720660609477, 'little': 0.04175787907449801, 'come': 0.016617772273490292, 'better': 0.019008026116315656, 'care': 0.028800745879361014, 'll': 0.016357180377551028, 'day': 0.019008026116315656, 'real': 0.04175787907449801, 'chorus': 0.0541199099189252, 'produced': 0.022208216658853648}, {'pedaled': 0.0384762341022846, 'passion': 0.02808255092522755, 'bit': 0.024332607563978172, 'askin': 0.029361478677679236, 'cat': 0.029361478677679236, 'captain': 0.03511224907158961, 'metal': 0.03087412915132802, 'feast': 0.03511224907158961, 'stars': 0.03272546370837423, 'seek': 0.03511224907158961, 'nature': 0.03511224907158961, 'polar': 0.03272546370837423, 'pixels': 0.0384762341022846, 'vision': 0.03272546370837423, 'tape': 0.024332607563978172, 'ticker': 0.0384762341022846, 'hunt': 0.0384762341022846, 'duck': 0.03087412915132802, 'vigils': 0.0384762341022846, 'cast': 0.03272546370837423, 'span': 0.0384762341022846, 'kibbles': 0.0384762341022846, 'stomach': 0.03272546370837423, 'threshold': 0.0384762341022846, 'pegging': 0.0384762341022846, 'pacifism': 0.0384762341022846, 'peter': 0.0384762341022846, 'wire': 0.03511224907158961, 'speaker': 0.0384762341022846, 'kiss': 0.025997493646984237, 'princess': 0.0384762341022846, 'talk': 0.021223922920553494, 'sweet': 0.029361478677679236, 'couldn': 0.023610708283768864, 'asshole': 0.0384762341022846, 'interests': 0.0384762341022846, 'shared': 0.0384762341022846, 'didn': 0.024332607563978172, 'woman': 0.03272546370837423, 'bickering': 0.0384762341022846, 'pampered': 0.0384762341022846, 'congregate': 0.0384762341022846, 'crabs': 0.0384762341022846, 'fiddler': 0.0384762341022846, 'icarus': 0.0384762341022846, 'camp': 0.03272546370837423, 'backbones': 0.0384762341022846, 'similar': 0.09262238745398407, 'yellow': 0.03511224907158961, 'bricks': 0.0384762341022846, 'gripped': 0.0384762341022846, 'bellow': 0.0384762341022846, 'cinema': 0.0384762341022846, 'box': 0.025997493646984237, 'freaks': 0.03272546370837423, 'holiday': 0.0384762341022846, 'goblins': 0.0384762341022846, 'batch': 0.0384762341022846, 'festive': 0.0384762341022846, 'houston': 0.03511224907158961, 'gotham': 0.0384762341022846, 'installment': 0.0384762341022846, 'windows': 0.03087412915132802, 'brick': 0.03511224907158961, 'badge': 0.0384762341022846, 'zag': 0.0384762341022846, 'zig': 0.0769524682045692, 'waddle': 0.0384762341022846, 'chaplin': 0.0384762341022846, 'cabin': 0.0384762341022846, 'log': 0.0384762341022846, 'lincoln': 0.0384762341022846, 'sinking': 0.0384762341022846, 'gospel': 0.0384762341022846, 'alley': 0.0384762341022846, 'spreading': 0.0384762341022846, 'morbid': 0.0384762341022846, 'coursed': 0.0384762341022846, 'hock': 0.0384762341022846, 'pendragon': 0.0384762341022846, 'cenobite': 0.0384762341022846, 'deteriorating': 0.0384762341022846, 'plug': 0.03511224907158961, 'sweep': 0.03511224907158961, 'activate': 0.0384762341022846, 'chain': 0.026974693314463866, 'activism': 0.03511224907158961, 'link': 0.0384762341022846, 'okay': 0.023610708283768864, 'accomplished': 0.0384762341022846, 'countin': 0.03511224907158961, 'lowlife': 0.0384762341022846, 'result': 0.0384762341022846, 'crystal': 0.0384762341022846, 'blame': 0.03272546370837423, 'adhere': 0.03511224907158961, 'stains': 0.0384762341022846, 'seven': 0.029361478677679236, 'souls': 0.03272546370837423, 'crumbs': 0.0384762341022846, 'divvy': 0.0384762341022846, 'engulfed': 0.0384762341022846, 'centerfold': 0.03511224907158961, 'cross': 0.03272546370837423, 'shimmy': 0.0384762341022846, 'pulse': 0.03272546370837423, 'headline': 0.0384762341022846, 'tabloid': 0.0384762341022846, 'intimate': 0.0384762341022846, 'bound': 0.029361478677679236, 'slacker': 0.0384762341022846, 'pieces': 0.28089799257271686, 'apart': 0.3462861069205614, 'pick': 0.22611022881675885, 'settle': 0.0384762341022846, 'ticket': 0.0384762341022846, 'lottery': 0.03272546370837423, 'feather': 0.0384762341022846, 'ground': 0.03272546370837423, 'wings': 0.07022449814317921, 'beautiful': 0.06174825830265604, 'origami': 0.0384762341022846, 'forgot': 0.029361478677679236, 'knot': 0.03511224907158961, 'impressed': 0.03511224907158961, 'rest': 0.03087412915132802, 'boots': 0.0384762341022846, 'hang': 0.029361478677679236, 'epitaphs': 0.0384762341022846, 'spangled': 0.03511224907158961, 'lawn': 0.03272546370837423, 'rags': 0.0384762341022846, 'flags': 0.0384762341022846, 'drag': 0.03511224907158961, 'buzzards': 0.0384762341022846, 'crash': 0.026974693314463866, 'wagons': 0.0384762341022846, 'covered': 0.0384762341022846, 'laughing': 0.14044899628635843, 'laugh': 0.023610708283768864, 'settlers': 0.0384762341022846, 'wow': 0.03511224907158961, 'sleeping': 0.03511224907158961, 'wattage': 0.0384762341022846, 'divorced': 0.0384762341022846, 'spores': 0.0769524682045692, 'responsive': 0.0384762341022846, 'accents': 0.0384762341022846, 'creed': 0.0384762341022846, 'conscience': 0.06545092741674846, 'bleeding': 0.03087412915132802, 'breed': 0.03087412915132802, 'tossed': 0.0384762341022846, 'tempest': 0.03511224907158961, 'promise': 0.03511224907158961, 'resonance': 0.0384762341022846, 'teeming': 0.0384762341022846, 'refuse': 0.0384762341022846, 'wretched': 0.0769524682045692, 'crutched': 0.0384762341022846, 'merit': 0.03511224907158961, 'heritage': 0.0384762341022846, 'stole': 0.03087412915132802, 'honor': 0.03272546370837423, 'gym': 0.03272546370837423, 'following': 0.03511224907158961, 'stumble': 0.0384762341022846, 'open': 0.022331780531317177, 'hogging': 0.0384762341022846, 'american': 0.03087412915132802, 'picket': 0.03511224907158961, 'retirement': 0.0384762341022846, 'early': 0.03511224907158961, 'duke': 0.03272546370837423, 'splash': 0.029361478677679236, 'cretin': 0.0384762341022846, 'completion': 0.0384762341022846, 'zero': 0.03511224907158961, 'pace': 0.03511224907158961, 'kraken': 0.0384762341022846, 'smack': 0.03272546370837423, 'hero': 0.0384762341022846, 'anti': 0.0384762341022846, 'trickle': 0.0384762341022846, 'generation': 0.03511224907158961, 'splicing': 0.0384762341022846, 'fathom': 0.0384762341022846, 'trip': 0.03272546370837423, 'bloom': 0.0384762341022846, 'platoon': 0.03272546370837423, 'med': 0.0384762341022846, 'cooperative': 0.0384762341022846, 'dirty': 0.02808255092522755, 'visual': 0.0384762341022846, 'thirty': 0.02808255092522755, 'catch': 0.021223922920553494, 'patience': 0.03511224907158961, 'poking': 0.0384762341022846, 'stick': 0.025123358757417648, 'halo': 0.0769524682045692, 'basement': 0.03511224907158961, 'roped': 0.0384762341022846, 'angels': 0.03272546370837423, 'lassos': 0.0384762341022846, 'sixers': 0.0384762341022846, 'adjacent': 0.0384762341022846, 'spoke': 0.03272546370837423, 'crooked': 0.03087412915132802, 'wheel': 0.029361478677679236, 'invent': 0.0384762341022846, 'procreation': 0.0384762341022846, 'clean': 0.03272546370837423, 'shackle': 0.0384762341022846, 'ridiculous': 0.03511224907158961, 'night': 0.019798148716406307, 'sort': 0.026974693314463866, 'screen': 0.03087412915132802, 'red': 0.025123358757417648, 'problem': 0.026974693314463866, 'dreams': 0.025997493646984237, 'cut': 0.020720944202523756, 'pussy': 0.025123358757417648, 'enter': 0.03087412915132802, 'split': 0.05872295735535847, 'hour': 0.025997493646984237, 'sparkle': 0.03511224907158961, 'did': 0.018967795500622178, 'attached': 0.03272546370837423, 'triple': 0.07022449814317921, 'deadly': 0.03087412915132802, 'spell': 0.029361478677679236, 'dead': 0.021223922920553494, 'dream': 0.048665215127956345, 'charlie': 0.03511224907158961, 'wall': 0.025997493646984237, 'city': 0.021223922920553494, 'men': 0.024332607563978172, 've': 0.017859937889858492, 'walk': 0.023610708283768864, 'past': 0.026974693314463866, 'turn': 0.018213038324283018, 'sit': 0.022946625320659143, 'feel': 0.01658101013740681, 'peace': 0.020720944202523756, 'second': 0.029361478677679236, 'door': 0.025123358757417648, 'maybe': 0.04244784584110699, 'road': 0.026974693314463866, 'dawn': 0.28089799257271686, 'yes': 0.3671460051305463, 'sample': 0.0561651018504551, 'told': 0.017859937889858492, 'lost': 0.021759373726722653, 'head': 0.03504250761292213, 'seen': 0.022946625320659143, 'friend': 0.024332607563978172, 'logic': 0.03511224907158961, 'high': 0.01719585492674877, 'nightmare': 0.03511224907158961, 'hand': 0.021759373726722653, 'bitch': 0.03257974243047218, 'outro': 0.01658101013740681, 'stop': 0.1707101595055996, 'way': 0.12174281711498243, 'brother': 0.021759373726722653, 'wanted': 0.21579754651571093, 'flash': 0.02808255092522755, 'block': 0.022331780531317177, 'black': 0.01547315252664312, 'game': 0.01719585492674877, 'street': 0.021759373726722653, 'won': 0.092909185850339, 'leave': 0.022946625320659143, 'til': 0.15838518973125046, 'hold': 0.0185818371700678, 'watch': 0.019372588363507276, 'break': 0.1486546973605424, 'better': 0.01658101013740681, 'mad': 0.019798148716406307, 'll': 0.028537268625358547, 'jungle': 0.03087412915132802, 'day': 0.13264808109925447, 'chorus': 0.03147311805760428}, {'discussing': 0.08087007072295851, 'elated': 0.08087007072295851, 'crass': 0.08087007072295851, 'motivated': 0.08087007072295851, 'slauson': 0.08087007072295851, 'gangrene': 0.08087007072295851, 'morphine': 0.08087007072295851, 'gowns': 0.08087007072295851, 'bridal': 0.08087007072295851, 'organs': 0.08087007072295851, 'rivals': 0.08087007072295851, 'horrified': 0.08087007072295851, 'mortified': 0.08087007072295851, 'certified': 0.08087007072295851, 'willing': 0.08087007072295851, 'dillinger': 0.08087007072295851, 'pillage': 0.08087007072295851, '44': 0.08087007072295851, 'calendar': 0.08087007072295851, 'oliver': 0.08087007072295851, 'nets': 0.08087007072295851, 'vet': 0.08087007072295851, 'traumatic': 0.08087007072295851, 'post': 0.08087007072295851, 'laws': 0.08087007072295851, 'maim': 0.08087007072295851, 'lasting': 0.08087007072295851, 'deadlier': 0.08087007072295851, 'piercing': 0.08087007072295851, 'fodder': 0.08087007072295851, 'cannon': 0.08087007072295851, 'aiyana': 0.08087007072295851, 'oscar': 0.08087007072295851, 'trayvon': 0.08087007072295851, 'tattoos': 0.08087007072295851, 'displaying': 0.08087007072295851, 'avon': 0.08087007072295851, 'laser': 0.08087007072295851, 'figgity': 0.08087007072295851, 'tase': 0.08087007072295851, 'tigitty': 0.08087007072295851, 'faze': 0.08087007072295851, 'figitty': 0.08087007072295851, 'annually': 0.08087007072295851, 'manually': 0.08087007072295851, 'fanity': 0.08087007072295851, 'fo': 0.16174014144591703, 'insanity': 0.08087007072295851, 'converted': 0.08087007072295851, 'martyr': 0.08087007072295851, 'anarchy': 0.08087007072295851, 'proverbial': 0.08087007072295851, 'murderer': 0.08087007072295851, 'exactly': 0.08087007072295851, 'loathe': 0.08087007072295851, 'dali': 0.08087007072295851, 'dollys': 0.08087007072295851, 'llamas': 0.08087007072295851, 'hammers': 0.08087007072295851, 'hammer': 0.06878299361373037, 'fortified': 0.07379958387073499, 'safety': 0.07379958387073499, 'pigs': 0.07379958387073499, 'catching': 0.07379958387073499, 'bibles': 0.07379958387073499, 'jones': 0.07379958387073499, 'scratch': 0.07379958387073499, 'flying': 0.07379958387073499, 'dont': 0.07379958387073499, 'twist': 0.14759916774146997, 'father': 0.06171250676150683, 'minus': 0.06878299361373037, 'holy': 0.06878299361373037, 'slaughter': 0.06878299361373037, 'worked': 0.07379958387073499, 'inserted': 0.07379958387073499, 'camera': 0.07379958387073499, 'members': 0.07379958387073499, 'daughters': 0.06878299361373037, 'disorder': 0.07379958387073499, 'sworn': 0.07379958387073499, 'armor': 0.07379958387073499, 'lama': 0.07379958387073499, 'drama': 0.06878299361373037, 'cameras': 0.0648918239071999, 'stray': 0.07379958387073499, 'coffins': 0.07379958387073499, 'scope': 0.06878299361373037, 'starter': 0.07379958387073499, 'town': 0.0648918239071999, 'sean': 0.07379958387073499, 'caliber': 0.07379958387073499, 'slay': 0.06878299361373037, 'news': 0.0648918239071999, 'award': 0.07379958387073499, 'circus': 0.07379958387073499, 'winning': 0.07379958387073499, 'rounds': 0.07379958387073499, 'bodies': 0.12342501352301366, 'mold': 0.07379958387073499, 'greet': 0.07379958387073499, 'bullet': 0.1297836478143998, 'conversation': 0.06878299361373037, 'bitty': 0.07379958387073499, 'curse': 0.0648918239071999, 'fame': 0.054642019909283294, 'napalm': 0.07379958387073499, 'load': 0.0648918239071999, 'listen': 0.04693735530707707, 'wave': 0.06878299361373037, 'clip': 0.06878299361373037, 'aim': 0.054642019909283294, 'bang': 0.05280474679797175, 'silencer': 0.06878299361373037, 'bell': 0.06171250676150683, 'cock': 0.056695916504502224, 'ask': 0.04822964762096481, 'liver': 0.06878299361373037, 'purpose': 0.0648918239071999, 'swap': 0.06878299361373037, 'pop': 0.04962542965227868, 'flag': 0.0648918239071999, 'laugh': 0.04962542965227868, 'meet': 0.11339183300900445, 'sort': 0.056695916504502224, 'view': 0.0648918239071999, 'screen': 0.0648918239071999, 'various': 0.07379958387073499, 'ooh': 0.05280474679797175, 'pull': 0.04962542965227868, 'pro': 0.06171250676150683, 'change': 0.05902443241630523, 'cut': 0.04355166928888904, 'damage': 0.24685002704602732, 'bro': 0.0648918239071999, 'heard': 0.044608839395274075, 'family': 0.05902443241630523, 'mass': 0.07379958387073499, 'palm': 0.06878299361373037, 'attached': 0.06878299361373037, 'tumblers': 0.07379958387073499, 'half': 0.09925085930455736, 'killing': 0.06878299361373037, 'point': 0.056695916504502224, 'flip': 0.05114273110361571, 'fuckin': 0.042554942800055146, 've': 0.07507670508610106, 'hook': 0.11047949994663941, 'ring': 0.05114273110361571, 'vital': 0.07379958387073499, 'sleep': 0.04161212042278226, 'hate': 0.09925085930455736, 'baby': 0.0407176696887436, 'hey': 0.05280474679797175, 'blanks': 0.07379958387073499, 'seen': 0.04822964762096481, 'hand': 0.045734259945748215, 'gang': 0.054642019909283294, 'draws': 0.07379958387073499, 'fucking': 0.04822964762096481, 'stop': 0.039866868454853537, 'way': 0.03198516714216402, 'live': 0.036826499982213136, 'gun': 0.08921767879054815, 'need': 0.033647182836520066, 'cops': 0.05114273110361571, 'crew': 0.04822964762096481, 'stress': 0.0648918239071999, 'nigga': 0.06847671389782961, 'love': 0.030959108491318464, 'won': 0.039055653994387554, 'hold': 0.039055653994387554, 'little': 0.03828050566095464}, {'fused': 0.06074979655473614, 'detonate': 0.06074979655473614, 'hesitate': 0.06074979655473614, 'clues': 0.06074979655473614, 'scented': 0.06074979655473614, 'opium': 0.06074979655473614, 'unprecedented': 0.06074979655473614, 'scarred': 0.06074979655473614, 'bumps': 0.06074979655473614, 'pumps': 0.06074979655473614, 'hiss': 0.06074979655473614, 'thump': 0.06074979655473614, 'woofers': 0.06074979655473614, 'tenth': 0.06074979655473614, 'truncate': 0.06074979655473614, 'fraction': 0.06074979655473614, 'action': 0.06074979655473614, 'disciplinary': 0.06074979655473614, 'floods': 0.06074979655473614, 'drawn': 0.06074979655473614, 'spiced': 0.06074979655473614, 'scams': 0.06074979655473614, 'cons': 0.06074979655473614, 'counterfeit': 0.06074979655473614, 'bounty': 0.06074979655473614, 'cows': 0.06074979655473614, 'unnecessary': 0.06074979655473614, 'degree': 0.06074979655473614, 'opposites': 0.06074979655473614, 'electrons': 0.06074979655473614, 'protons': 0.06074979655473614, 'chosen': 0.06074979655473614, '144': 0.06074979655473614, 'tribes': 0.06074979655473614, 'lamb': 0.06074979655473614, 'stuffing': 0.06074979655473614, 'blanket': 0.06074979655473614, 'minerals': 0.06074979655473614, 'essential': 0.06074979655473614, 'fortified': 0.05543842939534555, 'soil': 0.06074979655473614, 'fertile': 0.06074979655473614, 'plant': 0.06074979655473614, 'oyl': 0.06074979655473614, 'chickenheads': 0.05543842939534555, 'boils': 0.06074979655473614, 'boiling': 0.06074979655473614, 'unloyal': 0.06074979655473614, 'iris': 0.06074979655473614, 'weakness': 0.06074979655473614, 'cyrus': 0.06074979655473614, 'reign': 0.05543842939534555, 'virus': 0.06074979655473614, 'ebola': 0.06074979655473614, 'bubonic': 0.06074979655473614, '2002': 0.06074979655473614, 'hebrew': 0.06074979655473614, 'asiatic': 0.06074979655473614, 'islamic': 0.06074979655473614, 'dominant': 0.06074979655473614, 'prominent': 0.06074979655473614, 'lynched': 0.06074979655473614, 'continents': 0.06074979655473614, 'documents': 0.06074979655473614, 'residence': 0.06074979655473614, 'raid': 0.06074979655473614, 'scaling': 0.06074979655473614, 'chameleon': 0.06074979655473614, 'camouflage': 0.06074979655473614, 'aiyo': 0.06074979655473614, 'ragged': 0.06074979655473614, 'cheeks': 0.06074979655473614, 'types': 0.06074979655473614, 'fists': 0.06074979655473614, 'growl': 0.06074979655473614, 'budge': 0.06074979655473614, 'fragile': 0.06074979655473614, 'tile': 0.06074979655473614, 'realm': 0.06074979655473614, 'roams': 0.06074979655473614, 'overwhelmed': 0.06074979655473614, 'thrones': 0.06074979655473614, 'lively': 0.06074979655473614, 'pillars': 0.06074979655473614, 'lounging': 0.06074979655473614, 'wisely': 0.06074979655473614, 'priest': 0.06074979655473614, 'khan': 0.06074979655473614, 'genghis': 0.06074979655473614, '8th': 0.06074979655473614, 'henry': 0.06074979655473614, 'constantine': 0.06074979655473614, 'ages': 0.06074979655473614, 'promoters': 0.06074979655473614, 'rainbow': 0.06074979655473614, 'kangols': 0.06074979655473614, 'boggles': 0.06074979655473614, 'tingle': 0.06074979655473614, 'windy': 0.06074979655473614, 'nozzles': 0.06074979655473614, 'aiming': 0.06074979655473614, 'noriega': 0.06074979655473614, 'unflammable': 0.06074979655473614, 'stanley': 0.06074979655473614, 'rum': 0.06074979655473614, 'romans': 0.06074979655473614, 'ashy': 0.06074979655473614, 'boone': 0.06074979655473614, 'raccoons': 0.06074979655473614, 'hex': 0.06074979655473614, 'haiti': 0.06074979655473614, 'fostex': 0.06074979655473614, 'performed': 0.06074979655473614, '83': 0.06074979655473614, 'gurgling': 0.06074979655473614, 'chicago': 0.05543842939534555, 'pillow': 0.05543842939534555, 'sword': 0.05543842939534555, 'cups': 0.05543842939534555, 'explosions': 0.05543842939534555, 'flu': 0.05543842939534555, 'ham': 0.05166995442324461, 'rocked': 0.05166995442324461, 'lords': 0.05166995442324461, 'tax': 0.05543842939534555, 'air': 0.04874689814397554, 'cloud': 0.05543842939534555, 'wally': 0.05166995442324461, 'ironman': 0.05543842939534555, 'feed': 0.1108768587906911, '000': 0.05543842939534555, 'evidence': 0.05166995442324461, 'po': 0.05543842939534555, 'banks': 0.05543842939534555, 'sons': 0.05166995442324461, 'shaved': 0.05543842939534555, 'raped': 0.05543842939534555, 'ivory': 0.05543842939534555, 'visions': 0.05166995442324461, 'swift': 0.046358587263854015, 'cartoon': 0.05543842939534555, 'tale': 0.05543842939534555, 'shoes': 0.04433929918687892, 'ducking': 0.05543842939534555, 'suede': 0.05166995442324461, 'veterans': 0.05543842939534555, 'olive': 0.05543842939534555, 'president': 0.05543842939534555, 'sub': 0.05166995442324461, 'colors': 0.05166995442324461, 'memory': 0.05166995442324461, 'wine': 0.04874689814397554, 'mouths': 0.05166995442324461, 'decks': 0.05543842939534555, 'invented': 0.05543842939534555, 'wife': 0.05543842939534555, 'clutch': 0.05543842939534555, 'built': 0.05166995442324461, 'mother': 0.04433929918687892, 'sitting': 0.04874689814397554, 'blacks': 0.05543842939534555, 'tweeters': 0.05543842939534555, 'slept': 0.05543842939534555, 'vitamin': 0.05543842939534555, 'stones': 0.05543842939534555, 'wrap': 0.05543842939534555, 'caught': 0.03435568885309341, 'skin': 0.04433929918687892, 'poems': 0.05543842939534555, 'learned': 0.04874689814397554, 'signs': 0.04433929918687892, 'surprise': 0.05543842939534555, 'rat': 0.04874689814397554, 'building': 0.08518022458350617, 'great': 0.041047220104463426, 'lips': 0.04433929918687892, 'luck': 0.04433929918687892, 'judas': 0.05543842939534555, 'piece': 0.05166995442324461, 'dark': 0.07933411202496801, 'jesus': 0.046358587263854015, 'seed': 0.05166995442324461, 'downs': 0.05543842939534555, 'greece': 0.05543842939534555, 'ancient': 0.05543842939534555, 'figure': 0.04874689814397554, 'crowd': 0.03727874513236249, 'loaded': 0.05166995442324461, 'choose': 0.20667981769297844, 'wait': 0.03351027016026156, 'ninjas': 0.05543842939534555, 'children': 0.041047220104463426, 'short': 0.05166995442324461, 'matter': 0.041047220104463426, 'film': 0.05543842939534555, 'clips': 0.05166995442324461, 'crip': 0.05543842939534555, 'spit': 0.038418545724310804, 'fit': 0.04874689814397554, 'ball': 0.05166995442324461, 'dogs': 0.04874689814397554, 'bet': 0.041047220104463426, 'eye': 0.03623023022840555, 'tinted': 0.05166995442324461, 'judge': 0.05166995442324461, 'legs': 0.04874689814397554, 'wild': 0.04433929918687892, 'boy': 0.039667056012484006, 'gza': 0.042590112291753086, 'tape': 0.038418545724310804, 'couldn': 0.03727874513236249, 'lawn': 0.05166995442324461, 'breed': 0.04874689814397554, 'platoon': 0.05166995442324461, 'death': 0.07051891411077478, 'blue': 0.07933411202496801, 'red': 0.039667056012484006, 'means': 0.04433929918687892, 'memorex': 0.05543842939534555, 'born': 0.038418545724310804, 'spine': 0.04874689814397554, 'stay': 0.03125912747814056, 'pussy': 0.039667056012484006, 'thrown': 0.05166995442324461, 'snakes': 0.046358587263854015, 'stuck': 0.04874689814397554, 'scheme': 0.05543842939534555, 'heard': 0.03351027016026156, 'devils': 0.04874689814397554, 'fully': 0.05166995442324461, 'split': 0.046358587263854015, 'dome': 0.04433929918687892, 'ran': 0.041047220104463426, 'rza': 0.08518022458350617, 'wu': 0.07933411202496801, 'secret': 0.04433929918687892, 'did': 0.029948089895996795, 'join': 0.1108768587906911, 'white': 0.07051891411077478, 'cream': 0.08209444020892685, 'seeds': 0.04433929918687892, 'year': 0.041047220104463426, 'blood': 0.03271612136933677, 'set': 0.03435568885309341, 'strength': 0.05166995442324461, 'length': 0.05543842939534555, 'million': 0.04433929918687892, 'free': 0.039667056012484006, 'beef': 0.041047220104463426, 'good': 0.027664157601723405, 'sipping': 0.08867859837375784, 'sky': 0.11900116803745202, 'throw': 0.10869069068521664, 'died': 0.042590112291753086, 'words': 0.038418545724310804, 'track': 0.041047220104463426, 'sent': 0.042590112291753086, 'getting': 0.03351027016026156, 'understand': 0.038418545724310804, 'grab': 0.041047220104463426, 'oil': 0.05543842939534555, 'clouds': 0.04874689814397554, 'trying': 0.03623023022840555, 'act': 0.08867859837375784, 'deep': 0.06871137770618682, 'speak': 0.041047220104463426, 'hard': 0.031967377972971896, 'king': 0.03125912747814056, 'baby': 0.03058721388099248, 'inside': 0.06251825495628112, 'slim': 0.046358587263854015, 'try': 0.029948089895996795, 'killah': 0.07933411202496801, 'ghostface': 0.039667056012484006, 'apple': 0.05166995442324461, 'lakes': 0.05543842939534555, 'battle': 0.04433929918687892, 'dough': 0.042590112291753086, 'wet': 0.039667056012484006, 'money': 0.02819890300087096, 'water': 0.03727874513236249, 'spades': 0.05166995442324461, 'ho': 0.03623023022840555, 'loud': 0.039667056012484006, 'right': 0.022528624534949592, 'stand': 0.039667056012484006, 'ass': 0.029948089895996795, 'crazy': 0.03623023022840555, 'kid': 0.06393475594594379, 'mind': 0.05639780600174192, 'bitches': 0.03727874513236249, 'blow': 0.03351027016026156, 'rock': 0.029948089895996795, 'hit': 0.05331202162716259, 'gun': 0.03351027016026156, 'use': 0.039667056012484006, 'god': 0.02443042802877003, 'need': 0.025275846721601884, 'black': 0.02443042802877003, 'bally': 0.05543842939534555, 'game': 0.027150388096914016, 'razor': 0.04433929918687892, 'rolling': 0.04433929918687892, 'corner': 0.03727874513236249, 'run': 0.028756410253208978, 'won': 0.029338703592819277, 'leave': 0.03623023022840555, 'hold': 0.058677407185638554, 'come': 0.022887535841480365, 'watch': 0.06117442776198496, 'filled': 0.09271717452770803, 'hot': 0.031967377972971896, 'niggas': 0.0514398763453664, 'guns': 0.041047220104463426}, {'happier': 0.16737524074226476, 'sipped': 0.15274158915180108, 'football': 0.16737524074226476, 'nightgown': 0.16737524074226476, 'rollers': 0.16737524074226476, 'cigarettes': 0.16737524074226476, 'rolled': 0.3347504814845295, 'drivin': 0.16737524074226476, 'instrumental': 0.1423588481146639, 'father': 0.25545039304840045, 'refrain': 0.1343053684951061, 'harder': 0.1423588481146639, 'grocery': 0.15274158915180108, 'cognac': 0.1423588481146639, 'mother': 0.2443234807892896, 'shotgun': 0.30548317830360217, 'laughin': 0.15274158915180108, 'window': 0.25545039304840045, 'hustlin': 0.1423588481146639, 'ridin': 0.30548317830360217, 'sayin': 0.10928897586750524, 'store': 0.1423588481146639, 'driving': 0.15274158915180108, 'smoked': 0.12772519652420022, 'kept': 0.11734245548706305, 'gets': 0.2686107369902122, 'interlude': 0.10270880389659937, 'game': 0.07480358785847856}, {'spending': 0.030116208207690228, 'millionaire': 0.027483141953788103, 'hummer': 0.030116208207690228, 'summer': 0.027483141953788103, '99': 0.030116208207690228, 'combined': 0.030116208207690228, 'races': 0.030116208207690228, 'ecstasy': 0.027483141953788103, 'crisp': 0.030116208207690228, 'teachers': 0.030116208207690228, 'learning': 0.030116208207690228, 'egypt': 0.030116208207690228, 'greeks': 0.030116208207690228, 'breather': 0.030116208207690228, 'sweeper': 0.030116208207690228, 'busting': 0.027483141953788103, 'nympho': 0.030116208207690228, 'mon': 0.030116208207690228, 'prophet': 0.030116208207690228, 'sooner': 0.030116208207690228, 'determine': 0.030116208207690228, 'choices': 0.030116208207690228, 'making': 0.025614951715768063, 'alive': 0.030116208207690228, 'rob': 0.04833174157744838, 'worked': 0.027483141953788103, 'pesos': 0.030116208207690228, 'zeros': 0.030116208207690228, 'siete': 0.030116208207690228, 'fellatio': 0.030116208207690228, 'giving': 0.025614951715768063, 'chips': 0.025614951715768063, 'acres': 0.030116208207690228, 'owning': 0.030116208207690228, 'rolex': 0.027483141953788103, 'seiko': 0.030116208207690228, 'invest': 0.030116208207690228, 'messiah': 0.030116208207690228, 'pharaoh': 0.030116208207690228, 'tarot': 0.030116208207690228, 'bulletproof': 0.054966283907576206, 'tires': 0.027483141953788103, 'rims': 0.030116208207690228, 'amazing': 0.18069724924614136, 'poetry': 0.18069724924614136, 'naked': 0.027483141953788103, 'cells': 0.030116208207690228, 'enjoying': 0.030116208207690228, 'toys': 0.030116208207690228, 'pushing': 0.030116208207690228, 'cost': 0.030116208207690228, 'hustling': 0.030116208207690228, 'crossroads': 0.030116208207690228, 'covers': 0.030116208207690228, 'rooftops': 0.030116208207690228, '10s': 0.030116208207690228, 'flatline': 0.030116208207690228, 'hardcore': 0.030116208207690228, 'defines': 0.030116208207690228, 'beginning': 0.030116208207690228, 'inserted': 0.027483141953788103, 'success': 0.025614951715768063, 'glass': 0.02298188546186594, 'accounts': 0.027483141953788103, 'poet': 0.027483141953788103, 'cake': 0.025614951715768063, 'wondering': 0.025614951715768063, 'realest': 0.027483141953788103, 'christ': 0.025614951715768063, 'explain': 0.027483141953788103, 'corporate': 0.025614951715768063, 'driver': 0.025614951715768063, 'worth': 0.02416587078872419, 'sign': 0.027483141953788103, 'blasting': 0.027483141953788103, 'line': 0.039329228593604056, 'tied': 0.02298188546186594, 'history': 0.02416587078872419, 'letters': 0.027483141953788103, 'neck': 0.021113695223845905, 'felt': 0.02416587078872419, 'sane': 0.027483141953788103, 'play': 0.01584756271604165, 'steal': 0.025614951715768063, 'thug': 0.04833174157744838, 'later': 0.02198084013157096, 'crime': 0.021113695223845905, 'number': 0.020348819207963813, 'fam': 0.025614951715768063, 'trees': 0.02198084013157096, 'fame': 0.04069763841592763, 'locked': 0.02198084013157096, 'cards': 0.02416587078872419, 'carry': 0.02198084013157096, 'depends': 0.02416587078872419, 'suicide': 0.025614951715768063, 'picture': 0.021113695223845905, 'rise': 0.021113695223845905, 'barrel': 0.025614951715768063, 'stock': 0.02298188546186594, 'aim': 0.020348819207963813, 'iron': 0.020348819207963813, 'fell': 0.13188504078942578, 'squeeze': 0.02198084013157096, 'dukes': 0.025614951715768063, 'tried': 0.01796083639536318, 'umm': 0.027483141953788103, 'artist': 0.02298188546186594, 'opposite': 0.02298188546186594, 'clips': 0.025614951715768063, 'legend': 0.027483141953788103, 'spit': 0.01904567566786046, 'ask': 0.01796083639536318, 'fall': 0.01904567566786046, 'ladies': 0.021113695223845905, 'heat': 0.019664614296802028, 'earth': 0.039329228593604056, 'called': 0.018480628969943774, 'dogs': 0.02416587078872419, 'company': 0.025614951715768063, 'leaf': 0.02416587078872419, 'bet': 0.020348819207963813, 'pop': 0.018480628969943774, 'shoot': 0.019664614296802028, 'taking': 0.02198084013157096, 'plateau': 0.025614951715768063, 'natural': 0.02298188546186594, 'jam': 0.02198084013157096, 'stars': 0.025614951715768063, 'tape': 0.01904567566786046, 'sweet': 0.02298188546186594, 'windows': 0.02416587078872419, 'souls': 0.025614951715768063, 'dirty': 0.02198084013157096, 'death': 0.12235708547754158, 'cars': 0.02416587078872419, 'night': 0.015496453402509682, 'fiends': 0.02198084013157096, 'born': 0.01904567566786046, 'paid': 0.02416587078872419, 'weak': 0.021113695223845905, 'rich': 0.03809135133572092, 'course': 0.02298188546186594, 'cd': 0.025614951715768063, 'worthy': 0.025614951715768063, 'kill': 0.015163357804879865, 'nice': 0.019664614296802028, 'wind': 0.021113695223845905, 'belt': 0.02298188546186594, 'lines': 0.02198084013157096, 'jail': 0.04222739044769181, 'die': 0.03809135133572092, 'spell': 0.02298188546186594, 'large': 0.04396168026314192, 'half': 0.2217675476393253, 'spent': 0.02298188546186594, 'dream': 0.01904567566786046, 'freedom': 0.025614951715768063, 'poor': 0.02198084013157096, 'orbit': 0.025614951715768063, 'planets': 0.027483141953788103, 'hell': 0.01621874604994369, 'future': 0.02198084013157096, 'beef': 0.020348819207963813, 'loot': 0.02416587078872419, 'long': 0.01621874604994369, 'pain': 0.0174795836396488, 'changed': 0.02298188546186594, 'sky': 0.019664614296802028, 'died': 0.021113695223845905, 'far': 0.021113695223845905, 'went': 0.01621874604994369, 'kept': 0.021113695223845905, 'left': 0.015163357804879865, 'faces': 0.02298188546186594, 'men': 0.01904567566786046, 'getting': 0.01661243873192374, 'mac': 0.02198084013157096, 'grave': 0.02198084013157096, 'presence': 0.025614951715768063, 'scriptures': 0.02416587078872419, 'deep': 0.11922083630029931, 'light': 0.017031548042899903, 'baby': 0.015163357804879865, 'inside': 0.015496453402509682, 'saw': 0.04069763841592763, 'try': 0.014846517385746672, 'end': 0.017031548042899903, 'uh': 0.12572585476754228, 'shot': 0.01661243873192374, 'feeling': 0.019664614296802028, 'wish': 0.019664614296802028, 'nasty': 0.02298188546186594, 'heaven': 0.025614951715768063, 'lost': 0.017031548042899903, 'practice': 0.027483141953788103, 'dough': 0.04222739044769181, 'money': 0.013979372478021612, 'write': 0.01796083639536318, 'blocks': 0.02298188546186594, 'came': 0.01584756271604165, 'times': 0.0174795836396488, 'cash': 0.01661243873192374, 'dimes': 0.02416587078872419, 'close': 0.01904567566786046, 'premo': 0.027483141953788103, 'lot': 0.01661243873192374, 'living': 0.018480628969943774, 'mind': 0.013979372478021612, 'projects': 0.020348819207963813, 'thugs': 0.02198084013157096, 'way': 0.011911352922036171, 'mike': 0.025614951715768063, 'blow': 0.01661243873192374, 'big': 0.0316951254320833, 'live': 0.01371427687783599, 'grand': 0.02198084013157096, 'green': 0.02298188546186594, 'cocaine': 0.021113695223845905, 'doubt': 0.14499522473234516, 'new': 0.01345957990344102, 'tecs': 0.027483141953788103, 'sex': 0.02298188546186594, 'game': 0.02691915980688204, 'rap': 0.02851150415659729, 'friends': 0.01661243873192374, 'type': 0.019664614296802028, 'corner': 0.018480628969943774, 'street': 0.034063096085799806, 'rebel': 0.14499522473234516, 'nas': 0.7936039491105887, 'watch': 0.015163357804879865, 'll': 0.02233675783641864, 'murdered': 0.02198084013157096, 'chorus': 0.03695206918567993, 'premier': 0.02416587078872419, 'dj': 0.021113695223845905, 'produced': 0.015163357804879865}, {'suprisin': 0.040798044037263774, 'reside': 0.040798044037263774, 'environment': 0.040798044037263774, 'paper': 0.040798044037263774, 'traders': 0.040798044037263774, 'caked': 0.040798044037263774, 'cotton': 0.03723106268825381, 'centuries': 0.040798044037263774, 'success': 0.03470024914509118, 'defendant': 0.040798044037263774, 'equal': 0.040798044037263774, 'fair': 0.03273719765244017, 'peers': 0.040798044037263774, 'jury': 0.040798044037263774, 'dap': 0.040798044037263774, 'bug': 0.03273719765244017, 'playoff': 0.040798044037263774, 'yi': 0.040798044037263774, 'dirt': 0.03273719765244017, 'kicking': 0.040798044037263774, 'molested': 0.040798044037263774, 'allen': 0.040798044037263774, 'woody': 0.12239413211179133, 'criticize': 0.040798044037263774, 'pat': 0.040798044037263774, 'trooper': 0.040798044037263774, 'tempo': 0.040798044037263774, 'changing': 0.040798044037263774, 'stressful': 0.040798044037263774, 'painted': 0.040798044037263774, 'polish': 0.040798044037263774, 'shoe': 0.040798044037263774, 'baked': 0.040798044037263774, 'vip': 0.040798044037263774, 'regard': 0.040798044037263774, 'apology': 0.040798044037263774, 'evidence': 0.03470024914509118, 'near': 0.03723106268825381, 'detained': 0.040798044037263774, 'interrogated': 0.040798044037263774, 'rays': 0.040798044037263774, 'followed': 0.040798044037263774, 'urinalyis': 0.040798044037263774, 'contents': 0.040798044037263774, 'directed': 0.040798044037263774, 'inspected': 0.040798044037263774, 'cases': 0.040798044037263774, 'flagrant': 0.040798044037263774, 'agents': 0.040798044037263774, 'places': 0.03723106268825381, 'synonym': 0.040798044037263774, 'illegal': 0.03723106268825381, 'heathrow': 0.040798044037263774, 'london': 0.040798044037263774, 'seized': 0.040798044037263774, 'seas': 0.03470024914509118, 'abroad': 0.03723106268825381, 'travel': 0.03723106268825381, 'roads': 0.040798044037263774, 'wowwww': 0.040798044037263774, 'pest': 0.040798044037263774, 'glass': 0.031133267796081207, 'embarrassed': 0.040798044037263774, 'gasped': 0.040798044037263774, 'boarding': 0.040798044037263774, 'showed': 0.03470024914509118, 'curl': 0.040798044037263774, 'officially': 0.040798044037263774, '2c': 0.040798044037263774, 'fright': 0.040798044037263774, 'attendant': 0.040798044037263774, 'sight': 0.040798044037263774, 'flight': 0.08159608807452755, 'sealed': 0.040798044037263774, 'sneak': 0.03723106268825381, 'associates': 0.040798044037263774, 'beneath': 0.03470024914509118, 'abstract': 0.040798044037263774, 'asking': 0.040798044037263774, 'tourists': 0.040798044037263774, 'armani': 0.03723106268825381, 'maitre': 0.040798044037263774, 'successful': 0.08159608807452755, 'jake': 0.03470024914509118, 'officer': 0.040798044037263774, 'po': 0.07446212537650762, 'accounts': 0.03723106268825381, 'assistants': 0.040798044037263774, 'digital': 0.040798044037263774, 'zones': 0.040798044037263774, 'ohs': 0.040798044037263774, 'os': 0.08159608807452755, 'checks': 0.040798044037263774, 'froze': 0.03723106268825381, 'wrists': 0.040798044037263774, 'hottest': 0.040798044037263774, 'backstage': 0.040798044037263774, 'afford': 0.03723106268825381, 'swoll': 0.040798044037263774, 'slung': 0.040798044037263774, 'trousers': 0.040798044037263774, 'designer': 0.03470024914509118, 'neighbor': 0.040798044037263774, 'tenants': 0.040798044037263774, 'highrise': 0.040798044037263774, 'crunk': 0.12239413211179133, 'speakers': 0.11169318806476142, 'dining': 0.08159608807452755, 'hooo': 0.040798044037263774, 'hooooo': 0.040798044037263774, 'chump': 0.03723106268825381, 'cake': 0.03470024914509118, 'excuse': 0.03273719765244017, 'albums': 0.03723106268825381, 'town': 0.09821159295732051, 'reveal': 0.03723106268825381, 'tight': 0.03470024914509118, 'puttin': 0.03723106268825381, 'especially': 0.06547439530488033, 'club': 0.03470024914509118, 'innocent': 0.03723106268825381, 'hearts': 0.03273719765244017, 'ride': 0.062266535592162414, 'intestines': 0.03723106268825381, 'customs': 0.03723106268825381, 'smuggle': 0.03470024914509118, 'prayin': 0.03723106268825381, 'mumble': 0.03470024914509118, 'job': 0.031133267796081207, 'trunk': 0.11169318806476142, 'press': 0.031133267796081207, 'neck': 0.028602454252918588, 'autograph': 0.03470024914509118, 'eating': 0.031133267796081207, 'homes': 0.03723106268825381, 'breath': 0.028602454252918588, 'kids': 0.025800934475489486, 'skin': 0.029777164425197917, 'plane': 0.03273719765244017, 'play': 0.02146849155489864, 'approach': 0.03470024914509118, 'daughter': 0.03273719765244017, 'provide': 0.03723106268825381, 'patrol': 0.03470024914509118, 'knew': 0.03273719765244017, 'later': 0.029777164425197917, 'boys': 0.029777164425197917, 'send': 0.03470024914509118, 'attention': 0.031133267796081207, 'slow': 0.028602454252918588, 'crib': 0.062266535592162414, 'late': 0.029777164425197917, 'lips': 0.059554328850395834, 'fresh': 0.028602454252918588, 'clothes': 0.027566286447071237, 'safe': 0.03273719765244017, 'dark': 0.05327880552053514, 'mr': 0.29463477887196154, 'globe': 0.03723106268825381, 'married': 0.03470024914509118, 'lab': 0.031133267796081207, 'negro': 0.03470024914509118, 'whips': 0.03470024914509118, 'wears': 0.03470024914509118, 'mom': 0.029777164425197917, 'work': 0.027566286447071237, 'arrested': 0.03723106268825381, 'bank': 0.029777164425197917, 'bay': 0.03723106268825381, 'tip': 0.08933149327559375, 'bar': 0.029777164425197917, 'actions': 0.03470024914509118, 'seat': 0.031133267796081207, 'space': 0.03273719765244017, 'called': 0.02503547290390861, 'think': 0.06162482360428493, 'doing': 0.05513257289414247, 'walkin': 0.029777164425197917, 'slave': 0.031133267796081207, 'weight': 0.029777164425197917, 'cat': 0.15566633898040605, 'didn': 0.025800934475489486, 'windows': 0.03273719765244017, 'laugh': 0.02503547290390861, 'american': 0.06547439530488033, 'pace': 0.03723106268825381, 'thirty': 0.029777164425197917, 'catch': 0.022504659360745992, 'night': 0.020992848235640644, 'keeping': 0.03723106268825381, 'sort': 0.028602454252918588, 'place': 0.0230724214112576, 'problem': 0.057204908505837176, 'race': 0.03723106268825381, 'pro': 0.031133267796081207, 'stay': 0.06297854470692194, 'car': 0.02503547290390861, 'step': 0.031133267796081207, 'dollar': 0.02663940276026757, 'wanna': 0.060337164552046046, 'case': 0.02503547290390861, 'away': 0.02503547290390861, 'family': 0.029777164425197917, 'bags': 0.03723106268825381, 'suspect': 0.03723106268825381, 'nice': 0.02663940276026757, 'dome': 0.029777164425197917, 'hour': 0.05513257289414247, 'start': 0.06921726423377281, 'state': 0.02503547290390861, 'livin': 0.024331316517363023, 'jail': 0.028602454252918588, 'white': 0.07103810859907597, 'pretty': 0.028602454252918588, 'seeds': 0.029777164425197917, 'year': 0.027566286447071237, 'law': 0.029777164425197917, 'talking': 0.028602454252918588, 'mighty': 0.03723106268825381, 'large': 0.029777164425197917, 'jackson': 0.03723106268825381, 'michael': 0.062266535592162414, 'home': 0.02146849155489864, 'phone': 0.02663940276026757, 'folks': 0.11169318806476142, 'pockets': 0.029777164425197917, 'poor': 0.029777164425197917, 'class': 0.03273719765244017, 'extra': 0.03723106268825381, 'coming': 0.028602454252918588, 'riding': 0.06940049829018236, 'best': 0.04735873906605065, 'holding': 0.027566286447071237, 'room': 0.02503547290390861, 'motivate': 0.03723106268825381, 'hands': 0.02503547290390861, 'said': 0.03394925303817001, 'far': 0.028602454252918588, 'faces': 0.031133267796081207, 'damn': 0.04394265778822954, 'buying': 0.03723106268825381, 'soon': 0.025800934475489486, 've': 0.018937678011736018, 'whip': 0.031133267796081207, 'hook': 0.05573566912633189, 'world': 0.01727286723107592, 'round': 0.028602454252918588, 'swing': 0.03470024914509118, 'cell': 0.025800934475489486, 'deep': 0.0230724214112576, 'gotta': 0.04293698310979728, 'bass': 0.08933149327559375, 'past': 0.028602454252918588, 'turn': 0.019312085939365647, 'light': 0.0230724214112576, 'people': 0.02011238818401535, 'sit': 0.07299394955208906, 'feel': 0.01758157464085273, 'def': 0.20021717977043013, 'mos': 0.20021717977043013, 'hate': 0.05007094580781722, 'lime': 0.03723106268825381, 'cop': 0.028602454252918588, 'low': 0.0230724214112576, 'star': 0.028602454252918588, 'pass': 0.02503547290390861, 'try': 0.02011238818401535, 'road': 0.028602454252918588, 'song': 0.02503547290390861, 'yes': 0.024331316517363023, 'woo': 0.057204908505837176, 'sure': 0.022504659360745992, 'check': 0.041083215736189956, 'america': 0.027566286447071237, 'want': 0.05573566912633189, 'chase': 0.029777164425197917, 'old': 0.017901510205888663, 'really': 0.02197132889411477, 'head': 0.018578556375443964, 'money': 0.037875356023472036, 'water': 0.05007094580781722, 'years': 0.05160186895097897, 'ho': 0.09732526606945209, 'happy': 0.03470024914509118, 'close': 0.025800934475489486, 'loud': 0.02663940276026757, 'right': 0.030259321610985657, 'word': 0.020541607868094978, 'lot': 0.022504659360745992, 'fucking': 0.024331316517363023, 'living': 0.02503547290390861, 'everybody': 0.09001863744298397, 'respect': 0.031133267796081207, 'stop': 0.0402247763680307, 'way': 0.04840847470292075, 'big': 0.04293698310979728, 'brother': 0.0230724214112576, 'live': 0.03715711275088793, 'son': 0.020992848235640644, 'flash': 0.029777164425197917, 'new': 0.03646704325038085, 'fat': 0.025800934475489486, 'black': 0.016406864468573396, 'game': 0.018233521625190426, 'rap': 0.019312085939365647, 'elevator': 0.031133267796081207, 'nigga': 0.5009131497012017, 'friends': 0.045009318721491984, 'love': 0.031237046296403434, 'type': 0.02663940276026757, 'believe': 0.02503547290390861, 'won': 0.01970313958331689, 'til': 0.020992848235640644, 'come': 0.015370696662726044, 'watch': 0.020541607868094978, 'brothers': 0.028602454252918588, 'face': 0.05573566912633189, 'll': 0.015129660805492828, 'day': 0.03516314928170546, 'real': 0.019312085939365647, 'straight': 0.06440547466469591, 'chorus': 0.016686165973138968}]\n"
     ]
    }
   ],
   "source": [
    "from sklearn.feature_extraction.text import TfidfVectorizer\n",
    "from sklearn.model_selection import train_test_split\n",
    "\n",
    "X_train, X_test = train_test_split(df_paras, test_size=0.25, random_state=0)\n",
    "\n",
    "vectorizer = TfidfVectorizer( max_df=.5,# drop words that occur in more than half the paragraphs\n",
    "                             min_df=1, # only use words that appear at least twice\n",
    "                             stop_words='english', \n",
    "                             lowercase=True, #convert everything to lower case (since Alice in Wonderland has the HABIT of CAPITALIZING WORDS for EMPHASIS)\n",
    "                             use_idf=True,#we definitely want to use inverse document frequencies in our weighting\n",
    "                             norm=u'l2', #Applies a correction factor so that longer paragraphs and shorter paragraphs get treated equally\n",
    "                             smooth_idf=True #Adds 1 to all document frequencies, as if an extra document existed that used every word once.  Prevents divide-by-zero errors\n",
    "                            )\n",
    "\n",
    "\n",
    "#Applying the vectorizer\n",
    "songs_paras_tfidf=vectorizer.fit_transform(X_train.loc[:]['lyrics'])\n",
    "print(\"Number of features: %d\" % songs_paras_tfidf.get_shape()[1])\n",
    "\n",
    "#splitting into training and test sets\n",
    "X_train_tfidf, X_test_tfidf= train_test_split(songs_paras_tfidf, test_size=0.4, random_state=0)\n",
    "y_train_tfidf, y_test_tfidf= train_test_split(X_train.loc[:]['artist'],test_size=.4,random_state=0)\n",
    "\n",
    "#Reshapes the vectorizer output into something people can read\n",
    "X_train_tfidf_csr = X_train_tfidf.tocsr()\n",
    "\n",
    "#number of paragraphs\n",
    "n = X_train_tfidf_csr.shape[0]\n",
    "#A list of dictionaries, one per paragraph\n",
    "tfidf_bypara = [{} for _ in range(0,n)]\n",
    "#List of features\n",
    "terms = vectorizer.get_feature_names()\n",
    "#for each paragraph, lists the feature words and their tf-idf scores\n",
    "for i, j in zip(*X_train_tfidf_csr.nonzero()):\n",
    "    tfidf_bypara[i][terms[j]] = X_train_tfidf_csr[i, j]\n",
    "\n",
    "#Keep in mind that the log base 2 of 1 is 0, so a tf-idf score of 0 indicates that the word was present once in that sentence.\n",
    "#print('Original sentence:', X_train)\n",
    "#print('Tf_idf vector:', tfidf_bypara)"
   ]
  },
  {
   "cell_type": "code",
   "execution_count": 314,
   "metadata": {
    "scrolled": true
   },
   "outputs": [
    {
     "data": {
      "text/html": [
       "<div>\n",
       "<style scoped>\n",
       "    .dataframe tbody tr th:only-of-type {\n",
       "        vertical-align: middle;\n",
       "    }\n",
       "\n",
       "    .dataframe tbody tr th {\n",
       "        vertical-align: top;\n",
       "    }\n",
       "\n",
       "    .dataframe thead th {\n",
       "        text-align: right;\n",
       "    }\n",
       "</style>\n",
       "<table border=\"1\" class=\"dataframe\">\n",
       "  <thead>\n",
       "    <tr style=\"text-align: right;\">\n",
       "      <th></th>\n",
       "      <th>0</th>\n",
       "      <th>1</th>\n",
       "      <th>2</th>\n",
       "      <th>3</th>\n",
       "      <th>4</th>\n",
       "      <th>5</th>\n",
       "      <th>6</th>\n",
       "      <th>7</th>\n",
       "      <th>8</th>\n",
       "      <th>9</th>\n",
       "      <th>...</th>\n",
       "      <th>2992</th>\n",
       "      <th>2993</th>\n",
       "      <th>2994</th>\n",
       "      <th>2995</th>\n",
       "      <th>2996</th>\n",
       "      <th>2997</th>\n",
       "      <th>2998</th>\n",
       "      <th>2999</th>\n",
       "      <th>3000</th>\n",
       "      <th>3001</th>\n",
       "    </tr>\n",
       "  </thead>\n",
       "  <tbody>\n",
       "    <tr>\n",
       "      <th>0</th>\n",
       "      <td>0.0</td>\n",
       "      <td>0.0</td>\n",
       "      <td>0.0</td>\n",
       "      <td>0.0</td>\n",
       "      <td>0.0</td>\n",
       "      <td>0.0</td>\n",
       "      <td>0.0</td>\n",
       "      <td>0.0</td>\n",
       "      <td>0.0</td>\n",
       "      <td>0.0</td>\n",
       "      <td>...</td>\n",
       "      <td>0.0</td>\n",
       "      <td>0.0</td>\n",
       "      <td>0.0</td>\n",
       "      <td>0.0</td>\n",
       "      <td>0.0</td>\n",
       "      <td>0.0</td>\n",
       "      <td>0.0</td>\n",
       "      <td>0.0</td>\n",
       "      <td>0.0</td>\n",
       "      <td>0.0</td>\n",
       "    </tr>\n",
       "    <tr>\n",
       "      <th>1</th>\n",
       "      <td>0.0</td>\n",
       "      <td>0.0</td>\n",
       "      <td>0.0</td>\n",
       "      <td>0.0</td>\n",
       "      <td>0.0</td>\n",
       "      <td>0.0</td>\n",
       "      <td>0.0</td>\n",
       "      <td>0.0</td>\n",
       "      <td>0.0</td>\n",
       "      <td>0.0</td>\n",
       "      <td>...</td>\n",
       "      <td>0.0</td>\n",
       "      <td>0.0</td>\n",
       "      <td>0.0</td>\n",
       "      <td>0.0</td>\n",
       "      <td>0.0</td>\n",
       "      <td>0.0</td>\n",
       "      <td>0.0</td>\n",
       "      <td>0.0</td>\n",
       "      <td>0.0</td>\n",
       "      <td>0.0</td>\n",
       "    </tr>\n",
       "    <tr>\n",
       "      <th>2</th>\n",
       "      <td>0.0</td>\n",
       "      <td>0.0</td>\n",
       "      <td>0.0</td>\n",
       "      <td>0.0</td>\n",
       "      <td>0.0</td>\n",
       "      <td>0.0</td>\n",
       "      <td>0.0</td>\n",
       "      <td>0.0</td>\n",
       "      <td>0.0</td>\n",
       "      <td>0.0</td>\n",
       "      <td>...</td>\n",
       "      <td>0.0</td>\n",
       "      <td>0.0</td>\n",
       "      <td>0.0</td>\n",
       "      <td>0.0</td>\n",
       "      <td>0.0</td>\n",
       "      <td>0.0</td>\n",
       "      <td>0.0</td>\n",
       "      <td>0.0</td>\n",
       "      <td>0.0</td>\n",
       "      <td>0.0</td>\n",
       "    </tr>\n",
       "    <tr>\n",
       "      <th>3</th>\n",
       "      <td>0.0</td>\n",
       "      <td>0.0</td>\n",
       "      <td>0.0</td>\n",
       "      <td>0.0</td>\n",
       "      <td>0.0</td>\n",
       "      <td>0.0</td>\n",
       "      <td>0.0</td>\n",
       "      <td>0.0</td>\n",
       "      <td>0.0</td>\n",
       "      <td>0.0</td>\n",
       "      <td>...</td>\n",
       "      <td>0.0</td>\n",
       "      <td>0.0</td>\n",
       "      <td>0.0</td>\n",
       "      <td>0.0</td>\n",
       "      <td>0.0</td>\n",
       "      <td>0.0</td>\n",
       "      <td>0.0</td>\n",
       "      <td>0.0</td>\n",
       "      <td>0.0</td>\n",
       "      <td>0.0</td>\n",
       "    </tr>\n",
       "    <tr>\n",
       "      <th>4</th>\n",
       "      <td>0.0</td>\n",
       "      <td>0.0</td>\n",
       "      <td>0.0</td>\n",
       "      <td>0.0</td>\n",
       "      <td>0.0</td>\n",
       "      <td>0.0</td>\n",
       "      <td>0.0</td>\n",
       "      <td>0.0</td>\n",
       "      <td>0.0</td>\n",
       "      <td>0.0</td>\n",
       "      <td>...</td>\n",
       "      <td>0.0</td>\n",
       "      <td>0.0</td>\n",
       "      <td>0.0</td>\n",
       "      <td>0.0</td>\n",
       "      <td>0.0</td>\n",
       "      <td>0.0</td>\n",
       "      <td>0.0</td>\n",
       "      <td>0.0</td>\n",
       "      <td>0.0</td>\n",
       "      <td>0.0</td>\n",
       "    </tr>\n",
       "  </tbody>\n",
       "</table>\n",
       "<p>5 rows × 3002 columns</p>\n",
       "</div>"
      ],
      "text/plain": [
       "   0     1     2     3     4     5     6     7     8     9     ...  2992  \\\n",
       "0   0.0   0.0   0.0   0.0   0.0   0.0   0.0   0.0   0.0   0.0  ...   0.0   \n",
       "1   0.0   0.0   0.0   0.0   0.0   0.0   0.0   0.0   0.0   0.0  ...   0.0   \n",
       "2   0.0   0.0   0.0   0.0   0.0   0.0   0.0   0.0   0.0   0.0  ...   0.0   \n",
       "3   0.0   0.0   0.0   0.0   0.0   0.0   0.0   0.0   0.0   0.0  ...   0.0   \n",
       "4   0.0   0.0   0.0   0.0   0.0   0.0   0.0   0.0   0.0   0.0  ...   0.0   \n",
       "\n",
       "   2993  2994  2995  2996  2997  2998  2999  3000  3001  \n",
       "0   0.0   0.0   0.0   0.0   0.0   0.0   0.0   0.0   0.0  \n",
       "1   0.0   0.0   0.0   0.0   0.0   0.0   0.0   0.0   0.0  \n",
       "2   0.0   0.0   0.0   0.0   0.0   0.0   0.0   0.0   0.0  \n",
       "3   0.0   0.0   0.0   0.0   0.0   0.0   0.0   0.0   0.0  \n",
       "4   0.0   0.0   0.0   0.0   0.0   0.0   0.0   0.0   0.0  \n",
       "\n",
       "[5 rows x 3002 columns]"
      ]
     },
     "execution_count": 314,
     "metadata": {},
     "output_type": "execute_result"
    }
   ],
   "source": [
    "tfidf_features = pd.DataFrame(X_train_tfidf_csr.toarray())\n",
    "tfidf_features.head()"
   ]
  },
  {
   "cell_type": "markdown",
   "metadata": {},
   "source": [
    "# Perform K-Means Clustering"
   ]
  },
  {
   "cell_type": "code",
   "execution_count": 254,
   "metadata": {},
   "outputs": [],
   "source": [
    "from sklearn.cluster import KMeans\n",
    "kmeans = KMeans(n_clusters=12,random_state=0).fit(songs_paras_tfidf)"
   ]
  },
  {
   "cell_type": "markdown",
   "metadata": {},
   "source": [
    "# Larger Corpus results give bad performance"
   ]
  },
  {
   "cell_type": "code",
   "execution_count": 255,
   "metadata": {
    "scrolled": false
   },
   "outputs": [
    {
     "name": "stdout",
     "output_type": "stream",
     "text": [
      "1\n",
      "3\n",
      "2\n",
      "2\n",
      "2\n",
      "1\n",
      "1\n",
      "4\n",
      "3\n",
      "3\n"
     ]
    }
   ],
   "source": [
    "import numpy as np\n",
    "for i in range(0,10):\n",
    "    lines_for_predicting = list(df['lyrics'][df['artist']== df.artist.unique()[i]])\n",
    "    val = kmeans.predict(vectorizer.transform(lines_for_predicting))\n",
    "    unique_elements, counts_elements = np.unique(val, return_counts=True)\n",
    "    print(np.argmax(counts_elements,axis=0))"
   ]
  },
  {
   "cell_type": "code",
   "execution_count": 376,
   "metadata": {},
   "outputs": [
    {
     "name": "stdout",
     "output_type": "stream",
     "text": [
      "0.015333403704571848\n",
      "0.019317678405812375\n"
     ]
    }
   ],
   "source": [
    "from sklearn import metrics\n",
    "from sklearn.metrics import pairwise_distances\n",
    "\n",
    "for sample in [X_train_tfidf, X_test_tfidf]:\n",
    "    model = KMeans(n_clusters=10, random_state=42).fit(sample)\n",
    "    labels = model.labels_\n",
    "    print(metrics.silhouette_score(sample, labels, metric='euclidean'))"
   ]
  },
  {
   "cell_type": "code",
   "execution_count": 313,
   "metadata": {},
   "outputs": [
    {
     "data": {
      "image/png": "[encoded data removed]",
      "text/plain": [
       "<Figure size 432x288 with 1 Axes>"
      ]
     },
     "metadata": {
      "needs_background": "light"
     },
     "output_type": "display_data"
    }
   ],
   "source": [
    "from sklearn.decomposition import PCA\n",
    "from sklearn.preprocessing import normalize\n",
    "import matplotlib.pyplot as plt\n",
    "\n",
    "\n",
    "# Normalize the data.\n",
    "X_norm = normalize(songs_paras_tfidf.toarray())\n",
    "\n",
    "# Reduce it to two components.\n",
    "X_pca = PCA(2).fit_transform(X_norm)\n",
    "\n",
    "# Calculate predicted values.\n",
    "y_pred = KMeans(n_clusters=2, random_state=42).fit_predict(X_pca)\n",
    "\n",
    "# Plot the solution.\n",
    "plt.scatter(X_pca[:, 0], X_pca[:, 1], c=y_pred)\n",
    "plt.show()\n",
    "\n"
   ]
  },
  {
   "cell_type": "code",
   "execution_count": 278,
   "metadata": {},
   "outputs": [
    {
     "data": {
      "text/plain": [
       "KNeighborsClassifier(algorithm='auto', leaf_size=30, metric='minkowski',\n",
       "                     metric_params=None, n_jobs=None, n_neighbors=10, p=2,\n",
       "                     weights='uniform')"
      ]
     },
     "execution_count": 278,
     "metadata": {},
     "output_type": "execute_result"
    }
   ],
   "source": [
    "from sklearn.neighbors import KNeighborsClassifier\n",
    "#X_train_knn,X_test_knn,y_train_knn,y_test_knn= train_test_split(X_train_tfidf['lyrics'],\n",
    "                                                                #X_train['artist'],test_size=0.4,random_state=0)\n",
    "classifier = KNeighborsClassifier(n_neighbors=10)\n",
    "classifier.fit(X_train_tfidf, y_train_tfidf)\n"
   ]
  },
  {
   "cell_type": "code",
   "execution_count": 279,
   "metadata": {
    "scrolled": false
   },
   "outputs": [
    {
     "data": {
      "text/plain": [
       "0.8222222222222222"
      ]
     },
     "execution_count": 279,
     "metadata": {},
     "output_type": "execute_result"
    }
   ],
   "source": [
    "classifier.score(X_train_tfidf,y_train_tfidf)"
   ]
  },
  {
   "cell_type": "code",
   "execution_count": 280,
   "metadata": {},
   "outputs": [
    {
     "data": {
      "text/plain": [
       "0.5333333333333333"
      ]
     },
     "execution_count": 280,
     "metadata": {},
     "output_type": "execute_result"
    }
   ],
   "source": [
    "classifier.score(X_test_tfidf,y_test_tfidf)"
   ]
  },
  {
   "cell_type": "code",
   "execution_count": 282,
   "metadata": {
    "scrolled": true
   },
   "outputs": [
    {
     "name": "stderr",
     "output_type": "stream",
     "text": [
      "C:\\Users\\Clyde\\Anaconda3\\lib\\site-packages\\sklearn\\ensemble\\forest.py:245: FutureWarning: The default value of n_estimators will change from 10 in version 0.20 to 100 in 0.22.\n",
      "  \"10 in version 0.20 to 100 in 0.22.\", FutureWarning)\n",
      "C:\\Users\\Clyde\\Anaconda3\\lib\\site-packages\\sklearn\\model_selection\\_split.py:657: Warning: The least populated class in y has only 1 members, which is too few. The minimum number of members in any class cannot be less than n_splits=5.\n",
      "  % (min_groups, self.n_splits)), Warning)\n"
     ]
    },
    {
     "name": "stdout",
     "output_type": "stream",
     "text": [
      "Training set score: 1.0\n",
      "\n",
      "Test set score: 0.1\n"
     ]
    },
    {
     "data": {
      "text/plain": [
       "array([0.36363636, 0.5       , 0.75      , 1.        , 0.66666667])"
      ]
     },
     "execution_count": 282,
     "metadata": {},
     "output_type": "execute_result"
    }
   ],
   "source": [
    "from sklearn import ensemble\n",
    "rfc = ensemble.RandomForestClassifier()\n",
    "train = rfc.fit(X_train_tfidf, y_train_tfidf)\n",
    "print('Training set score:', rfc.score(X_train_tfidf, y_train_tfidf))\n",
    "print('\\nTest set score:', rfc.score(X_test_tfidf, y_test_tfidf))\n",
    "\n",
    "from sklearn.model_selection import cross_val_score\n",
    "scores = cross_val_score(clf, X_test_tfidf, y_test_tfidf, cv=5)\n",
    "scores                                              \n"
   ]
  },
  {
   "cell_type": "code",
   "execution_count": 293,
   "metadata": {},
   "outputs": [
    {
     "ename": "NameError",
     "evalue": "name 'mean' is not defined",
     "output_type": "error",
     "traceback": [
      "\u001b[1;31m---------------------------------------------------------------------------\u001b[0m",
      "\u001b[1;31mNameError\u001b[0m                                 Traceback (most recent call last)",
      "\u001b[1;32m<ipython-input-293-4111e6a3e5ed>\u001b[0m in \u001b[0;36m<module>\u001b[1;34m\u001b[0m\n\u001b[1;32m----> 1\u001b[1;33m \u001b[0mmean\u001b[0m\u001b[1;33m(\u001b[0m\u001b[0mscores\u001b[0m\u001b[1;33m)\u001b[0m\u001b[1;33m\u001b[0m\u001b[1;33m\u001b[0m\u001b[0m\n\u001b[0m",
      "\u001b[1;31mNameError\u001b[0m: name 'mean' is not defined"
     ]
    }
   ],
   "source": [
    "mean(scores)"
   ]
  },
  {
   "cell_type": "code",
   "execution_count": 283,
   "metadata": {},
   "outputs": [
    {
     "name": "stdout",
     "output_type": "stream",
     "text": [
      "Training set score: 1.0\n",
      "\n",
      "Test set score: 0.5666666666666667\n"
     ]
    },
    {
     "name": "stderr",
     "output_type": "stream",
     "text": [
      "C:\\Users\\Clyde\\Anaconda3\\lib\\site-packages\\sklearn\\model_selection\\_split.py:657: Warning: The least populated class in y has only 1 members, which is too few. The minimum number of members in any class cannot be less than n_splits=5.\n",
      "  % (min_groups, self.n_splits)), Warning)\n"
     ]
    },
    {
     "data": {
      "text/plain": [
       "array([0.27272727, 0.75      , 0.75      , 1.        , 0.66666667])"
      ]
     },
     "execution_count": 283,
     "metadata": {},
     "output_type": "execute_result"
    }
   ],
   "source": [
    "clf = ensemble.GradientBoostingClassifier()\n",
    "train = clf.fit(X_train_tfidf, y_train_tfidf)\n",
    "\n",
    "print('Training set score:', clf.score(X_train_tfidf, y_train_tfidf))\n",
    "print('\\nTest set score:', clf.score(X_test_tfidf, y_test_tfidf))\n",
    "\n",
    "scores = cross_val_score(clf, X_test_tfidf, y_test_tfidf, cv=5)\n",
    "scores"
   ]
  },
  {
   "cell_type": "code",
   "execution_count": 284,
   "metadata": {},
   "outputs": [
    {
     "name": "stderr",
     "output_type": "stream",
     "text": [
      "C:\\Users\\Clyde\\Anaconda3\\lib\\site-packages\\sklearn\\linear_model\\logistic.py:432: FutureWarning: Default solver will be changed to 'lbfgs' in 0.22. Specify a solver to silence this warning.\n",
      "  FutureWarning)\n",
      "C:\\Users\\Clyde\\Anaconda3\\lib\\site-packages\\sklearn\\linear_model\\logistic.py:469: FutureWarning: Default multi_class will be changed to 'auto' in 0.22. Specify the multi_class option to silence this warning.\n",
      "  \"this warning.\", FutureWarning)\n",
      "C:\\Users\\Clyde\\Anaconda3\\lib\\site-packages\\sklearn\\model_selection\\_split.py:657: Warning: The least populated class in y has only 1 members, which is too few. The minimum number of members in any class cannot be less than n_splits=5.\n",
      "  % (min_groups, self.n_splits)), Warning)\n"
     ]
    },
    {
     "name": "stdout",
     "output_type": "stream",
     "text": [
      "Training set score: 0.9777777777777777\n",
      "\n",
      "Test set score: 0.1\n"
     ]
    },
    {
     "data": {
      "text/plain": [
       "array([0.36363636, 0.5       , 0.75      , 1.        , 0.66666667])"
      ]
     },
     "execution_count": 284,
     "metadata": {},
     "output_type": "execute_result"
    }
   ],
   "source": [
    "from sklearn.linear_model import LogisticRegression\n",
    "\n",
    "lr = LogisticRegression(penalty='l2') # No need to specify l2 as it's the default. But we put it for demonstration.\n",
    "train = lr.fit(X_train_tfidf, y_train_tfidf)\n",
    "print('Training set score:', lr.score(X_train_tfidf, y_train_tfidf))\n",
    "print('\\nTest set score:', lr.score(X_test_tfidf, y_test_tfidf))\n",
    "\n",
    "scores = cross_val_score(clf, X_test_tfidf, y_test_tfidf, cv=5)\n",
    "scores"
   ]
  },
  {
   "cell_type": "markdown",
   "metadata": {},
   "source": [
    "# Include Other Tokenizations"
   ]
  },
  {
   "cell_type": "code",
   "execution_count": 331,
   "metadata": {},
   "outputs": [],
   "source": [
    "def pos_df(sentences):\n",
    "    pos = []\n",
    "    for token in sentences:\n",
    "        pos = pos + [token.pos_]\n",
    "    pos = set(pos)\n",
    "    pos_init = np.zeros(shape=(len(pos),len(sentences)))\n",
    "    df = pd.DataFrame(data=pos_init.T,index=np.arange(0,len(sentences)),columns=pos)\n",
    "    \n",
    "    for sent,ind in zip(sentences[0],np.arange(1,len(sentences))):    \n",
    "        for token in sent:\n",
    "            df.loc[ind,token.pos_] += 1 \n",
    "    return df"
   ]
  },
  {
   "cell_type": "code",
   "execution_count": 332,
   "metadata": {},
   "outputs": [],
   "source": [
    "# Parse the cleaned novels. This can take a bit.\n",
    "import spacy\n",
    "nlp = spacy.load(\"en_core_web_sm\")"
   ]
  },
  {
   "cell_type": "code",
   "execution_count": 333,
   "metadata": {},
   "outputs": [],
   "source": [
    "from collections import Counter\n",
    "\n",
    "# Utility function to create a list of the 2000 most common words.\n",
    "def bag_of_words(text):\n",
    "    \n",
    "    # Filter out punctuation and stop words.\n",
    "    allwords = [token.lemma_\n",
    "                for token in text\n",
    "                if not token.is_punct\n",
    "                and not token.is_stop]\n",
    "    \n",
    "    # Return the most common words.\n",
    "    return [item[0] for item in Counter(allwords).most_common(200)]\n",
    "    \n",
    "\n",
    "# Creates a data frame with features for each word in our common word set.\n",
    "# Each value is the count of the times the word appears in each sentence.\n",
    "def bow_features(sentences, common_words):\n",
    "    \n",
    "    # Scaffold the data frame and initialize counts to zero.\n",
    "    dg = pd.DataFrame(columns=common_words)\n",
    "    dg['text_sentence'] = sentences[0]\n",
    "    dg['text_source'] = sentences[1]\n",
    "    dg.loc[:, common_words] = 0\n",
    "    \n",
    "    # Process each row, counting the occurrence of words in each sentence.\n",
    "    for i, sentence in enumerate(dg['text_sentence']):\n",
    "        \n",
    "        # Convert the sentence to lemmas, then filter out punctuation,\n",
    "        # stop words, and uncommon words.\n",
    "        words = [token.lemma_\n",
    "                 for token in sentence\n",
    "                 if (\n",
    "                     not token.is_punct\n",
    "                     and not token.is_stop\n",
    "                     and token.lemma_ in common_words\n",
    "                 )]\n",
    "        \n",
    "        # Populate the row with word counts.\n",
    "        for word in words:\n",
    "            dg.loc[i, word] += 1\n",
    "        \n",
    "        # This counter is just to make sure the kernel didn't hang.\n",
    "        if i % 50 == 0:\n",
    "            print(\"Processing row {}\".format(i))\n",
    "            \n",
    "    return dg\n"
   ]
  },
  {
   "cell_type": "code",
   "execution_count": 334,
   "metadata": {},
   "outputs": [],
   "source": [
    "MF =(artist[0].songs[0].lyrics+ artist[0].songs[1].lyrics+artist[0].songs[2].lyrics+artist[0].songs[3].lyrics+\n",
    "      artist[0].songs[4].lyrics+ artist[0].songs[5].lyrics+artist[0].songs[6].lyrics+artist[0].songs[7].lyrics+\n",
    "      artist[0].songs[8].lyrics+ artist[0].songs[9].lyrics)\n",
    "\n",
    "Kendrick =(artist[1].songs[0].lyrics+ artist[1].songs[1].lyrics+artist[1].songs[2].lyrics+artist[1].songs[3].lyrics+\n",
    "           artist[1].songs[4].lyrics+ artist[1].songs[5].lyrics+artist[1].songs[6].lyrics+artist[1].songs[7].lyrics+\n",
    "           artist[1].songs[8].lyrics+ artist[1].songs[9].lyrics)\n",
    "\n",
    "GZA =(artist[2].songs[0].lyrics+ artist[2].songs[1].lyrics+artist[2].songs[2].lyrics+artist[2].songs[3].lyrics+\n",
    "      artist[2].songs[4].lyrics+ artist[2].songs[5].lyrics+artist[2].songs[6].lyrics+artist[2].songs[7].lyrics+\n",
    "      artist[2].songs[8].lyrics+ artist[2].songs[9].lyrics)\n",
    "\n",
    "Eminem =(artist[3].songs[0].lyrics+ artist[3].songs[1].lyrics+artist[3].songs[2].lyrics+artist[3].songs[3].lyrics+\n",
    "      artist[3].songs[4].lyrics+ artist[3].songs[5].lyrics+artist[3].songs[6].lyrics+artist[3].songs[7].lyrics+\n",
    "      artist[3].songs[8].lyrics+ artist[3].songs[9].lyrics)\n",
    "\n",
    "Nas =(artist[4].songs[0].lyrics+ artist[4].songs[1].lyrics+artist[4].songs[2].lyrics+artist[4].songs[3].lyrics+\n",
    "      artist[4].songs[4].lyrics+ artist[4].songs[5].lyrics+artist[4].songs[6].lyrics+artist[4].songs[7].lyrics+\n",
    "      artist[4].songs[8].lyrics+ artist[4].songs[9].lyrics)\n",
    "\n",
    "Aesop =(artist[5].songs[0].lyrics+ artist[5].songs[1].lyrics+artist[5].songs[2].lyrics+artist[5].songs[3].lyrics+\n",
    "      artist[5].songs[4].lyrics+ artist[5].songs[5].lyrics+artist[5].songs[6].lyrics+artist[5].songs[7].lyrics+\n",
    "      artist[5].songs[8].lyrics+ artist[5].songs[9].lyrics)\n",
    "\n",
    "Pharoah =(artist[6].songs[0].lyrics+ artist[6].songs[1].lyrics+artist[6].songs[2].lyrics+artist[6].songs[3].lyrics+\n",
    "      artist[6].songs[4].lyrics+ artist[6].songs[5].lyrics+artist[6].songs[6].lyrics+artist[6].songs[7].lyrics+\n",
    "      artist[6].songs[8].lyrics+ artist[6].songs[9].lyrics)\n",
    "\n",
    "Andre =(artist[7].songs[0].lyrics+ artist[7].songs[1].lyrics+artist[7].songs[2].lyrics+artist[7].songs[3].lyrics+\n",
    "      artist[7].songs[4].lyrics+ artist[7].songs[5].lyrics+artist[7].songs[6].lyrics+artist[7].songs[7].lyrics+\n",
    "      artist[7].songs[8].lyrics+ artist[7].songs[9].lyrics)\n",
    "\n",
    "Yasiin =(artist[8].songs[0].lyrics+ artist[8].songs[1].lyrics+artist[8].songs[2].lyrics+artist[8].songs[3].lyrics+\n",
    "      artist[8].songs[4].lyrics+ artist[8].songs[5].lyrics+artist[8].songs[6].lyrics+artist[8].songs[7].lyrics+\n",
    "      artist[8].songs[8].lyrics+ artist[8].songs[9].lyrics)\n",
    "\n",
    "Ghostface =(artist[9].songs[0].lyrics+ artist[9].songs[1].lyrics+artist[9].songs[2].lyrics+artist[9].songs[3].lyrics+\n",
    "      artist[9].songs[4].lyrics+ artist[9].songs[5].lyrics+artist[9].songs[6].lyrics+artist[9].songs[7].lyrics+\n",
    "      artist[9].songs[8].lyrics+ artist[9].songs[9].lyrics)\n"
   ]
  },
  {
   "cell_type": "code",
   "execution_count": 335,
   "metadata": {},
   "outputs": [],
   "source": [
    "MF = text_cleaner(MF)\n",
    "Kendrick = text_cleaner(Kendrick)\n",
    "GZA = text_cleaner(GZA)\n",
    "Eminem = text_cleaner(Eminem)\n",
    "Nas = text_cleaner(Nas)\n",
    "Aesop = text_cleaner(MF)\n",
    "Pharoah = text_cleaner(Pharoah)\n",
    "Andre = text_cleaner(Andre)\n",
    "Yasiin = text_cleaner(Yasiin)\n",
    "Ghostface = text_cleaner(Ghostface)"
   ]
  },
  {
   "cell_type": "code",
   "execution_count": 336,
   "metadata": {},
   "outputs": [],
   "source": [
    "MF_temp = nlp(MF)\n",
    "Kendrick_temp = nlp(Kendrick)\n",
    "GZA_temp = nlp(GZA)\n",
    "Eminem_temp = nlp(Eminem)\n",
    "Nas_temp = nlp(Nas)\n",
    "Aesop_temp = nlp(Aesop)\n",
    "Pharoah_temp = nlp(Pharoah)\n",
    "Andre_temp = nlp(Andre)\n",
    "Yasiin_temp = nlp(Yasiin)\n",
    "Ghostface_temp = nlp(Ghostface)"
   ]
  },
  {
   "cell_type": "code",
   "execution_count": 348,
   "metadata": {},
   "outputs": [],
   "source": [
    "MF_sents = [[sent, \"MF DOOM\"] for sent in MF_temp.sents]\n",
    "Kendrick_sents = [[sent, \"Kendrick\"] for sent in Kendrick_temp.sents]\n",
    "GZA_sents =[[sent, \"GZA\"] for sent in GZA_temp.sents]\n",
    "Eminem_sents = [[sent, \"Eminem\"] for sent in Eminem_temp.sents]\n",
    "Nas_sents = [[sent, \"Nas\"] for sent in Nas_temp.sents]\n",
    "Aesop_sents = [[sent, \"Aesop\"] for sent in Aesop_temp.sents]\n",
    "Pharoah_sents = [[sent, \"Pharoah\"] for sent in Pharoah_temp.sents]\n",
    "Andre_sents = [[sent, \"Andre\"] for sent in Andre_temp.sents]\n",
    "Yasiin_sents = [[sent, \"Yasiin\"] for sent in Yasiin_temp.sents]\n",
    "Ghostface_sents = [[sent, \"Ghostface\"] for sent in Ghostface_temp.sents]"
   ]
  },
  {
   "cell_type": "code",
   "execution_count": 349,
   "metadata": {},
   "outputs": [],
   "source": [
    "MFwords         = bag_of_words(MF_temp)\n",
    "Kendrickwords   = bag_of_words(Kendrick_temp)\n",
    "GZAwords        = bag_of_words(GZA_temp)\n",
    "Eminemwords     = bag_of_words(Eminem_temp)\n",
    "Naswords        = bag_of_words(Nas_temp)\n",
    "Aesopwords      = bag_of_words(Aesop_temp)\n",
    "Pharoahwords    = bag_of_words(Pharoah_temp)\n",
    "Andrewords      = bag_of_words(Andre_temp)\n",
    "Yasiinwords     = bag_of_words(Yasiin_temp)\n",
    "Ghostfacewords  = bag_of_words(Ghostface_temp)"
   ]
  },
  {
   "cell_type": "code",
   "execution_count": 350,
   "metadata": {},
   "outputs": [],
   "source": [
    "common_words = set(MFwords + Kendrickwords+GZAwords+Eminemwords+Naswords+Aesopwords+Pharoahwords+Andrewords+Yasiinwords+\n",
    "                  Ghostfacewords)\n",
    "common_words = list(set(common_words))"
   ]
  },
  {
   "cell_type": "code",
   "execution_count": 351,
   "metadata": {},
   "outputs": [],
   "source": [
    "sentences = pd.DataFrame(MF_sents + Kendrick_sents+GZA_sents+Eminem_sents+Nas_sents+Aesop_sents+Pharoah_sents+Andre_sents+\n",
    "                         Yasiin_sents+ Ghostface_sents)\n",
    "sentences1 = (MF_sents + Kendrick_sents+GZA_sents+Eminem_sents+Nas_sents+Aesop_sents+Pharoah_sents+Andre_sents+\n",
    "                         Yasiin_sents+ Ghostface_sents)"
   ]
  },
  {
   "cell_type": "code",
   "execution_count": 352,
   "metadata": {
    "scrolled": true
   },
   "outputs": [
    {
     "data": {
      "text/plain": [
       "853"
      ]
     },
     "execution_count": 352,
     "metadata": {},
     "output_type": "execute_result"
    }
   ],
   "source": [
    "len(common_words)"
   ]
  },
  {
   "cell_type": "code",
   "execution_count": 353,
   "metadata": {},
   "outputs": [
    {
     "name": "stdout",
     "output_type": "stream",
     "text": [
      "Processing row 0\n",
      "Processing row 50\n",
      "Processing row 100\n",
      "Processing row 150\n",
      "Processing row 200\n",
      "Processing row 250\n",
      "Processing row 300\n",
      "Processing row 350\n",
      "Processing row 400\n",
      "Processing row 450\n",
      "Processing row 500\n",
      "Processing row 550\n",
      "Processing row 600\n",
      "Processing row 650\n",
      "Processing row 700\n",
      "Processing row 750\n",
      "Processing row 800\n",
      "Processing row 850\n",
      "Processing row 900\n",
      "Processing row 950\n",
      "Processing row 1000\n",
      "Processing row 1050\n",
      "Processing row 1100\n",
      "Processing row 1150\n",
      "Processing row 1200\n",
      "Processing row 1250\n",
      "Processing row 1300\n",
      "Processing row 1350\n",
      "Processing row 1400\n",
      "Processing row 1450\n",
      "Processing row 1500\n",
      "Processing row 1550\n",
      "Processing row 1600\n",
      "Processing row 1650\n",
      "Processing row 1700\n",
      "Processing row 1750\n",
      "Processing row 1800\n",
      "Processing row 1850\n",
      "Processing row 1900\n",
      "Processing row 1950\n",
      "Processing row 2000\n",
      "Processing row 2050\n",
      "Processing row 2100\n",
      "Processing row 2150\n",
      "Processing row 2200\n",
      "Processing row 2250\n",
      "Processing row 2300\n",
      "Processing row 2350\n",
      "Processing row 2400\n",
      "Processing row 2450\n",
      "Processing row 2500\n",
      "Processing row 2550\n",
      "Processing row 2600\n",
      "Processing row 2650\n",
      "Processing row 2700\n",
      "Processing row 2750\n",
      "Processing row 2800\n",
      "Processing row 2850\n",
      "Processing row 2900\n",
      "Processing row 2950\n",
      "Processing row 3000\n",
      "Processing row 3050\n",
      "Processing row 3100\n",
      "Processing row 3150\n",
      "Processing row 3200\n",
      "Processing row 3250\n",
      "Processing row 3300\n",
      "Processing row 3350\n",
      "Processing row 3400\n",
      "Processing row 3450\n",
      "Processing row 3500\n",
      "Processing row 3550\n",
      "Processing row 3600\n",
      "Processing row 3650\n",
      "Processing row 3700\n",
      "Processing row 3750\n",
      "Processing row 3800\n",
      "Processing row 3850\n",
      "Processing row 3900\n",
      "Processing row 3950\n",
      "Processing row 4000\n",
      "Processing row 4050\n",
      "Processing row 4100\n",
      "Processing row 4150\n",
      "Processing row 4200\n",
      "Processing row 4250\n",
      "Processing row 4300\n",
      "Processing row 4350\n",
      "Processing row 4400\n",
      "Processing row 4450\n",
      "Processing row 4500\n",
      "Processing row 4550\n",
      "Processing row 4600\n",
      "Processing row 4650\n",
      "Processing row 4700\n",
      "Processing row 4750\n",
      "Processing row 4800\n",
      "Processing row 4850\n",
      "Processing row 4900\n",
      "Processing row 4950\n",
      "Processing row 5000\n",
      "Processing row 5050\n",
      "Processing row 5100\n",
      "Processing row 5150\n",
      "Processing row 5200\n",
      "Processing row 5250\n",
      "Processing row 5300\n",
      "Processing row 5350\n",
      "Processing row 5400\n",
      "Processing row 5450\n",
      "Processing row 5500\n",
      "Processing row 5550\n",
      "Processing row 5600\n",
      "Processing row 5650\n",
      "Processing row 5700\n",
      "Processing row 5750\n",
      "Processing row 5800\n",
      "Processing row 5850\n",
      "Processing row 5900\n",
      "Processing row 5950\n",
      "Processing row 6000\n",
      "Processing row 6050\n",
      "Processing row 6100\n",
      "Processing row 6150\n",
      "Processing row 6200\n",
      "Processing row 6250\n",
      "Processing row 6300\n",
      "Processing row 6350\n",
      "Processing row 6400\n",
      "Processing row 6450\n",
      "Processing row 6500\n",
      "Processing row 6550\n",
      "Processing row 6600\n",
      "Processing row 6650\n",
      "Processing row 6700\n",
      "Processing row 6750\n",
      "Processing row 6800\n",
      "Processing row 6850\n",
      "Processing row 6900\n",
      "Processing row 6950\n",
      "Processing row 7000\n",
      "Processing row 7050\n",
      "Processing row 7100\n",
      "Processing row 7150\n",
      "Processing row 7200\n",
      "Processing row 7250\n",
      "Processing row 7300\n",
      "Processing row 7350\n",
      "Processing row 7400\n"
     ]
    }
   ],
   "source": [
    "word_counts = bow_features(sentences, common_words)"
   ]
  },
  {
   "cell_type": "code",
   "execution_count": 354,
   "metadata": {},
   "outputs": [],
   "source": [
    "MF_lemmas = []\n",
    "include_stop=True\n",
    "for token in MF_temp:\n",
    "    if not token.is_punct and (not token.is_stop or include_stop):\n",
    "        MF_lemmas.append(token.lemma_)\n",
    "        \n",
    "Kendrick_lemmas = []\n",
    "include_stop=True\n",
    "for token in Kendrick_temp:\n",
    "    if not token.is_punct and (not token.is_stop or include_stop):\n",
    "        Kendrick_lemmas.append(token.lemma_)\n",
    "        \n",
    "GZA_lemmas = []\n",
    "include_stop=True\n",
    "for token in GZA_temp:\n",
    "    if not token.is_punct and (not token.is_stop or include_stop):\n",
    "        GZA_lemmas.append(token.lemma_)\n",
    "Eminem_lemmas = []\n",
    "include_stop=True\n",
    "for token in Eminem_temp:\n",
    "    if not token.is_punct and (not token.is_stop or include_stop):\n",
    "        Eminem_lemmas.append(token.lemma_)\n",
    "Nas_lemmas = []\n",
    "include_stop=True\n",
    "for token in Nas_temp:\n",
    "    if not token.is_punct and (not token.is_stop or include_stop):\n",
    "        Nas_lemmas.append(token.lemma_)\n",
    "        \n",
    "Aesop_lemmas = []\n",
    "include_stop=True\n",
    "for token in Aesop_temp:\n",
    "    if not token.is_punct and (not token.is_stop or include_stop):\n",
    "        Aesop_lemmas.append(token.lemma_)\n",
    "        \n",
    "Pharoah_lemmas = []\n",
    "include_stop=True\n",
    "for token in Pharoah_temp:\n",
    "    if not token.is_punct and (not token.is_stop or include_stop):\n",
    "        Pharoah_lemmas.append(token.lemma_)\n",
    "        \n",
    "Yasiin_lemmas = []\n",
    "include_stop=True\n",
    "for token in Yasiin_temp:\n",
    "    if not token.is_punct and (not token.is_stop or include_stop):\n",
    "        Yasiin_lemmas.append(token.lemma_)\n",
    "        \n",
    "Andre_lemmas = []\n",
    "include_stop=True\n",
    "for token in Andre_temp:\n",
    "    if not token.is_punct and (not token.is_stop or include_stop):\n",
    "        Andre_lemmas.append(token.lemma_)\n",
    "        \n",
    "Ghostface_lemmas = []\n",
    "include_stop=True\n",
    "for token in Ghostface_temp:\n",
    "    if not token.is_punct and (not token.is_stop or include_stop):\n",
    "        Ghostface_lemmas.append(token.lemma_)"
   ]
  },
  {
   "cell_type": "code",
   "execution_count": 355,
   "metadata": {},
   "outputs": [],
   "source": [
    "rap_lemmas = (Ghostface_lemmas+\n",
    "              Andre_lemmas+\n",
    "              Yasiin_lemmas+\n",
    "              Pharoah_lemmas+\n",
    "              Aesop_lemmas+\n",
    "              Nas_lemmas+\n",
    "              Eminem_lemmas+\n",
    "              Kendrick_lemmas+\n",
    "              GZA_lemmas+\n",
    "              MF_lemmas)"
   ]
  },
  {
   "cell_type": "code",
   "execution_count": 356,
   "metadata": {},
   "outputs": [],
   "source": [
    "dl = pd.DataFrame(data=[],index=df.index,columns=['lyrics'])"
   ]
  },
  {
   "cell_type": "markdown",
   "metadata": {},
   "source": [
    "for i in df.index:\n",
    "    dl.loc[i]['lyrics'] = nlp(df.loc[i]['lyrics'])"
   ]
  },
  {
   "cell_type": "code",
   "execution_count": 358,
   "metadata": {},
   "outputs": [],
   "source": [
    "dm = pd.DataFrame(data=[],index=np.arange(0,len(sentences1)),columns=['lyrics'])"
   ]
  },
  {
   "cell_type": "code",
   "execution_count": 359,
   "metadata": {},
   "outputs": [],
   "source": [
    "for i in range(0,len(sentences[0])):\n",
    "    dm.loc[i]['lyrics'] = sentences1[i][0].as_doc()"
   ]
  },
  {
   "cell_type": "code",
   "execution_count": 360,
   "metadata": {},
   "outputs": [],
   "source": [
    "include_stop=True\n",
    "dpp = pd.DataFrame(index=np.arange(0,len(sentences1)),columns=['lyrics'])\n",
    "for i in range(0,len(sentences1)):\n",
    "    rap_pos = []\n",
    "    rap_lemma =[]\n",
    "    for token in dm.loc[i]['lyrics']: #dl.loc[i]['lyrics']\n",
    "        if not token.is_punct and (not token.is_stop or include_stop):\n",
    "            rap_pos.append(token.pos_)\n",
    "            rap_lemma.append(token.lemma_)\n",
    "        rap_paras1 = ' '.join(str(e) for e in rap_lemma)\n",
    "        rap_paras2 = ' '.join(str(e) for e in rap_pos)\n",
    "        dpp.loc[i]['lyrics'] = rap_paras1 +' '+ rap_paras2"
   ]
  },
  {
   "cell_type": "code",
   "execution_count": 361,
   "metadata": {},
   "outputs": [
    {
     "data": {
      "text/html": [
       "<div>\n",
       "<style scoped>\n",
       "    .dataframe tbody tr th:only-of-type {\n",
       "        vertical-align: middle;\n",
       "    }\n",
       "\n",
       "    .dataframe tbody tr th {\n",
       "        vertical-align: top;\n",
       "    }\n",
       "\n",
       "    .dataframe thead th {\n",
       "        text-align: right;\n",
       "    }\n",
       "</style>\n",
       "<table border=\"1\" class=\"dataframe\">\n",
       "  <thead>\n",
       "    <tr style=\"text-align: right;\">\n",
       "      <th></th>\n",
       "      <th>lyrics</th>\n",
       "    </tr>\n",
       "  </thead>\n",
       "  <tbody>\n",
       "    <tr>\n",
       "      <th>0</th>\n",
       "      <td>(Mic, Check)</td>\n",
       "    </tr>\n",
       "    <tr>\n",
       "      <th>1</th>\n",
       "      <td>(When, I, was, led, to, you)</td>\n",
       "    </tr>\n",
       "    <tr>\n",
       "      <th>2</th>\n",
       "      <td>(I, knew, you, were, the, one, for, me)</td>\n",
       "    </tr>\n",
       "    <tr>\n",
       "      <th>3</th>\n",
       "      <td>(Come, through, dig, the, sound, I, swear, the...</td>\n",
       "    </tr>\n",
       "    <tr>\n",
       "      <th>4</th>\n",
       "      <td>(I, used, to, cop, a, lot, but, never, copped,...</td>\n",
       "    </tr>\n",
       "  </tbody>\n",
       "</table>\n",
       "</div>"
      ],
      "text/plain": [
       "                                              lyrics\n",
       "0                                       (Mic, Check)\n",
       "1                       (When, I, was, led, to, you)\n",
       "2            (I, knew, you, were, the, one, for, me)\n",
       "3  (Come, through, dig, the, sound, I, swear, the...\n",
       "4  (I, used, to, cop, a, lot, but, never, copped,..."
      ]
     },
     "execution_count": 361,
     "metadata": {},
     "output_type": "execute_result"
    }
   ],
   "source": [
    "dm.head()"
   ]
  },
  {
   "cell_type": "code",
   "execution_count": 362,
   "metadata": {},
   "outputs": [],
   "source": [
    "features = pd.concat([dpp,word_counts],axis=1)"
   ]
  },
  {
   "cell_type": "code",
   "execution_count": 363,
   "metadata": {},
   "outputs": [
    {
     "data": {
      "text/html": [
       "<div>\n",
       "<style scoped>\n",
       "    .dataframe tbody tr th:only-of-type {\n",
       "        vertical-align: middle;\n",
       "    }\n",
       "\n",
       "    .dataframe tbody tr th {\n",
       "        vertical-align: top;\n",
       "    }\n",
       "\n",
       "    .dataframe thead th {\n",
       "        text-align: right;\n",
       "    }\n",
       "</style>\n",
       "<table border=\"1\" class=\"dataframe\">\n",
       "  <thead>\n",
       "    <tr style=\"text-align: right;\">\n",
       "      <th></th>\n",
       "      <th>lyrics</th>\n",
       "      <th>Yo</th>\n",
       "      <th>dome</th>\n",
       "      <th>reload</th>\n",
       "      <th>crime</th>\n",
       "      <th>song</th>\n",
       "      <th>strooong</th>\n",
       "      <th>shotgun</th>\n",
       "      <th>glass</th>\n",
       "      <th>turn</th>\n",
       "      <th>...</th>\n",
       "      <th>real</th>\n",
       "      <th>liquor</th>\n",
       "      <th>fight</th>\n",
       "      <th>hair</th>\n",
       "      <th>know</th>\n",
       "      <th>tape</th>\n",
       "      <th>ho</th>\n",
       "      <th>drug</th>\n",
       "      <th>text_sentence</th>\n",
       "      <th>text_source</th>\n",
       "    </tr>\n",
       "  </thead>\n",
       "  <tbody>\n",
       "    <tr>\n",
       "      <th>0</th>\n",
       "      <td>Mic Check PROPN PROPN</td>\n",
       "      <td>0</td>\n",
       "      <td>0</td>\n",
       "      <td>0</td>\n",
       "      <td>0</td>\n",
       "      <td>0</td>\n",
       "      <td>0</td>\n",
       "      <td>0</td>\n",
       "      <td>0</td>\n",
       "      <td>0</td>\n",
       "      <td>...</td>\n",
       "      <td>0</td>\n",
       "      <td>0</td>\n",
       "      <td>0</td>\n",
       "      <td>0</td>\n",
       "      <td>0</td>\n",
       "      <td>0</td>\n",
       "      <td>0</td>\n",
       "      <td>0</td>\n",
       "      <td>(Mic, Check)</td>\n",
       "      <td>MF DOOM</td>\n",
       "    </tr>\n",
       "    <tr>\n",
       "      <th>1</th>\n",
       "      <td>when -PRON- be lead to -PRON- ADV PRON VERB VE...</td>\n",
       "      <td>0</td>\n",
       "      <td>0</td>\n",
       "      <td>0</td>\n",
       "      <td>0</td>\n",
       "      <td>0</td>\n",
       "      <td>0</td>\n",
       "      <td>0</td>\n",
       "      <td>0</td>\n",
       "      <td>0</td>\n",
       "      <td>...</td>\n",
       "      <td>0</td>\n",
       "      <td>0</td>\n",
       "      <td>0</td>\n",
       "      <td>0</td>\n",
       "      <td>0</td>\n",
       "      <td>0</td>\n",
       "      <td>0</td>\n",
       "      <td>0</td>\n",
       "      <td>(When, I, was, led, to, you)</td>\n",
       "      <td>MF DOOM</td>\n",
       "    </tr>\n",
       "    <tr>\n",
       "      <th>2</th>\n",
       "      <td>-PRON- know -PRON- be the one for -PRON- PRON ...</td>\n",
       "      <td>0</td>\n",
       "      <td>0</td>\n",
       "      <td>0</td>\n",
       "      <td>0</td>\n",
       "      <td>0</td>\n",
       "      <td>0</td>\n",
       "      <td>0</td>\n",
       "      <td>0</td>\n",
       "      <td>0</td>\n",
       "      <td>...</td>\n",
       "      <td>0</td>\n",
       "      <td>0</td>\n",
       "      <td>0</td>\n",
       "      <td>0</td>\n",
       "      <td>1</td>\n",
       "      <td>0</td>\n",
       "      <td>0</td>\n",
       "      <td>0</td>\n",
       "      <td>(I, knew, you, were, the, one, for, me)</td>\n",
       "      <td>MF DOOM</td>\n",
       "    </tr>\n",
       "    <tr>\n",
       "      <th>3</th>\n",
       "      <td>come through dig the sound -PRON- swear the wh...</td>\n",
       "      <td>0</td>\n",
       "      <td>0</td>\n",
       "      <td>0</td>\n",
       "      <td>0</td>\n",
       "      <td>0</td>\n",
       "      <td>0</td>\n",
       "      <td>0</td>\n",
       "      <td>0</td>\n",
       "      <td>0</td>\n",
       "      <td>...</td>\n",
       "      <td>0</td>\n",
       "      <td>0</td>\n",
       "      <td>0</td>\n",
       "      <td>0</td>\n",
       "      <td>0</td>\n",
       "      <td>0</td>\n",
       "      <td>0</td>\n",
       "      <td>0</td>\n",
       "      <td>(Come, through, dig, the, sound, I, swear, the...</td>\n",
       "      <td>MF DOOM</td>\n",
       "    </tr>\n",
       "    <tr>\n",
       "      <th>4</th>\n",
       "      <td>-PRON- use to cop a lot but never cop no drop ...</td>\n",
       "      <td>0</td>\n",
       "      <td>0</td>\n",
       "      <td>0</td>\n",
       "      <td>0</td>\n",
       "      <td>0</td>\n",
       "      <td>0</td>\n",
       "      <td>0</td>\n",
       "      <td>0</td>\n",
       "      <td>0</td>\n",
       "      <td>...</td>\n",
       "      <td>0</td>\n",
       "      <td>0</td>\n",
       "      <td>0</td>\n",
       "      <td>0</td>\n",
       "      <td>0</td>\n",
       "      <td>0</td>\n",
       "      <td>0</td>\n",
       "      <td>0</td>\n",
       "      <td>(I, used, to, cop, a, lot, but, never, copped,...</td>\n",
       "      <td>MF DOOM</td>\n",
       "    </tr>\n",
       "  </tbody>\n",
       "</table>\n",
       "<p>5 rows × 856 columns</p>\n",
       "</div>"
      ],
      "text/plain": [
       "                                              lyrics Yo dome reload crime  \\\n",
       "0                              Mic Check PROPN PROPN  0    0      0     0   \n",
       "1  when -PRON- be lead to -PRON- ADV PRON VERB VE...  0    0      0     0   \n",
       "2  -PRON- know -PRON- be the one for -PRON- PRON ...  0    0      0     0   \n",
       "3  come through dig the sound -PRON- swear the wh...  0    0      0     0   \n",
       "4  -PRON- use to cop a lot but never cop no drop ...  0    0      0     0   \n",
       "\n",
       "  song strooong shotgun glass turn  ... real liquor fight hair know tape ho  \\\n",
       "0    0        0       0     0    0  ...    0      0     0    0    0    0  0   \n",
       "1    0        0       0     0    0  ...    0      0     0    0    0    0  0   \n",
       "2    0        0       0     0    0  ...    0      0     0    0    1    0  0   \n",
       "3    0        0       0     0    0  ...    0      0     0    0    0    0  0   \n",
       "4    0        0       0     0    0  ...    0      0     0    0    0    0  0   \n",
       "\n",
       "  drug                                      text_sentence text_source  \n",
       "0    0                                       (Mic, Check)     MF DOOM  \n",
       "1    0                       (When, I, was, led, to, you)     MF DOOM  \n",
       "2    0            (I, knew, you, were, the, one, for, me)     MF DOOM  \n",
       "3    0  (Come, through, dig, the, sound, I, swear, the...     MF DOOM  \n",
       "4    0  (I, used, to, cop, a, lot, but, never, copped,...     MF DOOM  \n",
       "\n",
       "[5 rows x 856 columns]"
      ]
     },
     "execution_count": 363,
     "metadata": {},
     "output_type": "execute_result"
    }
   ],
   "source": [
    "features.head()"
   ]
  },
  {
   "cell_type": "code",
   "execution_count": 364,
   "metadata": {},
   "outputs": [
    {
     "name": "stdout",
     "output_type": "stream",
     "text": [
      "Number of features: 3096\n"
     ]
    }
   ],
   "source": [
    "X_train, X_test = train_test_split(features, test_size=0.1, random_state=0)\n",
    "\n",
    "\n",
    "vectorizer = TfidfVectorizer( max_df=.5,# drop words that occur in more than half the paragraphs\n",
    "                             min_df=2, # only use words that appear at least twice\n",
    "                             stop_words='english', \n",
    "                             lowercase=True, #convert everything to lower case (since Alice in Wonderland has the HABIT of CAPITALIZING WORDS for EMPHASIS)\n",
    "                             use_idf=True,#we definitely want to use inverse document frequencies in our weighting\n",
    "                             norm=u'l2', #Applies a correction factor so that longer paragraphs and shorter paragraphs get treated equally\n",
    "                             smooth_idf=False #Adds 1 to all document frequencies, as if an extra document existed that used every word once.  Prevents divide-by-zero errors\n",
    "                            )\n",
    "\n",
    "#Applying the vectorizer\n",
    "rap_paras_tfidf=vectorizer.fit_transform(X_train.loc[:]['lyrics'])\n",
    "print(\"Number of features: %d\" % rap_paras_tfidf.get_shape()[1])\n",
    "\n",
    "#splitting into training and test sets\n",
    "X_train_tfidf, X_test_tfidf     = train_test_split(rap_paras_tfidf, test_size=0.1, random_state=0)\n",
    "X_train_features,X_test_features= train_test_split(X_train[X_train.columns[1:len(X_train.columns)-2]],\n",
    "                                                  test_size=0.4,random_state=0)\n",
    "\n",
    "#Reshapes the vectorizer output into something people can read\n",
    "X_train_tfidf_csr = X_train_tfidf.tocsr()\n",
    "\n",
    "#number of paragraphs\n",
    "n = X_train_tfidf_csr.shape[0]\n",
    "#A list of dictionaries, one per paragraph\n",
    "tfidf_bypara = [{} for _ in range(0,n)]\n",
    "#List of features\n",
    "terms = vectorizer.get_feature_names()\n",
    "#for each paragraph, lists the feature words and their tf-idf scores\n",
    "for i, j in zip(*X_train_tfidf_csr.nonzero()):\n",
    "    tfidf_bypara[i][terms[j]] = X_train_tfidf_csr[i, j]\n",
    "\n",
    "#Keep in mind that the log base 2 of 1 is 0, so a tf-idf score of 0 indicates that the word was present once in that sentence.\n",
    "#print('Original sentence:', X_train)\n",
    "#print('Tf_idf vector:', tfidf_bypara)"
   ]
  },
  {
   "cell_type": "code",
   "execution_count": 365,
   "metadata": {},
   "outputs": [],
   "source": [
    "tfidf_features = pd.DataFrame(X_train_tfidf_csr.toarray())"
   ]
  },
  {
   "cell_type": "code",
   "execution_count": 366,
   "metadata": {},
   "outputs": [],
   "source": [
    "X_train_final = pd.concat([X_train_features,tfidf_features],axis=1)"
   ]
  },
  {
   "cell_type": "code",
   "execution_count": 367,
   "metadata": {},
   "outputs": [],
   "source": [
    "X_train_final = X_train_final.dropna()"
   ]
  },
  {
   "cell_type": "code",
   "execution_count": 368,
   "metadata": {},
   "outputs": [],
   "source": [
    "from sklearn.preprocessing import MinMaxScaler\n",
    "scaler = MinMaxScaler()\n",
    "scaler.fit(X_train_final)\n",
    "X_final =scaler.transform(X_train_final)"
   ]
  },
  {
   "cell_type": "code",
   "execution_count": 369,
   "metadata": {},
   "outputs": [],
   "source": [
    "from sklearn.decomposition import PCA \n",
    "sklearn_pca = PCA(n_components=100)\n",
    "X_train_final_pca = sklearn_pca.fit_transform(X_final)"
   ]
  },
  {
   "cell_type": "code",
   "execution_count": 370,
   "metadata": {},
   "outputs": [],
   "source": [
    "Sum_of_squared_distances = []\n",
    "K = range(1,50)\n",
    "for k in K:\n",
    "    km = KMeans(n_clusters=k)\n",
    "    km = km.fit(X_train_final_pca)\n",
    "    Sum_of_squared_distances.append(km.inertia_)\n"
   ]
  },
  {
   "cell_type": "code",
   "execution_count": 371,
   "metadata": {},
   "outputs": [
    {
     "data": {
      "image/png": "[encoded data removed]",
      "text/plain": [
       "<Figure size 432x288 with 1 Axes>"
      ]
     },
     "metadata": {
      "needs_background": "light"
     },
     "output_type": "display_data"
    }
   ],
   "source": [
    "plt.plot(K, Sum_of_squared_distances, 'bx-')\n",
    "plt.xlabel('k')\n",
    "plt.ylabel('Sum_of_squared_distances')\n",
    "plt.title('Elbow Method For Optimal k')\n",
    "plt.show()"
   ]
  },
  {
   "cell_type": "code",
   "execution_count": 373,
   "metadata": {},
   "outputs": [
    {
     "name": "stdout",
     "output_type": "stream",
     "text": [
      "0.043547605658033936\n",
      "0.02736313448621765\n"
     ]
    }
   ],
   "source": [
    "from sklearn import metrics\n",
    "from sklearn.metrics import pairwise_distances\n",
    "\n",
    "for sample in [X_train_tfidf, X_test_tfidf]:\n",
    "    model = KMeans(n_clusters=10, random_state=42).fit(sample)\n",
    "    labels = model.labels_\n",
    "    print(metrics.silhouette_score(sample, labels, metric='euclidean'))"
   ]
  },
  {
   "cell_type": "code",
   "execution_count": 978,
   "metadata": {},
   "outputs": [],
   "source": [
    "from sklearn.cluster import KMeans\n",
    "kmeans = KMeans(n_clusters=8,random_state=0,n_init=10).fit(X_train_final_pca)"
   ]
  },
  {
   "cell_type": "code",
   "execution_count": null,
   "metadata": {},
   "outputs": [],
   "source": [
    "for i in range(0,10):\n",
    "        lines_for_predicting = list(df['lyrics'][df['artist']== df.artist.unique()[i]])\n",
    "        val = kmeans.predict(sklearn_pca.fit_transform(vectorizer.transform(lines_for_predicting).toarray()))\n",
    "        unique_elements, counts_elements = np.unique(val, return_counts=True)\n",
    "        print(np.argmax(counts_elements,axis=0))"
   ]
  },
  {
   "cell_type": "code",
   "execution_count": 1000,
   "metadata": {},
   "outputs": [
    {
     "data": {
      "text/plain": [
       "KNeighborsClassifier(algorithm='auto', leaf_size=30, metric='minkowski',\n",
       "                     metric_params=None, n_jobs=None, n_neighbors=10, p=2,\n",
       "                     weights='uniform')"
      ]
     },
     "execution_count": 1000,
     "metadata": {},
     "output_type": "execute_result"
    }
   ],
   "source": [
    "from sklearn.neighbors import KNeighborsClassifier\n",
    "X_train_knn,X_test_knn,y_train_knn,y_test_knn= train_test_split(X_train[X_train.columns[1:len(X_train.columns)-2]],\n",
    "                                                                X_train['text_source'],test_size=0.4,random_state=0)\n",
    "classifier = KNeighborsClassifier(n_neighbors=10)\n",
    "classifier.fit(X_train_knn, y_train_knn)\n"
   ]
  },
  {
   "cell_type": "code",
   "execution_count": 1001,
   "metadata": {
    "scrolled": true
   },
   "outputs": [
    {
     "data": {
      "text/plain": [
       "0.37313060817547355"
      ]
     },
     "execution_count": 1001,
     "metadata": {},
     "output_type": "execute_result"
    }
   ],
   "source": [
    "classifier.score(X_train_knn,y_train_knn)"
   ]
  },
  {
   "cell_type": "code",
   "execution_count": 991,
   "metadata": {},
   "outputs": [
    {
     "name": "stderr",
     "output_type": "stream",
     "text": [
      "C:\\Users\\Clyde\\Anaconda3\\lib\\site-packages\\sklearn\\ensemble\\forest.py:245: FutureWarning: The default value of n_estimators will change from 10 in version 0.20 to 100 in 0.22.\n",
      "  \"10 in version 0.20 to 100 in 0.22.\", FutureWarning)\n"
     ]
    },
    {
     "name": "stdout",
     "output_type": "stream",
     "text": [
      "Training set score: 0.8045862412761715\n",
      "\n",
      "Test set score: 0.3109118086696562\n"
     ]
    }
   ],
   "source": [
    "from sklearn import ensemble\n",
    "rfc = ensemble.RandomForestClassifier()\n",
    "train = rfc.fit(X_train_knn, y_train_knn)\n",
    "print('Training set score:', rfc.score(X_train_knn, y_train_knn))\n",
    "print('\\nTest set score:', rfc.score(X_test_knn, y_test_knn))"
   ]
  },
  {
   "cell_type": "code",
   "execution_count": 996,
   "metadata": {},
   "outputs": [
    {
     "name": "stdout",
     "output_type": "stream",
     "text": [
      "Training set score: 0.5413758723828515\n",
      "\n",
      "Test set score: 0.30904334828101643\n"
     ]
    }
   ],
   "source": [
    "clf = ensemble.GradientBoostingClassifier()\n",
    "train = clf.fit(X_train_knn, y_train_knn)\n",
    "\n",
    "print('Training set score:', clf.score(X_train_knn, y_train_knn))\n",
    "print('\\nTest set score:', clf.score(X_test_knn, y_test_knn))"
   ]
  },
  {
   "cell_type": "code",
   "execution_count": 995,
   "metadata": {},
   "outputs": [
    {
     "name": "stderr",
     "output_type": "stream",
     "text": [
      "C:\\Users\\Clyde\\Anaconda3\\lib\\site-packages\\sklearn\\linear_model\\logistic.py:432: FutureWarning: Default solver will be changed to 'lbfgs' in 0.22. Specify a solver to silence this warning.\n",
      "  FutureWarning)\n",
      "C:\\Users\\Clyde\\Anaconda3\\lib\\site-packages\\sklearn\\linear_model\\logistic.py:469: FutureWarning: Default multi_class will be changed to 'auto' in 0.22. Specify the multi_class option to silence this warning.\n",
      "  \"this warning.\", FutureWarning)\n"
     ]
    },
    {
     "name": "stdout",
     "output_type": "stream",
     "text": [
      "Training set score: 0.6527916251246261\n",
      "\n",
      "Test set score: 0.34977578475336324\n"
     ]
    }
   ],
   "source": [
    "from sklearn.linear_model import LogisticRegression\n",
    "\n",
    "lr = LogisticRegression(penalty='l2') # No need to specify l2 as it's the default. But we put it for demonstration.\n",
    "train = lr.fit(X_train_knn, y_train_knn)\n",
    "print('Training set score:', lr.score(X_train_knn, y_train_knn))\n",
    "print('\\nTest set score:', lr.score(X_test_knn, y_test_knn))"
   ]
  },
  {
   "cell_type": "code",
   "execution_count": 464,
   "metadata": {},
   "outputs": [],
   "source": [
    "rap_lemmas = []\n",
    "include_stop=True\n",
    "for sents in rap_lyrics.sents:\n",
    "    for token in sents:\n",
    "        if not token.is_punct and (not token.is_stop or include_stop):\n",
    "            rap_lemmas.append(token.lemma_)"
   ]
  },
  {
   "cell_type": "code",
   "execution_count": 696,
   "metadata": {},
   "outputs": [],
   "source": [
    "dpp = dpp.dropna()"
   ]
  },
  {
   "cell_type": "code",
   "execution_count": 377,
   "metadata": {},
   "outputs": [
    {
     "ename": "NameError",
     "evalue": "name 'rap_paras' is not defined",
     "output_type": "error",
     "traceback": [
      "\u001b[1;31m---------------------------------------------------------------------------\u001b[0m",
      "\u001b[1;31mNameError\u001b[0m                                 Traceback (most recent call last)",
      "\u001b[1;32m<ipython-input-377-3c4aa5795a9f>\u001b[0m in \u001b[0;36m<module>\u001b[1;34m\u001b[0m\n\u001b[0;32m     10\u001b[0m \u001b[1;33m\u001b[0m\u001b[0m\n\u001b[0;32m     11\u001b[0m \u001b[1;31m#Applying the vectorizer\u001b[0m\u001b[1;33m\u001b[0m\u001b[1;33m\u001b[0m\u001b[1;33m\u001b[0m\u001b[0m\n\u001b[1;32m---> 12\u001b[1;33m \u001b[0mrap_paras_tfidf\u001b[0m\u001b[1;33m=\u001b[0m\u001b[0mvectorizer\u001b[0m\u001b[1;33m.\u001b[0m\u001b[0mfit_transform\u001b[0m\u001b[1;33m(\u001b[0m\u001b[0mrap_paras\u001b[0m\u001b[1;33m)\u001b[0m\u001b[1;33m\u001b[0m\u001b[1;33m\u001b[0m\u001b[0m\n\u001b[0m\u001b[0;32m     13\u001b[0m \u001b[0mprint\u001b[0m\u001b[1;33m(\u001b[0m\u001b[1;34m\"Number of features: %d\"\u001b[0m \u001b[1;33m%\u001b[0m \u001b[0mrap_paras_tfidf\u001b[0m\u001b[1;33m.\u001b[0m\u001b[0mget_shape\u001b[0m\u001b[1;33m(\u001b[0m\u001b[1;33m)\u001b[0m\u001b[1;33m[\u001b[0m\u001b[1;36m1\u001b[0m\u001b[1;33m]\u001b[0m\u001b[1;33m)\u001b[0m\u001b[1;33m\u001b[0m\u001b[1;33m\u001b[0m\u001b[0m\n\u001b[0;32m     14\u001b[0m \u001b[1;33m\u001b[0m\u001b[0m\n",
      "\u001b[1;31mNameError\u001b[0m: name 'rap_paras' is not defined"
     ]
    }
   ],
   "source": [
    "vectorizer = TfidfVectorizer( max_df=.3,# drop words that occur in more than half the paragraphs\n",
    "                             min_df=2, # only use words that appear at least twice\n",
    "                             stop_words='english', \n",
    "                             lowercase=True, #convert everything to lower case (since Alice in Wonderland has the HABIT of CAPITALIZING WORDS for EMPHASIS)\n",
    "                             use_idf=True,#we definitely want to use inverse document frequencies in our weighting\n",
    "                             norm=u'l2', #Applies a correction factor so that longer paragraphs and shorter paragraphs get treated equally\n",
    "                             smooth_idf=False #Adds 1 to all document frequencies, as if an extra document existed that used every word once.  Prevents divide-by-zero errors\n",
    "                            )\n",
    "\n",
    "\n",
    "#Applying the vectorizer\n",
    "rap_paras_tfidf=vectorizer.fit_transform(rap_paras)\n",
    "print(\"Number of features: %d\" % rap_paras_tfidf.get_shape()[1])\n",
    "\n",
    "#splitting into training and test sets\n",
    "X_train_tfidf, X_test_tfidf= train_test_split(rap_paras_tfidf, test_size=0.4, random_state=0)\n",
    "\n",
    "\n",
    "#Reshapes the vectorizer output into something people can read\n",
    "X_train_tfidf_csr = X_train_tfidf.tocsr()\n",
    "\n",
    "#number of paragraphs\n",
    "n = X_train_tfidf_csr.shape[0]\n",
    "#A list of dictionaries, one per paragraph\n",
    "tfidf_bypara = [{} for _ in range(0,n)]\n",
    "#List of features\n",
    "terms = vectorizer.get_feature_names()\n",
    "#for each paragraph, lists the feature words and their tf-idf scores\n",
    "for i, j in zip(*X_train_tfidf_csr.nonzero()):\n",
    "    tfidf_bypara[i][terms[j]] = X_train_tfidf_csr[i, j]\n",
    "\n",
    "#Keep in mind that the log base 2 of 1 is 0, so a tf-idf score of 0 indicates that the word was present once in that sentence.\n",
    "print('Original sentence:', X_train)\n",
    "print('Tf_idf vector:', tfidf_bypara)"
   ]
  },
  {
   "cell_type": "code",
   "execution_count": null,
   "metadata": {},
   "outputs": [],
   "source": []
  }
 ],
 "metadata": {
  "kernelspec": {
   "display_name": "Python 3",
   "language": "python",
   "name": "python3"
  },
  "language_info": {
   "codemirror_mode": {
    "name": "ipython",
    "version": 3
   },
   "file_extension": ".py",
   "mimetype": "text/x-python",
   "name": "python",
   "nbconvert_exporter": "python",
   "pygments_lexer": "ipython3",
   "version": "3.7.1"
  }
 },
 "nbformat": 4,
 "nbformat_minor": 2
}
