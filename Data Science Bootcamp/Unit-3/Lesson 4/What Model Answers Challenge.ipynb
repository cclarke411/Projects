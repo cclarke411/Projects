{
 "cells": [
  {
   "cell_type": "markdown",
   "metadata": {},
   "source": [
    "<h3># 1 Predict the running times of prospective Olympic sprinters using data from the last 20 Olympics. </h3>\n",
    "<p>The models that can be used for this question are</p>\n",
    "<li>1. Linear Regression</li>\n",
    "<li>2. KNN Regression</li>\n",
    "<li>3. Lasso Regression</li>"
   ]
  },
  {
   "cell_type": "markdown",
   "metadata": {},
   "source": [
    "<h3> # 2 You have more features (columns) than rows in your dataset. </h3>\n",
    "PCA"
   ]
  },
  {
   "cell_type": "markdown",
   "metadata": {},
   "source": [
    "<h3> #3 Identify the most important characteristic predicting likelihood of being jailed before age 20. </h3>\n",
    "<li>Use a tree based method (like Random Forest) and look at your feature importances.</li>\n",
    "<li>Use some sort of regularization/penalty like L1 or L2 regularization. That will force non-useful features to have parameters close to zero.</li>\n",
    "<li> Recursively remove variables and see what the resulting output is and cross-validate</li>"
   ]
  },
  {
   "cell_type": "markdown",
   "metadata": {},
   "source": [
    "<h3> #4 Implement a filter to “highlight” emails that might be important to the recipient</h3>\n",
    "Any supervised classification technique will work\n",
    "<li> KNN </li>\n",
    "<li> SVC </li>\n",
    "<li> Random Forest </li>\n",
    "<li> Logisitic Regression</li>\n",
    "<li> Decision Trees </li>\n",
    "<li> Gradient Boost </li>"
   ]
  },
  {
   "cell_type": "markdown",
   "metadata": {},
   "source": [
    "<h3> #5 You have 1000+ features </h3>\n",
    "<li> PCA </li>\n",
    "<li> Random Forest </li>\n",
    "<li> SVM with PCA </li>"
   ]
  },
  {
   "cell_type": "markdown",
   "metadata": {},
   "source": [
    "<h3> #6 Predict whether someone who adds items to their cart on a website will purchase the items.</h3>\n",
    "<li> Random Forest </li>\n",
    "<li> SVM </li>\n",
    "<li> KNN </li>\n",
    "<li> Logistic Regression </li>\n",
    "<li> Gradient Boost </li>\n",
    "<li> Decision Trees </li>\n",
    "\n",
    "\n",
    "    "
   ]
  },
  {
   "cell_type": "markdown",
   "metadata": {},
   "source": [
    "<h3> #7 Your dataset dimensions are 982400 x 500 </h3>\n",
    "<li> Random Forest </li>"
   ]
  },
  {
   "cell_type": "markdown",
   "metadata": {},
   "source": [
    "<h3> #8 Identify faces in an image.</h3>\n",
    "<li> PCA with SVM </li>\n",
    "<li> Random Forest </li>"
   ]
  },
  {
   "cell_type": "markdown",
   "metadata": {},
   "source": [
    "<h3> #9 Predict which of three flavors of ice cream will be most popular with boys vs girls.</h3>\n",
    "<p>Any classification technique</p>"
   ]
  },
  {
   "cell_type": "code",
   "execution_count": null,
   "metadata": {},
   "outputs": [],
   "source": []
  }
 ],
 "metadata": {
  "kernelspec": {
   "display_name": "Python 3",
   "language": "python",
   "name": "python3"
  },
  "language_info": {
   "codemirror_mode": {
    "name": "ipython",
    "version": 3
   },
   "file_extension": ".py",
   "mimetype": "text/x-python",
   "name": "python",
   "nbconvert_exporter": "python",
   "pygments_lexer": "ipython3",
   "version": "3.7.1"
  }
 },
 "nbformat": 4,
 "nbformat_minor": 2
}
