{
 "cells": [
  {
   "cell_type": "markdown",
   "metadata": {},
   "source": [
    "<h4> 1) Popularity of various Uber drivers.</h4>\n",
    "<p> This would be a survey based on customer feedback after an uber ride as is currently the case passangers have to rate the performance of their driver after each ride </p>"
   ]
  },
  {
   "cell_type": "markdown",
   "metadata": {},
   "source": [
    " <h4> 2) A grocery store wants to know how much people like strawberry, chocolate, and vanilla ice cream. </h4>\n",
    " <p> This scenario could also be answered by a survey </p>"
   ]
  },
  {
   "cell_type": "markdown",
   "metadata": {},
   "source": [
    "<h4> 3) Trojan wants to know whether their condoms are more popular among straight people or gay people. </h4>\n",
    "<p> A random sample of people from each group could be used to assess the popularity of condoms for each group </p>"
   ]
  },
  {
   "cell_type": "markdown",
   "metadata": {},
   "source": [
    "<h4> 4) Recently, rental rates for HappyCars have increased by 30%, which is quite unusual. You want to find out why this is happening and how to keep the increase going. </h4>\n",
    "<p> This scenario most certainly would not be assessed by a survey there are company internals that would be attributed to the increase. Such as increased car selection, an advertising campaign, increase in HappyCars rental locations etc. The self reporting of individual customers would not provide the information needed to assess why the increase is occuring </p>"
   ]
  },
  {
   "cell_type": "markdown",
   "metadata": {},
   "source": [
    "<h4> 5) Assessing the success rate of a new advertising campaign. </h4>\n",
    "<p> This certainly would not be assessed by a survey. The typical metric of success of advertising would be an increase in sales. As stated in this section of the course, customers self reporting would not be a valuable metric for determining success. The customer might say they like the advertisment however behavioral measurements of what they actually do is more valuable </p>"
   ]
  },
  {
   "cell_type": "markdown",
   "metadata": {},
   "source": [
    "<h4> 6) Measuring the effect of nurse/patient ratio on patient recovery rates in hospital wards. </h4>\n",
    "<p> This has nothing to do with a survey </p>"
   ]
  },
  {
   "cell_type": "code",
   "execution_count": null,
   "metadata": {},
   "outputs": [],
   "source": []
  }
 ],
 "metadata": {
  "kernelspec": {
   "display_name": "Python 3",
   "language": "python",
   "name": "python3"
  },
  "language_info": {
   "codemirror_mode": {
    "name": "ipython",
    "version": 3
   },
   "file_extension": ".py",
   "mimetype": "text/x-python",
   "name": "python",
   "nbconvert_exporter": "python",
   "pygments_lexer": "ipython3",
   "version": "3.7.1"
  }
 },
 "nbformat": 4,
 "nbformat_minor": 2
}
