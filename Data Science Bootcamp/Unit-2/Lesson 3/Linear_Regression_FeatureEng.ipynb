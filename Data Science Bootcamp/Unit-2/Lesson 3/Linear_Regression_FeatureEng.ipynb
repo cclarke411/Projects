{
 "cells": [
  {
   "cell_type": "code",
   "execution_count": 53,
   "metadata": {},
   "outputs": [],
   "source": [
    "import sys\n",
    "import pandas as pd\n",
    "import numpy as np\n",
    "import math\n",
    "import warnings\n",
    "from IPython.display import display\n",
    "from matplotlib import pyplot as plt\n",
    "import numpy as np\n",
    "import pandas as pd\n",
    "import seaborn as sns\n",
    "from sklearn import linear_model\n",
    "import statsmodels.formula.api as smf\n",
    "from statsmodels.sandbox.regression.predstd import wls_prediction_std"
   ]
  },
  {
   "cell_type": "code",
   "execution_count": 2,
   "metadata": {},
   "outputs": [],
   "source": [
    "path ='C:/Users/clyde/Documents/Thinkful/Data Science Bootcamp/Unit-2/Lesson 4/table_8_offenses_known_to_law_enforcement_florida_by_city_2013.csv'"
   ]
  },
  {
   "cell_type": "code",
   "execution_count": 4,
   "metadata": {},
   "outputs": [
    {
     "data": {
      "text/plain": [
       "37357"
      ]
     },
     "execution_count": 4,
     "metadata": {},
     "output_type": "execute_result"
    }
   ],
   "source": [
    "crime = pd.read_csv(path,header=4)\n",
    "crime.drop(columns=['Rape\\n(revised\\ndefinition)1'],axis=1)\n",
    "int(crime.loc[10]['Population'].replace(',',''))"
   ]
  },
  {
   "cell_type": "code",
   "execution_count": 5,
   "metadata": {},
   "outputs": [],
   "source": [
    "crime['Population'] = crime['Population'].apply(lambda x: float(str(x).replace(',','')))\n",
    "crime['Population_2'] = crime['Population'].apply(lambda x: float(str(x).replace(',',''))**2)"
   ]
  },
  {
   "cell_type": "code",
   "execution_count": 7,
   "metadata": {},
   "outputs": [],
   "source": [
    "crime['Robbery']= crime['Robbery'].apply(lambda x: str(x).replace('\\'\\'',''))\n",
    "crime['Robbery']= crime['Robbery'].apply(lambda x: float(str(x).replace(',','')))\n",
    "crime['Robbery']= np.where(crime['Robbery']>0, 1, 0)"
   ]
  },
  {
   "cell_type": "code",
   "execution_count": 8,
   "metadata": {},
   "outputs": [],
   "source": [
    "crime['Murder'] = np.where(crime[crime.columns[3]]>0, 1, 0)"
   ]
  },
  {
   "cell_type": "code",
   "execution_count": 9,
   "metadata": {},
   "outputs": [],
   "source": [
    "crime['Aggrevated'] = crime[crime.columns[7]].apply(lambda x: str(x).replace('\\'\\'',''))\n",
    "crime['Aggrevated'] = crime[crime.columns[7]].apply(lambda x: float(str(x).replace(',','')))"
   ]
  },
  {
   "cell_type": "code",
   "execution_count": 11,
   "metadata": {},
   "outputs": [
    {
     "data": {
      "text/html": [
       "<div>\n",
       "<style scoped>\n",
       "    .dataframe tbody tr th:only-of-type {\n",
       "        vertical-align: middle;\n",
       "    }\n",
       "\n",
       "    .dataframe tbody tr th {\n",
       "        vertical-align: top;\n",
       "    }\n",
       "\n",
       "    .dataframe thead th {\n",
       "        text-align: right;\n",
       "    }\n",
       "</style>\n",
       "<table border=\"1\" class=\"dataframe\">\n",
       "  <thead>\n",
       "    <tr style=\"text-align: right;\">\n",
       "      <th></th>\n",
       "      <th>Population</th>\n",
       "      <th>Population_2</th>\n",
       "      <th>Robbery</th>\n",
       "      <th>Murder</th>\n",
       "    </tr>\n",
       "  </thead>\n",
       "  <tbody>\n",
       "    <tr>\n",
       "      <th>count</th>\n",
       "      <td>289.000000</td>\n",
       "      <td>2.890000e+02</td>\n",
       "      <td>292.000000</td>\n",
       "      <td>292.000000</td>\n",
       "    </tr>\n",
       "    <tr>\n",
       "      <th>mean</th>\n",
       "      <td>29503.896194</td>\n",
       "      <td>3.381749e+09</td>\n",
       "      <td>0.818493</td>\n",
       "      <td>0.356164</td>\n",
       "    </tr>\n",
       "    <tr>\n",
       "      <th>std</th>\n",
       "      <td>50199.491854</td>\n",
       "      <td>1.451428e+10</td>\n",
       "      <td>0.386099</td>\n",
       "      <td>0.479687</td>\n",
       "    </tr>\n",
       "    <tr>\n",
       "      <th>min</th>\n",
       "      <td>90.000000</td>\n",
       "      <td>8.100000e+03</td>\n",
       "      <td>0.000000</td>\n",
       "      <td>0.000000</td>\n",
       "    </tr>\n",
       "    <tr>\n",
       "      <th>25%</th>\n",
       "      <td>3472.000000</td>\n",
       "      <td>1.205478e+07</td>\n",
       "      <td>1.000000</td>\n",
       "      <td>0.000000</td>\n",
       "    </tr>\n",
       "    <tr>\n",
       "      <th>50%</th>\n",
       "      <td>11890.000000</td>\n",
       "      <td>1.413721e+08</td>\n",
       "      <td>1.000000</td>\n",
       "      <td>0.000000</td>\n",
       "    </tr>\n",
       "    <tr>\n",
       "      <th>75%</th>\n",
       "      <td>35493.000000</td>\n",
       "      <td>1.259753e+09</td>\n",
       "      <td>1.000000</td>\n",
       "      <td>1.000000</td>\n",
       "    </tr>\n",
       "    <tr>\n",
       "      <th>max</th>\n",
       "      <td>418394.000000</td>\n",
       "      <td>1.750535e+11</td>\n",
       "      <td>1.000000</td>\n",
       "      <td>1.000000</td>\n",
       "    </tr>\n",
       "  </tbody>\n",
       "</table>\n",
       "</div>"
      ],
      "text/plain": [
       "          Population  Population_2     Robbery      Murder\n",
       "count     289.000000  2.890000e+02  292.000000  292.000000\n",
       "mean    29503.896194  3.381749e+09    0.818493    0.356164\n",
       "std     50199.491854  1.451428e+10    0.386099    0.479687\n",
       "min        90.000000  8.100000e+03    0.000000    0.000000\n",
       "25%      3472.000000  1.205478e+07    1.000000    0.000000\n",
       "50%     11890.000000  1.413721e+08    1.000000    0.000000\n",
       "75%     35493.000000  1.259753e+09    1.000000    1.000000\n",
       "max    418394.000000  1.750535e+11    1.000000    1.000000"
      ]
     },
     "execution_count": 11,
     "metadata": {},
     "output_type": "execute_result"
    },
    {
     "data": {
      "image/png": "[encoded data removed]",
      "text/plain": [
       "<Figure size 432x288 with 1 Axes>"
      ]
     },
     "metadata": {
      "needs_background": "light"
     },
     "output_type": "display_data"
    }
   ],
   "source": [
    "features = pd.DataFrame()\n",
    "features[['Population','Population_2','Robbery','Murder','Aggrevated']] = crime[['Population','Population_2','Robbery','Murder','Aggrevated']]\n",
    "features = features.drop(features['Population'].idxmax(axis=0))\n",
    "features['Property']= crime[crime.columns[8]].apply(lambda x: float(str(x).replace(',','')))\n",
    "features[['Population','Population_2','Robbery','Murder']].boxplot()\n",
    "features[['Population','Population_2','Robbery','Murder']].describe()"
   ]
  },
  {
   "cell_type": "code",
   "execution_count": 54,
   "metadata": {},
   "outputs": [],
   "source": [
    "egr = linear_model.LinearRegression()\n",
    "X = features[['Population','Population_2','Robbery','Murder','Aggrevated']]\n",
    "X['Property']= crime[crime.columns[8]].apply(lambda x: float(str(x).replace(',','')))"
   ]
  },
  {
   "cell_type": "code",
   "execution_count": 55,
   "metadata": {},
   "outputs": [],
   "source": [
    "X = X.dropna(axis=0,how='any')\n",
    "X = X.drop(0)\n",
    "X_temp = X\n",
    "Y_temp = X['Property']\n",
    "X_feat1 = X_temp[['Population','Population_2','Robbery','Murder','Aggrevated']]\n",
    "Y_feat1 = Y_temp\n",
    "Y_feat2 = np.sqrt(Y_temp)\n",
    "Y_feat3 = Y_temp**2\n",
    "Y_feat4 = np.log(Y_temp+sys.float_info.epsilon)"
   ]
  },
  {
   "cell_type": "code",
   "execution_count": 22,
   "metadata": {},
   "outputs": [
    {
     "data": {
      "text/plain": [
       "LinearRegression(copy_X=True, fit_intercept=True, n_jobs=None,\n",
       "         normalize=False)"
      ]
     },
     "execution_count": 22,
     "metadata": {},
     "output_type": "execute_result"
    }
   ],
   "source": [
    "regr = linear_model.LinearRegression()\n",
    "regr.fit(X_feat1, Y_feat1)"
   ]
  },
  {
   "cell_type": "code",
   "execution_count": 23,
   "metadata": {},
   "outputs": [
    {
     "name": "stdout",
     "output_type": "stream",
     "text": [
      "\n",
      "Coefficients: \n",
      " [ 2.34008253e-02 -4.34956347e-08 -4.77925039e+01 -1.70569900e+02\n",
      "  6.86867837e+00]\n",
      "\n",
      "Intercept: \n",
      " -29.556814182714334\n",
      "\n",
      "R-squared:\n",
      "0.9288176370249821\n"
     ]
    }
   ],
   "source": [
    "print('\\nCoefficients: \\n', regr.coef_)\n",
    "print('\\nIntercept: \\n', regr.intercept_)\n",
    "print('\\nR-squared:')\n",
    "print(regr.score(X_feat1, Y_feat1))"
   ]
  },
  {
   "cell_type": "code",
   "execution_count": 24,
   "metadata": {},
   "outputs": [],
   "source": [
    "# Extract predicted values.\n",
    "predicted = regr.predict(X_feat1).ravel()\n",
    "actual = Y_feat1\n",
    "# Calculate the error, also called the residual.\n",
    "residual = actual - predicted"
   ]
  },
  {
   "cell_type": "code",
   "execution_count": 25,
   "metadata": {},
   "outputs": [
    {
     "data": {
      "image/png": "[encoded data removed]",
      "text/plain": [
       "<Figure size 432x288 with 1 Axes>"
      ]
     },
     "metadata": {
      "needs_background": "light"
     },
     "output_type": "display_data"
    }
   ],
   "source": [
    "plt.hist(residual)\n",
    "plt.title('Residual counts')\n",
    "plt.xlabel('Residual')\n",
    "plt.ylabel('Count')\n",
    "plt.show()"
   ]
  },
  {
   "cell_type": "code",
   "execution_count": 26,
   "metadata": {},
   "outputs": [
    {
     "data": {
      "image/png": "[encoded data removed]",
      "text/plain": [
       "<Figure size 432x288 with 1 Axes>"
      ]
     },
     "metadata": {
      "needs_background": "light"
     },
     "output_type": "display_data"
    }
   ],
   "source": [
    "plt.scatter(predicted, residual)\n",
    "plt.xlabel('Predicted')\n",
    "plt.ylabel('Residual')\n",
    "plt.axhline(y=0)\n",
    "plt.title('Residual vs. Predicted')\n",
    "plt.show()"
   ]
  },
  {
   "cell_type": "code",
   "execution_count": 29,
   "metadata": {},
   "outputs": [],
   "source": [
    "# Write out the model formula.\n",
    "# Your dependent variable on the right, independent variables on the left\n",
    "# Use a ~ to represent an '=' from the functional form\n",
    "linear_formula = 'Property ~ Population+Population_2+Robbery+Murder+Aggrevated'\n",
    "\n",
    "# Fit the model to our data using the formula.\n",
    "lm = smf.ols(formula=linear_formula, data=features).fit()"
   ]
  },
  {
   "cell_type": "code",
   "execution_count": 30,
   "metadata": {
    "scrolled": true
   },
   "outputs": [
    {
     "data": {
      "text/plain": [
       "Intercept      -2.962890e+01\n",
       "Population      2.341080e-02\n",
       "Population_2   -4.350929e-08\n",
       "Robbery        -4.921798e+01\n",
       "Murder         -1.693659e+02\n",
       "Aggrevated      6.867796e+00\n",
       "dtype: float64"
      ]
     },
     "execution_count": 30,
     "metadata": {},
     "output_type": "execute_result"
    }
   ],
   "source": [
    "lm.params"
   ]
  },
  {
   "cell_type": "markdown",
   "metadata": {},
   "source": [
    "# The above features explain 92% of the data variation"
   ]
  },
  {
   "cell_type": "code",
   "execution_count": 32,
   "metadata": {},
   "outputs": [
    {
     "data": {
      "text/plain": [
       "0.9288387856451086"
      ]
     },
     "execution_count": 32,
     "metadata": {},
     "output_type": "execute_result"
    }
   ],
   "source": [
    "lm.rsquared"
   ]
  },
  {
   "cell_type": "code",
   "execution_count": 31,
   "metadata": {
    "scrolled": true
   },
   "outputs": [
    {
     "data": {
      "text/plain": [
       "Intercept       7.316509e-01\n",
       "Population      1.583526e-28\n",
       "Population_2    1.028342e-09\n",
       "Robbery         6.295160e-01\n",
       "Murder          7.126424e-02\n",
       "Aggrevated      1.524014e-51\n",
       "dtype: float64"
      ]
     },
     "execution_count": 31,
     "metadata": {},
     "output_type": "execute_result"
    }
   ],
   "source": [
    "lm.pvalues"
   ]
  },
  {
   "cell_type": "markdown",
   "metadata": {},
   "source": [
    "# Remove the p-value > .05"
   ]
  },
  {
   "cell_type": "code",
   "execution_count": 33,
   "metadata": {},
   "outputs": [],
   "source": [
    "linear_formula = 'Property ~ Population+Population_2+Aggrevated'\n",
    "\n",
    "# Fit the model to our data using the formula.\n",
    "lm = smf.ols(formula=linear_formula, data=features).fit()"
   ]
  },
  {
   "cell_type": "markdown",
   "metadata": {},
   "source": [
    "# Features still explain ~ 92% of the data"
   ]
  },
  {
   "cell_type": "code",
   "execution_count": 34,
   "metadata": {
    "scrolled": true
   },
   "outputs": [
    {
     "data": {
      "text/plain": [
       "0.9278771193164538"
      ]
     },
     "execution_count": 34,
     "metadata": {},
     "output_type": "execute_result"
    }
   ],
   "source": [
    "lm.rsquared"
   ]
  },
  {
   "cell_type": "markdown",
   "metadata": {},
   "source": [
    "# Transform Output Variable by using Log to improve homoscedasticity"
   ]
  },
  {
   "cell_type": "code",
   "execution_count": 39,
   "metadata": {},
   "outputs": [],
   "source": [
    "Y_feat1 = np.log(Y_temp+sys.float_info.epsilon)"
   ]
  },
  {
   "cell_type": "code",
   "execution_count": 60,
   "metadata": {},
   "outputs": [
    {
     "data": {
      "text/plain": [
       "LinearRegression(copy_X=True, fit_intercept=True, n_jobs=None,\n",
       "         normalize=False)"
      ]
     },
     "execution_count": 60,
     "metadata": {},
     "output_type": "execute_result"
    }
   ],
   "source": [
    "regr = linear_model.LinearRegression()\n",
    "regr.fit(X_feat1, Y_feat1)\n",
    "regr1 = linear_model.LinearRegression()\n",
    "regr1.fit(X_feat1,Y_feat2)\n",
    "regr2 = linear_model.LinearRegression()\n",
    "regr2.fit(X_feat1,Y_feat3)\n",
    "regr3 = linear_model.LinearRegression()\n",
    "regr3.fit(X_feat1,Y_feat4)"
   ]
  },
  {
   "cell_type": "code",
   "execution_count": 61,
   "metadata": {},
   "outputs": [
    {
     "name": "stdout",
     "output_type": "stream",
     "text": [
      "\n",
      "Coefficients: \n",
      " [ 2.34008253e-02 -4.34956347e-08 -4.77925039e+01 -1.70569900e+02\n",
      "  6.86867837e+00]\n",
      "\n",
      "Intercept: \n",
      " -29.556814182714334\n",
      "\n",
      "R-squared:\n",
      "Normal Feature      %f 0.9288176370249821\n",
      "Square Root Feature %f 0.9285012819860967\n",
      "Sqared Feature      %f 0.8585419950282553\n",
      "Log Feature         %f 0.35621605531664324\n"
     ]
    }
   ],
   "source": [
    "print('\\nCoefficients: \\n', regr.coef_)\n",
    "print('\\nIntercept: \\n', regr.intercept_)\n",
    "print('\\nR-squared:')\n",
    "print('Normal Feature      %f: Regression Coefficient^2 %f',regr.score(X_feat1, Y_feat1))\n",
    "print('Square Root Feature %f: Regression Coefficient^2 %f',regr1.score(X_feat1, Y_feat2))\n",
    "print('Sqared Feature      %f: Regression Coefficient^2 %f',regr2.score(X_feat1, Y_feat3))\n",
    "print('Log Feature         %f: Regression Coefficient^2 %f',regr3.score(X_feat1, Y_feat4))"
   ]
  },
  {
   "cell_type": "code",
   "execution_count": 82,
   "metadata": {},
   "outputs": [],
   "source": [
    "# Extract predicted values.\n",
    "predicted1 = regr.predict(X_feat1).ravel()\n",
    "predicted2 = regr1.predict(X_feat1).ravel()\n",
    "predicted3 = regr2.predict(X_feat1).ravel()\n",
    "predicted4 = regr3.predict(X_feat1).ravel()\n",
    "\n",
    "actual  = Y_feat1\n",
    "actual1 = Y_feat2\n",
    "actual2 = Y_feat3\n",
    "actual3 = Y_feat4\n",
    "\n",
    "# Calculate the error, also called the residual.\n",
    "residual   = actual - predicted1\n",
    "residual1  = actual1- predicted2\n",
    "residual2  = actual2- predicted3\n",
    "residual3  = actual3- predicted4"
   ]
  },
  {
   "cell_type": "code",
   "execution_count": 86,
   "metadata": {},
   "outputs": [
    {
     "data": {
      "image/png": "[encoded data removed]",
      "text/plain": [
       "<Figure size 432x288 with 4 Axes>"
      ]
     },
     "metadata": {
      "needs_background": "light"
     },
     "output_type": "display_data"
    }
   ],
   "source": [
    "fig, ax = plt.subplots(2, 2, sharex='col', sharey='row')\n",
    "ax[0,0].scatter(predicted, residual,  c='b', marker=\"s\", label='Feature 1')\n",
    "ax[0,1].scatter(predicted,residual1,  c='r', marker=\"o\", label='Feature 2')\n",
    "ax[1,0].scatter(predicted,residual2,  c='g', marker=\"s\", label='Feature 3')\n",
    "ax[1,1].scatter(predicted,residual3,  c='c', marker=\"o\", label='Feature 4')\n",
    "plt.show()"
   ]
  },
  {
   "cell_type": "markdown",
   "metadata": {},
   "source": [
    "# Square Root Feature gives best performance on Homoscedasticity"
   ]
  },
  {
   "cell_type": "code",
   "execution_count": null,
   "metadata": {},
   "outputs": [],
   "source": [
    "features['Property'] = Y_temp2\n"
   ]
  },
  {
   "cell_type": "markdown",
   "metadata": {},
   "source": [
    "# Removing important p-values to determine their effect on r^2"
   ]
  },
  {
   "cell_type": "code",
   "execution_count": null,
   "metadata": {},
   "outputs": [],
   "source": [
    "linear_formula = 'Property ~ Population+Population_2+Aggrevated'\n",
    "\n",
    "# Fit the model to our data using the formula.\n",
    "lm_sqrt = smf.ols(formula=linear_formula, data=features).fit()"
   ]
  },
  {
   "cell_type": "code",
   "execution_count": 89,
   "metadata": {},
   "outputs": [
    {
     "data": {
      "text/plain": [
       "0.9278771193164538"
      ]
     },
     "execution_count": 89,
     "metadata": {},
     "output_type": "execute_result"
    }
   ],
   "source": [
    "lm_sqrt.rsquared\n"
   ]
  },
  {
   "cell_type": "code",
   "execution_count": 91,
   "metadata": {},
   "outputs": [
    {
     "data": {
      "text/plain": [
       "Intercept       7.187477e-02\n",
       "Population      6.786740e-30\n",
       "Population_2    3.406400e-09\n",
       "Aggrevated      1.657257e-52\n",
       "dtype: float64"
      ]
     },
     "execution_count": 91,
     "metadata": {},
     "output_type": "execute_result"
    }
   ],
   "source": [
    "lm_sqrt.pvalues"
   ]
  },
  {
   "cell_type": "markdown",
   "metadata": {},
   "source": [
    "# Removing Aggrevated Assault"
   ]
  },
  {
   "cell_type": "code",
   "execution_count": 94,
   "metadata": {},
   "outputs": [
    {
     "data": {
      "text/plain": [
       "0.8330053789103931"
      ]
     },
     "execution_count": 94,
     "metadata": {},
     "output_type": "execute_result"
    }
   ],
   "source": [
    "linear_formula = 'Property ~ Population'\n",
    "\n",
    "# Fit the model to our data using the formula.\n",
    "lm_sqrt = smf.ols(formula=linear_formula, data=features).fit()\n",
    "lm_sqrt.rsquared"
   ]
  },
  {
   "cell_type": "markdown",
   "metadata": {},
   "source": [
    "# Impact of feature selection on r-squared"
   ]
  },
  {
   "cell_type": "code",
   "execution_count": 100,
   "metadata": {},
   "outputs": [
    {
     "data": {
      "text/plain": [
       "0.8330053789103931"
      ]
     },
     "execution_count": 100,
     "metadata": {},
     "output_type": "execute_result"
    }
   ],
   "source": [
    "linear_formula = 'Property ~ Population'\n",
    "\n",
    "# Fit the model to our data using the formula.\n",
    "lm_sqrt = smf.ols(formula=linear_formula, data=features).fit()\n",
    "lm_sqrt.rsquared"
   ]
  },
  {
   "cell_type": "code",
   "execution_count": 97,
   "metadata": {},
   "outputs": [
    {
     "data": {
      "text/plain": [
       "0.6999308750318032"
      ]
     },
     "execution_count": 97,
     "metadata": {},
     "output_type": "execute_result"
    }
   ],
   "source": [
    "linear_formula = 'Property ~ Population_2'\n",
    "\n",
    "# Fit the model to our data using the formula.\n",
    "lm_sqrt = smf.ols(formula=linear_formula, data=features).fit()\n",
    "lm_sqrt.rsquared"
   ]
  },
  {
   "cell_type": "code",
   "execution_count": 95,
   "metadata": {},
   "outputs": [
    {
     "data": {
      "text/plain": [
       "0.8863071140852385"
      ]
     },
     "execution_count": 95,
     "metadata": {},
     "output_type": "execute_result"
    }
   ],
   "source": [
    "linear_formula = 'Property ~ Aggrevated'\n",
    "\n",
    "# Fit the model to our data using the formula.\n",
    "lm_sqrt = smf.ols(formula=linear_formula, data=features).fit()\n",
    "lm_sqrt.rsquared"
   ]
  },
  {
   "cell_type": "code",
   "execution_count": 98,
   "metadata": {},
   "outputs": [
    {
     "data": {
      "text/plain": [
       "0.20167522353391998"
      ]
     },
     "execution_count": 98,
     "metadata": {},
     "output_type": "execute_result"
    }
   ],
   "source": [
    "linear_formula = 'Property ~ Murder'\n",
    "\n",
    "# Fit the model to our data using the formula.\n",
    "lm_sqrt = smf.ols(formula=linear_formula, data=features).fit()\n",
    "lm_sqrt.rsquared"
   ]
  },
  {
   "cell_type": "code",
   "execution_count": 99,
   "metadata": {},
   "outputs": [
    {
     "data": {
      "text/plain": [
       "0.04822953731980728"
      ]
     },
     "execution_count": 99,
     "metadata": {},
     "output_type": "execute_result"
    }
   ],
   "source": [
    "linear_formula = 'Property ~ Robbery'\n",
    "\n",
    "# Fit the model to our data using the formula.\n",
    "lm_sqrt = smf.ols(formula=linear_formula, data=features).fit()\n",
    "lm_sqrt.rsquared"
   ]
  },
  {
   "cell_type": "markdown",
   "metadata": {},
   "source": [
    "# Performing a PCA on the chosen features will further highlight which features are most important (verification of p-value method)"
   ]
  },
  {
   "cell_type": "code",
   "execution_count": 110,
   "metadata": {},
   "outputs": [
    {
     "name": "stdout",
     "output_type": "stream",
     "text": [
      "Covariance Matrix:\n",
      " [[1.0034965  0.89123585 0.24511992 0.4559712  0.88158249]\n",
      " [0.89123585 1.0034965  0.106168   0.26371836 0.88978741]\n",
      " [0.24511992 0.106168   1.0034965  0.30459144 0.18951722]\n",
      " [0.4559712  0.26371836 0.30459144 1.0034965  0.43373419]\n",
      " [0.88158249 0.88978741 0.18951722 0.43373419 1.0034965 ]]\n"
     ]
    },
    {
     "name": "stderr",
     "output_type": "stream",
     "text": [
      "C:\\Users\\clyde\\Anaconda3\\lib\\site-packages\\sklearn\\preprocessing\\data.py:625: DataConversionWarning: Data with input dtype int32, float64 were all converted to float64 by StandardScaler.\n",
      "  return self.partial_fit(X, y)\n",
      "C:\\Users\\clyde\\Anaconda3\\lib\\site-packages\\sklearn\\base.py:462: DataConversionWarning: Data with input dtype int32, float64 were all converted to float64 by StandardScaler.\n",
      "  return self.fit(X, **fit_params).transform(X)\n"
     ]
    }
   ],
   "source": [
    "from matplotlib.mlab import PCA as mlabPCA\n",
    "from sklearn.preprocessing import StandardScaler\n",
    "from sklearn.decomposition import PCA\n",
    "X_feat = X[['Population','Population_2','Robbery','Murder','Aggrevated']]\n",
    "df_features = StandardScaler().fit_transform(X_feat)\n",
    "Xt = df_features.T\n",
    "Cx = np.cov(Xt)\n",
    "print('Covariance Matrix:\\n', Cx)\n"
   ]
  },
  {
   "cell_type": "code",
   "execution_count": 113,
   "metadata": {},
   "outputs": [
    {
     "name": "stdout",
     "output_type": "stream",
     "text": [
      "Eigenvector 1: \n",
      "[[-0.54619107]\n",
      " [-0.51767572]\n",
      " [-0.18840945]\n",
      " [-0.32658824]\n",
      " [-0.53993441]]\n",
      "Eigenvalue 1: 3.0768838025253245\n",
      "----------------------------------------\n",
      "Eigenvector 2: \n",
      "[[-0.52086577]\n",
      " [ 0.76412864]\n",
      " [ 0.06090099]\n",
      " [ 0.17459731]\n",
      " [-0.33258551]]\n",
      "Eigenvalue 2: 0.07742939259515276\n",
      "----------------------------------------\n",
      "Eigenvector 3: \n",
      "[[-0.64476344]\n",
      " [-0.10949934]\n",
      " [ 0.03621119]\n",
      " [-0.01791266]\n",
      " [ 0.75541901]]\n",
      "Eigenvalue 3: 0.1208737822848326\n",
      "----------------------------------------\n",
      "Eigenvector 4: \n",
      "[[ 0.10523304]\n",
      " [ 0.31755613]\n",
      " [-0.78654708]\n",
      " [-0.49318351]\n",
      " [ 0.16185742]]\n",
      "Eigenvalue 4: 1.0798246658818698\n",
      "----------------------------------------\n",
      "Eigenvector 5: \n",
      "[[ 0.05983543]\n",
      " [ 0.18784907]\n",
      " [ 0.58380252]\n",
      " [-0.78695938]\n",
      " [ 0.03165438]]\n",
      "Eigenvalue 5: 0.6624708741953402\n",
      "----------------------------------------\n",
      "The percentage of total variance in the dataset explained by each component calculated by hand.\n",
      " [0.61323259 0.01543192 0.02409052 0.21521244 0.13203252]\n"
     ]
    }
   ],
   "source": [
    "eig_val_cov, eig_vec_cov = np.linalg.eig(Cx)\n",
    "\n",
    "# Inspecting the eigenvalues and eigenvectors.\n",
    "for i in range(len(eig_val_cov)):\n",
    "    eigvec_cov = eig_vec_cov[:, i].reshape(1, 5).T\n",
    "    print('Eigenvector {}: \\n{}'.format(i + 1, eigvec_cov))\n",
    "    print('Eigenvalue {}: {}'.format(i + 1, eig_val_cov[i]))\n",
    "    print(40 * '-')\n",
    "\n",
    "print(\n",
    "    'The percentage of total variance in the dataset explained by each',\n",
    "    'component calculated by hand.\\n',\n",
    "    eig_val_cov / sum(eig_val_cov))"
   ]
  },
  {
   "cell_type": "markdown",
   "metadata": {},
   "source": [
    "# Figure above shows that population accounts for 61% of the variation in the data the next closest is aggrevated assault thus the final model will contain both of these features\n",
    "\n",
    "# Final Model"
   ]
  },
  {
   "cell_type": "code",
   "execution_count": 114,
   "metadata": {},
   "outputs": [
    {
     "data": {
      "text/plain": [
       "0.9184185733608465"
      ]
     },
     "execution_count": 114,
     "metadata": {},
     "output_type": "execute_result"
    }
   ],
   "source": [
    "linear_formula = 'Property ~ Population+Aggrevated'\n",
    "\n",
    "# Fit the model to our data using the formula.\n",
    "lm_sqrt = smf.ols(formula=linear_formula, data=features).fit()\n",
    "lm_sqrt.rsquared"
   ]
  },
  {
   "cell_type": "code",
   "execution_count": null,
   "metadata": {},
   "outputs": [],
   "source": []
  }
 ],
 "metadata": {
  "kernelspec": {
   "display_name": "Python 3",
   "language": "python",
   "name": "python3"
  },
  "language_info": {
   "codemirror_mode": {
    "name": "ipython",
    "version": 3
   },
   "file_extension": ".py",
   "mimetype": "text/x-python",
   "name": "python",
   "nbconvert_exporter": "python",
   "pygments_lexer": "ipython3",
   "version": "3.7.1"
  }
 },
 "nbformat": 4,
 "nbformat_minor": 2
}
